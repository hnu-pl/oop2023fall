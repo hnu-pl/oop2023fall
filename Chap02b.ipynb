{
 "cells": [
  {
   "cell_type": "markdown",
   "id": "cabf41b1-d71a-4249-8042-85f388e9e4bf",
   "metadata": {
    "tags": []
   },
   "source": [
    "# 02. Intro. to OOP (Part B)"
   ]
  },
  {
   "cell_type": "markdown",
   "id": "e592c321-4c50-42b7-b690-5dc8d6c31c68",
   "metadata": {},
   "source": [
    "## Secondary constructor\n",
    "부생성자"
   ]
  },
  {
   "cell_type": "code",
   "execution_count": 1,
   "id": "989340c5-d5b8-41e3-91f1-ee5032ca0707",
   "metadata": {
    "tags": []
   },
   "outputs": [],
   "source": [
    "class Person(name: String, age: Int) { // 주생성자에 이름과 나이만\n",
    "    var name: String\n",
    "    var age: Int\n",
    "    var height: Int\n",
    "    \n",
    "    init {\n",
    "        this.name = name\n",
    "        this.age = age\n",
    "        this.height = 0 // 주생성자에서는 키는 그냥 0으로 초기화\n",
    "    }\n",
    "    \n",
    "    // 부생성자에서는 키까지\n",
    "    constructor(name: String, age: Int, height: Int): this(name, age) {\n",
    "        this.height = height\n",
    "    }\n",
    "}"
   ]
  },
  {
   "cell_type": "code",
   "execution_count": 2,
   "id": "8b946489-f74c-4437-bb14-1598382b1607",
   "metadata": {
    "tags": []
   },
   "outputs": [
    {
     "name": "stdout",
     "output_type": "stream",
     "text": [
      "이름: 차범근, 나이: 70, 키: 0cm\n",
      "이름: 차범근, 나이: 70, 키: 179cm\n"
     ]
    }
   ],
   "source": [
    "val p4 = Person(\"차범근\", 70) // 주생성자\n",
    "val p5 = Person(\"차범근\", 70, 179) // 부생성자\n",
    "\n",
    "println(\"이름: ${p4.name}, 나이: ${p4.age}, 키: ${p4.height}cm\")\n",
    "println(\"이름: ${p5.name}, 나이: ${p5.age}, 키: ${p5.height}cm\")"
   ]
  },
  {
   "cell_type": "markdown",
   "id": "bad8348a-8d72-4b18-be3f-8d277515c4df",
   "metadata": {},
   "source": [
    "## Constructor with default parameters\n",
    "방금전의 주생성자 부생성자 예시 코드는\n",
    "그냥 기본값이 설정된 파라메터를 활용하는 주생성자 하나로도 간단히 작성 가능"
   ]
  },
  {
   "cell_type": "code",
   "execution_count": 3,
   "id": "ef918a75-6acf-4199-827b-fa492aa956e5",
   "metadata": {
    "tags": []
   },
   "outputs": [],
   "source": [
    "class Person(name: String, age: Int, height: Int = 0) { \n",
    "    var name: String\n",
    "    var age: Int\n",
    "    var height: Int\n",
    "    \n",
    "    init {\n",
    "        this.name = name\n",
    "        this.age = age\n",
    "        this.height = height\n",
    "    }\n",
    "}"
   ]
  },
  {
   "cell_type": "code",
   "execution_count": 4,
   "id": "ee57ffe6-7581-43aa-916e-1ef3de85c627",
   "metadata": {
    "tags": []
   },
   "outputs": [],
   "source": [
    "// 위와 똑같은 코드를 더 간단히 작성하면\n",
    "class Person(var name: String, var age: Int, var height: Int = 0)"
   ]
  },
  {
   "cell_type": "code",
   "execution_count": 5,
   "id": "0ee5585b-e065-48fc-90d5-ce0f485d2214",
   "metadata": {
    "tags": []
   },
   "outputs": [
    {
     "name": "stdout",
     "output_type": "stream",
     "text": [
      "이름: 차범근, 나이: 70, 키: 0cm\n",
      "이름: 차범근, 나이: 70, 키: 179cm\n"
     ]
    }
   ],
   "source": [
    "val p4 = Person(\"차범근\", 70) // 주생성자 height 파라메터 기본값 활용\n",
    "val p5 = Person(\"차범근\", 70, 179) // 주생성자  \n",
    "\n",
    "println(\"이름: ${p4.name}, 나이: ${p4.age}, 키: ${p4.height}cm\")\n",
    "println(\"이름: ${p5.name}, 나이: ${p5.age}, 키: ${p5.height}cm\")"
   ]
  },
  {
   "cell_type": "markdown",
   "id": "8473dfbf-9241-4bbe-9928-e056a405b23f",
   "metadata": {
    "tags": []
   },
   "source": [
    "## Constructor with named parameters"
   ]
  },
  {
   "cell_type": "code",
   "execution_count": 6,
   "id": "74d03ba7-e206-48dc-af8f-e254e3e578cb",
   "metadata": {
    "tags": []
   },
   "outputs": [
    {
     "name": "stdout",
     "output_type": "stream",
     "text": [
      "이름: 김연아, 나이: 33, 키: 164cm\n",
      "이름: 차범근, 나이: 33, 키: 164cm\n"
     ]
    }
   ],
   "source": [
    "val p6 = Person(name=\"김연아\", age=33, height=164)\n",
    "val p7 = Person(name=\"차범근\", height=164, age=33)\n",
    "println(\"이름: ${p6.name}, 나이: ${p6.age}, 키: ${p6.height}cm\")\n",
    "println(\"이름: ${p7.name}, 나이: ${p7.age}, 키: ${p7.height}cm\")"
   ]
  },
  {
   "cell_type": "markdown",
   "id": "8e02c3fc-fdf8-49ea-9181-36de774f8693",
   "metadata": {},
   "source": [
    "## What are data classes?\n",
    "- `toString(): String`\n",
    "- `equals(other: Any?): Boolean`\n",
    "- `hashCode(): Int`\n",
    "- `copy(...): T`"
   ]
  }
 ],
 "metadata": {
  "kernelspec": {
   "display_name": "Kotlin",
   "language": "kotlin",
   "name": "kotlin"
  },
  "language_info": {
   "codemirror_mode": "text/x-kotlin",
   "file_extension": ".kt",
   "mimetype": "text/x-kotlin",
   "name": "kotlin",
   "nbconvert_exporter": "",
   "pygments_lexer": "kotlin",
   "version": "1.8.20-Beta"
  }
 },
 "nbformat": 4,
 "nbformat_minor": 5
}
