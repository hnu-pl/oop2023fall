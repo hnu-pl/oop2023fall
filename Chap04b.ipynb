{
 "cells": [
  {
   "cell_type": "markdown",
   "id": "cabf41b1-d71a-4249-8042-85f388e9e4bf",
   "metadata": {
    "tags": []
   },
   "source": [
    "# 04. Classes - Advanced Concepts (Part B)"
   ]
  },
  {
   "cell_type": "markdown",
   "id": "b99180f4-33df-4a38-bfbc-daaee61d01dd",
   "metadata": {},
   "source": [
    "## Aggregation\n",
    "## Composition\n",
    "TODO"
   ]
  },
  {
   "cell_type": "markdown",
   "id": "2391c7b1-4ef8-4028-90af-4de2308a4d8b",
   "metadata": {},
   "source": [
    "## Nested classes and Inner classes\n",
    "코틀린의 nested 클래스는 자바의 static inner 클래스에 해당\n",
    "\n",
    "코틀린의 inner 클래스는 자바의 member inner 클래스에 해당\n",
    "\n",
    "TODO"
   ]
  },
  {
   "cell_type": "markdown",
   "id": "d6e77973-2433-42d5-9172-794fe75a302a",
   "metadata": {},
   "source": [
    "## Delegate properties\n",
    "## Built-in delegates\n",
    "TODO"
   ]
  },
  {
   "cell_type": "code",
   "execution_count": null,
   "id": "0c792013-8e61-4309-abf4-0a6c735044a2",
   "metadata": {},
   "outputs": [],
   "source": []
  }
 ],
 "metadata": {
  "kernelspec": {
   "display_name": "Kotlin",
   "language": "kotlin",
   "name": "kotlin"
  },
  "language_info": {
   "codemirror_mode": "text/x-kotlin",
   "file_extension": ".kt",
   "mimetype": "text/x-kotlin",
   "name": "kotlin",
   "nbconvert_exporter": "",
   "pygments_lexer": "kotlin",
   "version": "1.8.20-Beta"
  }
 },
 "nbformat": 4,
 "nbformat_minor": 5
}
