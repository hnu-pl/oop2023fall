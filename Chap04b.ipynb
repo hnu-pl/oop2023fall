{
 "cells": [
  {
   "cell_type": "markdown",
   "id": "cabf41b1-d71a-4249-8042-85f388e9e4bf",
   "metadata": {
    "tags": []
   },
   "source": [
    "# 04. Classes - Advanced Concepts (Part B)"
   ]
  },
  {
   "cell_type": "markdown",
   "id": "b99180f4-33df-4a38-bfbc-daaee61d01dd",
   "metadata": {},
   "source": [
    "## Aggregation\n",
    "학생들이 스터디 그룹으로 모임(aggregate) \n",
    "\n",
    "스터디 그룹이 없어져도 각각의 학생들은 여전히 있음\n",
    "\n",
    "## Composition\n",
    "손가락 5개와 손바닥이 하나의 손을 구성함(compose)\n",
    "\n",
    "손이 없어진다는 말은 손바닥이나 손가락도 없어진다는 것"
   ]
  },
  {
   "cell_type": "markdown",
   "id": "2391c7b1-4ef8-4028-90af-4de2308a4d8b",
   "metadata": {},
   "source": [
    "## Nested classes and Inner classes\n",
    "- 코틀린의 nested 클래스는 자바의 static inner 클래스에 해당 (보통은 당연히 이걸 더 많이 씀)\n",
    "- 코틀린의 inner 클래스는 자바의 member inner 클래스에 해당 (이건 아주 특이한 경우에나 ...)\n",
    "\n",
    "Effective Java라는 유명한 책에서 가능하면 static inner를 쓰라고 할 정도\n",
    "\n",
    "Java에서는 당연히 더 많이 쓰는 거에 오히려 키워드를 붙이고 그냥 생각없이 클래스 안에 클래스 선언하면 오히려 별로 자주 쓸 일 없는 특이한 녀석을 선언하는 셈 (물론 자바의 static 키워드를 클래스 변수/메소드에 쓰는 것과 일관성을 맞추기 위해서이기는 하다)\n",
    "\n",
    "그래서 Kotlin에서는 이상한 녀석에만 inner라는 키워드를 붙이기로 한 듯"
   ]
  },
  {
   "cell_type": "markdown",
   "id": "d6e77973-2433-42d5-9172-794fe75a302a",
   "metadata": {},
   "source": [
    "## Delegate properties\n",
    "속성에 대한 get 함수와 set 함수를 직접 선언하는 대신\n",
    "\n",
    "getValue와 setValue라는 operator 함수를 제공하는 클래스에게 속성에 대한 관리를 위임"
   ]
  },
  {
   "cell_type": "code",
   "execution_count": 18,
   "id": "026fcd8e-9eb2-4471-82b4-90f238786313",
   "metadata": {
    "tags": []
   },
   "outputs": [],
   "source": [
    "import kotlin.reflect.*\n",
    "\n",
    "class Balance(var balance: Int) {\n",
    "    operator fun getValue(person: Person, property: KProperty<*>) = balance\n",
    "    operator fun setValue(person: Person, property: KProperty<*>, balance: Int) {\n",
    "        this.balance = if (balance > 0) balance else 0 // 계좌 금액을 음수로 설정 못하게\n",
    "    }\n",
    "}\n",
    "\n",
    "class Person(val name: String) {\n",
    "    var balance by Balance(10000)\n",
    "    override fun toString() = \"Person(name=$name, balance=$balance)\"\n",
    "}"
   ]
  },
  {
   "cell_type": "code",
   "execution_count": 19,
   "id": "5f6c1d4a-4ca4-481b-beb3-cf5c6193b5b2",
   "metadata": {
    "tags": []
   },
   "outputs": [],
   "source": [
    "val p1 = Person(\"bob\")"
   ]
  },
  {
   "cell_type": "code",
   "execution_count": 20,
   "id": "38993dcc-a97d-4f38-b9df-ed715c50a3d3",
   "metadata": {
    "tags": []
   },
   "outputs": [
    {
     "data": {
      "text/plain": [
       "Person(name=bob, balance=10000)"
      ]
     },
     "execution_count": 20,
     "metadata": {},
     "output_type": "execute_result"
    }
   ],
   "source": [
    "p1"
   ]
  },
  {
   "cell_type": "code",
   "execution_count": 21,
   "id": "c7bb5d63-29ba-42fd-8382-2ba097f8df7e",
   "metadata": {
    "tags": []
   },
   "outputs": [
    {
     "data": {
      "text/plain": [
       "Person(name=bob, balance=99999)"
      ]
     },
     "execution_count": 21,
     "metadata": {},
     "output_type": "execute_result"
    }
   ],
   "source": [
    "p1.balance = 99999\n",
    "p1"
   ]
  },
  {
   "cell_type": "code",
   "execution_count": 22,
   "id": "acee433b-b9cd-4330-a23c-5900a4042f6f",
   "metadata": {
    "tags": []
   },
   "outputs": [
    {
     "data": {
      "text/plain": [
       "Person(name=bob, balance=0)"
      ]
     },
     "execution_count": 22,
     "metadata": {},
     "output_type": "execute_result"
    }
   ],
   "source": [
    "p1.balance = -999\n",
    "p1"
   ]
  },
  {
   "cell_type": "markdown",
   "id": "03beb4b1-3cd6-44d9-b18d-a17e5374a4ed",
   "metadata": {},
   "source": [
    "## Built-in delegates\n",
    "스스로 학습"
   ]
  },
  {
   "cell_type": "code",
   "execution_count": null,
   "id": "7231065b-4382-4f60-b700-2affdc05eefa",
   "metadata": {},
   "outputs": [],
   "source": []
  }
 ],
 "metadata": {
  "kernelspec": {
   "display_name": "Kotlin",
   "language": "kotlin",
   "name": "kotlin"
  },
  "language_info": {
   "codemirror_mode": "text/x-kotlin",
   "file_extension": ".kt",
   "mimetype": "text/x-kotlin",
   "name": "kotlin",
   "nbconvert_exporter": "",
   "pygments_lexer": "kotlin",
   "version": "1.8.20-Beta"
  }
 },
 "nbformat": 4,
 "nbformat_minor": 5
}
