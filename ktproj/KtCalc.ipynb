{
 "cells": [
  {
   "cell_type": "code",
   "execution_count": 1,
   "id": "e64d807d-e9b8-4dd8-bbac-0f1bb5e3e307",
   "metadata": {
    "tags": []
   },
   "outputs": [],
   "source": [
    "sealed interface Entry {\n",
    "    enum class BinOp: Entry { ADD, MULT }\n",
    "    data class Value(val number: Int): Entry\n",
    "}\n",
    "\n",
    "interface ICalculator {\n",
    "    fun appendEntry(e: Entry): Boolean // input either BinOp or Vaule\n",
    "        // appends legal entry input and return true (returns false for illegal input)\n",
    "        // updates last calculated value if possible\n",
    "    fun removeEntry(): Boolean // push the x button\n",
    "        // removes the last input entry and return true (returns false if it is not possible)\n",
    "        // updates last calculated value if necessary\n",
    "    fun calculate(): Entry.Value?    // push the = button\n",
    "        // calculate current entry and returns the result value (return null when it fails) \n",
    "        // add to history\n",
    "        // clear current entries and nullify last calculated value\n",
    "    fun lastValue(): Entry.Value? // last calculated value\n",
    "    fun entries(): List<Entry> // current entries\n",
    "    fun history(): List<Pair<Entry, Entry.Value>> // history of calculations\n",
    "    fun clearEntries() // clear the current entries\n",
    "    fun clearHistory() // clear history\n",
    "}"
   ]
  },
  {
   "cell_type": "code",
   "execution_count": 2,
   "id": "cd0a3642-6924-480f-9bf9-69b0d72d21a3",
   "metadata": {
    "tags": []
   },
   "outputs": [],
   "source": [
    "// ... class Calculator: ICalculator ..."
   ]
  },
  {
   "cell_type": "code",
   "execution_count": null,
   "id": "c4f3febb-4a2d-4550-8e91-0ec683cfab61",
   "metadata": {},
   "outputs": [],
   "source": []
  }
 ],
 "metadata": {
  "kernelspec": {
   "display_name": "Kotlin",
   "language": "kotlin",
   "name": "kotlin"
  },
  "language_info": {
   "codemirror_mode": "text/x-kotlin",
   "file_extension": ".kt",
   "mimetype": "text/x-kotlin",
   "name": "kotlin",
   "nbconvert_exporter": "",
   "pygments_lexer": "kotlin",
   "version": "1.8.20-Beta"
  }
 },
 "nbformat": 4,
 "nbformat_minor": 5
}
