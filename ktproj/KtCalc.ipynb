{
 "cells": [
  {
   "cell_type": "markdown",
   "id": "f44a2cfd",
   "metadata": {},
   "source": [
    "# HW2a: Kotlin Calcuator\n",
    "- 이름: ???\n",
    "- 학번: ????????"
   ]
  },
  {
   "cell_type": "markdown",
   "id": "bb9c934d",
   "metadata": {},
   "source": [
    "https://calculatorhistory.net"
   ]
  },
  {
   "cell_type": "code",
   "execution_count": 1,
   "id": "b2f41e7b",
   "metadata": {},
   "outputs": [],
   "source": [
    "sealed interface Entry {\n",
    "    enum class BinOp: Entry { ADD, MULT }\n",
    "    enum class Delim: Entry { LPAREN, RPAREN }\n",
    "    data class Value(val number: Int): Entry\n",
    "}"
   ]
  },
  {
   "cell_type": "code",
   "execution_count": 2,
   "id": "fd355e56",
   "metadata": {},
   "outputs": [
    {
     "data": {
      "text/plain": [
       "ADD"
      ]
     },
     "execution_count": 2,
     "metadata": {},
     "output_type": "execute_result"
    }
   ],
   "source": [
    "Entry.BinOp.ADD"
   ]
  },
  {
   "cell_type": "code",
   "execution_count": 3,
   "id": "db2d5163",
   "metadata": {},
   "outputs": [
    {
     "data": {
      "text/plain": [
       "LPAREN"
      ]
     },
     "execution_count": 3,
     "metadata": {},
     "output_type": "execute_result"
    }
   ],
   "source": [
    "Entry.Delim.LPAREN"
   ]
  },
  {
   "cell_type": "code",
   "execution_count": 4,
   "id": "40b05b46",
   "metadata": {},
   "outputs": [
    {
     "data": {
      "text/plain": [
       "Value(number=43)"
      ]
     },
     "execution_count": 4,
     "metadata": {},
     "output_type": "execute_result"
    }
   ],
   "source": [
    "Entry.Value(43)"
   ]
  },
  {
   "cell_type": "code",
   "execution_count": 5,
   "id": "6815345c",
   "metadata": {},
   "outputs": [],
   "source": [
    "fun asString(e: Entry) = when (e) {\n",
    "    Entry.BinOp.ADD    -> \"+\"\n",
    "    Entry.BinOp.MULT   -> \"*\"\n",
    "    Entry.Delim.LPAREN -> \"(\"\n",
    "    Entry.Delim.RPAREN -> \")\"\n",
    "    is Entry.Value -> e.number.toString()\n",
    "}"
   ]
  },
  {
   "cell_type": "code",
   "execution_count": 6,
   "id": "ae96963a-9ab8-49a5-b9d8-75085b32de61",
   "metadata": {},
   "outputs": [
    {
     "data": {
      "text/plain": [
       "+"
      ]
     },
     "execution_count": 6,
     "metadata": {},
     "output_type": "execute_result"
    }
   ],
   "source": [
    "asString( Entry.BinOp.ADD )"
   ]
  },
  {
   "cell_type": "code",
   "execution_count": 7,
   "id": "79c98336-9560-452e-b719-46e86e608bb4",
   "metadata": {},
   "outputs": [
    {
     "data": {
      "text/plain": [
       "43"
      ]
     },
     "execution_count": 7,
     "metadata": {},
     "output_type": "execute_result"
    }
   ],
   "source": [
    "asString( Entry.Value(43) )"
   ]
  },
  {
   "cell_type": "code",
   "execution_count": 8,
   "id": "788598df-657f-4272-88f1-a5668bcffd88",
   "metadata": {},
   "outputs": [
    {
     "name": "stdout",
     "output_type": "stream",
     "text": [
      "[Value(number=43), MULT, LPAREN, Value(number=56), ADD, Value(number=43), RPAREN]\n",
      "[43, *, (, 56, +, 43, )]\n"
     ]
    },
    {
     "data": {
      "text/plain": [
       "43 * ( 56 + 43 )"
      ]
     },
     "execution_count": 8,
     "metadata": {},
     "output_type": "execute_result"
    }
   ],
   "source": [
    "val v1 = Entry.Value(43);\n",
    "val v2 = Entry.Value(56);\n",
    "val es = listOf(v1, Entry.BinOp.MULT, Entry.Delim.LPAREN, v2, Entry.BinOp.ADD, v1, Entry.Delim.RPAREN );\n",
    "\n",
    "println(es)\n",
    "\n",
    "println( es.map(::asString) )\n",
    "\n",
    "es.map(::asString).reduce { x, y -> x + \" \" + y }"
   ]
  },
  {
   "cell_type": "code",
   "execution_count": 9,
   "id": "cf2a4e34",
   "metadata": {
    "tags": []
   },
   "outputs": [],
   "source": [
    "interface ICalculator {\n",
    "    // Adds an entriy (either BinOp, Delim, or Vaule) at the end.\n",
    "    // Appends legal entry input and return true (returns false for illegal input without adding it).\n",
    "    // Further details are discussed in the homework assignment instruction above.\n",
    "    fun appendEntry(e: Entry): Boolean\n",
    "\n",
    "    // Removes the last added entry; The ◄(x or DEL) button\n",
    "    // Removes the last input entry and returns true (returns false if not possible)\n",
    "    fun removeEntry(): Boolean\n",
    "    \n",
    "    fun currValue(): Entry.Value? // currently calculated value from the current entries (defaults to null)\n",
    "    fun lastValue(): Entry.Value  // last calculated value (defaults to 0)\n",
    "    fun entries(): List<Entry> // get current entries\n",
    "    fun history(): List< Pair<List<Entry>, Entry.Value> > // history of calculations\n",
    "    fun clearEntries() // clear the current entries; AC button\n",
    "    fun clearHistory() // clear history\n",
    "\n",
    "    // The = button.\n",
    "    // Adds the current entries and its calculated current value as a pair into history,\n",
    "    // when the current entries form a valid expression to calculate the current vaule,\n",
    "    // and clears the current entries and resets the current value.\n",
    "    // Returns the calculated result value for adding valid form of entries and its result value.\n",
    "    // Returns null, without adding to the history, when the current entries do not form a valid expression.\n",
    "    fun calculate(): Entry.Value?\n",
    "}"
   ]
  },
  {
   "cell_type": "markdown",
   "id": "db4c51fe",
   "metadata": {},
   "source": [
    "----\n",
    "참고자료: https://madplay.github.io/post/call-javascript-function-from-java-using-graalvm"
   ]
  },
  {
   "cell_type": "code",
   "execution_count": 10,
   "id": "51aeaa54",
   "metadata": {},
   "outputs": [],
   "source": [
    "@file:DependsOn(\"org.graalvm.js:js:22.0.0.2\")\n",
    "@file:DependsOn(\"org.graalvm.js:js-scriptengine:22.0.0.2\")\n",
    "import org.graalvm.polyglot.*"
   ]
  },
  {
   "cell_type": "code",
   "execution_count": 11,
   "id": "25664f14",
   "metadata": {},
   "outputs": [
    {
     "name": "stdout",
     "output_type": "stream",
     "text": [
      "43\n",
      "true\n",
      "class org.graalvm.polyglot.Value\n"
     ]
    },
    {
     "data": {
      "text/plain": [
       "true"
      ]
     },
     "execution_count": 11,
     "metadata": {},
     "output_type": "execute_result"
    }
   ],
   "source": [
    "val context = Context.create(\"js\"); // 그냥 항상 성공한다고 가정하면 이렇게 써도 ...\n",
    "\n",
    "val value = context.eval(\"js\", \"3 + 4 * 10\");\n",
    "println( value );\n",
    "println( value.toString() == \"43\" )\n",
    "println( value::class )\n",
    "\n",
    "val vi: Int = value.asInt()\n",
    "vi == 43"
   ]
  },
  {
   "cell_type": "code",
   "execution_count": 12,
   "id": "84dbcb0f",
   "metadata": {},
   "outputs": [
    {
     "name": "stdout",
     "output_type": "stream",
     "text": [
      "org.graalvm.polyglot.PolyglotException: SyntaxError: Unnamed:1:8 Expected an operand but found eof\n",
      "3 + 4 * \n",
      "        ^\n",
      "\n",
      "이걸 적당히 잘 처리하면 유용하게 활용 가능\n"
     ]
    }
   ],
   "source": [
    "val context = Context.create(\"js\"); // 그냥 항상 성공한다고 가정하면 이렇게 써도 ...\n",
    "\n",
    "try {\n",
    "    val value = context.eval(\"js\", \"3 + 4 * \");\n",
    "    println( value );\n",
    "    println( value.toString() == \"43\" )\n",
    "    println( value::class )\n",
    "} catch (e : Exception) {\n",
    "    println(e)\n",
    "    println(\"이걸 적당히 잘 처리하면 유용하게 활용 가능\")\n",
    "}"
   ]
  },
  {
   "cell_type": "markdown",
   "id": "6694dad4",
   "metadata": {},
   "source": [
    "----"
   ]
  },
  {
   "cell_type": "code",
   "execution_count": 13,
   "id": "310ad7ad",
   "metadata": {
    "tags": []
   },
   "outputs": [],
   "source": [
    "// ... class Calculator: ICalculator ..."
   ]
  },
  {
   "cell_type": "code",
   "execution_count": null,
   "id": "321e70bd",
   "metadata": {},
   "outputs": [],
   "source": []
  }
 ],
 "metadata": {
  "kernelspec": {
   "display_name": "Kotlin",
   "language": "kotlin",
   "name": "kotlin"
  },
  "language_info": {
   "codemirror_mode": "text/x-kotlin",
   "file_extension": ".kt",
   "mimetype": "text/x-kotlin",
   "name": "kotlin",
   "nbconvert_exporter": "",
   "pygments_lexer": "kotlin",
   "version": "1.8.20"
  }
 },
 "nbformat": 4,
 "nbformat_minor": 5
}
