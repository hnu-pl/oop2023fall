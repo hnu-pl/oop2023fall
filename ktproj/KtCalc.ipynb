{
 "cells": [
  {
   "cell_type": "markdown",
   "id": "f44a2cfd",
   "metadata": {},
   "source": [
    "# HW2b: Kotlin Calculator\n",
    "- 이름: ???\n",
    "- 학번: ????????"
   ]
  },
  {
   "cell_type": "markdown",
   "id": "bb9c934d",
   "metadata": {},
   "source": [
    "https://calculatorhistory.net\n",
    "\n",
    "`ICalculator` 인터페이스의 주석에 지시된 내용과 수업시간에 설명한 내용을 바탕으로 해당 인터페이스를 구현하는 `Calculator`를 작성하고 적절히 테스트하라.\n",
    "\n",
    "### Define your `Calculator` class by overriding abstract methods of the `ICalculator` interface (5점)\n",
    "\n",
    "`toString`을 오버리이딩한 다음 Java 과제와 마찬가지 기능을 구현하는 내용에 대한 부분점수\n",
    "\n",
    "### Override `Calculator::toString` (5점)\n",
    "\n",
    "Java 과제에서와 마찬가지로 `toString`을 적절히 오버라이드하라.\n",
    "\n",
    "예컨대, `1 + 1`을 계산한 다음 `2 * 3`을 계산하고 나서 지금은 미완성인 식 `( 43 +`를 입력중인 상황이라면\n",
    "Calculator 객체가 **정확히** 다음과 같이 출력되어야 한다.\n",
    "들여쓰기에 해당하는 왼쪽의 빈칸들은 space가 아닌 tab으로 처리하라.\n",
    "\n",
    "```\n",
    "Calculator[\n",
    "\tentries=\"( 43 +\",\n",
    "\tcurrVal=null,\n",
    "\tlastVal=6,\n",
    "\thistory=[\n",
    "\t\t2 * 3 = 6,\n",
    "\t\t1 + 1 = 2\n",
    "\t]\n",
    "]\n",
    "```\n",
    "\n",
    "Calculator의 기능을 완전히 완성하지 않더라도 이것만으로 부분점수가 부여될 수 있다.\n",
    "\n",
    "자신이 작성한 프로그램이 잘 동작하는지 알아보기 위해서는 테스트를 실행했을 때 적절한 데이터가 출력되는지 알아보아야 하는 기능이 필수적이다.\n",
    "그러니까 작성하기 쉬운 간단한 메소드들은 먼저 작성해 놓더라도 조금 복잡하다고 생각되는 것을 작성하여 모든 내용을 완성하기 전에 일단 `toString`부터 작성할 것을 권장한다.\n",
    "\n",
    "\n",
    "### 올바른 식이 될 가능성이 없는 입력 거부 및 아주 간단한 자동완성 기능 (15점 = 14 + 1)\n",
    "\n",
    "\n",
    "`appendEntry` 메소드의 주석에 \"legal entry\"라는 표현이 등장하는데, 이는 앞으로 계속된 `appendEntry`를 통해 올바른 식(valid expressin)이 될 가능성이 있는 경우를 말한다. 만일 앞으로 올바른 식이 될 가능성이 없게 되는 `Entry`를 추가하려고 `appendEntry`를 호출하면 실제로 entries에 추가하지 말고 `false`를 리턴하라. **코드를 작성하기 전에 어떤 경우들이 올바른 식이 되지 않는지 생각해 보고 생각을 정리한 규칙들을 나열하여 예시를 들면서 설명하라.**\n",
    "\n",
    "- 어떤 규칙을 적용할지 먼저 정리하여 설명하지 않고 코드만 작성하면 시작하면 점수없음!!!!\n",
    "- illegal entry로 처리하는 각각의 규칙에 대해 구체적 예시를 들지 않으면 점수없음!!!!\n",
    "- 가능성이 있는데 illegal entry로 처리해 거부하는 잘못된 규칙을 작성하는 경우 점수없음!!!!\n",
    "- illegal entry인데 작성된 규칙에 따라 거부되지 않는 경우가 발생하는 것으로 확인되면 감점요인!!!\n",
    "\n",
    "링크로 제시한 계산기에는 다양한 자동완성 기능이 있는데 이 과제에서는 거의 모든 계산기에서 공통적으로 제공하는 한 가지 자동완성 기능만 구현하라.\n",
    "빈 entries에 첫 번째로 연산자를 appendEntry로 추가하려는 경우는 앞으로 올바른 식이 될 가능성이 없는 entry, 즉, illeigal entry이다. 하지만 이런 경우에만 예외적으로 `lastValue()`를 entries에 먼저 추가하고 해당 연산자를 추가하는 방식의 간단한 자동완성 기능을 appendEntry에 구현하라.\n",
    "\n",
    "----"
   ]
  },
  {
   "cell_type": "markdown",
   "id": "342be385-0a66-485e-953c-4dd5bcd572cd",
   "metadata": {},
   "source": [
    "여기에 어떤 경우에 legal entry가 아닌 illegal entry로 처리되는지 규칙들을 나열하고 각 규칙에 대한 예시를 들어 설명하라.\n",
    "\n",
    "여기에 어떤 경우에 legal entry가 아닌 illegal entry로 처리되는지 규칙들을 나열하고 각 규칙에 대한 예시를 들어 설명하라.\n",
    "\n",
    "여기에 어떤 경우에 legal entry가 아닌 illegal entry로 처리되는지 규칙들을 나열하고 각 규칙에 대한 예시를 들어 설명하라.\n",
    "\n",
    "여기에 어떤 경우에 legal entry가 아닌 illegal entry로 처리되는지 규칙들을 나열하고 각 규칙에 대한 예시를 들어 설명하라.\n",
    "\n",
    "여기에 어떤 경우에 legal entry가 아닌 illegal entry로 처리되는지 규칙들을 나열하고 각 규칙에 대한 예시를 들어 설명하라.\n",
    "\n",
    "여기에 어떤 경우에 legal entry가 아닌 illegal entry로 처리되는지 규칙들을 나열하고 각 규칙에 대한 예시를 들어 설명하라.\n",
    "\n",
    "여기에 어떤 경우에 legal entry가 아닌 illegal entry로 처리되는지 규칙들을 나열하고 각 규칙에 대한 예시를 들어 설명하라.\n",
    "\n",
    "여기에 어떤 경우에 legal entry가 아닌 illegal entry로 처리되는지 규칙들을 나열하고 각 규칙에 대한 예시를 들어 설명하라.\n",
    "\n",
    "여기에 어떤 경우에 legal entry가 아닌 illegal entry로 처리되는지 규칙들을 나열하고 각 규칙에 대한 예시를 들어 설명하라.\n",
    "\n",
    "여기에 어떤 경우에 legal entry가 아닌 illegal entry로 처리되는지 규칙들을 나열하고 각 규칙에 대한 예시를 들어 설명하라.\n",
    "\n",
    "여기에 어떤 경우에 legal entry가 아닌 illegal entry로 처리되는지 규칙들을 나열하고 각 규칙에 대한 예시를 들어 설명하라.\n",
    "\n",
    "----"
   ]
  },
  {
   "cell_type": "code",
   "execution_count": 1,
   "id": "b2f41e7b",
   "metadata": {},
   "outputs": [],
   "source": [
    "sealed interface Entry {\n",
    "    enum class BinOp: Entry { ADD, MULT }\n",
    "    enum class Delim: Entry { LPAREN, RPAREN }\n",
    "    data class Value(val number: Int): Entry\n",
    "}"
   ]
  },
  {
   "cell_type": "code",
   "execution_count": 2,
   "id": "fd355e56",
   "metadata": {},
   "outputs": [
    {
     "data": {
      "text/plain": [
       "ADD"
      ]
     },
     "execution_count": 2,
     "metadata": {},
     "output_type": "execute_result"
    }
   ],
   "source": [
    "Entry.BinOp.ADD"
   ]
  },
  {
   "cell_type": "code",
   "execution_count": 3,
   "id": "db2d5163",
   "metadata": {},
   "outputs": [
    {
     "data": {
      "text/plain": [
       "LPAREN"
      ]
     },
     "execution_count": 3,
     "metadata": {},
     "output_type": "execute_result"
    }
   ],
   "source": [
    "Entry.Delim.LPAREN"
   ]
  },
  {
   "cell_type": "code",
   "execution_count": 4,
   "id": "40b05b46",
   "metadata": {},
   "outputs": [
    {
     "data": {
      "text/plain": [
       "Value(number=43)"
      ]
     },
     "execution_count": 4,
     "metadata": {},
     "output_type": "execute_result"
    }
   ],
   "source": [
    "Entry.Value(43)"
   ]
  },
  {
   "cell_type": "code",
   "execution_count": 5,
   "id": "6815345c",
   "metadata": {},
   "outputs": [],
   "source": [
    "fun asString(e: Entry) = when (e) {\n",
    "    Entry.BinOp.ADD    -> \"+\"\n",
    "    Entry.BinOp.MULT   -> \"*\"\n",
    "    Entry.Delim.LPAREN -> \"(\"\n",
    "    Entry.Delim.RPAREN -> \")\"\n",
    "    is Entry.Value -> e.number.toString()\n",
    "}"
   ]
  },
  {
   "cell_type": "code",
   "execution_count": 6,
   "id": "ae96963a-9ab8-49a5-b9d8-75085b32de61",
   "metadata": {},
   "outputs": [
    {
     "data": {
      "text/plain": [
       "+"
      ]
     },
     "execution_count": 6,
     "metadata": {},
     "output_type": "execute_result"
    }
   ],
   "source": [
    "asString( Entry.BinOp.ADD )"
   ]
  },
  {
   "cell_type": "code",
   "execution_count": 7,
   "id": "79c98336-9560-452e-b719-46e86e608bb4",
   "metadata": {},
   "outputs": [
    {
     "data": {
      "text/plain": [
       "43"
      ]
     },
     "execution_count": 7,
     "metadata": {},
     "output_type": "execute_result"
    }
   ],
   "source": [
    "asString( Entry.Value(43) )"
   ]
  },
  {
   "cell_type": "code",
   "execution_count": 8,
   "id": "788598df-657f-4272-88f1-a5668bcffd88",
   "metadata": {},
   "outputs": [
    {
     "name": "stdout",
     "output_type": "stream",
     "text": [
      "[Value(number=43), MULT, LPAREN, Value(number=56), ADD, Value(number=43), RPAREN]\n",
      "[43, *, (, 56, +, 43, )]\n"
     ]
    },
    {
     "data": {
      "text/plain": [
       "43 * ( 56 + 43 )"
      ]
     },
     "execution_count": 8,
     "metadata": {},
     "output_type": "execute_result"
    }
   ],
   "source": [
    "val v1 = Entry.Value(43);\n",
    "val v2 = Entry.Value(56);\n",
    "val es = listOf(v1, Entry.BinOp.MULT, Entry.Delim.LPAREN, v2, Entry.BinOp.ADD, v1, Entry.Delim.RPAREN );\n",
    "\n",
    "println(es)\n",
    "\n",
    "println( es.map(::asString) )\n",
    "\n",
    "es.map(::asString).reduce { x, y -> x + \" \" + y }"
   ]
  },
  {
   "cell_type": "code",
   "execution_count": 9,
   "id": "cf2a4e34",
   "metadata": {
    "tags": []
   },
   "outputs": [],
   "source": [
    "interface ICalculator {\n",
    "    // Adds an entriy (either BinOp, Delim, or Vaule) at the end.\n",
    "    // Appends legal entry input and return true (returns false for illegal input without adding it).\n",
    "    // Further details are discussed in the homework assignment instruction above.\n",
    "    fun appendEntry(e: Entry): Boolean\n",
    "\n",
    "    // Removes the last added entry; The ◄(x or DEL) button\n",
    "    // Removes the last input entry and returns true (returns false if not possible)\n",
    "    fun removeEntry(): Boolean\n",
    "    \n",
    "    fun currValue(): Entry.Value? // currently calculated value from the current entries (defaults to null)\n",
    "    fun lastValue(): Entry.Value  // last calculated value (defaults to 0)\n",
    "    fun entries(): List<Entry> // get current entries\n",
    "    fun history(): List< Pair<List<Entry>, Entry.Value> > // history of calculations\n",
    "    fun clearEntries() // clear the current entries; AC button\n",
    "    fun clearHistory() // clear history\n",
    "\n",
    "    // The = button.\n",
    "    // Adds the current entries and its calculated current value as a pair into history,\n",
    "    // when the current entries form a valid expression to calculate the current vaule,\n",
    "    // and clears the current entries and resets the current value.\n",
    "    // Returns the calculated result value for adding valid form of entries and its result value.\n",
    "    // Returns null, without adding to the history, when the current entries do not form a valid expression.\n",
    "    fun calculate(): Entry.Value?\n",
    "}"
   ]
  },
  {
   "cell_type": "markdown",
   "id": "db4c51fe",
   "metadata": {},
   "source": [
    "----\n",
    "참고자료: https://madplay.github.io/post/call-javascript-function-from-java-using-graalvm"
   ]
  },
  {
   "cell_type": "code",
   "execution_count": 10,
   "id": "51aeaa54",
   "metadata": {},
   "outputs": [],
   "source": [
    "@file:DependsOn(\"org.graalvm.js:js:22.0.0.2\")\n",
    "@file:DependsOn(\"org.graalvm.js:js-scriptengine:22.0.0.2\")\n",
    "import org.graalvm.polyglot.*"
   ]
  },
  {
   "cell_type": "code",
   "execution_count": 11,
   "id": "25664f14",
   "metadata": {},
   "outputs": [
    {
     "name": "stdout",
     "output_type": "stream",
     "text": [
      "43\n",
      "true\n",
      "class org.graalvm.polyglot.Value\n"
     ]
    },
    {
     "data": {
      "text/plain": [
       "true"
      ]
     },
     "execution_count": 11,
     "metadata": {},
     "output_type": "execute_result"
    }
   ],
   "source": [
    "val context = Context.create(\"js\"); // 그냥 항상 성공한다고 가정하면 이렇게 써도 ...\n",
    "\n",
    "val value = context.eval(\"js\", \"3 + 4 * 10\");\n",
    "println( value );\n",
    "println( value.toString() == \"43\" )\n",
    "println( value::class )\n",
    "\n",
    "val vi: Int = value.asInt()\n",
    "vi == 43"
   ]
  },
  {
   "cell_type": "code",
   "execution_count": 12,
   "id": "84dbcb0f",
   "metadata": {},
   "outputs": [
    {
     "name": "stdout",
     "output_type": "stream",
     "text": [
      "org.graalvm.polyglot.PolyglotException: SyntaxError: Unnamed:1:8 Expected an operand but found eof\n",
      "3 + 4 * \n",
      "        ^\n",
      "\n",
      "이걸 적당히 잘 처리하면 유용하게 활용 가능\n"
     ]
    }
   ],
   "source": [
    "val context = Context.create(\"js\"); // 그냥 항상 성공한다고 가정하면 이렇게 써도 ...\n",
    "\n",
    "try {\n",
    "    val value = context.eval(\"js\", \"3 + 4 * \");\n",
    "    println( value );\n",
    "    println( value.toString() == \"43\" )\n",
    "    println( value::class )\n",
    "} catch (e : Exception) {\n",
    "    println(e)\n",
    "    println(\"이걸 적당히 잘 처리하면 유용하게 활용 가능\")\n",
    "}"
   ]
  },
  {
   "cell_type": "markdown",
   "id": "6694dad4",
   "metadata": {},
   "source": [
    "----"
   ]
  },
  {
   "cell_type": "code",
   "execution_count": 13,
   "id": "310ad7ad",
   "metadata": {
    "tags": []
   },
   "outputs": [],
   "source": [
    "// ... class Calculator: ICalculator ..."
   ]
  },
  {
   "cell_type": "code",
   "execution_count": null,
   "id": "321e70bd",
   "metadata": {},
   "outputs": [],
   "source": []
  }
 ],
 "metadata": {
  "kernelspec": {
   "display_name": "Kotlin",
   "language": "kotlin",
   "name": "kotlin"
  },
  "language_info": {
   "codemirror_mode": "text/x-kotlin",
   "file_extension": ".kt",
   "mimetype": "text/x-kotlin",
   "name": "kotlin",
   "nbconvert_exporter": "",
   "pygments_lexer": "kotlin",
   "version": "1.8.20"
  }
 },
 "nbformat": 4,
 "nbformat_minor": 5
}
