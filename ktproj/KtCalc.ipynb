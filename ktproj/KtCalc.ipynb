{
 "cells": [
  {
   "cell_type": "markdown",
   "id": "de85b6a9",
   "metadata": {},
   "source": [
    "# HW2a: Kotlin Calcuator\n",
    "- 이름: ???\n",
    "- 학번: ????????"
   ]
  },
  {
   "cell_type": "markdown",
   "id": "cd572022",
   "metadata": {},
   "source": [
    "https://calculatorhistory.net"
   ]
  },
  {
   "cell_type": "code",
   "execution_count": 1,
   "id": "7d0b95db",
   "metadata": {},
   "outputs": [],
   "source": [
    "sealed interface Entry {\n",
    "    enum class BinOp: Entry { ADD, MULT }\n",
    "    enum class Delim: Entry { LPAREN, RPAREN }\n",
    "    data class Value(val number: Int): Entry\n",
    "}"
   ]
  },
  {
   "cell_type": "code",
   "execution_count": 2,
   "id": "0adebb76",
   "metadata": {},
   "outputs": [
    {
     "data": {
      "text/plain": [
       "ADD"
      ]
     },
     "execution_count": 2,
     "metadata": {},
     "output_type": "execute_result"
    }
   ],
   "source": [
    "Entry.BinOp.ADD"
   ]
  },
  {
   "cell_type": "code",
   "execution_count": 3,
   "id": "7ae9bcb4",
   "metadata": {},
   "outputs": [
    {
     "data": {
      "text/plain": [
       "LPAREN"
      ]
     },
     "execution_count": 3,
     "metadata": {},
     "output_type": "execute_result"
    }
   ],
   "source": [
    "Entry.Delim.LPAREN"
   ]
  },
  {
   "cell_type": "code",
   "execution_count": 4,
   "id": "873f8afd",
   "metadata": {},
   "outputs": [
    {
     "data": {
      "text/plain": [
       "Value(number=43)"
      ]
     },
     "execution_count": 4,
     "metadata": {},
     "output_type": "execute_result"
    }
   ],
   "source": [
    "Entry.Value(43)"
   ]
  },
  {
   "cell_type": "code",
   "execution_count": 5,
   "id": "d83cf17b",
   "metadata": {
    "tags": []
   },
   "outputs": [],
   "source": [
    "interface ICalculator {\n",
    "    fun appendEntry(e: Entry): Boolean // adds an entriy (either BinOp, Delim, or Vaule) at the end\n",
    "        // appends legal entry input and return true (returns false for illegal input without adding it)\n",
    "    fun removeEntry(): Boolean  // removes the last added entry; ◄(x or DEL) button\n",
    "        // removes the last input entry and returns true (returns false if not possible)\n",
    "    fun calculate(): Entry.Value?    // push the = button\n",
    "        // calculate current entry and returns the result value (return null when it fails) \n",
    "        // add to history\n",
    "        // clear current entries and nullify last calculated value\n",
    "    fun currValue(): Entry.Value? // currently calculated value from the current entries (defaults to null)\n",
    "    fun lastValue(): Entry.Value  // last calculated value (defaults to 0)\n",
    "    fun entries(): List<Entry> // get current entries\n",
    "    fun history(): List< Pair<List<Entry>, Entry.Value> > // history of calculations\n",
    "    fun clearEntries() // clear the current entries; AC button\n",
    "    fun clearHistory() // clear history\n",
    "}"
   ]
  },
  {
   "cell_type": "markdown",
   "id": "84d4e427",
   "metadata": {},
   "source": [
    "----\n",
    "참고자료: https://madplay.github.io/post/call-javascript-function-from-java-using-graalvm"
   ]
  },
  {
   "cell_type": "code",
   "execution_count": 6,
   "id": "f0653c9e",
   "metadata": {},
   "outputs": [],
   "source": [
    "@file:DependsOn(\"org.graalvm.js:js:22.0.0.2\")\n",
    "@file:DependsOn(\"org.graalvm.js:js-scriptengine:22.0.0.2\")\n",
    "import org.graalvm.polyglot.*"
   ]
  },
  {
   "cell_type": "code",
   "execution_count": 7,
   "id": "967ff7e8",
   "metadata": {},
   "outputs": [
    {
     "name": "stdout",
     "output_type": "stream",
     "text": [
      "43\n",
      "true\n",
      "class org.graalvm.polyglot.Value\n"
     ]
    }
   ],
   "source": [
    "val context = Context.create(\"js\"); // 그냥 항상 성공한다고 가정하면 이렇게 써도 ...\n",
    "\n",
    "val value = context.eval(\"js\", \"3 + 4 * 10\");\n",
    "println( value );\n",
    "println( value.toString() == \"43\" )\n",
    "println( value::class )"
   ]
  },
  {
   "cell_type": "code",
   "execution_count": 8,
   "id": "e125599a",
   "metadata": {},
   "outputs": [
    {
     "name": "stdout",
     "output_type": "stream",
     "text": [
      "org.graalvm.polyglot.PolyglotException: SyntaxError: Unnamed:1:8 Expected an operand but found eof\n",
      "3 + 4 * \n",
      "        ^\n",
      "\n",
      "이걸 적당히 잘 처리하면 유용하게 활용 가능\n"
     ]
    }
   ],
   "source": [
    "val context = Context.create(\"js\"); // 그냥 항상 성공한다고 가정하면 이렇게 써도 ...\n",
    "\n",
    "try {\n",
    "    val value = context.eval(\"js\", \"3 + 4 * \");\n",
    "    println( value );\n",
    "    println( value.toString() == \"43\" )\n",
    "    println( value::class )\n",
    "} catch (e : Exception) {\n",
    "    println(e)\n",
    "    println(\"이걸 적당히 잘 처리하면 유용하게 활용 가능\")\n",
    "}"
   ]
  },
  {
   "cell_type": "markdown",
   "id": "208a3d55-8dfc-4db1-a5b2-fffd0c90764f",
   "metadata": {},
   "source": [
    "----"
   ]
  },
  {
   "cell_type": "code",
   "execution_count": 9,
   "id": "844a118b",
   "metadata": {
    "tags": []
   },
   "outputs": [],
   "source": [
    "// ... class Calculator: ICalculator ..."
   ]
  },
  {
   "cell_type": "code",
   "execution_count": null,
   "id": "eaf11222",
   "metadata": {},
   "outputs": [],
   "source": []
  }
 ],
 "metadata": {
  "kernelspec": {
   "display_name": "Kotlin",
   "language": "kotlin",
   "name": "kotlin"
  },
  "language_info": {
   "codemirror_mode": "text/x-kotlin",
   "file_extension": ".kt",
   "mimetype": "text/x-kotlin",
   "name": "kotlin",
   "nbconvert_exporter": "",
   "pygments_lexer": "kotlin",
   "version": "1.8.20"
  }
 },
 "nbformat": 4,
 "nbformat_minor": 5
}
