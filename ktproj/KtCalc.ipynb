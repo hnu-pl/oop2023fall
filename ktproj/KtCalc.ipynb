{
 "cells": [
  {
   "cell_type": "markdown",
   "id": "0c85bcfa-1714-493a-ba8b-7837e8cac846",
   "metadata": {},
   "source": [
    "https://calculatorhistory.net"
   ]
  },
  {
   "cell_type": "code",
   "execution_count": 1,
   "id": "51036ea1-8127-4413-9344-011c4ec64108",
   "metadata": {},
   "outputs": [],
   "source": [
    "sealed interface Entry {\n",
    "    enum class BinOp: Entry { ADD, MULT }\n",
    "    enum class Delim: Entry { LPAREN, RPAREN }\n",
    "    data class Value(val number: Int): Entry\n",
    "}"
   ]
  },
  {
   "cell_type": "code",
   "execution_count": 2,
   "id": "60346a47-fba4-48bf-8673-0cbc010783ee",
   "metadata": {},
   "outputs": [
    {
     "data": {
      "text/plain": [
       "ADD"
      ]
     },
     "execution_count": 2,
     "metadata": {},
     "output_type": "execute_result"
    }
   ],
   "source": [
    "Entry.BinOp.ADD"
   ]
  },
  {
   "cell_type": "code",
   "execution_count": 3,
   "id": "16febcf6-03c7-4c04-b181-f1826fbbd2d2",
   "metadata": {},
   "outputs": [
    {
     "data": {
      "text/plain": [
       "LPAREN"
      ]
     },
     "execution_count": 3,
     "metadata": {},
     "output_type": "execute_result"
    }
   ],
   "source": [
    "Entry.Delim.LPAREN"
   ]
  },
  {
   "cell_type": "code",
   "execution_count": 4,
   "id": "07c02b2f-6a8a-46f8-81ac-a0c51c41d654",
   "metadata": {},
   "outputs": [
    {
     "data": {
      "text/plain": [
       "Value(number=43)"
      ]
     },
     "execution_count": 4,
     "metadata": {},
     "output_type": "execute_result"
    }
   ],
   "source": [
    "Entry.Value(43)"
   ]
  },
  {
   "cell_type": "code",
   "execution_count": 5,
   "id": "1eaacfac",
   "metadata": {
    "tags": []
   },
   "outputs": [],
   "source": [
    "interface ICalculator {\n",
    "    fun appendEntry(e: Entry): Boolean // adds an entriy (either BinOp, Delim, or Vaule) at the end\n",
    "        // appends legal entry input and return true (returns false for illegal input without adding it)\n",
    "    fun removeEntry(): Boolean  // removes the last added entry; ◄(x or DEL) button\n",
    "        // removes the last input entry and returns true (returns false if not possible)\n",
    "    fun calculate(): Entry.Value?    // push the = button\n",
    "        // calculate current entry and returns the result value (return null when it fails) \n",
    "        // add to history\n",
    "        // clear current entries and nullify last calculated value\n",
    "    fun currValue(): Entry.Value? // currently calculated value from the current entries (defaults to null)\n",
    "    fun lastValue(): Entry.Value  // last calculated value (defaults to 0)\n",
    "    fun entries(): List<Entry> // get current entries\n",
    "    fun history(): List< Pair<List<Entry>, Entry.Value> > // history of calculations\n",
    "    fun clearEntries() // clear the current entries; AC button\n",
    "    fun clearHistory() // clear history\n",
    "}"
   ]
  },
  {
   "cell_type": "code",
   "execution_count": 6,
   "id": "dd7631ee",
   "metadata": {
    "tags": []
   },
   "outputs": [],
   "source": [
    "// ... class Calculator: ICalculator ..."
   ]
  },
  {
   "cell_type": "markdown",
   "id": "e7722de9-ac74-4ef5-8fc3-ffbde52c68c1",
   "metadata": {},
   "source": [
    "----\n",
    "참고자료: https://madplay.github.io/post/call-javascript-function-from-java-using-graalvm"
   ]
  },
  {
   "cell_type": "code",
   "execution_count": 7,
   "id": "388e9bd7-052d-4841-b7ed-06e2a66b86ef",
   "metadata": {},
   "outputs": [],
   "source": [
    "@file:DependsOn(\"org.graalvm.js:js:22.0.0.2\")"
   ]
  },
  {
   "cell_type": "code",
   "execution_count": 8,
   "id": "d093be8d-6e70-45a7-bf85-d1ab032c88d1",
   "metadata": {},
   "outputs": [
    {
     "name": "stdout",
     "output_type": "stream",
     "text": [
      "43\n",
      "true\n",
      "class org.graalvm.polyglot.Value\n"
     ]
    }
   ],
   "source": [
    "import org.graalvm.polyglot.*\n",
    "\n",
    "val context = Context.create(\"js\"); // 그냥 항상 성공한다고 가정하면 이렇게 써도 ...\n",
    "\n",
    "val value = context.eval(\"js\", \"3 + 4 * 10\");\n",
    "println( value );\n",
    "println( value.toString() == \"43\" )\n",
    "println( value::class )"
   ]
  },
  {
   "cell_type": "code",
   "execution_count": 9,
   "id": "6220142a",
   "metadata": {},
   "outputs": [
    {
     "name": "stdout",
     "output_type": "stream",
     "text": [
      "org.graalvm.polyglot.PolyglotException: SyntaxError: Unnamed:1:8 Expected an operand but found eof\n",
      "3 + 4 * \n",
      "        ^\n",
      "\n",
      "이걸 적당히 잘 처리하면 유용하게 활용 가능\n"
     ]
    }
   ],
   "source": [
    "import org.graalvm.polyglot.*\n",
    "\n",
    "val context = Context.create(\"js\"); // 그냥 항상 성공한다고 가정하면 이렇게 써도 ...\n",
    "\n",
    "try {\n",
    "    val value = context.eval(\"js\", \"3 + 4 * \");\n",
    "    println( value );\n",
    "    println( value.toString() == \"43\" )\n",
    "    println( value::class )\n",
    "} catch (e : Exception) {\n",
    "    println(e)\n",
    "    println(\"이걸 적당히 잘 처리하면 유용하게 활용 가능\")\n",
    "}"
   ]
  },
  {
   "cell_type": "code",
   "execution_count": null,
   "id": "45bc6c0e-45c8-47fc-b99b-6cf0494b1a66",
   "metadata": {},
   "outputs": [],
   "source": []
  }
 ],
 "metadata": {
  "kernelspec": {
   "display_name": "Kotlin",
   "language": "kotlin",
   "name": "kotlin"
  },
  "language_info": {
   "codemirror_mode": "text/x-kotlin",
   "file_extension": ".kt",
   "mimetype": "text/x-kotlin",
   "name": "kotlin",
   "nbconvert_exporter": "",
   "pygments_lexer": "kotlin",
   "version": "1.8.20"
  }
 },
 "nbformat": 4,
 "nbformat_minor": 5
}
