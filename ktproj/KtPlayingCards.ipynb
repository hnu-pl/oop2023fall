{
 "cells": [
  {
   "attachments": {},
   "cell_type": "markdown",
   "metadata": {
    "datalore": {
     "hide_input_from_viewers": false,
     "hide_output_from_viewers": false,
     "node_id": "Q9CxweMun5a0XbsUBZrDlS",
     "report_properties": {
      "rowId": "KdoFwiPGtrFqSFcvxABOWv"
     },
     "type": "MD"
    }
   },
   "source": [
    "# Playing Cards"
   ]
  },
  {
   "cell_type": "code",
   "execution_count": 114,
   "metadata": {
    "datalore": {
     "hide_input_from_viewers": false,
     "hide_output_from_viewers": false,
     "node_id": "mmYzBeSDttiKvvKH3ysclM",
     "report_properties": {
      "rowId": "mkRnmrPT1GUDYSRy7EyxtD"
     },
     "type": "CODE"
    }
   },
   "outputs": [],
   "source": [
    "enum class Symbol { SPADE, HEART, DIA, CLUB; } // 모양\n",
    "\n",
    "enum class Card(val face: String, val back: String = \"🂠\") { // 카드의 종류\n",
    "    SA(\"🂡\"),S2(\"🂢\"),S3(\"🂣\"),S4(\"🂤\"),S5(\"🂥\"),S6(\"🂦\"),\n",
    "    S7(\"🂧\"),S8(\"🂨\"),S9(\"🂩\"),S0(\"🂪\"),SJ(\"🂫\"),SQ(\"🂭\"),SK(\"🂮\"),\n",
    "    HA(\"🂱\"),H2(\"🂲\"),H3(\"🂳\"),H4(\"🂴\"),H5(\"🂵\"),H6(\"🂶\"),\n",
    "    H7(\"🂷\"),H8(\"🂸\"),H9(\"🂹\"),H0(\"🂺\"),HJ(\"🂻\"),HQ(\"🂽\"),HK(\"🂾\"),\n",
    "    DA(\"🃁\"),D2(\"🃂\"),D3(\"🃃\"),D4(\"🃄\"),D5(\"🃅\"),D6(\"🃆\"),\n",
    "    D7(\"🃇\"),D8(\"🃈\"),D9(\"🃉\"),D0(\"🃊\"),DJ(\"🃋\"),DQ(\"🃍\"),DK(\"🃎\"),\n",
    "    CA(\"🃑\"),C2(\"🃒\"),C3(\"🃓\"),C4(\"🃔\"),C5(\"🃕\"),C6(\"🃖\"),\n",
    "    C7(\"🃗\"),C8(\"🃘\"),C9(\"🃙\"),C0(\"🃚\"),CJ(\"🃛\"),CQ(\"🃝\"),CK(\"🃞\");\n",
    "    \n",
    "    fun symbol() = when(this) {\n",
    "        in SA..SK -> Symbol.SPADE\n",
    "        in HA..HK -> Symbol.HEART\n",
    "        in DA..DK -> Symbol.DIA\n",
    "        else      -> Symbol.CLUB // 나머지 경우는 \n",
    "    }\n",
    "    \n",
    "    fun color() = when(symbol()) {\n",
    "        Symbol.SPADE -> \"black\"\n",
    "        Symbol.HEART -> \"red\"\n",
    "        Symbol.DIA   -> \"red\"\n",
    "        Symbol.CLUB  -> \"black\"\n",
    "    }\n",
    "    \n",
    "    fun rank() = this.ordinal % 13 + 1 // A가 1, 숫자는 숫자값, J,Q,K는 11,12,13\n",
    "}"
   ]
  },
  {
   "cell_type": "code",
   "execution_count": 115,
   "metadata": {
    "datalore": {
     "hide_input_from_viewers": false,
     "hide_output_from_viewers": false,
     "node_id": "gYgk2ktmrK06TkSYLZMTMI",
     "report_properties": {
      "rowId": "c62Q3lhWVPsDG2cvz4B5yv"
     },
     "type": "CODE"
    }
   },
   "outputs": [
    {
     "data": {
      "text/plain": [
       "CLUB"
      ]
     },
     "metadata": {},
     "output_type": "display_data"
    }
   ],
   "source": [
    "Card.C3.symbol()"
   ]
  },
  {
   "cell_type": "code",
   "execution_count": 116,
   "metadata": {
    "datalore": {
     "hide_input_from_viewers": false,
     "hide_output_from_viewers": false,
     "node_id": "nyQrSq0Rq1cMwmw6F4OK6g",
     "report_properties": {
      "rowId": "FAqsRQ4BQiHY6BIRAZSimU"
     },
     "type": "CODE"
    }
   },
   "outputs": [
    {
     "data": {
      "text/plain": [
       "41"
      ]
     },
     "metadata": {},
     "output_type": "display_data"
    }
   ],
   "source": [
    "Card.C3.ordinal"
   ]
  },
  {
   "cell_type": "code",
   "execution_count": 117,
   "metadata": {
    "datalore": {
     "hide_input_from_viewers": false,
     "hide_output_from_viewers": false,
     "node_id": "oFJOcg2rREVZYuT78SCXl0",
     "report_properties": {
      "rowId": "nRMEW1BZzi0DtHY1MpZ7PD"
     },
     "type": "CODE"
    }
   },
   "outputs": [
    {
     "data": {
      "text/plain": [
       "3"
      ]
     },
     "metadata": {},
     "output_type": "display_data"
    }
   ],
   "source": [
    "Card.C3.rank()"
   ]
  },
  {
   "cell_type": "code",
   "execution_count": 118,
   "metadata": {
    "datalore": {
     "hide_input_from_viewers": false,
     "hide_output_from_viewers": false,
     "node_id": "oaVXxWXuAdv7UHQxjZ2oM1",
     "report_properties": {
      "rowId": "sY9JzW9j1aF7soymqplCjy"
     },
     "type": "CODE"
    }
   },
   "outputs": [
    {
     "data": {
      "text/plain": [
       "12"
      ]
     },
     "metadata": {},
     "output_type": "display_data"
    }
   ],
   "source": [
    "Card.DQ.rank()"
   ]
  },
  {
   "cell_type": "code",
   "execution_count": 119,
   "metadata": {
    "datalore": {
     "hide_input_from_viewers": false,
     "hide_output_from_viewers": false,
     "node_id": "FNURa39UO95YywssFXbjTJ",
     "report_properties": {
      "rowId": "4KNWOiWRQlGjIexCX5Qnut"
     },
     "type": "CODE"
    }
   },
   "outputs": [
    {
     "data": {
      "text/plain": [
       "hello 7 world"
      ]
     },
     "metadata": {},
     "output_type": "display_data"
    }
   ],
   "source": [
    "\"hello ${3 + 4} world\""
   ]
  },
  {
   "cell_type": "code",
   "execution_count": 120,
   "metadata": {
    "datalore": {
     "hide_input_from_viewers": false,
     "hide_output_from_viewers": false,
     "node_id": "KYmYn4bbWL4qhZJbrmLqRz",
     "report_properties": {
      "rowId": "PDwPGLcKgl223K22QlcVwX"
     },
     "type": "CODE"
    }
   },
   "outputs": [
    {
     "data": {
      "text/html": [
       "aaa<b>ccc</b>dddd"
      ]
     },
     "metadata": {},
     "output_type": "display_data"
    }
   ],
   "source": [
    "HTML(\"aaa<b>ccc</b>dddd\")"
   ]
  },
  {
   "cell_type": "code",
   "execution_count": 121,
   "metadata": {
    "datalore": {
     "hide_input_from_viewers": false,
     "hide_output_from_viewers": false,
     "node_id": "zT8okJ0TwdF4Sc9oyIwHt6",
     "report_properties": {
      "rowId": "NNRS0h6MgGapMs1IQc3r5y"
     },
     "type": "CODE"
    }
   },
   "outputs": [
    {
     "data": {
      "text/html": [
       "&nbsp;<br><span style='font-size:30pt;color:black'>🃓</span><br>&nbsp;"
      ]
     },
     "metadata": {},
     "output_type": "display_data"
    }
   ],
   "source": [
    "HTML(\"&nbsp;<br><span style='font-size:30pt;color:${Card.C3.color()}'>${Card.C3.face}</span><br>&nbsp;\")"
   ]
  },
  {
   "cell_type": "code",
   "execution_count": 122,
   "metadata": {
    "datalore": {
     "hide_input_from_viewers": false,
     "hide_output_from_viewers": false,
     "node_id": "FoDachjmalql0kDJuQA3hO",
     "report_properties": {
      "rowId": "cyJzlhBd7BEzPY3TG1dhHl"
     },
     "type": "CODE"
    }
   },
   "outputs": [
    {
     "data": {
      "text/html": [
       "&nbsp;<br><span style='font-size:30pt;color:red'>🂳</span><br>&nbsp;"
      ]
     },
     "metadata": {},
     "output_type": "display_data"
    }
   ],
   "source": [
    "HTML(\"&nbsp;<br><span style='font-size:30pt;color:${Card.H3.color()}'>${Card.H3.face}</span><br>&nbsp;\")"
   ]
  },
  {
   "cell_type": "code",
   "execution_count": 123,
   "metadata": {
    "datalore": {
     "hide_input_from_viewers": false,
     "hide_output_from_viewers": false,
     "node_id": "BkEBUiYZI7OTO8MmzxLdqd",
     "report_properties": {
      "rowId": "qkSSSl6NWdV1gjO6O5ZFcJ"
     },
     "type": "CODE"
    }
   },
   "outputs": [
    {
     "data": {
      "text/plain": [
       "[SA, S2, S3, S4, S5, S6, S7, S8, S9, S0, SJ, SQ, SK, HA, H2, H3, H4, H5, H6, H7, H8, H9, H0, HJ, HQ, HK, DA, D2, D3, D4, D5, D6, D7, D8, D9, D0, DJ, DQ, DK, CA, C2, C3, C4, C5, C6, C7, C8, C9, C0, CJ, CQ, CK]"
      ]
     },
     "metadata": {},
     "output_type": "display_data"
    }
   ],
   "source": [
    "Card.values() // Card라는 enum class의 모든 가능한 값(object)들"
   ]
  },
  {
   "cell_type": "code",
   "execution_count": 124,
   "metadata": {
    "datalore": {
     "hide_input_from_viewers": false,
     "hide_output_from_viewers": false,
     "node_id": "3jDt4ATfeQ1pPDCu2tdPG3",
     "report_properties": {
      "rowId": "biEinHsvxG3XhVtmx6eEAL"
     },
     "type": "CODE"
    }
   },
   "outputs": [],
   "source": [
    "data class CardItem(val card: Card, var up: Boolean = false) { // 카드 한장\n",
    "    fun symbol() = card.symbol()\n",
    "    fun color() = card.color()\n",
    "    fun rank() = card.rank()\n",
    "    fun show() = if(up) card.face else card.back\n",
    "}"
   ]
  },
  {
   "attachments": {},
   "cell_type": "markdown",
   "metadata": {
    "datalore": {
     "hide_input_from_viewers": true,
     "hide_output_from_viewers": true,
     "node_id": "WU599DcbLMDZizdvTDMimE",
     "type": "MD"
    }
   },
   "source": [
    "`CardItem`은 `Card`의 메소드들을 같은 이름의 메소드로 노출시키고 있음\n",
    "\n",
    "`CardItem`이 `Card`를 감싸고 있는 형태\n",
    "  - 넓은 의미에서 느슨하게 대략 Wrapper라고 부르기도 함\n",
    "  - 이런 형태를 활용하는 다자인 패턴으로는 Delegate, Decorator, Proxy, Facade, ..."
   ]
  },
  {
   "cell_type": "code",
   "execution_count": 125,
   "metadata": {
    "datalore": {
     "hide_input_from_viewers": true,
     "hide_output_from_viewers": true,
     "node_id": "36P3rrG7PTrZa1aABRPwT3",
     "type": "CODE"
    }
   },
   "outputs": [
    {
     "data": {
      "text/plain": [
       "[CardItem(card=SA, up=false), CardItem(card=S2, up=false), CardItem(card=S3, up=false), CardItem(card=S4, up=false), CardItem(card=S5, up=false), CardItem(card=S6, up=false), CardItem(card=S7, up=false), CardItem(card=S8, up=false), CardItem(card=S9, up=false), CardItem(card=S0, up=false), CardItem(card=SJ, up=false), CardItem(card=SQ, up=false), CardItem(card=SK, up=false), CardItem(card=HA, up=false), CardItem(card=H2, up=false), CardItem(card=H3, up=false), CardItem(card=H4, up=false), CardItem(card=H5, up=false), CardItem(card=H6, up=false), CardItem(card=H7, up=false), CardItem(card=H8, up=false), CardItem(card=H9, up=false), CardItem(card=H0, up=false), CardItem(card=HJ, up=false), CardItem(card=HQ, up=false), CardItem(card=HK, up=false), CardItem(card=DA, up=false), CardItem(card=D2, up=false), CardItem(card=D3, up=false), CardItem(card=D4, up=false), CardItem(card=D5, up=false), CardItem(card=D6, up=false), CardItem(card=D7, up=false), CardItem(card=D8, up=false), CardItem(card=D9, up=false), CardItem(card=D0, up=false), CardItem(card=DJ, up=false), CardItem(card=DQ, up=false), CardItem(card=DK, up=false), CardItem(card=CA, up=false), CardItem(card=C2, up=false), CardItem(card=C3, up=false), CardItem(card=C4, up=false), CardItem(card=C5, up=false), CardItem(card=C6, up=false), CardItem(card=C7, up=false), CardItem(card=C8, up=false), CardItem(card=C9, up=false), CardItem(card=C0, up=false), CardItem(card=CJ, up=false), CardItem(card=CQ, up=false), CardItem(card=CK, up=false)]"
      ]
     },
     "metadata": {},
     "output_type": "display_data"
    }
   ],
   "source": [
    "Card.values().map { CardItem(it) }"
   ]
  },
  {
   "cell_type": "code",
   "execution_count": 126,
   "metadata": {
    "datalore": {
     "hide_input_from_viewers": false,
     "hide_output_from_viewers": false,
     "node_id": "8qNDotzszIVV2W2n41kRdk",
     "report_properties": {
      "rowId": "b6j6HncEIdi8MmMlkkEXKs"
     },
     "type": "CODE"
    }
   },
   "outputs": [
    {
     "data": {
      "text/plain": [
       "[🂠, 🂠, 🂠, 🂠, 🂠, 🂠, 🂠, 🂠, 🂠, 🂠, 🂠, 🂠, 🂠, 🂠, 🂠, 🂠, 🂠, 🂠, 🂠, 🂠, 🂠, 🂠, 🂠, 🂠, 🂠, 🂠, 🂠, 🂠, 🂠, 🂠, 🂠, 🂠, 🂠, 🂠, 🂠, 🂠, 🂠, 🂠, 🂠, 🂠, 🂠, 🂠, 🂠, 🂠, 🂠, 🂠, 🂠, 🂠, 🂠, 🂠, 🂠, 🂠]"
      ]
     },
     "metadata": {},
     "output_type": "display_data"
    }
   ],
   "source": [
    "Card.values().map { CardItem(it, false).show() }"
   ]
  },
  {
   "cell_type": "code",
   "execution_count": 127,
   "metadata": {
    "datalore": {
     "hide_input_from_viewers": false,
     "hide_output_from_viewers": false,
     "node_id": "KiXkBN5fsrIIJOEA03TEJR",
     "report_properties": {
      "rowId": "omp4vdFkt9rN7z1TunsWg2"
     },
     "type": "CODE"
    }
   },
   "outputs": [
    {
     "data": {
      "text/plain": [
       "[🂡, 🂢, 🂣, 🂤, 🂥, 🂦, 🂧, 🂨, 🂩, 🂪, 🂫, 🂭, 🂮, 🂱, 🂲, 🂳, 🂴, 🂵, 🂶, 🂷, 🂸, 🂹, 🂺, 🂻, 🂽, 🂾, 🃁, 🃂, 🃃, 🃄, 🃅, 🃆, 🃇, 🃈, 🃉, 🃊, 🃋, 🃍, 🃎, 🃑, 🃒, 🃓, 🃔, 🃕, 🃖, 🃗, 🃘, 🃙, 🃚, 🃛, 🃝, 🃞]"
      ]
     },
     "metadata": {},
     "output_type": "display_data"
    }
   ],
   "source": [
    "Card.values().map { CardItem(it, true).show() }"
   ]
  },
  {
   "cell_type": "code",
   "execution_count": 128,
   "metadata": {
    "datalore": {
     "hide_input_from_viewers": true,
     "hide_output_from_viewers": true,
     "node_id": "9V2CGGK0MEgCgK5N5KvkNF",
     "type": "CODE"
    }
   },
   "outputs": [
    {
     "data": {
      "text/plain": [
       "90"
      ]
     },
     "metadata": {},
     "output_type": "display_data"
    }
   ],
   "source": [
    "// (((100-1)-2)-3)-4\n",
    "listOf(1,2,3,4).fold(100) { acc, x -> acc - x }"
   ]
  },
  {
   "cell_type": "code",
   "execution_count": 207,
   "metadata": {
    "datalore": {
     "hide_input_from_viewers": false,
     "hide_output_from_viewers": false,
     "node_id": "26CMXcbrKS2oO074vn0L0V",
     "report_properties": {
      "rowId": "7mKTOSoeFkQAnfDAtfsWSD"
     },
     "type": "CODE"
    }
   },
   "outputs": [
    {
     "data": {
      "text/html": [
       "\n",
       "<style>\n",
       "@import url('https://fonts.googleapis.com/css2?family=Noto+Sans+Symbols+2&display=swap');\n",
       ".card {\n",
       "    display: inline; \n",
       "    font-size: 60pt; height: 62pt;\n",
       "    font-family: \"Noto Sans Symbols 2\", sans-serif;\n",
       "    background: rgba(255,255,255, 1) !important;\n",
       "}\n",
       ".deck { margin-right:-32pt; height: 65pt; }\n",
       "</style>\n"
      ]
     },
     "metadata": {},
     "output_type": "display_data"
    }
   ],
   "source": [
    "val myStyle = \"\"\"\n",
    "<style>\n",
    "@import url('https://fonts.googleapis.com/css2?family=Noto+Sans+Symbols+2&display=swap');\n",
    ".card {\n",
    "    display: inline; \n",
    "    font-size: 60pt; height: 62pt;\n",
    "    font-family: \"Noto Sans Symbols 2\", sans-serif;\n",
    "    background: rgba(255,255,255, 1) !important;\n",
    "}\n",
    ".deck { margin-right:-32pt; height: 65pt; }\n",
    "</style>\n",
    "\"\"\"\n",
    "\n",
    "HTML(myStyle)"
   ]
  },
  {
   "cell_type": "code",
   "execution_count": 208,
   "metadata": {
    "datalore": {
     "hide_input_from_viewers": false,
     "hide_output_from_viewers": false,
     "node_id": "MDSjBgZvJZM4dPvW995YqG",
     "report_properties": {
      "rowId": "nMyod7z4g90DYWhH064n1H"
     },
     "type": "CODE"
    }
   },
   "outputs": [
    {
     "data": {
      "text/html": [
       "&nbsp;<br><p>&nbsp;<br><p>\n",
       "<style>\n",
       "@import url('https://fonts.googleapis.com/css2?family=Noto+Sans+Symbols+2&display=swap');\n",
       ".card {\n",
       "    display: inline; \n",
       "    font-size: 60pt; height: 62pt;\n",
       "    font-family: \"Noto Sans Symbols 2\", sans-serif;\n",
       "    background: rgba(255,255,255, 1) !important;\n",
       "}\n",
       ".deck { margin-right:-32pt; height: 65pt; }\n",
       "</style>\n",
       "<span class='card deck'\n",
       "        style='color: black;'>🂡</span><span class='card deck'\n",
       "        style='color: black;'>🂢</span><span class='card deck'\n",
       "        style='color: black;'>🂣</span><span class='card deck'\n",
       "        style='color: black;'>🂤</span><span class='card deck'\n",
       "        style='color: black;'>🂥</span><span class='card deck'\n",
       "        style='color: black;'>🂦</span><span class='card deck'\n",
       "        style='color: black;'>🂧</span><span class='card deck'\n",
       "        style='color: black;'>🂨</span><span class='card deck'\n",
       "        style='color: black;'>🂩</span><span class='card deck'\n",
       "        style='color: black;'>🂪</span><span class='card deck'\n",
       "        style='color: black;'>🂫</span><span class='card deck'\n",
       "        style='color: black;'>🂭</span><span class='card deck'\n",
       "        style='color: black;'>🂮</span><span class='card deck'\n",
       "        style='color: red;'>🂱</span><span class='card deck'\n",
       "        style='color: red;'>🂲</span><span class='card deck'\n",
       "        style='color: red;'>🂳</span><span class='card deck'\n",
       "        style='color: red;'>🂴</span><span class='card deck'\n",
       "        style='color: red;'>🂵</span><span class='card deck'\n",
       "        style='color: red;'>🂶</span><span class='card deck'\n",
       "        style='color: red;'>🂷</span><span class='card deck'\n",
       "        style='color: red;'>🂸</span><span class='card deck'\n",
       "        style='color: red;'>🂹</span><span class='card deck'\n",
       "        style='color: red;'>🂺</span><span class='card deck'\n",
       "        style='color: red;'>🂻</span><span class='card deck'\n",
       "        style='color: red;'>🂽</span><span class='card deck'\n",
       "        style='color: red;'>🂾</span><span class='card deck'\n",
       "        style='color: red;'>🃁</span><span class='card deck'\n",
       "        style='color: red;'>🃂</span><span class='card deck'\n",
       "        style='color: red;'>🃃</span><span class='card deck'\n",
       "        style='color: red;'>🃄</span><span class='card deck'\n",
       "        style='color: red;'>🃅</span><span class='card deck'\n",
       "        style='color: red;'>🃆</span><span class='card deck'\n",
       "        style='color: red;'>🃇</span><span class='card deck'\n",
       "        style='color: red;'>🃈</span><span class='card deck'\n",
       "        style='color: red;'>🃉</span><span class='card deck'\n",
       "        style='color: red;'>🃊</span><span class='card deck'\n",
       "        style='color: red;'>🃋</span><span class='card deck'\n",
       "        style='color: red;'>🃍</span><span class='card deck'\n",
       "        style='color: red;'>🃎</span><span class='card deck'\n",
       "        style='color: black;'>🃑</span><span class='card deck'\n",
       "        style='color: black;'>🃒</span><span class='card deck'\n",
       "        style='color: black;'>🃓</span><span class='card deck'\n",
       "        style='color: black;'>🃔</span><span class='card deck'\n",
       "        style='color: black;'>🃕</span><span class='card deck'\n",
       "        style='color: black;'>🃖</span><span class='card deck'\n",
       "        style='color: black;'>🃗</span><span class='card deck'\n",
       "        style='color: black;'>🃘</span><span class='card deck'\n",
       "        style='color: black;'>🃙</span><span class='card deck'\n",
       "        style='color: black;'>🃚</span><span class='card deck'\n",
       "        style='color: black;'>🃛</span><span class='card deck'\n",
       "        style='color: black;'>🃝</span><span class='card deck'\n",
       "        style='color: black;'>🃞</span>"
      ]
     },
     "metadata": {},
     "output_type": "display_data"
    }
   ],
   "source": [
    "HTML(\"&nbsp;<br><p>&nbsp;<br><p>\" + Card.values()\n",
    "        .map { CardItem(it,true) }\n",
    "        .fold(myStyle) { acc, c -> acc +\n",
    "\"\"\"<span class='card deck'\n",
    "        style='color: ${if (c.up) c.color() else \"black\"};'>${c.show()}</span>\"\"\"\n",
    "        }\n",
    ")"
   ]
  },
  {
   "attachments": {},
   "cell_type": "markdown",
   "metadata": {
    "datalore": {
     "hide_input_from_viewers": false,
     "hide_output_from_viewers": false,
     "node_id": "xw2WPCFnz9AjxorxoSp9YE",
     "report_properties": {
      "rowId": "86GSQiRwkRafWQWHRPvFSv"
     },
     "type": "MD"
    }
   },
   "source": [
    "SPOONS게임과 비슷한 것을 작성해보자 보자\n",
    "\n",
    "참고: https://youtu.be/P5apwK711_8"
   ]
  },
  {
   "cell_type": "code",
   "execution_count": 187,
   "metadata": {
    "datalore": {
     "hide_input_from_viewers": true,
     "hide_output_from_viewers": true,
     "node_id": "9uo2kDhjtwPyMpKTM1Ml04",
     "type": "CODE"
    }
   },
   "outputs": [],
   "source": [
    "interface Deck {\n",
    "    fun size(): Int\n",
    "    fun draw(): CardItem // 덱에서 카드를 뽑기\n",
    "    fun put(c: CardItem) // 덱에 카드 c를 놓기\n",
    "}\n",
    "\n",
    "interface Player {\n",
    "    val hand: MutableList<CardItem> // 이것도 가능!!\n",
    "    fun draw(d: Deck) // 덱 d로부터 카드 하나 뽑기\n",
    "    fun put(d: Deck)  // 카드 하나를 덱 d에 놓기\n",
    "}"
   ]
  },
  {
   "cell_type": "code",
   "execution_count": 188,
   "metadata": {
    "datalore": {
     "hide_input_from_viewers": false,
     "hide_output_from_viewers": false,
     "node_id": "4mwoIxLRq0KldeOCMMLVTi",
     "report_properties": {
      "rowId": "cfKCrrz3GxmhheUrnApXv0"
     },
     "type": "CODE"
    }
   },
   "outputs": [],
   "source": [
    "class C(v: Int){\n",
    "    private var _x: Int = v\n",
    "    var x: Int\n",
    "       get() {\n",
    "           println(\"get x\")\n",
    "           return this._x\n",
    "       }\n",
    "       set(_v) {\n",
    "           println(\"set x\")\n",
    "           this._x = _v\n",
    "       }\n",
    "}"
   ]
  },
  {
   "cell_type": "code",
   "execution_count": 160,
   "metadata": {
    "datalore": {
     "hide_input_from_viewers": true,
     "hide_output_from_viewers": true,
     "node_id": "6wONz0xQxULYfRcM83KzdX",
     "type": "CODE"
    }
   },
   "outputs": [],
   "source": [
    "val c = C(3)"
   ]
  },
  {
   "cell_type": "code",
   "execution_count": 189,
   "metadata": {
    "datalore": {
     "hide_input_from_viewers": true,
     "hide_output_from_viewers": true,
     "node_id": "JnsoudojLXY68eU9jr8D3u",
     "type": "CODE"
    }
   },
   "outputs": [
    {
     "name": "stdout",
     "output_type": "stream",
     "text": [
      "get x\n"
     ]
    },
    {
     "data": {
      "text/plain": [
       "4"
      ]
     },
     "metadata": {},
     "output_type": "display_data"
    }
   ],
   "source": [
    "c.x"
   ]
  },
  {
   "cell_type": "code",
   "execution_count": 200,
   "metadata": {
    "datalore": {
     "hide_input_from_viewers": false,
     "hide_output_from_viewers": false,
     "node_id": "vgFsBA9e62RKZoQUkCnae9",
     "report_properties": {
      "rowId": "5V9duV9NHNb9JpldGoOlPr"
     },
     "type": "CODE"
    }
   },
   "outputs": [
    {
     "name": "stdout",
     "output_type": "stream",
     "text": [
      "set x\n"
     ]
    }
   ],
   "source": [
    "c.x = 4"
   ]
  },
  {
   "cell_type": "code",
   "execution_count": 201,
   "metadata": {
    "datalore": {
     "hide_input_from_viewers": false,
     "hide_output_from_viewers": false,
     "node_id": "D9QuwOaL34M8WIDcdhCg1E",
     "report_properties": {
      "rowId": "2ocGz2nugtqvBEpKHTGIxh"
     },
     "type": "CODE"
    }
   },
   "outputs": [
    {
     "name": "stdout",
     "output_type": "stream",
     "text": [
      "get x\n"
     ]
    },
    {
     "data": {
      "text/plain": [
       "4"
      ]
     },
     "metadata": {},
     "output_type": "display_data"
    }
   ],
   "source": [
    "c.x"
   ]
  },
  {
   "cell_type": "code",
   "execution_count": 191,
   "metadata": {
    "datalore": {
     "hide_input_from_viewers": false,
     "hide_output_from_viewers": false,
     "node_id": "zdNvDKZw0m8RHnRmvIRvFQ",
     "report_properties": {
      "rowId": "iBLy7DORNjOW6MpwqGH4Pc"
     },
     "type": "CODE"
    }
   },
   "outputs": [],
   "source": [
    "class D(v1: Int, v2: Int) {\n",
    "    var x: Int = v1\n",
    "    var y: Int = v2\n",
    "    val total\n",
    "        get() = this.x + this.y\n",
    "}"
   ]
  },
  {
   "cell_type": "code",
   "execution_count": 165,
   "metadata": {
    "datalore": {
     "hide_input_from_viewers": false,
     "hide_output_from_viewers": false,
     "node_id": "XxGXO7e8jWwSclD7UQHDSC",
     "report_properties": {
      "rowId": "OgsIaWM8E2RJSFoveHyoC2"
     },
     "type": "CODE"
    }
   },
   "outputs": [
    {
     "name": "stdout",
     "output_type": "stream",
     "text": [
      "3\n",
      "4\n",
      "7\n"
     ]
    }
   ],
   "source": [
    "val d = D(3,4)\n",
    "\n",
    "println( d.x )\n",
    "println( d.y )\n",
    "println( d.total )"
   ]
  },
  {
   "cell_type": "code",
   "execution_count": 192,
   "metadata": {
    "datalore": {
     "hide_input_from_viewers": false,
     "hide_output_from_viewers": false,
     "node_id": "wznPe26VtD9YW1zFcl1Mxq",
     "report_properties": {
      "rowId": "EmIfsFZ7bMcIl3ZmtKO2ZC"
     },
     "type": "CODE"
    }
   },
   "outputs": [
    {
     "name": "stdout",
     "output_type": "stream",
     "text": [
      "10\n",
      "4\n",
      "14\n"
     ]
    }
   ],
   "source": [
    "d.x = 10\n",
    "\n",
    "println( d.x )\n",
    "println( d.y )\n",
    "println( d.total )"
   ]
  },
  {
   "cell_type": "code",
   "execution_count": 193,
   "metadata": {
    "datalore": {
     "hide_input_from_viewers": false,
     "hide_output_from_viewers": false,
     "node_id": "T7DGMO8gS4bQ4rifvCy7Uu",
     "report_properties": {
      "rowId": "ZYxTdOf93bVlUf4QOfiF9M"
     },
     "type": "CODE"
    }
   },
   "outputs": [
    {
     "data": {
      "text/plain": [
       "class kotlin.Array"
      ]
     },
     "metadata": {},
     "output_type": "display_data"
    }
   ],
   "source": [
    "Card.values()::class"
   ]
  },
  {
   "cell_type": "code",
   "execution_count": 202,
   "metadata": {
    "datalore": {
     "hide_input_from_viewers": false,
     "hide_output_from_viewers": false,
     "node_id": "0fw5pDpiDuXUSIyyn2UBlA",
     "report_properties": {
      "rowId": "cSzi5ow9i2fIiMwZNMQNgb"
     },
     "type": "CODE"
    }
   },
   "outputs": [
    {
     "name": "stdout",
     "output_type": "stream",
     "text": [
      "[SA, S2, S3, S4, S5, S6, S7, S8, S9, S0, SJ, SQ, SK, HA, H2, H3, H4, H5, H6, H7, H8, H9, H0, HJ, HQ, HK, DA, D2, D3, D4, D5, D6, D7, D8, D9, D0, DJ, DQ, DK, CA, C2, C3, C4, C5, C6, C7, C8, C9, C0, CJ, CQ, CK]"
     ]
    }
   ],
   "source": [
    "val cl: List<Card> = Card.values().asList() // 불변 리스트\n",
    "\n",
    "print(cl)"
   ]
  },
  {
   "cell_type": "code",
   "execution_count": 210,
   "metadata": {
    "datalore": {
     "hide_input_from_viewers": false,
     "hide_output_from_viewers": false,
     "node_id": "WCx9cEpSpm2mMfMcZzrw80",
     "report_properties": {
      "rowId": "RiEqjs4cFykZ2GorrJjqqW"
     },
     "type": "CODE"
    }
   },
   "outputs": [
    {
     "data": {
      "text/html": [
       "&nbsp;<br><p>&nbsp;<br><p>\n",
       "<style>\n",
       "@import url('https://fonts.googleapis.com/css2?family=Noto+Sans+Symbols+2&display=swap');\n",
       ".card {\n",
       "    display: inline; \n",
       "    font-size: 60pt; height: 62pt;\n",
       "    font-family: \"Noto Sans Symbols 2\", sans-serif;\n",
       "    background: rgba(255,255,255, 1) !important;\n",
       "}\n",
       ".deck { margin-right:-32pt; height: 65pt; }\n",
       "</style>\n",
       "<span class='card deck'\n",
       "            style='color: black;'>🃘</span><span class='card deck'\n",
       "            style='color: black;'>🃗</span><span class='card deck'\n",
       "            style='color: red;'>🂺</span><span class='card deck'\n",
       "            style='color: red;'>🂳</span><span class='card deck'\n",
       "            style='color: red;'>🃃</span><span class='card deck'\n",
       "            style='color: red;'>🂽</span><span class='card deck'\n",
       "            style='color: black;'>🂨</span><span class='card deck'\n",
       "            style='color: black;'>🂤</span><span class='card deck'\n",
       "            style='color: red;'>🃉</span><span class='card deck'\n",
       "            style='color: black;'>🃕</span><span class='card deck'\n",
       "            style='color: black;'>🃑</span><span class='card deck'\n",
       "            style='color: red;'>🂵</span><span class='card deck'\n",
       "            style='color: black;'>🂢</span><span class='card deck'\n",
       "            style='color: red;'>🂶</span><span class='card deck'\n",
       "            style='color: black;'>🂦</span><span class='card deck'\n",
       "            style='color: black;'>🂥</span><span class='card deck'\n",
       "            style='color: black;'>🂡</span><span class='card deck'\n",
       "            style='color: black;'>🃖</span><span class='card deck'\n",
       "            style='color: red;'>🂱</span><span class='card deck'\n",
       "            style='color: red;'>🂻</span><span class='card deck'\n",
       "            style='color: black;'>🃝</span><span class='card deck'\n",
       "            style='color: red;'>🃁</span><span class='card deck'\n",
       "            style='color: red;'>🃅</span><span class='card deck'\n",
       "            style='color: red;'>🃂</span><span class='card deck'\n",
       "            style='color: red;'>🃍</span><span class='card deck'\n",
       "            style='color: red;'>🃄</span><span class='card deck'\n",
       "            style='color: black;'>🃔</span><span class='card deck'\n",
       "            style='color: red;'>🃊</span><span class='card deck'\n",
       "            style='color: red;'>🃋</span><span class='card deck'\n",
       "            style='color: red;'>🃆</span><span class='card deck'\n",
       "            style='color: black;'>🂣</span><span class='card deck'\n",
       "            style='color: red;'>🃈</span><span class='card deck'\n",
       "            style='color: black;'>🂮</span><span class='card deck'\n",
       "            style='color: red;'>🂹</span><span class='card deck'\n",
       "            style='color: red;'>🂴</span><span class='card deck'\n",
       "            style='color: black;'>🃙</span><span class='card deck'\n",
       "            style='color: black;'>🃞</span><span class='card deck'\n",
       "            style='color: red;'>🂲</span><span class='card deck'\n",
       "            style='color: red;'>🃎</span><span class='card deck'\n",
       "            style='color: black;'>🃛</span><span class='card deck'\n",
       "            style='color: red;'>🃇</span><span class='card deck'\n",
       "            style='color: black;'>🃚</span><span class='card deck'\n",
       "            style='color: black;'>🂪</span><span class='card deck'\n",
       "            style='color: black;'>🂧</span><span class='card deck'\n",
       "            style='color: black;'>🃒</span><span class='card deck'\n",
       "            style='color: red;'>🂸</span><span class='card deck'\n",
       "            style='color: red;'>🂷</span><span class='card deck'\n",
       "            style='color: black;'>🂫</span><span class='card deck'\n",
       "            style='color: black;'>🃓</span><span class='card deck'\n",
       "            style='color: black;'>🂩</span><span class='card deck'\n",
       "            style='color: black;'>🂭</span><span class='card deck'\n",
       "            style='color: red;'>🂾</span>"
      ]
     },
     "metadata": {},
     "output_type": "display_data"
    }
   ],
   "source": [
    "HTML(\"&nbsp;<br><p>&nbsp;<br><p>\" +\n",
    "    cl.shuffled() // cl과는 별도의 새로운 리스트가 만들어짐\n",
    "        .map { CardItem(it,true) }\n",
    "        .fold(myStyle) { acc, c -> acc +\"\"\"<span class='card deck'\n",
    "            style='color: ${if (c.up) c.color() else \"black\"};'>${c.show()}</span>\"\"\"\n",
    "        }\n",
    ")"
   ]
  },
  {
   "cell_type": "code",
   "execution_count": 195,
   "metadata": {
    "datalore": {
     "hide_input_from_viewers": false,
     "hide_output_from_viewers": false,
     "node_id": "V9MWDH3ZYWZuswuxg5XTSE",
     "report_properties": {
      "rowId": "NeN379qchw9AYhbME5Nyaj"
     },
     "type": "CODE"
    }
   },
   "outputs": [
    {
     "name": "stdout",
     "output_type": "stream",
     "text": [
      "[SA, S2, S3, S4, S5, S6, S7, S8, S9, S0, SJ, SQ, SK, HA, H2, H3, H4, H5, H6, H7, H8, H9, H0, HJ, HQ, HK, DA, D2, D3, D4, D5, D6, D7, D8, D9, D0, DJ, DQ, DK, CA, C2, C3, C4, C5, C6, C7, C8, C9, C0, CJ, CQ, CK]"
     ]
    }
   ],
   "source": [
    "print(cl) // 내용 그대로"
   ]
  },
  {
   "cell_type": "code",
   "execution_count": 196,
   "metadata": {
    "datalore": {
     "hide_input_from_viewers": false,
     "hide_output_from_viewers": false,
     "node_id": "Q2rVqEWqPK1aPZeC1ZgO5b",
     "report_properties": {
      "rowId": "7HRnoUtdjrhCEZ8k07wonK"
     },
     "type": "CODE"
    }
   },
   "outputs": [
    {
     "name": "stdout",
     "output_type": "stream",
     "text": [
      "[SA, S2, S3, S4, S5, S6, S7, S8, S9, S0, SJ, SQ, SK, HA, H2, H3, H4, H5, H6, H7, H8, H9, H0, HJ, HQ, HK, DA, D2, D3, D4, D5, D6, D7, D8, D9, D0, DJ, DQ, DK, CA, C2, C3, C4, C5, C6, C7, C8, C9, C0, CJ, CQ, CK]"
     ]
    }
   ],
   "source": [
    "val mcl: MutableList<Card> = Card.values().toMutableList() // 가변 리스트\n",
    "print( mcl )"
   ]
  },
  {
   "cell_type": "code",
   "execution_count": 211,
   "metadata": {
    "datalore": {
     "hide_input_from_viewers": false,
     "hide_output_from_viewers": false,
     "node_id": "Jq2diN6KwXwRJo6xdnwJ1u",
     "report_properties": {
      "rowId": "8eWbOqVOaywsS501Y0XnPv"
     },
     "type": "CODE"
    }
   },
   "outputs": [
    {
     "name": "stdout",
     "output_type": "stream",
     "text": [
      "[S5, H8, H2, C7, S6, H6, D0, SA, DK, HA, SK, CA, D3, HK, DJ, D7, C4, SJ, D8, S7, DQ, D4, HQ, CQ, DA, S8, H4, S0, HJ, C9, C6, S2, S4, C3, H7, D5, C0, S9, S3, CK, D6, H5, H9, C2, D9, H0, C5, H3, D2, CJ, SQ, C8]\n"
     ]
    },
    {
     "data": {
      "text/html": [
       "&nbsp;<br><p>&nbsp;<br><p>\n",
       "<style>\n",
       "@import url('https://fonts.googleapis.com/css2?family=Noto+Sans+Symbols+2&display=swap');\n",
       ".card {\n",
       "    display: inline; \n",
       "    font-size: 60pt; height: 62pt;\n",
       "    font-family: \"Noto Sans Symbols 2\", sans-serif;\n",
       "    background: rgba(255,255,255, 1) !important;\n",
       "}\n",
       ".deck { margin-right:-32pt; height: 65pt; }\n",
       "</style>\n",
       "<span class='card deck'\n",
       "            style='color: black;'>🂥</span><span class='card deck'\n",
       "            style='color: red;'>🂸</span><span class='card deck'\n",
       "            style='color: red;'>🂲</span><span class='card deck'\n",
       "            style='color: black;'>🃗</span><span class='card deck'\n",
       "            style='color: black;'>🂦</span><span class='card deck'\n",
       "            style='color: red;'>🂶</span><span class='card deck'\n",
       "            style='color: red;'>🃊</span><span class='card deck'\n",
       "            style='color: black;'>🂡</span><span class='card deck'\n",
       "            style='color: red;'>🃎</span><span class='card deck'\n",
       "            style='color: red;'>🂱</span><span class='card deck'\n",
       "            style='color: black;'>🂮</span><span class='card deck'\n",
       "            style='color: black;'>🃑</span><span class='card deck'\n",
       "            style='color: red;'>🃃</span><span class='card deck'\n",
       "            style='color: red;'>🂾</span><span class='card deck'\n",
       "            style='color: red;'>🃋</span><span class='card deck'\n",
       "            style='color: red;'>🃇</span><span class='card deck'\n",
       "            style='color: black;'>🃔</span><span class='card deck'\n",
       "            style='color: black;'>🂫</span><span class='card deck'\n",
       "            style='color: red;'>🃈</span><span class='card deck'\n",
       "            style='color: black;'>🂧</span><span class='card deck'\n",
       "            style='color: red;'>🃍</span><span class='card deck'\n",
       "            style='color: red;'>🃄</span><span class='card deck'\n",
       "            style='color: red;'>🂽</span><span class='card deck'\n",
       "            style='color: black;'>🃝</span><span class='card deck'\n",
       "            style='color: red;'>🃁</span><span class='card deck'\n",
       "            style='color: black;'>🂨</span><span class='card deck'\n",
       "            style='color: red;'>🂴</span><span class='card deck'\n",
       "            style='color: black;'>🂪</span><span class='card deck'\n",
       "            style='color: red;'>🂻</span><span class='card deck'\n",
       "            style='color: black;'>🃙</span><span class='card deck'\n",
       "            style='color: black;'>🃖</span><span class='card deck'\n",
       "            style='color: black;'>🂢</span><span class='card deck'\n",
       "            style='color: black;'>🂤</span><span class='card deck'\n",
       "            style='color: black;'>🃓</span><span class='card deck'\n",
       "            style='color: red;'>🂷</span><span class='card deck'\n",
       "            style='color: red;'>🃅</span><span class='card deck'\n",
       "            style='color: black;'>🃚</span><span class='card deck'\n",
       "            style='color: black;'>🂩</span><span class='card deck'\n",
       "            style='color: black;'>🂣</span><span class='card deck'\n",
       "            style='color: black;'>🃞</span><span class='card deck'\n",
       "            style='color: red;'>🃆</span><span class='card deck'\n",
       "            style='color: red;'>🂵</span><span class='card deck'\n",
       "            style='color: red;'>🂹</span><span class='card deck'\n",
       "            style='color: black;'>🃒</span><span class='card deck'\n",
       "            style='color: red;'>🃉</span><span class='card deck'\n",
       "            style='color: red;'>🂺</span><span class='card deck'\n",
       "            style='color: black;'>🃕</span><span class='card deck'\n",
       "            style='color: red;'>🂳</span><span class='card deck'\n",
       "            style='color: red;'>🃂</span><span class='card deck'\n",
       "            style='color: black;'>🃛</span><span class='card deck'\n",
       "            style='color: black;'>🂭</span><span class='card deck'\n",
       "            style='color: black;'>🃘</span>"
      ]
     },
     "metadata": {},
     "output_type": "display_data"
    }
   ],
   "source": [
    "mcl.shuffle()\n",
    "\n",
    "println( mcl ) // mcl의 내용이 바뀜\n",
    "\n",
    "HTML(\"&nbsp;<br><p>&nbsp;<br><p>\" +\n",
    "    mcl.map { CardItem(it,true) }\n",
    "        .fold(myStyle) { acc, c -> acc +\"\"\"<span class='card deck'\n",
    "            style='color: ${if (c.up) c.color() else \"black\"};'>${c.show()}</span>\"\"\"\n",
    "        }\n",
    ")"
   ]
  },
  {
   "cell_type": "code",
   "execution_count": 227,
   "metadata": {
    "datalore": {
     "hide_input_from_viewers": false,
     "hide_output_from_viewers": false,
     "node_id": "IPFH9yX21fC9qAluf45m6k",
     "report_properties": {
      "rowId": "6PL3oc5rK7P4JjqpTGBULq"
     },
     "type": "CODE"
    }
   },
   "outputs": [
    {
     "data": {
      "text/html": [
       "\n",
       "<style>\n",
       "@import url('https://fonts.googleapis.com/css2?family=Noto+Sans+Symbols+2&display=swap');\n",
       ".card {\n",
       "    display: inline; \n",
       "    font-size: 60pt; height: 62pt;\n",
       "    font-family: \"Noto Sans Symbols 2\", sans-serif;\n",
       "    background: rgba(255,255,255, 1) !important;\n",
       "}\n",
       ".deck { margin-right:-32pt; height: 65pt; }\n",
       "</style>\n",
       "&nbsp;<br><p>&nbsp;<br><p>Deck0:<span class='card deck'\n",
       "            style='color: red;'>🃈</span><span class='card deck'\n",
       "            style='color: black;'>🃑</span><span class='card deck'\n",
       "            style='color: red;'>🂵</span><span class='card deck'\n",
       "            style='color: red;'>🃉</span><span class='card deck'\n",
       "            style='color: black;'>🃕</span><span class='card deck'\n",
       "            style='color: black;'>🃞</span><span class='card deck'\n",
       "            style='color: black;'>🃚</span><span class='card deck'\n",
       "            style='color: red;'>🃃</span><span class='card deck'\n",
       "            style='color: red;'>🃄</span><span class='card deck'\n",
       "            style='color: red;'>🂶</span><span class='card deck'\n",
       "            style='color: black;'>🂦</span><span class='card deck'\n",
       "            style='color: red;'>🂽</span><span class='card deck'\n",
       "            style='color: red;'>🃇</span><span class='card deck'\n",
       "            style='color: black;'>🂤</span><span class='card deck'\n",
       "            style='color: red;'>🂳</span><span class='card deck'\n",
       "            style='color: red;'>🃂</span><span class='card deck'\n",
       "            style='color: black;'>🃖</span><span class='card deck'\n",
       "            style='color: black;'>🃛</span><span class='card deck'\n",
       "            style='color: black;'>🃗</span><span class='card deck'\n",
       "            style='color: black;'>🂫</span><span class='card deck'\n",
       "            style='color: red;'>🃋</span><span class='card deck'\n",
       "            style='color: red;'>🂾</span><span class='card deck'\n",
       "            style='color: black;'>🂡</span><span class='card deck'\n",
       "            style='color: black;'>🂣</span><span class='card deck'\n",
       "            style='color: red;'>🃅</span><span class='card deck'\n",
       "            style='color: black;'>🂮</span><span class='card deck'\n",
       "            style='color: black;'>🂥</span><span class='card deck'\n",
       "            style='color: red;'>🃍</span><span class='card deck'\n",
       "            style='color: black;'>🃔</span><span class='card deck'\n",
       "            style='color: red;'>🂹</span><span class='card deck'\n",
       "            style='color: red;'>🂱</span><span class='card deck'\n",
       "            style='color: red;'>🂷</span><span class='card deck'\n",
       "            style='color: black;'>🂪</span><span class='card deck'\n",
       "            style='color: black;'>🃙</span><span class='card deck'\n",
       "            style='color: red;'>🂲</span><span class='card deck'\n",
       "            style='color: red;'>🂴</span><span class='card deck'\n",
       "            style='color: red;'>🂻</span><span class='card deck'\n",
       "            style='color: black;'>🃘</span><span class='card deck'\n",
       "            style='color: red;'>🂺</span><span class='card deck'\n",
       "            style='color: red;'>🃊</span><span class='card deck'\n",
       "            style='color: red;'>🃁</span><span class='card deck'\n",
       "            style='color: black;'>🂨</span><span class='card deck'\n",
       "            style='color: black;'>🂭</span><span class='card deck'\n",
       "            style='color: red;'>🃆</span><span class='card deck'\n",
       "            style='color: black;'>🃒</span><span class='card deck'\n",
       "            style='color: black;'>🂩</span><span class='card deck'\n",
       "            style='color: red;'>🂸</span><span class='card deck'\n",
       "            style='color: black;'>🃝</span><span class='card deck'\n",
       "            style='color: black;'>🂢</span><span class='card deck'\n",
       "            style='color: black;'>🃓</span><span class='card deck'\n",
       "            style='color: red;'>🃎</span><span class='card deck'\n",
       "            style='color: black;'>🂧</span>&nbsp;<br><p>&nbsp;<br><p><div>Player0 <span class='card'>🂡</span><span class='card' style='color:red;'>🂱</span><span class='card' style='color:red;'>🃁</span><span class='card'>🃑</span></div>&nbsp;<br><p>&nbsp;<br><p>Deck1:<span class='card deck'\n",
       "            style='color: black;'>🃕</span><span class='card deck'\n",
       "            style='color: red;'>🂾</span><span class='card deck'\n",
       "            style='color: black;'>🂦</span><span class='card deck'\n",
       "            style='color: red;'>🃎</span><span class='card deck'\n",
       "            style='color: black;'>🂨</span><span class='card deck'\n",
       "            style='color: black;'>🂣</span><span class='card deck'\n",
       "            style='color: red;'>🂳</span><span class='card deck'\n",
       "            style='color: red;'>🃇</span><span class='card deck'\n",
       "            style='color: red;'>🂶</span><span class='card deck'\n",
       "            style='color: red;'>🃉</span><span class='card deck'\n",
       "            style='color: red;'>🂵</span><span class='card deck'\n",
       "            style='color: black;'>🃞</span><span class='card deck'\n",
       "            style='color: black;'>🂩</span><span class='card deck'\n",
       "            style='color: black;'>🂪</span><span class='card deck'\n",
       "            style='color: black;'>🂢</span><span class='card deck'\n",
       "            style='color: red;'>🃋</span><span class='card deck'\n",
       "            style='color: black;'>🂥</span><span class='card deck'\n",
       "            style='color: black;'>🂮</span><span class='card deck'\n",
       "            style='color: black;'>🃑</span><span class='card deck'\n",
       "            style='color: black;'>🃒</span><span class='card deck'\n",
       "            style='color: red;'>🂻</span><span class='card deck'\n",
       "            style='color: red;'>🃅</span><span class='card deck'\n",
       "            style='color: black;'>🃛</span><span class='card deck'\n",
       "            style='color: red;'>🃊</span><span class='card deck'\n",
       "            style='color: red;'>🂸</span><span class='card deck'\n",
       "            style='color: red;'>🃃</span><span class='card deck'\n",
       "            style='color: black;'>🃖</span><span class='card deck'\n",
       "            style='color: red;'>🂱</span><span class='card deck'\n",
       "            style='color: red;'>🃈</span><span class='card deck'\n",
       "            style='color: red;'>🂷</span><span class='card deck'\n",
       "            style='color: black;'>🃚</span><span class='card deck'\n",
       "            style='color: black;'>🃝</span><span class='card deck'\n",
       "            style='color: red;'>🂽</span><span class='card deck'\n",
       "            style='color: black;'>🂡</span><span class='card deck'\n",
       "            style='color: black;'>🃓</span><span class='card deck'\n",
       "            style='color: red;'>🂴</span><span class='card deck'\n",
       "            style='color: red;'>🃄</span><span class='card deck'\n",
       "            style='color: red;'>🂲</span><span class='card deck'\n",
       "            style='color: black;'>🃔</span><span class='card deck'\n",
       "            style='color: black;'>🃗</span><span class='card deck'\n",
       "            style='color: red;'>🃂</span><span class='card deck'\n",
       "            style='color: red;'>🃁</span><span class='card deck'\n",
       "            style='color: red;'>🂺</span><span class='card deck'\n",
       "            style='color: black;'>🂧</span><span class='card deck'\n",
       "            style='color: black;'>🃙</span><span class='card deck'\n",
       "            style='color: black;'>🂤</span><span class='card deck'\n",
       "            style='color: black;'>🂭</span><span class='card deck'\n",
       "            style='color: red;'>🃍</span><span class='card deck'\n",
       "            style='color: red;'>🂹</span><span class='card deck'\n",
       "            style='color: black;'>🃘</span><span class='card deck'\n",
       "            style='color: black;'>🂫</span><span class='card deck'\n",
       "            style='color: red;'>🃆</span>&nbsp;<br><p>&nbsp;<br><p><div>Player1 <span class='card'>🂡</span><span class='card' style='color:red;'>🂱</span><span class='card' style='color:red;'>🃁</span><span class='card'>🃑</span></div>&nbsp;<br><p>&nbsp;<br><p>Deck2:<span class='card deck'\n",
       "            style='color: black;'>🂥</span><span class='card deck'\n",
       "            style='color: black;'>🂫</span><span class='card deck'\n",
       "            style='color: red;'>🃁</span><span class='card deck'\n",
       "            style='color: black;'>🂧</span><span class='card deck'\n",
       "            style='color: black;'>🂦</span><span class='card deck'\n",
       "            style='color: red;'>🃉</span><span class='card deck'\n",
       "            style='color: black;'>🂢</span><span class='card deck'\n",
       "            style='color: red;'>🃋</span><span class='card deck'\n",
       "            style='color: red;'>🃄</span><span class='card deck'\n",
       "            style='color: red;'>🂹</span><span class='card deck'\n",
       "            style='color: black;'>🃝</span><span class='card deck'\n",
       "            style='color: red;'>🃆</span><span class='card deck'\n",
       "            style='color: red;'>🃎</span><span class='card deck'\n",
       "            style='color: black;'>🃙</span><span class='card deck'\n",
       "            style='color: black;'>🃘</span><span class='card deck'\n",
       "            style='color: black;'>🂣</span><span class='card deck'\n",
       "            style='color: red;'>🃈</span><span class='card deck'\n",
       "            style='color: red;'>🂳</span><span class='card deck'\n",
       "            style='color: red;'>🃇</span><span class='card deck'\n",
       "            style='color: red;'>🂻</span><span class='card deck'\n",
       "            style='color: black;'>🃖</span><span class='card deck'\n",
       "            style='color: red;'>🂷</span><span class='card deck'\n",
       "            style='color: black;'>🃕</span><span class='card deck'\n",
       "            style='color: red;'>🃅</span><span class='card deck'\n",
       "            style='color: black;'>🂤</span><span class='card deck'\n",
       "            style='color: red;'>🂶</span><span class='card deck'\n",
       "            style='color: black;'>🂪</span><span class='card deck'\n",
       "            style='color: red;'>🂵</span><span class='card deck'\n",
       "            style='color: black;'>🃞</span><span class='card deck'\n",
       "            style='color: red;'>🂾</span><span class='card deck'\n",
       "            style='color: red;'>🃃</span><span class='card deck'\n",
       "            style='color: black;'>🃗</span><span class='card deck'\n",
       "            style='color: red;'>🂱</span><span class='card deck'\n",
       "            style='color: black;'>🃑</span><span class='card deck'\n",
       "            style='color: red;'>🂲</span><span class='card deck'\n",
       "            style='color: red;'>🃊</span><span class='card deck'\n",
       "            style='color: red;'>🂴</span><span class='card deck'\n",
       "            style='color: red;'>🂽</span><span class='card deck'\n",
       "            style='color: red;'>🂺</span><span class='card deck'\n",
       "            style='color: black;'>🃚</span><span class='card deck'\n",
       "            style='color: black;'>🃓</span><span class='card deck'\n",
       "            style='color: black;'>🂩</span><span class='card deck'\n",
       "            style='color: black;'>🂡</span><span class='card deck'\n",
       "            style='color: black;'>🃒</span><span class='card deck'\n",
       "            style='color: black;'>🃔</span><span class='card deck'\n",
       "            style='color: black;'>🂨</span><span class='card deck'\n",
       "            style='color: black;'>🃛</span><span class='card deck'\n",
       "            style='color: black;'>🂭</span><span class='card deck'\n",
       "            style='color: black;'>🂮</span><span class='card deck'\n",
       "            style='color: red;'>🃍</span><span class='card deck'\n",
       "            style='color: red;'>🃂</span><span class='card deck'\n",
       "            style='color: red;'>🂸</span>&nbsp;<br><p>&nbsp;<br><p><div>Player2 <span class='card'>🂡</span><span class='card' style='color:red;'>🂱</span><span class='card' style='color:red;'>🃁</span><span class='card'>🃑</span></div>&nbsp;<br><p>&nbsp;<br><p>Deck3:<span class='card deck'\n",
       "            style='color: red;'>🃉</span><span class='card deck'\n",
       "            style='color: red;'>🂴</span><span class='card deck'\n",
       "            style='color: black;'>🂢</span><span class='card deck'\n",
       "            style='color: red;'>🃍</span><span class='card deck'\n",
       "            style='color: red;'>🃎</span><span class='card deck'\n",
       "            style='color: red;'>🂳</span><span class='card deck'\n",
       "            style='color: black;'>🃒</span><span class='card deck'\n",
       "            style='color: black;'>🃘</span><span class='card deck'\n",
       "            style='color: black;'>🂡</span><span class='card deck'\n",
       "            style='color: red;'>🂲</span><span class='card deck'\n",
       "            style='color: black;'>🂫</span><span class='card deck'\n",
       "            style='color: black;'>🃓</span><span class='card deck'\n",
       "            style='color: red;'>🃅</span><span class='card deck'\n",
       "            style='color: red;'>🃇</span><span class='card deck'\n",
       "            style='color: red;'>🂸</span><span class='card deck'\n",
       "            style='color: red;'>🂺</span><span class='card deck'\n",
       "            style='color: red;'>🂹</span><span class='card deck'\n",
       "            style='color: black;'>🃖</span><span class='card deck'\n",
       "            style='color: red;'>🃊</span><span class='card deck'\n",
       "            style='color: black;'>🂭</span><span class='card deck'\n",
       "            style='color: red;'>🂶</span><span class='card deck'\n",
       "            style='color: red;'>🃈</span><span class='card deck'\n",
       "            style='color: black;'>🃞</span><span class='card deck'\n",
       "            style='color: red;'>🂻</span><span class='card deck'\n",
       "            style='color: black;'>🃝</span><span class='card deck'\n",
       "            style='color: red;'>🂷</span><span class='card deck'\n",
       "            style='color: black;'>🂣</span><span class='card deck'\n",
       "            style='color: red;'>🃂</span><span class='card deck'\n",
       "            style='color: black;'>🂨</span><span class='card deck'\n",
       "            style='color: red;'>🃋</span><span class='card deck'\n",
       "            style='color: red;'>🃆</span><span class='card deck'\n",
       "            style='color: black;'>🃔</span><span class='card deck'\n",
       "            style='color: black;'>🂮</span><span class='card deck'\n",
       "            style='color: black;'>🂧</span><span class='card deck'\n",
       "            style='color: black;'>🃗</span><span class='card deck'\n",
       "            style='color: black;'>🃛</span><span class='card deck'\n",
       "            style='color: black;'>🂥</span><span class='card deck'\n",
       "            style='color: black;'>🂦</span><span class='card deck'\n",
       "            style='color: red;'>🂱</span><span class='card deck'\n",
       "            style='color: black;'>🂩</span><span class='card deck'\n",
       "            style='color: red;'>🃄</span><span class='card deck'\n",
       "            style='color: black;'>🃑</span><span class='card deck'\n",
       "            style='color: black;'>🃙</span><span class='card deck'\n",
       "            style='color: red;'>🂵</span><span class='card deck'\n",
       "            style='color: black;'>🃚</span><span class='card deck'\n",
       "            style='color: red;'>🃁</span><span class='card deck'\n",
       "            style='color: black;'>🂤</span><span class='card deck'\n",
       "            style='color: black;'>🃕</span><span class='card deck'\n",
       "            style='color: red;'>🂾</span><span class='card deck'\n",
       "            style='color: red;'>🃃</span><span class='card deck'\n",
       "            style='color: black;'>🂪</span><span class='card deck'\n",
       "            style='color: red;'>🂽</span>&nbsp;<br><p>&nbsp;<br><p><div>Player3 <span class='card'>🂡</span><span class='card' style='color:red;'>🂱</span><span class='card' style='color:red;'>🃁</span><span class='card'>🃑</span></div>&nbsp;<br><p>&emsp;&emsp;&emsp;&nbsp;last player puts its card to Deck0"
      ]
     },
     "metadata": {},
     "output_type": "display_data"
    }
   ],
   "source": [
    "val dummyPlayerSampleHTMLcode = { n:Int ->\n",
    "    \"Player${n} \" +\n",
    "    \"<span class='card'>${Card.SA.face}</span>\" +\n",
    "    \"<span class='card' style='color:red;'>${Card.HA.face}</span>\" +\n",
    "    \"<span class='card' style='color:red;'>${Card.DA.face}</span>\" +\n",
    "    \"<span class='card'>${Card.CA.face}</span>\"\n",
    "}\n",
    "    \n",
    "HTML( myStyle + \"&nbsp;<br><p>&nbsp;<br><p>\" +\n",
    "    Card.values().asList().shuffled()\n",
    "        .map { CardItem(it,true) }\n",
    "        .fold(\"Deck0:\") { acc, c -> acc +\"\"\"<span class='card deck'\n",
    "            style='color: ${if (c.up) c.color() else \"black\"};'>${c.show()}</span>\"\"\"\n",
    "        } + \"&nbsp;<br><p>&nbsp;<br><p>\" + \"<div>${dummyPlayerSampleHTMLcode(0)}</div>\" + \"&nbsp;<br><p>&nbsp;<br><p>\" +\n",
    "    Card.values().asList().shuffled()\n",
    "        .map { CardItem(it,true) }\n",
    "        .fold(\"Deck1:\") { acc, c -> acc +\"\"\"<span class='card deck'\n",
    "            style='color: ${if (c.up) c.color() else \"black\"};'>${c.show()}</span>\"\"\"\n",
    "        } + \"&nbsp;<br><p>&nbsp;<br><p>\" + \"<div>${dummyPlayerSampleHTMLcode(1)}</div>\" + \"&nbsp;<br><p>&nbsp;<br><p>\" +\n",
    "    Card.values().asList().shuffled()\n",
    "        .map { CardItem(it,true) }\n",
    "        .fold(\"Deck2:\") { acc, c -> acc +\"\"\"<span class='card deck'\n",
    "            style='color: ${if (c.up) c.color() else \"black\"};'>${c.show()}</span>\"\"\"\n",
    "        } + \"&nbsp;<br><p>&nbsp;<br><p>\" + \"<div>${dummyPlayerSampleHTMLcode(2)}</div>\" + \"&nbsp;<br><p>&nbsp;<br><p>\" +\n",
    "    Card.values().asList().shuffled()\n",
    "        .map { CardItem(it,true) }\n",
    "        .fold(\"Deck3:\")  { acc, c -> acc +\"\"\"<span class='card deck'\n",
    "            style='color: ${if (c.up) c.color() else \"black\"};'>${c.show()}</span>\"\"\"\n",
    "        } + \"&nbsp;<br><p>&nbsp;<br><p>\" + \"<div>${dummyPlayerSampleHTMLcode(3)}</div>\" + \"&nbsp;<br><p>\"\n",
    "    + \"&emsp;&emsp;&emsp;&nbsp;last player puts its card to Deck0\"\n",
    ")"
   ]
  },
  {
   "cell_type": "code",
   "execution_count": 228,
   "metadata": {
    "datalore": {
     "hide_input_from_viewers": false,
     "hide_output_from_viewers": false,
     "node_id": "x42uKjzRPXG4jX9K5Q4wk5",
     "report_properties": {
      "rowId": "uk3aMe1qbG6DXnqn4jlYB6"
     },
     "type": "CODE"
    }
   },
   "outputs": [
    {
     "data": {
      "text/html": [
       "&nbsp;<br><p>&nbsp;<br><p>\n",
       "<style>\n",
       "@import url('https://fonts.googleapis.com/css2?family=Noto+Sans+Symbols+2&display=swap');\n",
       ".card {\n",
       "    display: inline; \n",
       "    font-size: 60pt; height: 62pt;\n",
       "    font-family: \"Noto Sans Symbols 2\", sans-serif;\n",
       "    background: rgba(255,255,255, 1) !important;\n",
       "}\n",
       ".deck { margin-right:-32pt; height: 65pt; }\n",
       "</style>\n",
       "<span class='card deck'\n",
       "            style='color: black;'>🂡</span><span class='card deck'\n",
       "            style='color: black;'>🂢</span><span class='card deck'\n",
       "            style='color: black;'>🂣</span><span class='card deck'\n",
       "            style='color: black;'>🂤</span><span class='card deck'\n",
       "            style='color: black;'>🂥</span><span class='card deck'\n",
       "            style='color: black;'>🂦</span><span class='card deck'\n",
       "            style='color: black;'>🂧</span><span class='card deck'\n",
       "            style='color: black;'>🂨</span><span class='card deck'\n",
       "            style='color: black;'>🂩</span><span class='card deck'\n",
       "            style='color: black;'>🂪</span><span class='card deck'\n",
       "            style='color: black;'>🂫</span><span class='card deck'\n",
       "            style='color: black;'>🂭</span><span class='card deck'\n",
       "            style='color: black;'>🂮</span><span class='card deck'\n",
       "            style='color: red;'>🂱</span><span class='card deck'\n",
       "            style='color: red;'>🂲</span><span class='card deck'\n",
       "            style='color: red;'>🂳</span><span class='card deck'\n",
       "            style='color: red;'>🂴</span><span class='card deck'\n",
       "            style='color: red;'>🂵</span><span class='card deck'\n",
       "            style='color: red;'>🂶</span><span class='card deck'\n",
       "            style='color: red;'>🂷</span><span class='card deck'\n",
       "            style='color: red;'>🂸</span><span class='card deck'\n",
       "            style='color: red;'>🂹</span><span class='card deck'\n",
       "            style='color: red;'>🂺</span><span class='card deck'\n",
       "            style='color: red;'>🂻</span><span class='card deck'\n",
       "            style='color: red;'>🂽</span><span class='card deck'\n",
       "            style='color: red;'>🂾</span><span class='card deck'\n",
       "            style='color: red;'>🃁</span><span class='card deck'\n",
       "            style='color: red;'>🃂</span><span class='card deck'\n",
       "            style='color: red;'>🃃</span><span class='card deck'\n",
       "            style='color: red;'>🃄</span><span class='card deck'\n",
       "            style='color: red;'>🃅</span><span class='card deck'\n",
       "            style='color: red;'>🃆</span><span class='card deck'\n",
       "            style='color: red;'>🃇</span><span class='card deck'\n",
       "            style='color: red;'>🃈</span><span class='card deck'\n",
       "            style='color: red;'>🃉</span><span class='card deck'\n",
       "            style='color: red;'>🃊</span><span class='card deck'\n",
       "            style='color: red;'>🃋</span><span class='card deck'\n",
       "            style='color: red;'>🃍</span><span class='card deck'\n",
       "            style='color: red;'>🃎</span><span class='card deck'\n",
       "            style='color: black;'>🃑</span><span class='card deck'\n",
       "            style='color: black;'>🃒</span><span class='card deck'\n",
       "            style='color: black;'>🃓</span><span class='card deck'\n",
       "            style='color: black;'>🃔</span><span class='card deck'\n",
       "            style='color: black;'>🃕</span><span class='card deck'\n",
       "            style='color: black;'>🃖</span><span class='card deck'\n",
       "            style='color: black;'>🃗</span><span class='card deck'\n",
       "            style='color: black;'>🃘</span><span class='card deck'\n",
       "            style='color: black;'>🃙</span><span class='card deck'\n",
       "            style='color: black;'>🃚</span><span class='card deck'\n",
       "            style='color: black;'>🃛</span><span class='card deck'\n",
       "            style='color: black;'>🃝</span><span class='card deck'\n",
       "            style='color: black;'>🃞</span>"
      ]
     },
     "metadata": {},
     "output_type": "display_data"
    }
   ],
   "source": [
    "val mcs = Card.values().toMutableList()\n",
    "\n",
    "val htmlContent = HTML(\"&nbsp;<br><p>&nbsp;<br><p>\" + \n",
    "     mcs.map { CardItem(it,true) }\n",
    "        .fold(myStyle) { acc, c -> acc +\"\"\"<span class='card deck'\n",
    "            style='color: ${if (c.up) c.color() else \"black\"};'>${c.show()}</span>\"\"\"\n",
    "        }\n",
    ")\n",
    "\n",
    "DISPLAY( htmlContent, \"myDeck\" )"
   ]
  },
  {
   "cell_type": "code",
   "execution_count": 148,
   "metadata": {
    "datalore": {
     "hide_input_from_viewers": false,
     "hide_output_from_viewers": false,
     "node_id": "baFoDZucJxM6654xO9Eo1u",
     "report_properties": {
      "rowId": "HRB0bNQeOfvqnoEm0K3ktg"
     },
     "type": "CODE"
    }
   },
   "outputs": [],
   "source": [
    "mcs.shuffle()\n",
    "\n",
    "val newContent = HTML(\"&nbsp;<br><p>&nbsp;<br><p>\" +\n",
    "     mcs.map { CardItem(it,true) }\n",
    "        .fold(myStyle)  { acc, c -> acc +\"\"\"<span class='card deck'\n",
    "            style='color: ${if (c.up) c.color() else \"black\"};'>${c.show()}</span>\"\"\"\n",
    "        }\n",
    ")\n",
    "\n",
    "UPDATE_DISPLAY( newContent, \"myDeck\" ) // 이 게 실행되면 위에 있는 카드 덱이 바뀐다"
   ]
  },
  {
   "attachments": {},
   "cell_type": "markdown",
   "metadata": {
    "datalore": {
     "hide_input_from_viewers": false,
     "hide_output_from_viewers": false,
     "node_id": "IrTXyVwWNxE4FMKOoeyLFG",
     "report_properties": {
      "rowId": "VXj2lSd8wKTrzzwapjKALm"
     },
     "type": "MD"
    }
   },
   "source": [
    "----\n",
    "\n",
    "Playing Cards로 하는 SPOONS같은 게임을 만들기 위한 준비작업을 하는 활동이다.\n",
    "\n",
    "- `Deck` 인터페이스를 구현하는 `GameDeck` 클래스 작성\n",
    "  - `GameDeck`에 포함된 `CardItem`객체는 up 속성을 `false`로 하여 카드 뒷면이 보이게\n",
    "- `Player` 인터페이스를 구현하는 두 종류의 클래스 `HumanPlayer`와 `ComputerPlayer`를 작성\n",
    "  - `HumanPlayer`는\n",
    "    - `hand`에 든 `CardItem`객체를 `up` 속성을 `true`로 하여 카드 앞면이 드러나 보이게\n",
    "    - `put`메소드에서 표준입력으로 0부터 시작하는 정수 형태의 인덱스 값을 사용자에게 입력받아 `hand`의 해당 인덱스 위치의 카드를 내려놓도록 작성\n",
    "  - `ComputerPlayer`는\n",
    "    - `hand`에 든 `CardItem`객체의 `up` 속성을 `false`로 하여 카드 뒷면이 보이게\n",
    "    - 일단 이 활동에서는 `ComputerPlayer`는 무조건 `hand`의 첫 카드(즉 인덱스 0)를 내려놓도록 `put`메소드 작성\n",
    "- `GameDeck`, `HumanPlayer`, `ComputerPlayer` 모두 보기좋게 보여주기 위해 `ToHTML` 인터페이스도 구현하라"
   ]
  },
  {
   "cell_type": "code",
   "execution_count": 176,
   "metadata": {
    "datalore": {
     "hide_input_from_viewers": false,
     "hide_output_from_viewers": false,
     "node_id": "Bzn57KmTRV0Dv4TvHMCF2I",
     "report_properties": {
      "rowId": "Z4vnupwXIuj53aM8exAFFF"
     },
     "type": "CODE"
    }
   },
   "outputs": [],
   "source": [
    "object MyUtil {\n",
    "    // 이거는 클래식 Jupyter 노트북 환경이나 Datalore에서는 멀쩡하게 readln()이 잘 동작하는데\n",
    "    // 윌 수업에 활용하는 Jupyter lab에서는 뭔가 꼬여있어서 땜빵하는 코드다\n",
    "    fun readLn(): String { \n",
    "        try {\n",
    "            return readln()\n",
    "        } catch (e: Exception) {\n",
    "            val msg = e.message\n",
    "            if (msg != null) {\n",
    "                val curr = msg.split('\\n').last()\n",
    "                val prefix = \"Current input: {\\\"status\\\":\\\"ok\\\",\\\"value\\\":\"\n",
    "                if ( curr.startsWith(prefix) ) {\n",
    "                    return curr.drop( prefix.length + 1 ).dropLast(1 + 1)\n",
    "                }\n",
    "            }\n",
    "            throw e\n",
    "        }\n",
    "    }\n",
    "    // 적절한 입력이 들어올 때까지 반복해서 입력을 받는 함수\n",
    "    fun readNonNegativeIntUntilSuccess(): Int {\n",
    "        do {\n",
    "             val z = this.readLn().toIntOrNull()\n",
    "             if (z != null && z >= 0) return z\n",
    "        } while (true)\n",
    "    }\n",
    "    val style = \"\"\"\n",
    "<style>\n",
    "@import url('https://fonts.googleapis.com/css2?family=Noto+Sans+Symbols+2&display=swap');\n",
    ".card {\n",
    "    display: inline; \n",
    "    font-size: 60pt; height: 62pt;\n",
    "    font-family: \"Noto Sans Symbols 2\", sans-serif;\n",
    "    background: rgba(255,255,255, 1) !important;\n",
    "}\n",
    ".deck { margin-right:-32pt; height: 65pt; }\n",
    "</style>\n",
    "\"\"\"\n",
    "}"
   ]
  },
  {
   "cell_type": "code",
   "execution_count": 177,
   "metadata": {
    "datalore": {
     "hide_input_from_viewers": false,
     "hide_output_from_viewers": false,
     "node_id": "mVYdJukaPZVx0MVrC90ZiH",
     "report_properties": {
      "rowId": "6zVX9zRg7hJXSvZhil5z19"
     },
     "type": "CODE"
    }
   },
   "outputs": [
    {
     "data": {
      "text/html": [
       "&nbsp;<br><p>&nbsp;<br><p>\n",
       "<style>\n",
       "@import url('https://fonts.googleapis.com/css2?family=Noto+Sans+Symbols+2&display=swap');\n",
       ".card {\n",
       "    display: inline; \n",
       "    font-size: 60pt; height: 62pt;\n",
       "    font-family: \"Noto Sans Symbols 2\", sans-serif;\n",
       "    background: rgba(255,255,255, 1) !important;\n",
       "}\n",
       ".deck { margin-right:-32pt; height: 65pt; }\n",
       "</style>\n",
       "<span class='card deck'\n",
       "        style='color: red;'>🂳</span><span class='card deck'\n",
       "        style='color: red;'>🂵</span><span class='card deck'\n",
       "        style='color: red;'>🃊</span><span class='card deck'\n",
       "        style='color: black;'>🂩</span><span class='card deck'\n",
       "        style='color: black;'>🃒</span><span class='card deck'\n",
       "        style='color: red;'>🃎</span><span class='card deck'\n",
       "        style='color: black;'>🂪</span><span class='card deck'\n",
       "        style='color: black;'>🂫</span><span class='card deck'\n",
       "        style='color: black;'>🃓</span><span class='card deck'\n",
       "        style='color: red;'>🂺</span><span class='card deck'\n",
       "        style='color: black;'>🂭</span><span class='card deck'\n",
       "        style='color: red;'>🃍</span><span class='card deck'\n",
       "        style='color: black;'>🃗</span><span class='card deck'\n",
       "        style='color: black;'>🂤</span><span class='card deck'\n",
       "        style='color: red;'>🂲</span><span class='card deck'\n",
       "        style='color: black;'>🂢</span><span class='card deck'\n",
       "        style='color: black;'>🂨</span><span class='card deck'\n",
       "        style='color: black;'>🂥</span><span class='card deck'\n",
       "        style='color: red;'>🃂</span><span class='card deck'\n",
       "        style='color: red;'>🂹</span><span class='card deck'\n",
       "        style='color: red;'>🃆</span><span class='card deck'\n",
       "        style='color: red;'>🃅</span><span class='card deck'\n",
       "        style='color: red;'>🂱</span><span class='card deck'\n",
       "        style='color: black;'>🃑</span><span class='card deck'\n",
       "        style='color: red;'>🂴</span><span class='card deck'\n",
       "        style='color: black;'>🂧</span><span class='card deck'\n",
       "        style='color: red;'>🂸</span><span class='card deck'\n",
       "        style='color: red;'>🂽</span><span class='card deck'\n",
       "        style='color: black;'>🃕</span><span class='card deck'\n",
       "        style='color: black;'>🂮</span><span class='card deck'\n",
       "        style='color: black;'>🃖</span><span class='card deck'\n",
       "        style='color: black;'>🂡</span><span class='card deck'\n",
       "        style='color: red;'>🃋</span><span class='card deck'\n",
       "        style='color: black;'>🃞</span><span class='card deck'\n",
       "        style='color: red;'>🃁</span><span class='card deck'\n",
       "        style='color: black;'>🃙</span><span class='card deck'\n",
       "        style='color: black;'>🂣</span><span class='card deck'\n",
       "        style='color: red;'>🂾</span><span class='card deck'\n",
       "        style='color: red;'>🂻</span><span class='card deck'\n",
       "        style='color: black;'>🃚</span><span class='card deck'\n",
       "        style='color: black;'>🂦</span><span class='card deck'\n",
       "        style='color: black;'>🃝</span><span class='card deck'\n",
       "        style='color: red;'>🃈</span><span class='card deck'\n",
       "        style='color: red;'>🂷</span><span class='card deck'\n",
       "        style='color: red;'>🃃</span><span class='card deck'\n",
       "        style='color: red;'>🃇</span><span class='card deck'\n",
       "        style='color: red;'>🃉</span><span class='card deck'\n",
       "        style='color: black;'>🃔</span><span class='card deck'\n",
       "        style='color: black;'>🃛</span><span class='card deck'\n",
       "        style='color: black;'>🃘</span><span class='card deck'\n",
       "        style='color: red;'>🂶</span><span class='card deck'\n",
       "        style='color: red;'>🃄</span>"
      ]
     },
     "metadata": {},
     "output_type": "display_data"
    }
   ],
   "source": [
    "HTML(\"&nbsp;<br><p>&nbsp;<br><p>\" + \n",
    "    Card.values().toList().shuffled()\n",
    "        .map { CardItem(it,true) }\n",
    "        .fold(MyUtil.style) { acc, c -> acc +\n",
    "\"\"\"<span class='card deck'\n",
    "        style='color: ${if (c.up) c.color() else \"black\"};'>${c.show()}</span>\"\"\"\n",
    "        }\n",
    ")"
   ]
  },
  {
   "cell_type": "code",
   "execution_count": 178,
   "metadata": {
    "datalore": {
     "hide_input_from_viewers": false,
     "hide_output_from_viewers": false,
     "node_id": "w7NEejwl5UeG7m0pLCNym1",
     "report_properties": {
      "rowId": "8HHVFMRQZ39mniaLuZ6ER5"
     },
     "type": "CODE"
    }
   },
   "outputs": [],
   "source": [
    "interface Deck {\n",
    "    fun size(): Int\n",
    "    fun draw(): CardItem // 덱에서 카드를 뽑기\n",
    "    fun put(c: CardItem) // 덱에 카드 c를 놓기\n",
    "}\n",
    "\n",
    "interface Player {\n",
    "    val hand: MutableList<CardItem> // 이것도 가능!!\n",
    "    fun draw(d: Deck) // 덱 d로부터 카드 하나 뽑기\n",
    "    fun put(d: Deck)  // 카드 하나를 덱 d에 놓기\n",
    "}\n",
    "\n",
    "interface ToHTML {\n",
    "    fun toHTML(): String // 해당 객체를 표현하는 HTML 소스코드 문자열 생성\n",
    "}"
   ]
  },
  {
   "cell_type": "code",
   "execution_count": 179,
   "metadata": {
    "datalore": {
     "hide_input_from_viewers": false,
     "hide_output_from_viewers": false,
     "node_id": "Pzsv2K5ZU4XocEhY2nOWkq",
     "report_properties": {
      "rowId": "FLTOjKmx3kzh6t2bD7GgEf"
     },
     "type": "CODE"
    }
   },
   "outputs": [],
   "source": [
    "// 여기서부터"
   ]
  },
  {
   "cell_type": "code",
   "execution_count": 180,
   "metadata": {
    "datalore": {
     "hide_input_from_viewers": false,
     "hide_output_from_viewers": false,
     "node_id": "HOMoRcmDCqdLmNbNdM3Fgj",
     "report_properties": {
      "rowId": "3eyHbkxrwgeNp9os8GViYN"
     },
     "type": "CODE"
    }
   },
   "outputs": [],
   "source": [
    "// 활동 내용에 지시된 적절한 코드를 작성하고"
   ]
  },
  {
   "cell_type": "code",
   "execution_count": 155,
   "metadata": {
    "datalore": {
     "hide_input_from_viewers": false,
     "hide_output_from_viewers": false,
     "node_id": "68zuNS16rW2ypdcrzbg1Xr",
     "report_properties": {
      "rowId": "BIML2qyh5GIq2PmqYTXEj5"
     },
     "type": "CODE"
    }
   },
   "outputs": [],
   "source": [
    "// 작성된 코드가 잘 동작하는지 보여주는 테스트도 실행하라"
   ]
  },
  {
   "cell_type": "code",
   "execution_count": null,
   "metadata": {
    "datalore": {
     "hide_input_from_viewers": true,
     "hide_output_from_viewers": true,
     "node_id": "sAerohPo4PjW7HoB9OJOwO",
     "type": "CODE"
    }
   },
   "outputs": [],
   "source": []
  }
 ],
 "metadata": {
  "datalore": {
   "base_environment": "default",
   "computation_mode": "JUPYTER",
   "package_manager": "pip",
   "packages": [],
   "report_row_ids": [
    "KdoFwiPGtrFqSFcvxABOWv",
    "mkRnmrPT1GUDYSRy7EyxtD",
    "c62Q3lhWVPsDG2cvz4B5yv",
    "FAqsRQ4BQiHY6BIRAZSimU",
    "nRMEW1BZzi0DtHY1MpZ7PD",
    "sY9JzW9j1aF7soymqplCjy",
    "4KNWOiWRQlGjIexCX5Qnut",
    "PDwPGLcKgl223K22QlcVwX",
    "NNRS0h6MgGapMs1IQc3r5y",
    "cyJzlhBd7BEzPY3TG1dhHl",
    "qkSSSl6NWdV1gjO6O5ZFcJ",
    "biEinHsvxG3XhVtmx6eEAL",
    "b6j6HncEIdi8MmMlkkEXKs",
    "omp4vdFkt9rN7z1TunsWg2",
    "7mKTOSoeFkQAnfDAtfsWSD",
    "nMyod7z4g90DYWhH064n1H",
    "86GSQiRwkRafWQWHRPvFSv",
    "cfKCrrz3GxmhheUrnApXv0",
    "5V9duV9NHNb9JpldGoOlPr",
    "2ocGz2nugtqvBEpKHTGIxh",
    "iBLy7DORNjOW6MpwqGH4Pc",
    "OgsIaWM8E2RJSFoveHyoC2",
    "EmIfsFZ7bMcIl3ZmtKO2ZC",
    "ZYxTdOf93bVlUf4QOfiF9M",
    "cSzi5ow9i2fIiMwZNMQNgb",
    "RiEqjs4cFykZ2GorrJjqqW",
    "NeN379qchw9AYhbME5Nyaj",
    "7HRnoUtdjrhCEZ8k07wonK",
    "8eWbOqVOaywsS501Y0XnPv",
    "6PL3oc5rK7P4JjqpTGBULq",
    "uk3aMe1qbG6DXnqn4jlYB6",
    "HRB0bNQeOfvqnoEm0K3ktg",
    "VXj2lSd8wKTrzzwapjKALm",
    "Z4vnupwXIuj53aM8exAFFF",
    "6zVX9zRg7hJXSvZhil5z19",
    "8HHVFMRQZ39mniaLuZ6ER5",
    "FLTOjKmx3kzh6t2bD7GgEf",
    "3eyHbkxrwgeNp9os8GViYN",
    "BIML2qyh5GIq2PmqYTXEj5"
   ],
   "version": 3
  },
  "kernelspec": {
   "display_name": "Kotlin",
   "language": "kotlin",
   "name": "kotlin"
  },
  "language_info": {
   "codemirror_mode": "text/x-kotlin",
   "file_extension": ".kt",
   "mimetype": "text/x-kotlin",
   "name": "kotlin",
   "nbconvert_exporter": "",
   "pygments_lexer": "kotlin",
   "version": "1.8.20"
  }
 },
 "nbformat": 4,
 "nbformat_minor": 4
}
