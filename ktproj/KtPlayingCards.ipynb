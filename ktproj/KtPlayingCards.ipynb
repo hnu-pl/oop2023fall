{
 "cells": [
  {
   "cell_type": "markdown",
   "metadata": {
    "datalore": {
     "hide_input_from_viewers": false,
     "hide_output_from_viewers": false,
     "node_id": "Q9CxweMun5a0XbsUBZrDlS",
     "report_properties": {},
     "type": "MD"
    }
   },
   "source": [
    "# Playing Cards"
   ]
  },
  {
   "cell_type": "code",
   "execution_count": 1,
   "metadata": {
    "datalore": {
     "hide_input_from_viewers": false,
     "hide_output_from_viewers": false,
     "node_id": "mmYzBeSDttiKvvKH3ysclM",
     "report_properties": {},
     "type": "CODE"
    },
    "tags": []
   },
   "outputs": [],
   "source": [
    "enum class Symbol { SPADE, HEART, DIA, CLUB; } // 모양\n",
    "\n",
    "enum class Card(val face: String, val back: String = \"🂠\") { // 카드의 종류\n",
    "    SA(\"🂡\"),S2(\"🂢\"),S3(\"🂣\"),S4(\"🂤\"),S5(\"🂥\"),S6(\"🂦\"),\n",
    "    S7(\"🂧\"),S8(\"🂨\"),S9(\"🂩\"),S0(\"🂪\"),SJ(\"🂫\"),SQ(\"🂭\"),SK(\"🂮\"),\n",
    "    HA(\"🂱\"),H2(\"🂲\"),H3(\"🂳\"),H4(\"🂴\"),H5(\"🂵\"),H6(\"🂶\"),\n",
    "    H7(\"🂷\"),H8(\"🂸\"),H9(\"🂹\"),H0(\"🂺\"),HJ(\"🂻\"),HQ(\"🂽\"),HK(\"🂾\"),\n",
    "    DA(\"🃁\"),D2(\"🃂\"),D3(\"🃃\"),D4(\"🃄\"),D5(\"🃅\"),D6(\"🃆\"),\n",
    "    D7(\"🃇\"),D8(\"🃈\"),D9(\"🃉\"),D0(\"🃊\"),DJ(\"🃋\"),DQ(\"🃍\"),DK(\"🃎\"),\n",
    "    CA(\"🃑\"),C2(\"🃒\"),C3(\"🃓\"),C4(\"🃔\"),C5(\"🃕\"),C6(\"🃖\"),\n",
    "    C7(\"🃗\"),C8(\"🃘\"),C9(\"🃙\"),C0(\"🃚\"),CJ(\"🃛\"),CQ(\"🃝\"),CK(\"🃞\");\n",
    "    \n",
    "    fun symbol() = when(this) {\n",
    "        in SA..SK -> Symbol.SPADE\n",
    "        in HA..HK -> Symbol.HEART\n",
    "        in DA..DK -> Symbol.DIA\n",
    "        else      -> Symbol.CLUB // 나머지 경우는 \n",
    "    }\n",
    "    \n",
    "    fun color() = when(symbol()) {\n",
    "        Symbol.SPADE -> \"black\"\n",
    "        Symbol.HEART -> \"red\"\n",
    "        Symbol.DIA   -> \"red\"\n",
    "        Symbol.CLUB  -> \"black\"\n",
    "    }\n",
    "    \n",
    "    fun rank() = this.ordinal % 13 + 1 // A가 1, 숫자는 숫자값, J,Q,K는 11,12,13\n",
    "}"
   ]
  },
  {
   "cell_type": "code",
   "execution_count": 2,
   "metadata": {
    "datalore": {
     "hide_input_from_viewers": false,
     "hide_output_from_viewers": false,
     "node_id": "gYgk2ktmrK06TkSYLZMTMI",
     "report_properties": {},
     "type": "CODE"
    },
    "tags": []
   },
   "outputs": [
    {
     "data": {
      "text/plain": [
       "CLUB"
      ]
     },
     "execution_count": 2,
     "metadata": {},
     "output_type": "execute_result"
    }
   ],
   "source": [
    "Card.C3.symbol()"
   ]
  },
  {
   "cell_type": "code",
   "execution_count": 3,
   "metadata": {
    "datalore": {
     "hide_input_from_viewers": false,
     "hide_output_from_viewers": false,
     "node_id": "nyQrSq0Rq1cMwmw6F4OK6g",
     "report_properties": {},
     "type": "CODE"
    },
    "tags": []
   },
   "outputs": [
    {
     "data": {
      "text/plain": [
       "41"
      ]
     },
     "execution_count": 3,
     "metadata": {},
     "output_type": "execute_result"
    }
   ],
   "source": [
    "Card.C3.ordinal"
   ]
  },
  {
   "cell_type": "code",
   "execution_count": 4,
   "metadata": {
    "datalore": {
     "hide_input_from_viewers": false,
     "hide_output_from_viewers": false,
     "node_id": "oFJOcg2rREVZYuT78SCXl0",
     "report_properties": {},
     "type": "CODE"
    },
    "tags": []
   },
   "outputs": [
    {
     "data": {
      "text/plain": [
       "3"
      ]
     },
     "execution_count": 4,
     "metadata": {},
     "output_type": "execute_result"
    }
   ],
   "source": [
    "Card.C3.rank() // 1"
   ]
  },
  {
   "cell_type": "code",
   "execution_count": 5,
   "metadata": {
    "datalore": {
     "hide_input_from_viewers": false,
     "hide_output_from_viewers": false,
     "node_id": "oaVXxWXuAdv7UHQxjZ2oM1",
     "report_properties": {},
     "type": "CODE"
    },
    "tags": []
   },
   "outputs": [
    {
     "data": {
      "text/plain": [
       "12"
      ]
     },
     "execution_count": 5,
     "metadata": {},
     "output_type": "execute_result"
    }
   ],
   "source": [
    "Card.DQ.rank()"
   ]
  },
  {
   "cell_type": "code",
   "execution_count": 6,
   "metadata": {
    "datalore": {
     "hide_input_from_viewers": false,
     "hide_output_from_viewers": false,
     "node_id": "FNURa39UO95YywssFXbjTJ",
     "report_properties": {},
     "type": "CODE"
    },
    "tags": []
   },
   "outputs": [
    {
     "data": {
      "text/plain": [
       "hello 7 world"
      ]
     },
     "execution_count": 6,
     "metadata": {},
     "output_type": "execute_result"
    }
   ],
   "source": [
    "\"hello ${3 + 4} world\""
   ]
  },
  {
   "cell_type": "code",
   "execution_count": 7,
   "metadata": {
    "datalore": {
     "hide_input_from_viewers": false,
     "hide_output_from_viewers": false,
     "node_id": "KYmYn4bbWL4qhZJbrmLqRz",
     "report_properties": {},
     "type": "CODE"
    },
    "tags": []
   },
   "outputs": [
    {
     "data": {
      "text/html": [
       "aaa<b>ccc</b>dddd"
      ]
     },
     "execution_count": 7,
     "metadata": {},
     "output_type": "execute_result"
    }
   ],
   "source": [
    "HTML(\"aaa<b>ccc</b>dddd\")"
   ]
  },
  {
   "cell_type": "code",
   "execution_count": 42,
   "metadata": {
    "datalore": {
     "hide_input_from_viewers": false,
     "hide_output_from_viewers": false,
     "node_id": "zT8okJ0TwdF4Sc9oyIwHt6",
     "report_properties": {},
     "type": "CODE"
    },
    "tags": []
   },
   "outputs": [
    {
     "data": {
      "text/html": [
       "&nbsp;<br><span style='font-size:30pt;color:black'>🃓</span>"
      ]
     },
     "execution_count": 42,
     "metadata": {},
     "output_type": "execute_result"
    }
   ],
   "source": [
    "HTML(\"&nbsp;<br><span style='font-size:30pt;color:${Card.C3.color()}'>${Card.C3.face}</span><br>&nbsp;\")"
   ]
  },
  {
   "cell_type": "code",
   "execution_count": 43,
   "metadata": {
    "datalore": {
     "hide_input_from_viewers": false,
     "hide_output_from_viewers": false,
     "node_id": "FoDachjmalql0kDJuQA3hO",
     "report_properties": {},
     "type": "CODE"
    },
    "tags": []
   },
   "outputs": [
    {
     "data": {
      "text/html": [
       "&nbsp;<br><span style='font-size:30pt;color:red'>🂳</span>"
      ]
     },
     "execution_count": 43,
     "metadata": {},
     "output_type": "execute_result"
    }
   ],
   "source": [
    "HTML(\"&nbsp;<br><span style='font-size:30pt;color:${Card.H3.color()}'>${Card.H3.face}</span><br>&nbsp;\")"
   ]
  },
  {
   "cell_type": "code",
   "execution_count": 10,
   "metadata": {
    "datalore": {
     "hide_input_from_viewers": false,
     "hide_output_from_viewers": false,
     "node_id": "BkEBUiYZI7OTO8MmzxLdqd",
     "report_properties": {},
     "type": "CODE"
    },
    "tags": []
   },
   "outputs": [
    {
     "data": {
      "text/plain": [
       "[SA, S2, S3, S4, S5, S6, S7, S8, S9, S0, SJ, SQ, SK, HA, H2, H3, H4, H5, H6, H7, H8, H9, H0, HJ, HQ, HK, DA, D2, D3, D4, D5, D6, D7, D8, D9, D0, DJ, DQ, DK, CA, C2, C3, C4, C5, C6, C7, C8, C9, C0, CJ, CQ, CK]"
      ]
     },
     "execution_count": 10,
     "metadata": {},
     "output_type": "execute_result"
    }
   ],
   "source": [
    "Card.values() // Card라는 enum class의 모든 가능한 값(object)들"
   ]
  },
  {
   "cell_type": "code",
   "execution_count": 11,
   "metadata": {
    "datalore": {
     "hide_input_from_viewers": false,
     "hide_output_from_viewers": false,
     "node_id": "3jDt4ATfeQ1pPDCu2tdPG3",
     "report_properties": {},
     "type": "CODE"
    },
    "tags": []
   },
   "outputs": [],
   "source": [
    "data class CardItem(val card: Card, var up: Boolean = false) { // 카드 한장\n",
    "    fun symbol() = card.symbol()\n",
    "    fun color() = card.color()\n",
    "    fun rank() = card.rank()\n",
    "    fun show() = if(up) card.face else card.back\n",
    "}"
   ]
  },
  {
   "cell_type": "markdown",
   "metadata": {
    "datalore": {
     "hide_input_from_viewers": true,
     "hide_output_from_viewers": true,
     "node_id": "WU599DcbLMDZizdvTDMimE",
     "type": "MD"
    }
   },
   "source": [
    "`CardItem`은 `Card`의 메소드들을 같은 이름의 메소드로 노출시키고 있음\n",
    "\n",
    "`CardItem`이 `Card`를 감싸고 있는 형태\n",
    "  - 넓은 의미에서 느슨하게 대략 Wrapper라고 부르기도 함\n",
    "  - 이런 형태를 활용하는 다자인 패턴으로는 Delegate, Decorator, Proxy, Facade, ..."
   ]
  },
  {
   "cell_type": "code",
   "execution_count": 12,
   "metadata": {
    "datalore": {
     "hide_input_from_viewers": true,
     "hide_output_from_viewers": true,
     "node_id": "36P3rrG7PTrZa1aABRPwT3",
     "type": "CODE"
    },
    "tags": []
   },
   "outputs": [
    {
     "data": {
      "text/plain": [
       "[CardItem(card=SA, up=false), CardItem(card=S2, up=false), CardItem(card=S3, up=false), CardItem(card=S4, up=false), CardItem(card=S5, up=false), CardItem(card=S6, up=false), CardItem(card=S7, up=false), CardItem(card=S8, up=false), CardItem(card=S9, up=false), CardItem(card=S0, up=false), CardItem(card=SJ, up=false), CardItem(card=SQ, up=false), CardItem(card=SK, up=false), CardItem(card=HA, up=false), CardItem(card=H2, up=false), CardItem(card=H3, up=false), CardItem(card=H4, up=false), CardItem(card=H5, up=false), CardItem(card=H6, up=false), CardItem(card=H7, up=false), CardItem(card=H8, up=false), CardItem(card=H9, up=false), CardItem(card=H0, up=false), CardItem(card=HJ, up=false), CardItem(card=HQ, up=false), CardItem(card=HK, up=false), CardItem(card=DA, up=false), CardItem(card=D2, up=false), CardItem(card=D3, up=false), CardItem(card=D4, up=false), CardItem(card=D5, up=false), CardItem(card=D6, up=false), CardItem(card=D7, up=false), CardItem(card=D8, up=false), CardItem(card=D9, up=false), CardItem(card=D0, up=false), CardItem(card=DJ, up=false), CardItem(card=DQ, up=false), CardItem(card=DK, up=false), CardItem(card=CA, up=false), CardItem(card=C2, up=false), CardItem(card=C3, up=false), CardItem(card=C4, up=false), CardItem(card=C5, up=false), CardItem(card=C6, up=false), CardItem(card=C7, up=false), CardItem(card=C8, up=false), CardItem(card=C9, up=false), CardItem(card=C0, up=false), CardItem(card=CJ, up=false), CardItem(card=CQ, up=false), CardItem(card=CK, up=false)]"
      ]
     },
     "execution_count": 12,
     "metadata": {},
     "output_type": "execute_result"
    }
   ],
   "source": [
    "Card.values().map { CardItem(it) }"
   ]
  },
  {
   "cell_type": "code",
   "execution_count": 52,
   "metadata": {
    "datalore": {
     "hide_input_from_viewers": false,
     "hide_output_from_viewers": false,
     "node_id": "8qNDotzszIVV2W2n41kRdk",
     "report_properties": {},
     "type": "CODE"
    },
    "tags": []
   },
   "outputs": [
    {
     "data": {
      "text/plain": [
       "[🂠, 🂠, 🂠, 🂠, 🂠, 🂠, 🂠, 🂠, 🂠, 🂠, 🂠, 🂠, 🂠, 🂠, 🂠, 🂠, 🂠, 🂠, 🂠, 🂠, 🂠, 🂠, 🂠, 🂠, 🂠, 🂠, 🂠, 🂠, 🂠, 🂠, 🂠, 🂠, 🂠, 🂠, 🂠, 🂠, 🂠, 🂠, 🂠, 🂠, 🂠, 🂠, 🂠, 🂠, 🂠, 🂠, 🂠, 🂠, 🂠, 🂠, 🂠, 🂠]"
      ]
     },
     "execution_count": 52,
     "metadata": {},
     "output_type": "execute_result"
    }
   ],
   "source": [
    "Card.values().map { CardItem(it, false).show() }"
   ]
  },
  {
   "cell_type": "code",
   "execution_count": 14,
   "metadata": {
    "datalore": {
     "hide_input_from_viewers": false,
     "hide_output_from_viewers": false,
     "node_id": "KiXkBN5fsrIIJOEA03TEJR",
     "report_properties": {},
     "type": "CODE"
    },
    "tags": []
   },
   "outputs": [
    {
     "data": {
      "text/plain": [
       "[🂡, 🂢, 🂣, 🂤, 🂥, 🂦, 🂧, 🂨, 🂩, 🂪, 🂫, 🂭, 🂮, 🂱, 🂲, 🂳, 🂴, 🂵, 🂶, 🂷, 🂸, 🂹, 🂺, 🂻, 🂽, 🂾, 🃁, 🃂, 🃃, 🃄, 🃅, 🃆, 🃇, 🃈, 🃉, 🃊, 🃋, 🃍, 🃎, 🃑, 🃒, 🃓, 🃔, 🃕, 🃖, 🃗, 🃘, 🃙, 🃚, 🃛, 🃝, 🃞]"
      ]
     },
     "execution_count": 14,
     "metadata": {},
     "output_type": "execute_result"
    }
   ],
   "source": [
    "Card.values().map { CardItem(it, true).show() }"
   ]
  },
  {
   "cell_type": "code",
   "execution_count": 15,
   "metadata": {
    "datalore": {
     "hide_input_from_viewers": true,
     "hide_output_from_viewers": true,
     "node_id": "9V2CGGK0MEgCgK5N5KvkNF",
     "type": "CODE"
    },
    "tags": []
   },
   "outputs": [
    {
     "data": {
      "text/plain": [
       "90"
      ]
     },
     "execution_count": 15,
     "metadata": {},
     "output_type": "execute_result"
    }
   ],
   "source": [
    "// (((100-1)-2)-3)-4\n",
    "listOf(1,2,3,4).fold(100) { acc, x -> acc - x }"
   ]
  },
  {
   "cell_type": "code",
   "execution_count": 16,
   "metadata": {
    "tags": []
   },
   "outputs": [
    {
     "data": {
      "text/html": [
       "\n",
       "<style>\n",
       "@import url('https://fonts.googleapis.com/css2?family=Noto+Sans+Symbols+2&display=swap');\n",
       ".card {\n",
       "    display: inline-block; \n",
       "    font-size: 60pt; height: 62pt;\n",
       "    font-family: \"Noto Sans Symbols 2\", sans-serif;\n",
       "    background: rgba(255,255,255, 1) !important;\n",
       "}\n",
       ".deck { margin-right:-32pt; }\n",
       "</style>\n"
      ]
     },
     "execution_count": 16,
     "metadata": {},
     "output_type": "execute_result"
    }
   ],
   "source": [
    "val myStyle = \"\"\"\n",
    "<style>\n",
    "@import url('https://fonts.googleapis.com/css2?family=Noto+Sans+Symbols+2&display=swap');\n",
    ".card {\n",
    "    display: inline-block; \n",
    "    font-size: 60pt; height: 62pt;\n",
    "    font-family: \"Noto Sans Symbols 2\", sans-serif;\n",
    "    background: rgba(255,255,255, 1) !important;\n",
    "}\n",
    ".deck { margin-right:-32pt; }\n",
    "</style>\n",
    "\"\"\"\n",
    "\n",
    "HTML(myStyle)"
   ]
  },
  {
   "cell_type": "code",
   "execution_count": 44,
   "metadata": {
    "datalore": {
     "hide_input_from_viewers": false,
     "hide_output_from_viewers": false,
     "node_id": "MDSjBgZvJZM4dPvW995YqG",
     "report_properties": {},
     "type": "CODE"
    },
    "tags": []
   },
   "outputs": [
    {
     "data": {
      "text/html": [
       "&nbsp;<br><p>&nbsp;<br><p>\n",
       "<style>\n",
       "@import url('https://fonts.googleapis.com/css2?family=Noto+Sans+Symbols+2&display=swap');\n",
       ".card {\n",
       "    display: inline-block; \n",
       "    font-size: 60pt; height: 62pt;\n",
       "    font-family: \"Noto Sans Symbols 2\", sans-serif;\n",
       "    background: rgba(255,255,255, 1) !important;\n",
       "}\n",
       ".deck { margin-right:-32pt; }\n",
       "</style>\n",
       "<span class='card deck'\n",
       "        style='color: black;'>🂡</span><span class='card deck'\n",
       "        style='color: black;'>🂢</span><span class='card deck'\n",
       "        style='color: black;'>🂣</span><span class='card deck'\n",
       "        style='color: black;'>🂤</span><span class='card deck'\n",
       "        style='color: black;'>🂥</span><span class='card deck'\n",
       "        style='color: black;'>🂦</span><span class='card deck'\n",
       "        style='color: black;'>🂧</span><span class='card deck'\n",
       "        style='color: black;'>🂨</span><span class='card deck'\n",
       "        style='color: black;'>🂩</span><span class='card deck'\n",
       "        style='color: black;'>🂪</span><span class='card deck'\n",
       "        style='color: black;'>🂫</span><span class='card deck'\n",
       "        style='color: black;'>🂭</span><span class='card deck'\n",
       "        style='color: black;'>🂮</span><span class='card deck'\n",
       "        style='color: red;'>🂱</span><span class='card deck'\n",
       "        style='color: red;'>🂲</span><span class='card deck'\n",
       "        style='color: red;'>🂳</span><span class='card deck'\n",
       "        style='color: red;'>🂴</span><span class='card deck'\n",
       "        style='color: red;'>🂵</span><span class='card deck'\n",
       "        style='color: red;'>🂶</span><span class='card deck'\n",
       "        style='color: red;'>🂷</span><span class='card deck'\n",
       "        style='color: red;'>🂸</span><span class='card deck'\n",
       "        style='color: red;'>🂹</span><span class='card deck'\n",
       "        style='color: red;'>🂺</span><span class='card deck'\n",
       "        style='color: red;'>🂻</span><span class='card deck'\n",
       "        style='color: red;'>🂽</span><span class='card deck'\n",
       "        style='color: red;'>🂾</span><span class='card deck'\n",
       "        style='color: red;'>🃁</span><span class='card deck'\n",
       "        style='color: red;'>🃂</span><span class='card deck'\n",
       "        style='color: red;'>🃃</span><span class='card deck'\n",
       "        style='color: red;'>🃄</span><span class='card deck'\n",
       "        style='color: red;'>🃅</span><span class='card deck'\n",
       "        style='color: red;'>🃆</span><span class='card deck'\n",
       "        style='color: red;'>🃇</span><span class='card deck'\n",
       "        style='color: red;'>🃈</span><span class='card deck'\n",
       "        style='color: red;'>🃉</span><span class='card deck'\n",
       "        style='color: red;'>🃊</span><span class='card deck'\n",
       "        style='color: red;'>🃋</span><span class='card deck'\n",
       "        style='color: red;'>🃍</span><span class='card deck'\n",
       "        style='color: red;'>🃎</span><span class='card deck'\n",
       "        style='color: black;'>🃑</span><span class='card deck'\n",
       "        style='color: black;'>🃒</span><span class='card deck'\n",
       "        style='color: black;'>🃓</span><span class='card deck'\n",
       "        style='color: black;'>🃔</span><span class='card deck'\n",
       "        style='color: black;'>🃕</span><span class='card deck'\n",
       "        style='color: black;'>🃖</span><span class='card deck'\n",
       "        style='color: black;'>🃗</span><span class='card deck'\n",
       "        style='color: black;'>🃘</span><span class='card deck'\n",
       "        style='color: black;'>🃙</span><span class='card deck'\n",
       "        style='color: black;'>🃚</span><span class='card deck'\n",
       "        style='color: black;'>🃛</span><span class='card deck'\n",
       "        style='color: black;'>🃝</span><span class='card deck'\n",
       "        style='color: black;'>🃞</span>"
      ]
     },
     "execution_count": 44,
     "metadata": {},
     "output_type": "execute_result"
    }
   ],
   "source": [
    "HTML(\"&nbsp;<br><p>&nbsp;<br><p>\" +\n",
    "    Card.values()\n",
    "        .map { CardItem(it,true) }\n",
    "        .fold(myStyle) { acc, c -> acc +\n",
    "\"\"\"<span class='card deck'\n",
    "        style='color: ${if (c.up) c.color() else \"black\"};'>${c.show()}</span>\"\"\"\n",
    "        }\n",
    ")"
   ]
  },
  {
   "cell_type": "markdown",
   "metadata": {},
   "source": [
    "SPOONS게임과 비슷한 것을 작성해보자 보자\n",
    "\n",
    "참고: https://youtu.be/P5apwK711_8"
   ]
  },
  {
   "cell_type": "code",
   "execution_count": 18,
   "metadata": {
    "datalore": {
     "hide_input_from_viewers": true,
     "hide_output_from_viewers": true,
     "node_id": "9uo2kDhjtwPyMpKTM1Ml04",
     "type": "CODE"
    },
    "tags": []
   },
   "outputs": [],
   "source": [
    "interface Deck {\n",
    "    fun size(): Int\n",
    "    fun draw(): CardItem // 덱에서 카드를 뽑기\n",
    "    fun put(c: CardItem) // 덱에 카드 c를 놓기\n",
    "}\n",
    "\n",
    "interface Player {\n",
    "    val hand: MutableList<CardItem> // 이것도 가능!!\n",
    "    fun draw(d: Deck) // 덱 d로부터 카드 하나 뽑기\n",
    "    fun put(d: Deck)  // 카드 하나를 덱 d에 놓기\n",
    "}"
   ]
  },
  {
   "cell_type": "code",
   "execution_count": 19,
   "metadata": {
    "datalore": {
     "hide_input_from_viewers": false,
     "hide_output_from_viewers": false,
     "node_id": "4mwoIxLRq0KldeOCMMLVTi",
     "report_properties": {},
     "type": "CODE"
    },
    "tags": []
   },
   "outputs": [],
   "source": [
    "class C(v: Int){\n",
    "    private var _x: Int = v\n",
    "    var x: Int\n",
    "       get() {\n",
    "           println(\"get x\")\n",
    "           return this._x\n",
    "       }\n",
    "       set(_v) {\n",
    "           println(\"set x\")\n",
    "           this._x = _v\n",
    "       }\n",
    "}"
   ]
  },
  {
   "cell_type": "code",
   "execution_count": 20,
   "metadata": {
    "datalore": {
     "hide_input_from_viewers": true,
     "hide_output_from_viewers": true,
     "node_id": "6wONz0xQxULYfRcM83KzdX",
     "type": "CODE"
    },
    "tags": []
   },
   "outputs": [],
   "source": [
    "val c = C(3)"
   ]
  },
  {
   "cell_type": "code",
   "execution_count": 21,
   "metadata": {
    "datalore": {
     "hide_input_from_viewers": true,
     "hide_output_from_viewers": true,
     "node_id": "JnsoudojLXY68eU9jr8D3u",
     "type": "CODE"
    },
    "tags": []
   },
   "outputs": [
    {
     "name": "stdout",
     "output_type": "stream",
     "text": [
      "get x\n"
     ]
    },
    {
     "data": {
      "text/plain": [
       "3"
      ]
     },
     "execution_count": 21,
     "metadata": {},
     "output_type": "execute_result"
    }
   ],
   "source": [
    "c.x"
   ]
  },
  {
   "cell_type": "code",
   "execution_count": 22,
   "metadata": {
    "tags": []
   },
   "outputs": [
    {
     "name": "stdout",
     "output_type": "stream",
     "text": [
      "set x\n"
     ]
    }
   ],
   "source": [
    "c.x = 4"
   ]
  },
  {
   "cell_type": "code",
   "execution_count": 23,
   "metadata": {
    "tags": []
   },
   "outputs": [
    {
     "name": "stdout",
     "output_type": "stream",
     "text": [
      "get x\n"
     ]
    },
    {
     "data": {
      "text/plain": [
       "4"
      ]
     },
     "execution_count": 23,
     "metadata": {},
     "output_type": "execute_result"
    }
   ],
   "source": [
    "c.x"
   ]
  },
  {
   "cell_type": "code",
   "execution_count": 24,
   "metadata": {
    "tags": []
   },
   "outputs": [],
   "source": [
    "class D(v1: Int, v2: Int) {\n",
    "    var x: Int = v1\n",
    "    var y: Int = v2\n",
    "    val total\n",
    "        get() = this.x + this.y\n",
    "}"
   ]
  },
  {
   "cell_type": "code",
   "execution_count": 25,
   "metadata": {
    "tags": []
   },
   "outputs": [
    {
     "name": "stdout",
     "output_type": "stream",
     "text": [
      "3\n",
      "4\n",
      "7\n"
     ]
    }
   ],
   "source": [
    "val d = D(3,4)\n",
    "\n",
    "println( d.x )\n",
    "println( d.y )\n",
    "println( d.total )"
   ]
  },
  {
   "cell_type": "code",
   "execution_count": 26,
   "metadata": {
    "tags": []
   },
   "outputs": [
    {
     "name": "stdout",
     "output_type": "stream",
     "text": [
      "10\n",
      "4\n",
      "14\n"
     ]
    }
   ],
   "source": [
    "d.x = 10\n",
    "\n",
    "println( d.x )\n",
    "println( d.y )\n",
    "println( d.total )"
   ]
  },
  {
   "cell_type": "code",
   "execution_count": 27,
   "metadata": {
    "tags": []
   },
   "outputs": [
    {
     "data": {
      "text/plain": [
       "class kotlin.Array"
      ]
     },
     "execution_count": 27,
     "metadata": {},
     "output_type": "execute_result"
    }
   ],
   "source": [
    "Card.values()::class"
   ]
  },
  {
   "cell_type": "code",
   "execution_count": 28,
   "metadata": {
    "tags": []
   },
   "outputs": [
    {
     "name": "stdout",
     "output_type": "stream",
     "text": [
      "[SA, S2, S3, S4, S5, S6, S7, S8, S9, S0, SJ, SQ, SK, HA, H2, H3, H4, H5, H6, H7, H8, H9, H0, HJ, HQ, HK, DA, D2, D3, D4, D5, D6, D7, D8, D9, D0, DJ, DQ, DK, CA, C2, C3, C4, C5, C6, C7, C8, C9, C0, CJ, CQ, CK]"
     ]
    }
   ],
   "source": [
    "val cl: List<Card> = Card.values().asList() // 불변 리스트\n",
    "\n",
    "print(cl)"
   ]
  },
  {
   "cell_type": "code",
   "execution_count": 46,
   "metadata": {
    "tags": []
   },
   "outputs": [
    {
     "data": {
      "text/html": [
       "&nbsp;<br><p>&nbsp;<br><p>\n",
       "<style>\n",
       "@import url('https://fonts.googleapis.com/css2?family=Noto+Sans+Symbols+2&display=swap');\n",
       ".card {\n",
       "    display: inline-block; \n",
       "    font-size: 60pt; height: 62pt;\n",
       "    font-family: \"Noto Sans Symbols 2\", sans-serif;\n",
       "    background: rgba(255,255,255, 1) !important;\n",
       "}\n",
       ".deck { margin-right:-32pt; }\n",
       "</style>\n",
       "<span class='card deck'\n",
       "            style='color: red;'>🂵</span><span class='card deck'\n",
       "            style='color: red;'>🂳</span><span class='card deck'\n",
       "            style='color: red;'>🃈</span><span class='card deck'\n",
       "            style='color: red;'>🂺</span><span class='card deck'\n",
       "            style='color: black;'>🃛</span><span class='card deck'\n",
       "            style='color: black;'>🂧</span><span class='card deck'\n",
       "            style='color: red;'>🃋</span><span class='card deck'\n",
       "            style='color: black;'>🂣</span><span class='card deck'\n",
       "            style='color: red;'>🂴</span><span class='card deck'\n",
       "            style='color: black;'>🃚</span><span class='card deck'\n",
       "            style='color: black;'>🂢</span><span class='card deck'\n",
       "            style='color: black;'>🃔</span><span class='card deck'\n",
       "            style='color: red;'>🂶</span><span class='card deck'\n",
       "            style='color: red;'>🃍</span><span class='card deck'\n",
       "            style='color: black;'>🂥</span><span class='card deck'\n",
       "            style='color: black;'>🃙</span><span class='card deck'\n",
       "            style='color: red;'>🃉</span><span class='card deck'\n",
       "            style='color: black;'>🂤</span><span class='card deck'\n",
       "            style='color: red;'>🃆</span><span class='card deck'\n",
       "            style='color: black;'>🃓</span><span class='card deck'\n",
       "            style='color: black;'>🃖</span><span class='card deck'\n",
       "            style='color: black;'>🂡</span><span class='card deck'\n",
       "            style='color: red;'>🂾</span><span class='card deck'\n",
       "            style='color: red;'>🂸</span><span class='card deck'\n",
       "            style='color: red;'>🃊</span><span class='card deck'\n",
       "            style='color: black;'>🃗</span><span class='card deck'\n",
       "            style='color: red;'>🃃</span><span class='card deck'\n",
       "            style='color: red;'>🃂</span><span class='card deck'\n",
       "            style='color: red;'>🃅</span><span class='card deck'\n",
       "            style='color: red;'>🃄</span><span class='card deck'\n",
       "            style='color: black;'>🂫</span><span class='card deck'\n",
       "            style='color: black;'>🃘</span><span class='card deck'\n",
       "            style='color: black;'>🃝</span><span class='card deck'\n",
       "            style='color: red;'>🂽</span><span class='card deck'\n",
       "            style='color: black;'>🂨</span><span class='card deck'\n",
       "            style='color: red;'>🃁</span><span class='card deck'\n",
       "            style='color: black;'>🃕</span><span class='card deck'\n",
       "            style='color: black;'>🃑</span><span class='card deck'\n",
       "            style='color: black;'>🂦</span><span class='card deck'\n",
       "            style='color: red;'>🂻</span><span class='card deck'\n",
       "            style='color: black;'>🂪</span><span class='card deck'\n",
       "            style='color: red;'>🂱</span><span class='card deck'\n",
       "            style='color: black;'>🂭</span><span class='card deck'\n",
       "            style='color: red;'>🂷</span><span class='card deck'\n",
       "            style='color: red;'>🃎</span><span class='card deck'\n",
       "            style='color: red;'>🂹</span><span class='card deck'\n",
       "            style='color: red;'>🂲</span><span class='card deck'\n",
       "            style='color: black;'>🃞</span><span class='card deck'\n",
       "            style='color: red;'>🃇</span><span class='card deck'\n",
       "            style='color: black;'>🂮</span><span class='card deck'\n",
       "            style='color: black;'>🂩</span><span class='card deck'\n",
       "            style='color: black;'>🃒</span>"
      ]
     },
     "execution_count": 46,
     "metadata": {},
     "output_type": "execute_result"
    }
   ],
   "source": [
    "HTML(\"&nbsp;<br><p>&nbsp;<br><p>\" +\n",
    "        cl.shuffled() // cl과는 별도의 새로운 리스트가 만들어짐\n",
    "        .map { CardItem(it,true) }\n",
    "        .fold(myStyle) { acc, c -> acc +\"\"\"<span class='card deck'\n",
    "            style='color: ${if (c.up) c.color() else \"black\"};'>${c.show()}</span>\"\"\"\n",
    "        }\n",
    ")"
   ]
  },
  {
   "cell_type": "code",
   "execution_count": 30,
   "metadata": {
    "tags": []
   },
   "outputs": [
    {
     "name": "stdout",
     "output_type": "stream",
     "text": [
      "[SA, S2, S3, S4, S5, S6, S7, S8, S9, S0, SJ, SQ, SK, HA, H2, H3, H4, H5, H6, H7, H8, H9, H0, HJ, HQ, HK, DA, D2, D3, D4, D5, D6, D7, D8, D9, D0, DJ, DQ, DK, CA, C2, C3, C4, C5, C6, C7, C8, C9, C0, CJ, CQ, CK]"
     ]
    }
   ],
   "source": [
    "print(cl) // 내용 그대로"
   ]
  },
  {
   "cell_type": "code",
   "execution_count": 31,
   "metadata": {
    "tags": []
   },
   "outputs": [
    {
     "name": "stdout",
     "output_type": "stream",
     "text": [
      "[SA, S2, S3, S4, S5, S6, S7, S8, S9, S0, SJ, SQ, SK, HA, H2, H3, H4, H5, H6, H7, H8, H9, H0, HJ, HQ, HK, DA, D2, D3, D4, D5, D6, D7, D8, D9, D0, DJ, DQ, DK, CA, C2, C3, C4, C5, C6, C7, C8, C9, C0, CJ, CQ, CK]"
     ]
    }
   ],
   "source": [
    "val mcl: MutableList<Card> = Card.values().toMutableList() // 가변 리스트\n",
    "print( mcl )"
   ]
  },
  {
   "cell_type": "code",
   "execution_count": 47,
   "metadata": {
    "tags": []
   },
   "outputs": [
    {
     "name": "stdout",
     "output_type": "stream",
     "text": [
      "[C4, D9, SA, C7, CA, HJ, D4, S6, S8, D0, H4, S9, D2, C2, S4, D3, DA, SJ, H9, SK, S2, D7, CK, DK, C5, H6, CJ, C9, HQ, D5, C0, DJ, H0, S7, D6, DQ, H5, H8, H2, D8, CQ, S0, C3, C6, HK, S5, H7, C8, SQ, S3, H3, HA]\n"
     ]
    },
    {
     "data": {
      "text/html": [
       "&nbsp;<br><p>&nbsp;<br><p>\n",
       "<style>\n",
       "@import url('https://fonts.googleapis.com/css2?family=Noto+Sans+Symbols+2&display=swap');\n",
       ".card {\n",
       "    display: inline-block; \n",
       "    font-size: 60pt; height: 62pt;\n",
       "    font-family: \"Noto Sans Symbols 2\", sans-serif;\n",
       "    background: rgba(255,255,255, 1) !important;\n",
       "}\n",
       ".deck { margin-right:-32pt; }\n",
       "</style>\n",
       "<span class='card deck'\n",
       "            style='color: black;'>🃔</span><span class='card deck'\n",
       "            style='color: red;'>🃉</span><span class='card deck'\n",
       "            style='color: black;'>🂡</span><span class='card deck'\n",
       "            style='color: black;'>🃗</span><span class='card deck'\n",
       "            style='color: black;'>🃑</span><span class='card deck'\n",
       "            style='color: red;'>🂻</span><span class='card deck'\n",
       "            style='color: red;'>🃄</span><span class='card deck'\n",
       "            style='color: black;'>🂦</span><span class='card deck'\n",
       "            style='color: black;'>🂨</span><span class='card deck'\n",
       "            style='color: red;'>🃊</span><span class='card deck'\n",
       "            style='color: red;'>🂴</span><span class='card deck'\n",
       "            style='color: black;'>🂩</span><span class='card deck'\n",
       "            style='color: red;'>🃂</span><span class='card deck'\n",
       "            style='color: black;'>🃒</span><span class='card deck'\n",
       "            style='color: black;'>🂤</span><span class='card deck'\n",
       "            style='color: red;'>🃃</span><span class='card deck'\n",
       "            style='color: red;'>🃁</span><span class='card deck'\n",
       "            style='color: black;'>🂫</span><span class='card deck'\n",
       "            style='color: red;'>🂹</span><span class='card deck'\n",
       "            style='color: black;'>🂮</span><span class='card deck'\n",
       "            style='color: black;'>🂢</span><span class='card deck'\n",
       "            style='color: red;'>🃇</span><span class='card deck'\n",
       "            style='color: black;'>🃞</span><span class='card deck'\n",
       "            style='color: red;'>🃎</span><span class='card deck'\n",
       "            style='color: black;'>🃕</span><span class='card deck'\n",
       "            style='color: red;'>🂶</span><span class='card deck'\n",
       "            style='color: black;'>🃛</span><span class='card deck'\n",
       "            style='color: black;'>🃙</span><span class='card deck'\n",
       "            style='color: red;'>🂽</span><span class='card deck'\n",
       "            style='color: red;'>🃅</span><span class='card deck'\n",
       "            style='color: black;'>🃚</span><span class='card deck'\n",
       "            style='color: red;'>🃋</span><span class='card deck'\n",
       "            style='color: red;'>🂺</span><span class='card deck'\n",
       "            style='color: black;'>🂧</span><span class='card deck'\n",
       "            style='color: red;'>🃆</span><span class='card deck'\n",
       "            style='color: red;'>🃍</span><span class='card deck'\n",
       "            style='color: red;'>🂵</span><span class='card deck'\n",
       "            style='color: red;'>🂸</span><span class='card deck'\n",
       "            style='color: red;'>🂲</span><span class='card deck'\n",
       "            style='color: red;'>🃈</span><span class='card deck'\n",
       "            style='color: black;'>🃝</span><span class='card deck'\n",
       "            style='color: black;'>🂪</span><span class='card deck'\n",
       "            style='color: black;'>🃓</span><span class='card deck'\n",
       "            style='color: black;'>🃖</span><span class='card deck'\n",
       "            style='color: red;'>🂾</span><span class='card deck'\n",
       "            style='color: black;'>🂥</span><span class='card deck'\n",
       "            style='color: red;'>🂷</span><span class='card deck'\n",
       "            style='color: black;'>🃘</span><span class='card deck'\n",
       "            style='color: black;'>🂭</span><span class='card deck'\n",
       "            style='color: black;'>🂣</span><span class='card deck'\n",
       "            style='color: red;'>🂳</span><span class='card deck'\n",
       "            style='color: red;'>🂱</span>"
      ]
     },
     "execution_count": 47,
     "metadata": {},
     "output_type": "execute_result"
    }
   ],
   "source": [
    "mcl.shuffle()\n",
    "\n",
    "println( mcl ) // mcl의 내용이 바뀜\n",
    "\n",
    "HTML(\"&nbsp;<br><p>&nbsp;<br><p>\" +\n",
    "        mcl.map { CardItem(it,true) }\n",
    "        .fold(myStyle) { acc, c -> acc +\"\"\"<span class='card deck'\n",
    "            style='color: ${if (c.up) c.color() else \"black\"};'>${c.show()}</span>\"\"\"\n",
    "        }\n",
    ")"
   ]
  },
  {
   "cell_type": "code",
   "execution_count": 48,
   "metadata": {
    "tags": []
   },
   "outputs": [
    {
     "data": {
      "text/html": [
       "\n",
       "<style>\n",
       "@import url('https://fonts.googleapis.com/css2?family=Noto+Sans+Symbols+2&display=swap');\n",
       ".card {\n",
       "    display: inline-block; \n",
       "    font-size: 60pt; height: 62pt;\n",
       "    font-family: \"Noto Sans Symbols 2\", sans-serif;\n",
       "    background: rgba(255,255,255, 1) !important;\n",
       "}\n",
       ".deck { margin-right:-32pt; }\n",
       "</style>\n",
       "&nbsp;<br><p>&nbsp;<br><p>Deck0:<span class='card deck'\n",
       "            style='color: red;'>🃁</span><span class='card deck'\n",
       "            style='color: red;'>🃂</span><span class='card deck'\n",
       "            style='color: black;'>🃙</span><span class='card deck'\n",
       "            style='color: red;'>🃈</span><span class='card deck'\n",
       "            style='color: red;'>🃋</span><span class='card deck'\n",
       "            style='color: red;'>🂲</span><span class='card deck'\n",
       "            style='color: red;'>🃎</span><span class='card deck'\n",
       "            style='color: black;'>🃚</span><span class='card deck'\n",
       "            style='color: black;'>🂥</span><span class='card deck'\n",
       "            style='color: black;'>🃖</span><span class='card deck'\n",
       "            style='color: black;'>🃑</span><span class='card deck'\n",
       "            style='color: red;'>🂳</span><span class='card deck'\n",
       "            style='color: black;'>🃔</span><span class='card deck'\n",
       "            style='color: red;'>🂽</span><span class='card deck'\n",
       "            style='color: red;'>🃍</span><span class='card deck'\n",
       "            style='color: red;'>🂹</span><span class='card deck'\n",
       "            style='color: black;'>🂪</span><span class='card deck'\n",
       "            style='color: red;'>🂺</span><span class='card deck'\n",
       "            style='color: red;'>🃊</span><span class='card deck'\n",
       "            style='color: black;'>🂫</span><span class='card deck'\n",
       "            style='color: black;'>🂡</span><span class='card deck'\n",
       "            style='color: black;'>🂨</span><span class='card deck'\n",
       "            style='color: black;'>🃝</span><span class='card deck'\n",
       "            style='color: black;'>🂤</span><span class='card deck'\n",
       "            style='color: black;'>🃓</span><span class='card deck'\n",
       "            style='color: red;'>🃃</span><span class='card deck'\n",
       "            style='color: red;'>🃄</span><span class='card deck'\n",
       "            style='color: red;'>🂸</span><span class='card deck'\n",
       "            style='color: black;'>🃒</span><span class='card deck'\n",
       "            style='color: black;'>🃗</span><span class='card deck'\n",
       "            style='color: black;'>🂧</span><span class='card deck'\n",
       "            style='color: red;'>🂴</span><span class='card deck'\n",
       "            style='color: black;'>🂦</span><span class='card deck'\n",
       "            style='color: black;'>🂣</span><span class='card deck'\n",
       "            style='color: black;'>🂭</span><span class='card deck'\n",
       "            style='color: black;'>🂮</span><span class='card deck'\n",
       "            style='color: black;'>🃘</span><span class='card deck'\n",
       "            style='color: red;'>🃅</span><span class='card deck'\n",
       "            style='color: red;'>🂾</span><span class='card deck'\n",
       "            style='color: red;'>🂵</span><span class='card deck'\n",
       "            style='color: red;'>🂻</span><span class='card deck'\n",
       "            style='color: red;'>🂱</span><span class='card deck'\n",
       "            style='color: red;'>🃉</span><span class='card deck'\n",
       "            style='color: black;'>🃛</span><span class='card deck'\n",
       "            style='color: black;'>🂢</span><span class='card deck'\n",
       "            style='color: black;'>🃕</span><span class='card deck'\n",
       "            style='color: black;'>🂩</span><span class='card deck'\n",
       "            style='color: black;'>🃞</span><span class='card deck'\n",
       "            style='color: red;'>🃇</span><span class='card deck'\n",
       "            style='color: red;'>🂷</span><span class='card deck'\n",
       "            style='color: red;'>🂶</span><span class='card deck'\n",
       "            style='color: red;'>🃆</span><br>Player0 <span class='card'>🂡</span><span class='card' style='color:red;'>🂱</span><span class='card' style='color:red;'>🃁</span><span class='card'>🃑</span><br>Deck1:<span class='card deck'\n",
       "            style='color: black;'>🃒</span><span class='card deck'\n",
       "            style='color: black;'>🃞</span><span class='card deck'\n",
       "            style='color: black;'>🃑</span><span class='card deck'\n",
       "            style='color: black;'>🂭</span><span class='card deck'\n",
       "            style='color: red;'>🃋</span><span class='card deck'\n",
       "            style='color: red;'>🂵</span><span class='card deck'\n",
       "            style='color: red;'>🂹</span><span class='card deck'\n",
       "            style='color: black;'>🂢</span><span class='card deck'\n",
       "            style='color: red;'>🂽</span><span class='card deck'\n",
       "            style='color: black;'>🃙</span><span class='card deck'\n",
       "            style='color: red;'>🂸</span><span class='card deck'\n",
       "            style='color: red;'>🃁</span><span class='card deck'\n",
       "            style='color: red;'>🃃</span><span class='card deck'\n",
       "            style='color: red;'>🃈</span><span class='card deck'\n",
       "            style='color: red;'>🃊</span><span class='card deck'\n",
       "            style='color: black;'>🂡</span><span class='card deck'\n",
       "            style='color: black;'>🃗</span><span class='card deck'\n",
       "            style='color: black;'>🂮</span><span class='card deck'\n",
       "            style='color: red;'>🃇</span><span class='card deck'\n",
       "            style='color: red;'>🃆</span><span class='card deck'\n",
       "            style='color: black;'>🂧</span><span class='card deck'\n",
       "            style='color: black;'>🃘</span><span class='card deck'\n",
       "            style='color: red;'>🂾</span><span class='card deck'\n",
       "            style='color: red;'>🃂</span><span class='card deck'\n",
       "            style='color: black;'>🃚</span><span class='card deck'\n",
       "            style='color: black;'>🂥</span><span class='card deck'\n",
       "            style='color: red;'>🂴</span><span class='card deck'\n",
       "            style='color: black;'>🃓</span><span class='card deck'\n",
       "            style='color: red;'>🂱</span><span class='card deck'\n",
       "            style='color: black;'>🃕</span><span class='card deck'\n",
       "            style='color: red;'>🃉</span><span class='card deck'\n",
       "            style='color: black;'>🂩</span><span class='card deck'\n",
       "            style='color: red;'>🂺</span><span class='card deck'\n",
       "            style='color: red;'>🂻</span><span class='card deck'\n",
       "            style='color: red;'>🂷</span><span class='card deck'\n",
       "            style='color: red;'>🃍</span><span class='card deck'\n",
       "            style='color: black;'>🃛</span><span class='card deck'\n",
       "            style='color: red;'>🃎</span><span class='card deck'\n",
       "            style='color: red;'>🃄</span><span class='card deck'\n",
       "            style='color: black;'>🃝</span><span class='card deck'\n",
       "            style='color: red;'>🂳</span><span class='card deck'\n",
       "            style='color: red;'>🃅</span><span class='card deck'\n",
       "            style='color: red;'>🂶</span><span class='card deck'\n",
       "            style='color: black;'>🂪</span><span class='card deck'\n",
       "            style='color: red;'>🂲</span><span class='card deck'\n",
       "            style='color: black;'>🃖</span><span class='card deck'\n",
       "            style='color: black;'>🂤</span><span class='card deck'\n",
       "            style='color: black;'>🂨</span><span class='card deck'\n",
       "            style='color: black;'>🂫</span><span class='card deck'\n",
       "            style='color: black;'>🂣</span><span class='card deck'\n",
       "            style='color: black;'>🃔</span><span class='card deck'\n",
       "            style='color: black;'>🂦</span><br>Player1 <span class='card'>🂡</span><span class='card' style='color:red;'>🂱</span><span class='card' style='color:red;'>🃁</span><span class='card'>🃑</span><br>Deck2:<span class='card deck'\n",
       "            style='color: red;'>🃁</span><span class='card deck'\n",
       "            style='color: red;'>🂴</span><span class='card deck'\n",
       "            style='color: black;'>🃖</span><span class='card deck'\n",
       "            style='color: black;'>🂪</span><span class='card deck'\n",
       "            style='color: red;'>🂻</span><span class='card deck'\n",
       "            style='color: black;'>🃚</span><span class='card deck'\n",
       "            style='color: black;'>🃕</span><span class='card deck'\n",
       "            style='color: black;'>🂣</span><span class='card deck'\n",
       "            style='color: black;'>🃛</span><span class='card deck'\n",
       "            style='color: black;'>🂩</span><span class='card deck'\n",
       "            style='color: black;'>🃙</span><span class='card deck'\n",
       "            style='color: red;'>🃆</span><span class='card deck'\n",
       "            style='color: black;'>🂡</span><span class='card deck'\n",
       "            style='color: black;'>🃞</span><span class='card deck'\n",
       "            style='color: black;'>🂭</span><span class='card deck'\n",
       "            style='color: red;'>🃉</span><span class='card deck'\n",
       "            style='color: black;'>🃝</span><span class='card deck'\n",
       "            style='color: black;'>🂦</span><span class='card deck'\n",
       "            style='color: red;'>🂵</span><span class='card deck'\n",
       "            style='color: black;'>🂨</span><span class='card deck'\n",
       "            style='color: red;'>🃎</span><span class='card deck'\n",
       "            style='color: red;'>🂺</span><span class='card deck'\n",
       "            style='color: red;'>🂶</span><span class='card deck'\n",
       "            style='color: red;'>🃋</span><span class='card deck'\n",
       "            style='color: black;'>🃔</span><span class='card deck'\n",
       "            style='color: red;'>🃍</span><span class='card deck'\n",
       "            style='color: black;'>🃒</span><span class='card deck'\n",
       "            style='color: red;'>🂾</span><span class='card deck'\n",
       "            style='color: red;'>🂽</span><span class='card deck'\n",
       "            style='color: red;'>🃃</span><span class='card deck'\n",
       "            style='color: red;'>🃊</span><span class='card deck'\n",
       "            style='color: black;'>🃓</span><span class='card deck'\n",
       "            style='color: red;'>🃇</span><span class='card deck'\n",
       "            style='color: red;'>🃈</span><span class='card deck'\n",
       "            style='color: black;'>🃘</span><span class='card deck'\n",
       "            style='color: black;'>🃗</span><span class='card deck'\n",
       "            style='color: black;'>🂢</span><span class='card deck'\n",
       "            style='color: black;'>🃑</span><span class='card deck'\n",
       "            style='color: red;'>🂱</span><span class='card deck'\n",
       "            style='color: red;'>🂳</span><span class='card deck'\n",
       "            style='color: black;'>🂫</span><span class='card deck'\n",
       "            style='color: red;'>🃂</span><span class='card deck'\n",
       "            style='color: red;'>🂷</span><span class='card deck'\n",
       "            style='color: black;'>🂥</span><span class='card deck'\n",
       "            style='color: black;'>🂧</span><span class='card deck'\n",
       "            style='color: red;'>🂹</span><span class='card deck'\n",
       "            style='color: black;'>🂮</span><span class='card deck'\n",
       "            style='color: red;'>🃄</span><span class='card deck'\n",
       "            style='color: red;'>🂲</span><span class='card deck'\n",
       "            style='color: black;'>🂤</span><span class='card deck'\n",
       "            style='color: red;'>🂸</span><span class='card deck'\n",
       "            style='color: red;'>🃅</span><br>Player2 <span class='card'>🂡</span><span class='card' style='color:red;'>🂱</span><span class='card' style='color:red;'>🃁</span><span class='card'>🃑</span><br>Deck3:<span class='card deck'\n",
       "            style='color: red;'>🃆</span><span class='card deck'\n",
       "            style='color: black;'>🂨</span><span class='card deck'\n",
       "            style='color: red;'>🂵</span><span class='card deck'\n",
       "            style='color: black;'>🃝</span><span class='card deck'\n",
       "            style='color: black;'>🃛</span><span class='card deck'\n",
       "            style='color: red;'>🃃</span><span class='card deck'\n",
       "            style='color: black;'>🃒</span><span class='card deck'\n",
       "            style='color: red;'>🂴</span><span class='card deck'\n",
       "            style='color: red;'>🂽</span><span class='card deck'\n",
       "            style='color: red;'>🂻</span><span class='card deck'\n",
       "            style='color: black;'>🂩</span><span class='card deck'\n",
       "            style='color: black;'>🂧</span><span class='card deck'\n",
       "            style='color: red;'>🂹</span><span class='card deck'\n",
       "            style='color: red;'>🃍</span><span class='card deck'\n",
       "            style='color: red;'>🃁</span><span class='card deck'\n",
       "            style='color: black;'>🂦</span><span class='card deck'\n",
       "            style='color: red;'>🃅</span><span class='card deck'\n",
       "            style='color: red;'>🂷</span><span class='card deck'\n",
       "            style='color: black;'>🂤</span><span class='card deck'\n",
       "            style='color: black;'>🃖</span><span class='card deck'\n",
       "            style='color: black;'>🃞</span><span class='card deck'\n",
       "            style='color: black;'>🂮</span><span class='card deck'\n",
       "            style='color: red;'>🂸</span><span class='card deck'\n",
       "            style='color: black;'>🃕</span><span class='card deck'\n",
       "            style='color: red;'>🃂</span><span class='card deck'\n",
       "            style='color: red;'>🃄</span><span class='card deck'\n",
       "            style='color: black;'>🃗</span><span class='card deck'\n",
       "            style='color: red;'>🂱</span><span class='card deck'\n",
       "            style='color: red;'>🃈</span><span class='card deck'\n",
       "            style='color: black;'>🂫</span><span class='card deck'\n",
       "            style='color: red;'>🃊</span><span class='card deck'\n",
       "            style='color: red;'>🂶</span><span class='card deck'\n",
       "            style='color: black;'>🃙</span><span class='card deck'\n",
       "            style='color: black;'>🂢</span><span class='card deck'\n",
       "            style='color: red;'>🃎</span><span class='card deck'\n",
       "            style='color: black;'>🂥</span><span class='card deck'\n",
       "            style='color: black;'>🂪</span><span class='card deck'\n",
       "            style='color: black;'>🂣</span><span class='card deck'\n",
       "            style='color: red;'>🂺</span><span class='card deck'\n",
       "            style='color: red;'>🃇</span><span class='card deck'\n",
       "            style='color: black;'>🃑</span><span class='card deck'\n",
       "            style='color: black;'>🂭</span><span class='card deck'\n",
       "            style='color: black;'>🂡</span><span class='card deck'\n",
       "            style='color: black;'>🃘</span><span class='card deck'\n",
       "            style='color: black;'>🃔</span><span class='card deck'\n",
       "            style='color: red;'>🃋</span><span class='card deck'\n",
       "            style='color: black;'>🃚</span><span class='card deck'\n",
       "            style='color: red;'>🂲</span><span class='card deck'\n",
       "            style='color: red;'>🂾</span><span class='card deck'\n",
       "            style='color: red;'>🃉</span><span class='card deck'\n",
       "            style='color: red;'>🂳</span><span class='card deck'\n",
       "            style='color: black;'>🃓</span><br>Player3 <span class='card'>🂡</span><span class='card' style='color:red;'>🂱</span><span class='card' style='color:red;'>🃁</span><span class='card'>🃑</span><br>&emsp;&emsp;&emsp;&nbsp;last player puts its card to Deck0"
      ]
     },
     "execution_count": 48,
     "metadata": {},
     "output_type": "execute_result"
    }
   ],
   "source": [
    "val dummyPlayerSampleHTMLcode = { n:Int ->\n",
    "    \"Player${n} \" +\n",
    "    \"<span class='card'>${Card.SA.face}</span>\" +\n",
    "    \"<span class='card' style='color:red;'>${Card.HA.face}</span>\" +\n",
    "    \"<span class='card' style='color:red;'>${Card.DA.face}</span>\" +\n",
    "    \"<span class='card'>${Card.CA.face}</span>\"\n",
    "}\n",
    "    \n",
    "HTML( myStyle + \"&nbsp;<br><p>&nbsp;<br><p>\" +\n",
    "    Card.values().asList().shuffled()\n",
    "        .map { CardItem(it,true) }\n",
    "        .fold(\"Deck0:\") { acc, c -> acc +\"\"\"<span class='card deck'\n",
    "            style='color: ${if (c.up) c.color() else \"black\"};'>${c.show()}</span>\"\"\"\n",
    "        } + \"<br>${dummyPlayerSampleHTMLcode(0)}<br>\" +\n",
    "    Card.values().asList().shuffled()\n",
    "        .map { CardItem(it,true) }\n",
    "        .fold(\"Deck1:\") { acc, c -> acc +\"\"\"<span class='card deck'\n",
    "            style='color: ${if (c.up) c.color() else \"black\"};'>${c.show()}</span>\"\"\"\n",
    "        } + \"<br>${dummyPlayerSampleHTMLcode(1)}<br>\" +\n",
    "    Card.values().asList().shuffled()\n",
    "        .map { CardItem(it,true) }\n",
    "        .fold(\"Deck2:\") { acc, c -> acc +\"\"\"<span class='card deck'\n",
    "            style='color: ${if (c.up) c.color() else \"black\"};'>${c.show()}</span>\"\"\"\n",
    "        }+ \"<br>${dummyPlayerSampleHTMLcode(2)}<br>\" +\n",
    "    Card.values().asList().shuffled()\n",
    "        .map { CardItem(it,true) }\n",
    "        .fold(\"Deck3:\")  { acc, c -> acc +\"\"\"<span class='card deck'\n",
    "            style='color: ${if (c.up) c.color() else \"black\"};'>${c.show()}</span>\"\"\"\n",
    "        } + \"<br>${dummyPlayerSampleHTMLcode(3)}<br>&emsp;&emsp;&emsp;&nbsp;last player puts its card to Deck0\"\n",
    ")"
   ]
  },
  {
   "cell_type": "code",
   "execution_count": 49,
   "metadata": {
    "tags": []
   },
   "outputs": [
    {
     "data": {
      "text/html": [
       "\n",
       "<style>\n",
       "@import url('https://fonts.googleapis.com/css2?family=Noto+Sans+Symbols+2&display=swap');\n",
       ".card {\n",
       "    display: inline-block; \n",
       "    font-size: 60pt; height: 62pt;\n",
       "    font-family: \"Noto Sans Symbols 2\", sans-serif;\n",
       "    background: rgba(255,255,255, 1) !important;\n",
       "}\n",
       ".deck { margin-right:-32pt; }\n",
       "</style>\n",
       "<span class='card deck'\n",
       "            style='color: red;'>🃈</span><span class='card deck'\n",
       "            style='color: black;'>🂦</span><span class='card deck'\n",
       "            style='color: black;'>🂥</span><span class='card deck'\n",
       "            style='color: black;'>🃛</span><span class='card deck'\n",
       "            style='color: red;'>🃊</span><span class='card deck'\n",
       "            style='color: red;'>🂻</span><span class='card deck'\n",
       "            style='color: red;'>🂲</span><span class='card deck'\n",
       "            style='color: black;'>🂪</span><span class='card deck'\n",
       "            style='color: black;'>🃑</span><span class='card deck'\n",
       "            style='color: red;'>🃅</span><span class='card deck'\n",
       "            style='color: black;'>🂭</span><span class='card deck'\n",
       "            style='color: black;'>🂫</span><span class='card deck'\n",
       "            style='color: black;'>🂮</span><span class='card deck'\n",
       "            style='color: black;'>🃝</span><span class='card deck'\n",
       "            style='color: black;'>🃓</span><span class='card deck'\n",
       "            style='color: black;'>🃔</span><span class='card deck'\n",
       "            style='color: red;'>🂱</span><span class='card deck'\n",
       "            style='color: red;'>🂳</span><span class='card deck'\n",
       "            style='color: black;'>🂩</span><span class='card deck'\n",
       "            style='color: red;'>🃃</span><span class='card deck'\n",
       "            style='color: black;'>🃗</span><span class='card deck'\n",
       "            style='color: red;'>🃉</span><span class='card deck'\n",
       "            style='color: red;'>🃇</span><span class='card deck'\n",
       "            style='color: red;'>🃍</span><span class='card deck'\n",
       "            style='color: red;'>🂷</span><span class='card deck'\n",
       "            style='color: red;'>🂺</span><span class='card deck'\n",
       "            style='color: red;'>🂽</span><span class='card deck'\n",
       "            style='color: black;'>🂧</span><span class='card deck'\n",
       "            style='color: red;'>🂵</span><span class='card deck'\n",
       "            style='color: red;'>🂴</span><span class='card deck'\n",
       "            style='color: black;'>🂣</span><span class='card deck'\n",
       "            style='color: black;'>🃖</span><span class='card deck'\n",
       "            style='color: black;'>🂨</span><span class='card deck'\n",
       "            style='color: red;'>🃆</span><span class='card deck'\n",
       "            style='color: black;'>🃒</span><span class='card deck'\n",
       "            style='color: black;'>🂡</span><span class='card deck'\n",
       "            style='color: red;'>🂶</span><span class='card deck'\n",
       "            style='color: red;'>🂸</span><span class='card deck'\n",
       "            style='color: black;'>🃕</span><span class='card deck'\n",
       "            style='color: red;'>🃎</span><span class='card deck'\n",
       "            style='color: black;'>🃘</span><span class='card deck'\n",
       "            style='color: red;'>🃂</span><span class='card deck'\n",
       "            style='color: black;'>🂢</span><span class='card deck'\n",
       "            style='color: red;'>🂹</span><span class='card deck'\n",
       "            style='color: red;'>🃁</span><span class='card deck'\n",
       "            style='color: black;'>🃙</span><span class='card deck'\n",
       "            style='color: red;'>🂾</span><span class='card deck'\n",
       "            style='color: black;'>🃚</span><span class='card deck'\n",
       "            style='color: black;'>🂤</span><span class='card deck'\n",
       "            style='color: red;'>🃋</span><span class='card deck'\n",
       "            style='color: black;'>🃞</span><span class='card deck'\n",
       "            style='color: red;'>🃄</span>"
      ]
     },
     "metadata": {},
     "output_type": "display_data"
    }
   ],
   "source": [
    "val mcs = Card.values().toMutableList()\n",
    "\n",
    "val htmlContent = HTML(\n",
    "     mcs.map { CardItem(it,true) }\n",
    "        .fold(myStyle) { acc, c -> acc +\"\"\"<span class='card deck'\n",
    "            style='color: ${if (c.up) c.color() else \"black\"};'>${c.show()}</span>\"\"\"\n",
    "        }\n",
    ")\n",
    "\n",
    "DISPLAY( htmlContent.withId(\"myDeck\") )"
   ]
  },
  {
   "cell_type": "code",
   "execution_count": 51,
   "metadata": {
    "tags": []
   },
   "outputs": [],
   "source": [
    "mcs.shuffle()\n",
    "\n",
    "val newContent = HTML(\n",
    "     mcs.map { CardItem(it,true) }\n",
    "        .fold(myStyle)  { acc, c -> acc +\"\"\"<span class='card deck'\n",
    "            style='color: ${if (c.up) c.color() else \"black\"};'>${c.show()}</span>\"\"\"\n",
    "        }\n",
    ")\n",
    "\n",
    "UPDATE_DISPLAY( newContent, \"myDeck\" ) // 이 게 실행되면 위에 있는 카드 덱이 바뀐다"
   ]
  },
  {
   "cell_type": "markdown",
   "metadata": {},
   "source": [
    "----\n",
    "\n",
    "Playing Cards로 하는 SPOONS같은 게임을 만들기 위한 준비작업을 하는 활동이다.\n",
    "\n",
    "- `Deck` 인터페이스를 구현하는 `GameDeck` 클래스 작성\n",
    "  - `GameDeck`에 포함된 `CardItem`객체는 up 속성을 `false`로 하여 카드 뒷면이 보이게\n",
    "- `Player` 인터페이스를 구현하는 두 종류의 클래스 `HumanPlayer`와 `ComputerPlayer`를 작성\n",
    "  - `HumanPlayer`는\n",
    "    - `hand`에 든 `CardItem`객체를 `up` 속성을 `true`로 하여 카드 앞면이 드러나 보이게\n",
    "    - `put`메소드에서 표준입력으로 0부터 시작하는 정수 형태의 인덱스 값을 사용자에게 입력받아 `hand`의 해당 인덱스 위치의 카드를 내려놓도록 작성\n",
    "  - `ComputerPlayer`는\n",
    "    - `hand`에 든 `CardItem`객체의 `up` 속성을 `false`로 하여 카드 뒷면이 보이게\n",
    "    - 일단 이 활동에서는 `ComputerPlayer`는 무조건 `hand`의 첫 카드(즉 인덱스 0)를 내려놓도록 `put`메소드 작성\n",
    "- `GameDeck`, `HumanPlayer`, `ComputerPlayer` 모두 보기좋게 보여주기 위해 `ToHTML` 인터페이스도 구현하라"
   ]
  },
  {
   "cell_type": "code",
   "execution_count": 36,
   "metadata": {},
   "outputs": [],
   "source": [
    "object MyUtil {\n",
    "    // 이거는 클래식 Jupyter 노트북 환경이나 Datalore에서는 멀쩡하게 readln()이 잘 동작하는데\n",
    "    // 윌 수업에 활용하는 Jupyter lab에서는 뭔가 꼬여있어서 땜빵하는 코드다\n",
    "    fun readLn(): String { \n",
    "        try {\n",
    "            return readln()\n",
    "        } catch (e: Exception) {\n",
    "            val msg = e.message\n",
    "            if (msg != null) {\n",
    "                val curr = msg.split('\\n').last()\n",
    "                val prefix = \"Current input: {\\\"status\\\":\\\"ok\\\",\\\"value\\\":\"\n",
    "                if ( curr.startsWith(prefix) ) {\n",
    "                    return curr.drop( prefix.length + 1 ).dropLast(1 + 1)\n",
    "                }\n",
    "            }\n",
    "            throw e\n",
    "        }\n",
    "    }\n",
    "    // 적절한 입력이 들어올 때까지 방복해서 입력을 받는 함수\n",
    "    fun readNonNegativeIntUntilSuccess(): Int {\n",
    "        do {\n",
    "             val z = this.readLn().toIntOrNull()\n",
    "             if (z != null && z >= 0) return z\n",
    "        } while (true)\n",
    "    }\n",
    "    val style = \"\"\"\n",
    "<style>\n",
    "@import url('https://fonts.googleapis.com/css2?family=Noto+Sans+Symbols+2&display=swap');\n",
    ".card {\n",
    "    display: inline-block; \n",
    "    font-size: 60pt; height: 62pt;\n",
    "    font-family: \"Noto Sans Symbols 2\", sans-serif;\n",
    "    background: rgba(255,255,255, 1) !important;\n",
    "}\n",
    ".deck { margin-right:-32pt; }\n",
    "</style>\n",
    "\"\"\"\n",
    "}"
   ]
  },
  {
   "cell_type": "code",
   "execution_count": 37,
   "metadata": {
    "tags": []
   },
   "outputs": [
    {
     "data": {
      "text/html": [
       "\n",
       "<style>\n",
       "@import url('https://fonts.googleapis.com/css2?family=Noto+Sans+Symbols+2&display=swap');\n",
       ".card {\n",
       "    display: inline-block; \n",
       "    font-size: 60pt; height: 62pt;\n",
       "    font-family: \"Noto Sans Symbols 2\", sans-serif;\n",
       "    background: rgba(255,255,255, 1) !important;\n",
       "}\n",
       ".deck { margin-right:-32pt; }\n",
       "</style>\n",
       "<span class='card deck'\n",
       "        style='color: red;'>🃁</span><span class='card deck'\n",
       "        style='color: black;'>🃖</span><span class='card deck'\n",
       "        style='color: black;'>🂦</span><span class='card deck'\n",
       "        style='color: red;'>🂴</span><span class='card deck'\n",
       "        style='color: black;'>🂩</span><span class='card deck'\n",
       "        style='color: black;'>🃝</span><span class='card deck'\n",
       "        style='color: black;'>🃞</span><span class='card deck'\n",
       "        style='color: red;'>🃋</span><span class='card deck'\n",
       "        style='color: red;'>🂳</span><span class='card deck'\n",
       "        style='color: red;'>🂾</span><span class='card deck'\n",
       "        style='color: red;'>🂷</span><span class='card deck'\n",
       "        style='color: black;'>🂣</span><span class='card deck'\n",
       "        style='color: red;'>🃍</span><span class='card deck'\n",
       "        style='color: black;'>🃔</span><span class='card deck'\n",
       "        style='color: red;'>🃆</span><span class='card deck'\n",
       "        style='color: red;'>🂱</span><span class='card deck'\n",
       "        style='color: black;'>🃕</span><span class='card deck'\n",
       "        style='color: black;'>🂧</span><span class='card deck'\n",
       "        style='color: black;'>🂭</span><span class='card deck'\n",
       "        style='color: red;'>🃂</span><span class='card deck'\n",
       "        style='color: red;'>🃅</span><span class='card deck'\n",
       "        style='color: black;'>🃛</span><span class='card deck'\n",
       "        style='color: red;'>🃇</span><span class='card deck'\n",
       "        style='color: black;'>🂮</span><span class='card deck'\n",
       "        style='color: red;'>🃄</span><span class='card deck'\n",
       "        style='color: black;'>🂫</span><span class='card deck'\n",
       "        style='color: black;'>🃒</span><span class='card deck'\n",
       "        style='color: red;'>🃉</span><span class='card deck'\n",
       "        style='color: red;'>🃈</span><span class='card deck'\n",
       "        style='color: red;'>🂽</span><span class='card deck'\n",
       "        style='color: black;'>🂡</span><span class='card deck'\n",
       "        style='color: black;'>🃗</span><span class='card deck'\n",
       "        style='color: red;'>🂵</span><span class='card deck'\n",
       "        style='color: black;'>🂤</span><span class='card deck'\n",
       "        style='color: black;'>🂢</span><span class='card deck'\n",
       "        style='color: red;'>🂻</span><span class='card deck'\n",
       "        style='color: black;'>🃙</span><span class='card deck'\n",
       "        style='color: red;'>🂹</span><span class='card deck'\n",
       "        style='color: black;'>🂨</span><span class='card deck'\n",
       "        style='color: red;'>🃊</span><span class='card deck'\n",
       "        style='color: red;'>🃃</span><span class='card deck'\n",
       "        style='color: red;'>🂸</span><span class='card deck'\n",
       "        style='color: red;'>🂶</span><span class='card deck'\n",
       "        style='color: black;'>🂥</span><span class='card deck'\n",
       "        style='color: black;'>🂪</span><span class='card deck'\n",
       "        style='color: black;'>🃘</span><span class='card deck'\n",
       "        style='color: red;'>🃎</span><span class='card deck'\n",
       "        style='color: black;'>🃚</span><span class='card deck'\n",
       "        style='color: red;'>🂲</span><span class='card deck'\n",
       "        style='color: black;'>🃑</span><span class='card deck'\n",
       "        style='color: red;'>🂺</span><span class='card deck'\n",
       "        style='color: black;'>🃓</span>"
      ]
     },
     "execution_count": 37,
     "metadata": {},
     "output_type": "execute_result"
    }
   ],
   "source": [
    "HTML(\n",
    "    Card.values().toList().shuffled()\n",
    "        .map { CardItem(it,true) }\n",
    "        .fold(MyUtil.style) { acc, c -> acc +\n",
    "\"\"\"<span class='card deck'\n",
    "        style='color: ${if (c.up) c.color() else \"black\"};'>${c.show()}</span>\"\"\"\n",
    "        }\n",
    ")"
   ]
  },
  {
   "cell_type": "code",
   "execution_count": 38,
   "metadata": {
    "tags": []
   },
   "outputs": [],
   "source": [
    "interface Deck {\n",
    "    fun size(): Int\n",
    "    fun draw(): CardItem // 덱에서 카드를 뽑기\n",
    "    fun put(c: CardItem) // 덱에 카드 c를 놓기\n",
    "}\n",
    "\n",
    "interface Player {\n",
    "    val hand: MutableList<CardItem> // 이것도 가능!!\n",
    "    fun draw(d: Deck) // 덱 d로부터 카드 하나 뽑기\n",
    "    fun put(d: Deck)  // 카드 하나를 덱 d에 놓기\n",
    "}\n",
    "\n",
    "interface ToHTML {\n",
    "    fun toHTML(): String // 해당 객체를 표현하는 HTML 소스코드 문자열 생성\n",
    "}"
   ]
  },
  {
   "cell_type": "code",
   "execution_count": 39,
   "metadata": {
    "tags": []
   },
   "outputs": [],
   "source": [
    "// 여기서부터"
   ]
  },
  {
   "cell_type": "code",
   "execution_count": 40,
   "metadata": {
    "tags": []
   },
   "outputs": [],
   "source": [
    "// 활동 내용에 지시된 적절한 코드를 작성하고"
   ]
  },
  {
   "cell_type": "code",
   "execution_count": 41,
   "metadata": {
    "tags": []
   },
   "outputs": [],
   "source": [
    "// 작성된 코드가 잘 동작하는지 보여주는 테스트도 실행하라"
   ]
  },
  {
   "cell_type": "code",
   "execution_count": null,
   "metadata": {},
   "outputs": [],
   "source": []
  }
 ],
 "metadata": {
  "datalore": {
   "base_environment": "default",
   "computation_mode": "JUPYTER",
   "package_manager": "pip",
   "packages": [],
   "version": 1
  },
  "kernelspec": {
   "display_name": "Kotlin",
   "language": "kotlin",
   "name": "kotlin"
  },
  "language_info": {
   "codemirror_mode": "text/x-kotlin",
   "file_extension": ".kt",
   "mimetype": "text/x-kotlin",
   "name": "kotlin",
   "nbconvert_exporter": "",
   "pygments_lexer": "kotlin",
   "version": "1.8.20"
  }
 },
 "nbformat": 4,
 "nbformat_minor": 4
}
