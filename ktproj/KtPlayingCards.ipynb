{
 "cells": [
  {
   "cell_type": "markdown",
   "metadata": {
    "datalore": {
     "hide_input_from_viewers": false,
     "hide_output_from_viewers": false,
     "node_id": "Q9CxweMun5a0XbsUBZrDlS",
     "report_properties": {},
     "type": "MD"
    }
   },
   "source": [
    "# Playing Cards"
   ]
  },
  {
   "cell_type": "code",
   "execution_count": 1,
   "metadata": {
    "datalore": {
     "hide_input_from_viewers": false,
     "hide_output_from_viewers": false,
     "node_id": "mmYzBeSDttiKvvKH3ysclM",
     "report_properties": {},
     "type": "CODE"
    },
    "tags": []
   },
   "outputs": [],
   "source": [
    "enum class Symbol { SPADE, HEART, DIA, CLUB; } // 모양\n",
    "\n",
    "enum class Card(val face: String, val back: String = \"🂠\") { // 카드의 종류\n",
    "    SA(\"🂡\"),S2(\"🂢\"),S3(\"🂣\"),S4(\"🂤\"),S5(\"🂥\"),S6(\"🂦\"),\n",
    "    S7(\"🂧\"),S8(\"🂨\"),S9(\"🂩\"),S0(\"🂪\"),SJ(\"🂫\"),SQ(\"🂭\"),SK(\"🂮\"),\n",
    "    HA(\"🂱\"),H2(\"🂲\"),H3(\"🂳\"),H4(\"🂴\"),H5(\"🂵\"),H6(\"🂶\"),\n",
    "    H7(\"🂷\"),H8(\"🂸\"),H9(\"🂹\"),H0(\"🂺\"),HJ(\"🂻\"),HQ(\"🂽\"),HK(\"🂾\"),\n",
    "    DA(\"🃁\"),D2(\"🃂\"),D3(\"🃃\"),D4(\"🃄\"),D5(\"🃅\"),D6(\"🃆\"),\n",
    "    D7(\"🃇\"),D8(\"🃈\"),D9(\"🃉\"),D0(\"🃊\"),DJ(\"🃋\"),DQ(\"🃍\"),DK(\"🃎\"),\n",
    "    CA(\"🃑\"),C2(\"🃒\"),C3(\"🃓\"),C4(\"🃔\"),C5(\"🃕\"),C6(\"🃖\"),\n",
    "    C7(\"🃗\"),C8(\"🃘\"),C9(\"🃙\"),C0(\"🃚\"),CJ(\"🃛\"),CQ(\"🃝\"),CK(\"🃞\");\n",
    "    \n",
    "    fun symbol() = when(this) {\n",
    "        in SA..SK -> Symbol.SPADE\n",
    "        in HA..HK -> Symbol.HEART\n",
    "        in DA..DK -> Symbol.DIA\n",
    "        else      -> Symbol.CLUB // 나머지 경우는 \n",
    "    }\n",
    "    \n",
    "    fun color() = when(symbol()) {\n",
    "        Symbol.SPADE -> \"black\"\n",
    "        Symbol.HEART -> \"red\"\n",
    "        Symbol.DIA   -> \"red\"\n",
    "        Symbol.CLUB  -> \"black\"\n",
    "    }\n",
    "    \n",
    "    fun rank() = this.ordinal % 13 + 1 // A가 1, 숫자는 숫자값, J,Q,K는 11,12,13\n",
    "}"
   ]
  },
  {
   "cell_type": "code",
   "execution_count": 2,
   "metadata": {
    "datalore": {
     "hide_input_from_viewers": false,
     "hide_output_from_viewers": false,
     "node_id": "gYgk2ktmrK06TkSYLZMTMI",
     "report_properties": {},
     "type": "CODE"
    },
    "tags": []
   },
   "outputs": [
    {
     "data": {
      "text/plain": [
       "CLUB"
      ]
     },
     "execution_count": 2,
     "metadata": {},
     "output_type": "execute_result"
    }
   ],
   "source": [
    "Card.C3.symbol()"
   ]
  },
  {
   "cell_type": "code",
   "execution_count": 3,
   "metadata": {
    "datalore": {
     "hide_input_from_viewers": false,
     "hide_output_from_viewers": false,
     "node_id": "nyQrSq0Rq1cMwmw6F4OK6g",
     "report_properties": {},
     "type": "CODE"
    },
    "tags": []
   },
   "outputs": [
    {
     "data": {
      "text/plain": [
       "41"
      ]
     },
     "execution_count": 3,
     "metadata": {},
     "output_type": "execute_result"
    }
   ],
   "source": [
    "Card.C3.ordinal"
   ]
  },
  {
   "cell_type": "code",
   "execution_count": 4,
   "metadata": {
    "datalore": {
     "hide_input_from_viewers": false,
     "hide_output_from_viewers": false,
     "node_id": "oFJOcg2rREVZYuT78SCXl0",
     "report_properties": {},
     "type": "CODE"
    },
    "tags": []
   },
   "outputs": [
    {
     "data": {
      "text/plain": [
       "3"
      ]
     },
     "execution_count": 4,
     "metadata": {},
     "output_type": "execute_result"
    }
   ],
   "source": [
    "Card.C3.rank() // 1"
   ]
  },
  {
   "cell_type": "code",
   "execution_count": 5,
   "metadata": {
    "datalore": {
     "hide_input_from_viewers": false,
     "hide_output_from_viewers": false,
     "node_id": "oaVXxWXuAdv7UHQxjZ2oM1",
     "report_properties": {},
     "type": "CODE"
    },
    "tags": []
   },
   "outputs": [
    {
     "data": {
      "text/plain": [
       "12"
      ]
     },
     "execution_count": 5,
     "metadata": {},
     "output_type": "execute_result"
    }
   ],
   "source": [
    "Card.DQ.rank()"
   ]
  },
  {
   "cell_type": "code",
   "execution_count": 6,
   "metadata": {
    "datalore": {
     "hide_input_from_viewers": false,
     "hide_output_from_viewers": false,
     "node_id": "FNURa39UO95YywssFXbjTJ",
     "report_properties": {},
     "type": "CODE"
    },
    "tags": []
   },
   "outputs": [
    {
     "data": {
      "text/plain": [
       "hello 7 world"
      ]
     },
     "execution_count": 6,
     "metadata": {},
     "output_type": "execute_result"
    }
   ],
   "source": [
    "\"hello ${3 + 4} world\""
   ]
  },
  {
   "cell_type": "code",
   "execution_count": 7,
   "metadata": {
    "datalore": {
     "hide_input_from_viewers": false,
     "hide_output_from_viewers": false,
     "node_id": "KYmYn4bbWL4qhZJbrmLqRz",
     "report_properties": {},
     "type": "CODE"
    },
    "tags": []
   },
   "outputs": [
    {
     "data": {
      "text/html": [
       "aaa<b>ccc</b>dddd"
      ]
     },
     "execution_count": 7,
     "metadata": {},
     "output_type": "execute_result"
    }
   ],
   "source": [
    "HTML(\"aaa<b>ccc</b>dddd\")"
   ]
  },
  {
   "cell_type": "code",
   "execution_count": 8,
   "metadata": {
    "datalore": {
     "hide_input_from_viewers": false,
     "hide_output_from_viewers": false,
     "node_id": "zT8okJ0TwdF4Sc9oyIwHt6",
     "report_properties": {},
     "type": "CODE"
    },
    "tags": []
   },
   "outputs": [
    {
     "data": {
      "text/html": [
       "<span style='font-size:60pt;color:black'>🃓</span>"
      ]
     },
     "execution_count": 8,
     "metadata": {},
     "output_type": "execute_result"
    }
   ],
   "source": [
    "HTML(\"<span style='font-size:60pt;color:${Card.C3.color()}'>${Card.C3.face}</span>\")"
   ]
  },
  {
   "cell_type": "code",
   "execution_count": 9,
   "metadata": {
    "datalore": {
     "hide_input_from_viewers": false,
     "hide_output_from_viewers": false,
     "node_id": "FoDachjmalql0kDJuQA3hO",
     "report_properties": {},
     "type": "CODE"
    },
    "tags": []
   },
   "outputs": [
    {
     "data": {
      "text/html": [
       "<span style='font-size:60pt;color:red'>🂳</span>"
      ]
     },
     "execution_count": 9,
     "metadata": {},
     "output_type": "execute_result"
    }
   ],
   "source": [
    "HTML(\"<span style='font-size:60pt;color:${Card.H3.color()}'>${Card.H3.face}</span>\")"
   ]
  },
  {
   "cell_type": "code",
   "execution_count": 10,
   "metadata": {
    "datalore": {
     "hide_input_from_viewers": false,
     "hide_output_from_viewers": false,
     "node_id": "BkEBUiYZI7OTO8MmzxLdqd",
     "report_properties": {},
     "type": "CODE"
    },
    "tags": []
   },
   "outputs": [
    {
     "data": {
      "text/plain": [
       "[SA, S2, S3, S4, S5, S6, S7, S8, S9, S0, SJ, SQ, SK, HA, H2, H3, H4, H5, H6, H7, H8, H9, H0, HJ, HQ, HK, DA, D2, D3, D4, D5, D6, D7, D8, D9, D0, DJ, DQ, DK, CA, C2, C3, C4, C5, C6, C7, C8, C9, C0, CJ, CQ, CK]"
      ]
     },
     "execution_count": 10,
     "metadata": {},
     "output_type": "execute_result"
    }
   ],
   "source": [
    "Card.values() // Card라는 enum class의 모든 가능한 값(object)들"
   ]
  },
  {
   "cell_type": "code",
   "execution_count": 11,
   "metadata": {
    "datalore": {
     "hide_input_from_viewers": false,
     "hide_output_from_viewers": false,
     "node_id": "3jDt4ATfeQ1pPDCu2tdPG3",
     "report_properties": {},
     "type": "CODE"
    },
    "tags": []
   },
   "outputs": [],
   "source": [
    "data class CardItem(val card: Card, var up: Boolean = false) { // 카드 한장\n",
    "    fun symbol() = card.symbol()\n",
    "    fun color() = card.color()\n",
    "    fun rank() = card.rank()\n",
    "    fun show() = if(up) card.face else card.back\n",
    "}"
   ]
  },
  {
   "cell_type": "markdown",
   "metadata": {
    "datalore": {
     "hide_input_from_viewers": true,
     "hide_output_from_viewers": true,
     "node_id": "WU599DcbLMDZizdvTDMimE",
     "type": "MD"
    }
   },
   "source": [
    "`CardItem`은 `Card`의 메소드들을 같은 이름의 메소드로 노출시키고 있음\n",
    "\n",
    "`CardItem`이 `Card`를 감싸고 있는 형태\n",
    "  - 넓은 의미에서 느슨하게 대략 Wrapper라고 부르기도 함\n",
    "  - 이런 형태를 활용하는 다자인 패턴으로는 Delegate, Decorator, Proxy, Facade, ..."
   ]
  },
  {
   "cell_type": "code",
   "execution_count": 12,
   "metadata": {
    "datalore": {
     "hide_input_from_viewers": true,
     "hide_output_from_viewers": true,
     "node_id": "36P3rrG7PTrZa1aABRPwT3",
     "type": "CODE"
    },
    "tags": []
   },
   "outputs": [
    {
     "data": {
      "text/plain": [
       "[CardItem(card=SA, up=false), CardItem(card=S2, up=false), CardItem(card=S3, up=false), CardItem(card=S4, up=false), CardItem(card=S5, up=false), CardItem(card=S6, up=false), CardItem(card=S7, up=false), CardItem(card=S8, up=false), CardItem(card=S9, up=false), CardItem(card=S0, up=false), CardItem(card=SJ, up=false), CardItem(card=SQ, up=false), CardItem(card=SK, up=false), CardItem(card=HA, up=false), CardItem(card=H2, up=false), CardItem(card=H3, up=false), CardItem(card=H4, up=false), CardItem(card=H5, up=false), CardItem(card=H6, up=false), CardItem(card=H7, up=false), CardItem(card=H8, up=false), CardItem(card=H9, up=false), CardItem(card=H0, up=false), CardItem(card=HJ, up=false), CardItem(card=HQ, up=false), CardItem(card=HK, up=false), CardItem(card=DA, up=false), CardItem(card=D2, up=false), CardItem(card=D3, up=false), CardItem(card=D4, up=false), CardItem(card=D5, up=false), CardItem(card=D6, up=false), CardItem(card=D7, up=false), CardItem(card=D8, up=false), CardItem(card=D9, up=false), CardItem(card=D0, up=false), CardItem(card=DJ, up=false), CardItem(card=DQ, up=false), CardItem(card=DK, up=false), CardItem(card=CA, up=false), CardItem(card=C2, up=false), CardItem(card=C3, up=false), CardItem(card=C4, up=false), CardItem(card=C5, up=false), CardItem(card=C6, up=false), CardItem(card=C7, up=false), CardItem(card=C8, up=false), CardItem(card=C9, up=false), CardItem(card=C0, up=false), CardItem(card=CJ, up=false), CardItem(card=CQ, up=false), CardItem(card=CK, up=false)]"
      ]
     },
     "execution_count": 12,
     "metadata": {},
     "output_type": "execute_result"
    }
   ],
   "source": [
    "Card.values().map { CardItem(it) }"
   ]
  },
  {
   "cell_type": "code",
   "execution_count": 13,
   "metadata": {
    "datalore": {
     "hide_input_from_viewers": false,
     "hide_output_from_viewers": false,
     "node_id": "8qNDotzszIVV2W2n41kRdk",
     "report_properties": {},
     "type": "CODE"
    },
    "tags": []
   },
   "outputs": [
    {
     "data": {
      "text/plain": [
       "[🂡, 🂢, 🂣, 🂤, 🂥, 🂦, 🂧, 🂨, 🂩, 🂪, 🂫, 🂭, 🂮, 🂱, 🂲, 🂳, 🂴, 🂵, 🂶, 🂷, 🂸, 🂹, 🂺, 🂻, 🂽, 🂾, 🃁, 🃂, 🃃, 🃄, 🃅, 🃆, 🃇, 🃈, 🃉, 🃊, 🃋, 🃍, 🃎, 🃑, 🃒, 🃓, 🃔, 🃕, 🃖, 🃗, 🃘, 🃙, 🃚, 🃛, 🃝, 🃞]"
      ]
     },
     "execution_count": 13,
     "metadata": {},
     "output_type": "execute_result"
    }
   ],
   "source": [
    "Card.values().map { CardItem(it, true).show() }"
   ]
  },
  {
   "cell_type": "code",
   "execution_count": 14,
   "metadata": {
    "datalore": {
     "hide_input_from_viewers": false,
     "hide_output_from_viewers": false,
     "node_id": "KiXkBN5fsrIIJOEA03TEJR",
     "report_properties": {},
     "type": "CODE"
    },
    "tags": []
   },
   "outputs": [
    {
     "data": {
      "text/plain": [
       "[🂡, 🂢, 🂣, 🂤, 🂥, 🂦, 🂧, 🂨, 🂩, 🂪, 🂫, 🂭, 🂮, 🂱, 🂲, 🂳, 🂴, 🂵, 🂶, 🂷, 🂸, 🂹, 🂺, 🂻, 🂽, 🂾, 🃁, 🃂, 🃃, 🃄, 🃅, 🃆, 🃇, 🃈, 🃉, 🃊, 🃋, 🃍, 🃎, 🃑, 🃒, 🃓, 🃔, 🃕, 🃖, 🃗, 🃘, 🃙, 🃚, 🃛, 🃝, 🃞]"
      ]
     },
     "execution_count": 14,
     "metadata": {},
     "output_type": "execute_result"
    }
   ],
   "source": [
    "Card.values().map { CardItem(it,true).show() }"
   ]
  },
  {
   "cell_type": "code",
   "execution_count": 15,
   "metadata": {
    "datalore": {
     "hide_input_from_viewers": true,
     "hide_output_from_viewers": true,
     "node_id": "9V2CGGK0MEgCgK5N5KvkNF",
     "type": "CODE"
    },
    "tags": []
   },
   "outputs": [
    {
     "data": {
      "text/plain": [
       "90"
      ]
     },
     "execution_count": 15,
     "metadata": {},
     "output_type": "execute_result"
    }
   ],
   "source": [
    "// (((100-1)-2)-3)-4\n",
    "listOf(1,2,3,4).fold(100) { acc, x -> acc - x }"
   ]
  },
  {
   "cell_type": "code",
   "execution_count": 16,
   "metadata": {
    "tags": []
   },
   "outputs": [
    {
     "data": {
      "text/html": [
       "\n",
       "<style>\n",
       "@import url('https://fonts.googleapis.com/css2?family=Noto+Sans+Symbols+2&display=swap');\n",
       ".card {\n",
       "    display: inline-block; \n",
       "    font-size: 60pt; height: 62pt;\n",
       "    font-family: \"Noto Sans Symbols 2\", sans-serif;\n",
       "    background: rgba(255,255,255, 1) !important;\n",
       "}\n",
       ".deck { margin-right:-32pt; }\n",
       "</style>\n"
      ]
     },
     "execution_count": 16,
     "metadata": {},
     "output_type": "execute_result"
    }
   ],
   "source": [
    "val myStyle = \"\"\"\n",
    "<style>\n",
    "@import url('https://fonts.googleapis.com/css2?family=Noto+Sans+Symbols+2&display=swap');\n",
    ".card {\n",
    "    display: inline-block; \n",
    "    font-size: 60pt; height: 62pt;\n",
    "    font-family: \"Noto Sans Symbols 2\", sans-serif;\n",
    "    background: rgba(255,255,255, 1) !important;\n",
    "}\n",
    ".deck { margin-right:-32pt; }\n",
    "</style>\n",
    "\"\"\"\n",
    "\n",
    "HTML(myStyle)"
   ]
  },
  {
   "cell_type": "code",
   "execution_count": 17,
   "metadata": {
    "datalore": {
     "hide_input_from_viewers": false,
     "hide_output_from_viewers": false,
     "node_id": "MDSjBgZvJZM4dPvW995YqG",
     "report_properties": {},
     "type": "CODE"
    },
    "tags": []
   },
   "outputs": [
    {
     "data": {
      "text/html": [
       "\n",
       "<style>\n",
       "@import url('https://fonts.googleapis.com/css2?family=Noto+Sans+Symbols+2&display=swap');\n",
       ".card {\n",
       "    display: inline-block; \n",
       "    font-size: 60pt; height: 62pt;\n",
       "    font-family: \"Noto Sans Symbols 2\", sans-serif;\n",
       "    background: rgba(255,255,255, 1) !important;\n",
       "}\n",
       ".deck { margin-right:-32pt; }\n",
       "</style>\n",
       "<span class='card deck'\n",
       "        style='color: black;'>🂡</span><span class='card deck'\n",
       "        style='color: black;'>🂢</span><span class='card deck'\n",
       "        style='color: black;'>🂣</span><span class='card deck'\n",
       "        style='color: black;'>🂤</span><span class='card deck'\n",
       "        style='color: black;'>🂥</span><span class='card deck'\n",
       "        style='color: black;'>🂦</span><span class='card deck'\n",
       "        style='color: black;'>🂧</span><span class='card deck'\n",
       "        style='color: black;'>🂨</span><span class='card deck'\n",
       "        style='color: black;'>🂩</span><span class='card deck'\n",
       "        style='color: black;'>🂪</span><span class='card deck'\n",
       "        style='color: black;'>🂫</span><span class='card deck'\n",
       "        style='color: black;'>🂭</span><span class='card deck'\n",
       "        style='color: black;'>🂮</span><span class='card deck'\n",
       "        style='color: red;'>🂱</span><span class='card deck'\n",
       "        style='color: red;'>🂲</span><span class='card deck'\n",
       "        style='color: red;'>🂳</span><span class='card deck'\n",
       "        style='color: red;'>🂴</span><span class='card deck'\n",
       "        style='color: red;'>🂵</span><span class='card deck'\n",
       "        style='color: red;'>🂶</span><span class='card deck'\n",
       "        style='color: red;'>🂷</span><span class='card deck'\n",
       "        style='color: red;'>🂸</span><span class='card deck'\n",
       "        style='color: red;'>🂹</span><span class='card deck'\n",
       "        style='color: red;'>🂺</span><span class='card deck'\n",
       "        style='color: red;'>🂻</span><span class='card deck'\n",
       "        style='color: red;'>🂽</span><span class='card deck'\n",
       "        style='color: red;'>🂾</span><span class='card deck'\n",
       "        style='color: red;'>🃁</span><span class='card deck'\n",
       "        style='color: red;'>🃂</span><span class='card deck'\n",
       "        style='color: red;'>🃃</span><span class='card deck'\n",
       "        style='color: red;'>🃄</span><span class='card deck'\n",
       "        style='color: red;'>🃅</span><span class='card deck'\n",
       "        style='color: red;'>🃆</span><span class='card deck'\n",
       "        style='color: red;'>🃇</span><span class='card deck'\n",
       "        style='color: red;'>🃈</span><span class='card deck'\n",
       "        style='color: red;'>🃉</span><span class='card deck'\n",
       "        style='color: red;'>🃊</span><span class='card deck'\n",
       "        style='color: red;'>🃋</span><span class='card deck'\n",
       "        style='color: red;'>🃍</span><span class='card deck'\n",
       "        style='color: red;'>🃎</span><span class='card deck'\n",
       "        style='color: black;'>🃑</span><span class='card deck'\n",
       "        style='color: black;'>🃒</span><span class='card deck'\n",
       "        style='color: black;'>🃓</span><span class='card deck'\n",
       "        style='color: black;'>🃔</span><span class='card deck'\n",
       "        style='color: black;'>🃕</span><span class='card deck'\n",
       "        style='color: black;'>🃖</span><span class='card deck'\n",
       "        style='color: black;'>🃗</span><span class='card deck'\n",
       "        style='color: black;'>🃘</span><span class='card deck'\n",
       "        style='color: black;'>🃙</span><span class='card deck'\n",
       "        style='color: black;'>🃚</span><span class='card deck'\n",
       "        style='color: black;'>🃛</span><span class='card deck'\n",
       "        style='color: black;'>🃝</span><span class='card deck'\n",
       "        style='color: black;'>🃞</span>"
      ]
     },
     "execution_count": 17,
     "metadata": {},
     "output_type": "execute_result"
    }
   ],
   "source": [
    "HTML(\n",
    "    Card.values()\n",
    "        .map { CardItem(it,true) }\n",
    "        .fold(myStyle) { acc, c -> acc +\n",
    "\"\"\"<span class='card deck'\n",
    "        style='color: ${if (c.up) c.color() else \"black\"};'>${c.show()}</span>\"\"\"\n",
    "        }\n",
    ")"
   ]
  },
  {
   "cell_type": "markdown",
   "metadata": {},
   "source": [
    "SPOONS게임과 비슷한 것을 작성해보자 보자\n",
    "\n",
    "참고: https://youtu.be/P5apwK711_8"
   ]
  },
  {
   "cell_type": "code",
   "execution_count": 18,
   "metadata": {
    "datalore": {
     "hide_input_from_viewers": true,
     "hide_output_from_viewers": true,
     "node_id": "9uo2kDhjtwPyMpKTM1Ml04",
     "type": "CODE"
    },
    "tags": []
   },
   "outputs": [],
   "source": [
    "interface Deck {\n",
    "    fun size(): Int\n",
    "    fun draw(): CardItem // 덱에서 카드를 뽑기\n",
    "    fun put(c: CardItem) // 덱에 카드 c를 놓기\n",
    "}\n",
    "\n",
    "interface Player {\n",
    "    val hand: MutableList<CardItem> // 이것도 가능!!\n",
    "    fun draw(d: Deck) // 덱 d로부터 카드 하나 뽑기\n",
    "    fun put(d: Deck)  // 카드 하나를 덱 d에 놓기\n",
    "}"
   ]
  },
  {
   "cell_type": "code",
   "execution_count": 19,
   "metadata": {
    "datalore": {
     "hide_input_from_viewers": false,
     "hide_output_from_viewers": false,
     "node_id": "4mwoIxLRq0KldeOCMMLVTi",
     "report_properties": {},
     "type": "CODE"
    },
    "tags": []
   },
   "outputs": [],
   "source": [
    "class C(v: Int){\n",
    "    private var _x: Int = v\n",
    "    var x: Int\n",
    "       get() {\n",
    "           println(\"get x\")\n",
    "           return this._x\n",
    "       }\n",
    "       set(_v) {\n",
    "           println(\"set x\")\n",
    "           this._x = _v\n",
    "       }\n",
    "}"
   ]
  },
  {
   "cell_type": "code",
   "execution_count": 20,
   "metadata": {
    "datalore": {
     "hide_input_from_viewers": true,
     "hide_output_from_viewers": true,
     "node_id": "6wONz0xQxULYfRcM83KzdX",
     "type": "CODE"
    },
    "tags": []
   },
   "outputs": [],
   "source": [
    "val c = C(3)"
   ]
  },
  {
   "cell_type": "code",
   "execution_count": 21,
   "metadata": {
    "datalore": {
     "hide_input_from_viewers": true,
     "hide_output_from_viewers": true,
     "node_id": "JnsoudojLXY68eU9jr8D3u",
     "type": "CODE"
    },
    "tags": []
   },
   "outputs": [
    {
     "name": "stdout",
     "output_type": "stream",
     "text": [
      "get x\n"
     ]
    },
    {
     "data": {
      "text/plain": [
       "3"
      ]
     },
     "execution_count": 21,
     "metadata": {},
     "output_type": "execute_result"
    }
   ],
   "source": [
    "c.x"
   ]
  },
  {
   "cell_type": "code",
   "execution_count": 22,
   "metadata": {
    "tags": []
   },
   "outputs": [
    {
     "name": "stdout",
     "output_type": "stream",
     "text": [
      "set x\n"
     ]
    }
   ],
   "source": [
    "c.x = 4"
   ]
  },
  {
   "cell_type": "code",
   "execution_count": 23,
   "metadata": {
    "tags": []
   },
   "outputs": [
    {
     "name": "stdout",
     "output_type": "stream",
     "text": [
      "get x\n"
     ]
    },
    {
     "data": {
      "text/plain": [
       "4"
      ]
     },
     "execution_count": 23,
     "metadata": {},
     "output_type": "execute_result"
    }
   ],
   "source": [
    "c.x"
   ]
  },
  {
   "cell_type": "code",
   "execution_count": 24,
   "metadata": {
    "tags": []
   },
   "outputs": [],
   "source": [
    "class D(v1: Int, v2: Int) {\n",
    "    var x: Int = v1\n",
    "    var y: Int = v2\n",
    "    val total\n",
    "        get() = this.x + this.y\n",
    "}"
   ]
  },
  {
   "cell_type": "code",
   "execution_count": 25,
   "metadata": {
    "tags": []
   },
   "outputs": [
    {
     "name": "stdout",
     "output_type": "stream",
     "text": [
      "3\n",
      "4\n",
      "7\n"
     ]
    }
   ],
   "source": [
    "val d = D(3,4)\n",
    "\n",
    "println( d.x )\n",
    "println( d.y )\n",
    "println( d.total )"
   ]
  },
  {
   "cell_type": "code",
   "execution_count": 26,
   "metadata": {
    "tags": []
   },
   "outputs": [
    {
     "name": "stdout",
     "output_type": "stream",
     "text": [
      "10\n",
      "4\n",
      "14\n"
     ]
    }
   ],
   "source": [
    "d.x = 10\n",
    "\n",
    "println( d.x )\n",
    "println( d.y )\n",
    "println( d.total )"
   ]
  },
  {
   "cell_type": "code",
   "execution_count": 27,
   "metadata": {
    "tags": []
   },
   "outputs": [
    {
     "data": {
      "text/plain": [
       "class kotlin.Array"
      ]
     },
     "execution_count": 27,
     "metadata": {},
     "output_type": "execute_result"
    }
   ],
   "source": [
    "Card.values()::class"
   ]
  },
  {
   "cell_type": "code",
   "execution_count": 28,
   "metadata": {
    "tags": []
   },
   "outputs": [
    {
     "name": "stdout",
     "output_type": "stream",
     "text": [
      "[SA, S2, S3, S4, S5, S6, S7, S8, S9, S0, SJ, SQ, SK, HA, H2, H3, H4, H5, H6, H7, H8, H9, H0, HJ, HQ, HK, DA, D2, D3, D4, D5, D6, D7, D8, D9, D0, DJ, DQ, DK, CA, C2, C3, C4, C5, C6, C7, C8, C9, C0, CJ, CQ, CK]"
     ]
    }
   ],
   "source": [
    "val cl: List<Card> = Card.values().asList() // 불변 리스트\n",
    "\n",
    "print(cl)"
   ]
  },
  {
   "cell_type": "code",
   "execution_count": 29,
   "metadata": {
    "tags": []
   },
   "outputs": [
    {
     "data": {
      "text/html": [
       "\n",
       "<style>\n",
       "@import url('https://fonts.googleapis.com/css2?family=Noto+Sans+Symbols+2&display=swap');\n",
       ".card {\n",
       "    display: inline-block; \n",
       "    font-size: 60pt; height: 62pt;\n",
       "    font-family: \"Noto Sans Symbols 2\", sans-serif;\n",
       "    background: rgba(255,255,255, 1) !important;\n",
       "}\n",
       ".deck { margin-right:-32pt; }\n",
       "</style>\n",
       "<span class='card deck'\n",
       "            style='color: red;'>🂱</span><span class='card deck'\n",
       "            style='color: black;'>🃕</span><span class='card deck'\n",
       "            style='color: red;'>🂾</span><span class='card deck'\n",
       "            style='color: black;'>🃙</span><span class='card deck'\n",
       "            style='color: red;'>🃂</span><span class='card deck'\n",
       "            style='color: black;'>🃚</span><span class='card deck'\n",
       "            style='color: black;'>🂮</span><span class='card deck'\n",
       "            style='color: red;'>🃄</span><span class='card deck'\n",
       "            style='color: black;'>🃗</span><span class='card deck'\n",
       "            style='color: red;'>🂺</span><span class='card deck'\n",
       "            style='color: red;'>🂹</span><span class='card deck'\n",
       "            style='color: black;'>🃝</span><span class='card deck'\n",
       "            style='color: red;'>🃎</span><span class='card deck'\n",
       "            style='color: red;'>🃉</span><span class='card deck'\n",
       "            style='color: black;'>🂪</span><span class='card deck'\n",
       "            style='color: red;'>🃃</span><span class='card deck'\n",
       "            style='color: black;'>🃖</span><span class='card deck'\n",
       "            style='color: red;'>🃆</span><span class='card deck'\n",
       "            style='color: black;'>🃔</span><span class='card deck'\n",
       "            style='color: red;'>🂵</span><span class='card deck'\n",
       "            style='color: red;'>🂻</span><span class='card deck'\n",
       "            style='color: red;'>🃊</span><span class='card deck'\n",
       "            style='color: red;'>🃋</span><span class='card deck'\n",
       "            style='color: red;'>🂷</span><span class='card deck'\n",
       "            style='color: red;'>🃍</span><span class='card deck'\n",
       "            style='color: black;'>🂥</span><span class='card deck'\n",
       "            style='color: red;'>🃅</span><span class='card deck'\n",
       "            style='color: red;'>🃁</span><span class='card deck'\n",
       "            style='color: black;'>🂩</span><span class='card deck'\n",
       "            style='color: black;'>🃒</span><span class='card deck'\n",
       "            style='color: black;'>🂦</span><span class='card deck'\n",
       "            style='color: black;'>🂭</span><span class='card deck'\n",
       "            style='color: red;'>🂴</span><span class='card deck'\n",
       "            style='color: red;'>🂸</span><span class='card deck'\n",
       "            style='color: black;'>🂨</span><span class='card deck'\n",
       "            style='color: black;'>🃓</span><span class='card deck'\n",
       "            style='color: black;'>🂡</span><span class='card deck'\n",
       "            style='color: black;'>🃛</span><span class='card deck'\n",
       "            style='color: red;'>🃈</span><span class='card deck'\n",
       "            style='color: black;'>🂣</span><span class='card deck'\n",
       "            style='color: red;'>🂶</span><span class='card deck'\n",
       "            style='color: black;'>🂤</span><span class='card deck'\n",
       "            style='color: black;'>🂫</span><span class='card deck'\n",
       "            style='color: black;'>🃘</span><span class='card deck'\n",
       "            style='color: red;'>🂽</span><span class='card deck'\n",
       "            style='color: red;'>🂳</span><span class='card deck'\n",
       "            style='color: red;'>🂲</span><span class='card deck'\n",
       "            style='color: black;'>🂢</span><span class='card deck'\n",
       "            style='color: red;'>🃇</span><span class='card deck'\n",
       "            style='color: black;'>🃞</span><span class='card deck'\n",
       "            style='color: black;'>🂧</span><span class='card deck'\n",
       "            style='color: black;'>🃑</span>"
      ]
     },
     "execution_count": 29,
     "metadata": {},
     "output_type": "execute_result"
    }
   ],
   "source": [
    "HTML( cl.shuffled() // cl과는 별도의 새로운 리스트가 만들어짐\n",
    "        .map { CardItem(it,true) }\n",
    "        .fold(myStyle) { acc, c -> acc +\"\"\"<span class='card deck'\n",
    "            style='color: ${if (c.up) c.color() else \"black\"};'>${c.show()}</span>\"\"\"\n",
    "        }\n",
    ")"
   ]
  },
  {
   "cell_type": "code",
   "execution_count": 30,
   "metadata": {
    "tags": []
   },
   "outputs": [
    {
     "name": "stdout",
     "output_type": "stream",
     "text": [
      "[SA, S2, S3, S4, S5, S6, S7, S8, S9, S0, SJ, SQ, SK, HA, H2, H3, H4, H5, H6, H7, H8, H9, H0, HJ, HQ, HK, DA, D2, D3, D4, D5, D6, D7, D8, D9, D0, DJ, DQ, DK, CA, C2, C3, C4, C5, C6, C7, C8, C9, C0, CJ, CQ, CK]"
     ]
    }
   ],
   "source": [
    "print(cl) // 내용 그대로"
   ]
  },
  {
   "cell_type": "code",
   "execution_count": 31,
   "metadata": {
    "tags": []
   },
   "outputs": [
    {
     "name": "stdout",
     "output_type": "stream",
     "text": [
      "[SA, S2, S3, S4, S5, S6, S7, S8, S9, S0, SJ, SQ, SK, HA, H2, H3, H4, H5, H6, H7, H8, H9, H0, HJ, HQ, HK, DA, D2, D3, D4, D5, D6, D7, D8, D9, D0, DJ, DQ, DK, CA, C2, C3, C4, C5, C6, C7, C8, C9, C0, CJ, CQ, CK]"
     ]
    }
   ],
   "source": [
    "val mcl: MutableList<Card> = Card.values().toMutableList() // 가변 리스트\n",
    "print( mcl )"
   ]
  },
  {
   "cell_type": "code",
   "execution_count": 32,
   "metadata": {
    "tags": []
   },
   "outputs": [
    {
     "name": "stdout",
     "output_type": "stream",
     "text": [
      "[D6, DJ, D5, HJ, CK, C6, H5, C7, HQ, H4, CQ, D4, DQ, HA, S6, DA, C2, S2, D2, S3, D7, CJ, S7, C8, S9, S4, C5, D9, C3, H7, C4, SJ, H3, SK, H8, S0, H2, H0, SA, S5, D8, S8, DK, D3, C9, C0, H9, D0, H6, CA, HK, SQ]\n"
     ]
    },
    {
     "data": {
      "text/html": [
       "\n",
       "<style>\n",
       "@import url('https://fonts.googleapis.com/css2?family=Noto+Sans+Symbols+2&display=swap');\n",
       ".card {\n",
       "    display: inline-block; \n",
       "    font-size: 60pt; height: 62pt;\n",
       "    font-family: \"Noto Sans Symbols 2\", sans-serif;\n",
       "    background: rgba(255,255,255, 1) !important;\n",
       "}\n",
       ".deck { margin-right:-32pt; }\n",
       "</style>\n",
       "<span class='card deck'\n",
       "            style='color: red;'>🃆</span><span class='card deck'\n",
       "            style='color: red;'>🃋</span><span class='card deck'\n",
       "            style='color: red;'>🃅</span><span class='card deck'\n",
       "            style='color: red;'>🂻</span><span class='card deck'\n",
       "            style='color: black;'>🃞</span><span class='card deck'\n",
       "            style='color: black;'>🃖</span><span class='card deck'\n",
       "            style='color: red;'>🂵</span><span class='card deck'\n",
       "            style='color: black;'>🃗</span><span class='card deck'\n",
       "            style='color: red;'>🂽</span><span class='card deck'\n",
       "            style='color: red;'>🂴</span><span class='card deck'\n",
       "            style='color: black;'>🃝</span><span class='card deck'\n",
       "            style='color: red;'>🃄</span><span class='card deck'\n",
       "            style='color: red;'>🃍</span><span class='card deck'\n",
       "            style='color: red;'>🂱</span><span class='card deck'\n",
       "            style='color: black;'>🂦</span><span class='card deck'\n",
       "            style='color: red;'>🃁</span><span class='card deck'\n",
       "            style='color: black;'>🃒</span><span class='card deck'\n",
       "            style='color: black;'>🂢</span><span class='card deck'\n",
       "            style='color: red;'>🃂</span><span class='card deck'\n",
       "            style='color: black;'>🂣</span><span class='card deck'\n",
       "            style='color: red;'>🃇</span><span class='card deck'\n",
       "            style='color: black;'>🃛</span><span class='card deck'\n",
       "            style='color: black;'>🂧</span><span class='card deck'\n",
       "            style='color: black;'>🃘</span><span class='card deck'\n",
       "            style='color: black;'>🂩</span><span class='card deck'\n",
       "            style='color: black;'>🂤</span><span class='card deck'\n",
       "            style='color: black;'>🃕</span><span class='card deck'\n",
       "            style='color: red;'>🃉</span><span class='card deck'\n",
       "            style='color: black;'>🃓</span><span class='card deck'\n",
       "            style='color: red;'>🂷</span><span class='card deck'\n",
       "            style='color: black;'>🃔</span><span class='card deck'\n",
       "            style='color: black;'>🂫</span><span class='card deck'\n",
       "            style='color: red;'>🂳</span><span class='card deck'\n",
       "            style='color: black;'>🂮</span><span class='card deck'\n",
       "            style='color: red;'>🂸</span><span class='card deck'\n",
       "            style='color: black;'>🂪</span><span class='card deck'\n",
       "            style='color: red;'>🂲</span><span class='card deck'\n",
       "            style='color: red;'>🂺</span><span class='card deck'\n",
       "            style='color: black;'>🂡</span><span class='card deck'\n",
       "            style='color: black;'>🂥</span><span class='card deck'\n",
       "            style='color: red;'>🃈</span><span class='card deck'\n",
       "            style='color: black;'>🂨</span><span class='card deck'\n",
       "            style='color: red;'>🃎</span><span class='card deck'\n",
       "            style='color: red;'>🃃</span><span class='card deck'\n",
       "            style='color: black;'>🃙</span><span class='card deck'\n",
       "            style='color: black;'>🃚</span><span class='card deck'\n",
       "            style='color: red;'>🂹</span><span class='card deck'\n",
       "            style='color: red;'>🃊</span><span class='card deck'\n",
       "            style='color: red;'>🂶</span><span class='card deck'\n",
       "            style='color: black;'>🃑</span><span class='card deck'\n",
       "            style='color: red;'>🂾</span><span class='card deck'\n",
       "            style='color: black;'>🂭</span>"
      ]
     },
     "execution_count": 32,
     "metadata": {},
     "output_type": "execute_result"
    }
   ],
   "source": [
    "mcl.shuffle()\n",
    "\n",
    "println( mcl ) // mcl의 내용이 바뀜\n",
    "\n",
    "HTML(mcl.map { CardItem(it,true) }\n",
    "        .fold(myStyle) { acc, c -> acc +\"\"\"<span class='card deck'\n",
    "            style='color: ${if (c.up) c.color() else \"black\"};'>${c.show()}</span>\"\"\"\n",
    "        }\n",
    ")"
   ]
  },
  {
   "cell_type": "code",
   "execution_count": 33,
   "metadata": {
    "tags": []
   },
   "outputs": [
    {
     "data": {
      "text/html": [
       "\n",
       "<style>\n",
       "@import url('https://fonts.googleapis.com/css2?family=Noto+Sans+Symbols+2&display=swap');\n",
       ".card {\n",
       "    display: inline-block; \n",
       "    font-size: 60pt; height: 62pt;\n",
       "    font-family: \"Noto Sans Symbols 2\", sans-serif;\n",
       "    background: rgba(255,255,255, 1) !important;\n",
       "}\n",
       ".deck { margin-right:-32pt; }\n",
       "</style>\n",
       "Deck0:<span class='card deck'\n",
       "            style='color: red;'>🃁</span><span class='card deck'\n",
       "            style='color: red;'>🃃</span><span class='card deck'\n",
       "            style='color: black;'>🃘</span><span class='card deck'\n",
       "            style='color: black;'>🃚</span><span class='card deck'\n",
       "            style='color: red;'>🂾</span><span class='card deck'\n",
       "            style='color: black;'>🃞</span><span class='card deck'\n",
       "            style='color: black;'>🂫</span><span class='card deck'\n",
       "            style='color: red;'>🂷</span><span class='card deck'\n",
       "            style='color: red;'>🂶</span><span class='card deck'\n",
       "            style='color: black;'>🂥</span><span class='card deck'\n",
       "            style='color: red;'>🃂</span><span class='card deck'\n",
       "            style='color: black;'>🃗</span><span class='card deck'\n",
       "            style='color: red;'>🃋</span><span class='card deck'\n",
       "            style='color: red;'>🃄</span><span class='card deck'\n",
       "            style='color: black;'>🃓</span><span class='card deck'\n",
       "            style='color: red;'>🃊</span><span class='card deck'\n",
       "            style='color: red;'>🃍</span><span class='card deck'\n",
       "            style='color: red;'>🃇</span><span class='card deck'\n",
       "            style='color: black;'>🂩</span><span class='card deck'\n",
       "            style='color: black;'>🂨</span><span class='card deck'\n",
       "            style='color: black;'>🃙</span><span class='card deck'\n",
       "            style='color: black;'>🂮</span><span class='card deck'\n",
       "            style='color: red;'>🃎</span><span class='card deck'\n",
       "            style='color: red;'>🂲</span><span class='card deck'\n",
       "            style='color: red;'>🃅</span><span class='card deck'\n",
       "            style='color: red;'>🂱</span><span class='card deck'\n",
       "            style='color: black;'>🂭</span><span class='card deck'\n",
       "            style='color: black;'>🃛</span><span class='card deck'\n",
       "            style='color: black;'>🂣</span><span class='card deck'\n",
       "            style='color: red;'>🃆</span><span class='card deck'\n",
       "            style='color: black;'>🃔</span><span class='card deck'\n",
       "            style='color: red;'>🂻</span><span class='card deck'\n",
       "            style='color: black;'>🂢</span><span class='card deck'\n",
       "            style='color: black;'>🂦</span><span class='card deck'\n",
       "            style='color: red;'>🃈</span><span class='card deck'\n",
       "            style='color: black;'>🃒</span><span class='card deck'\n",
       "            style='color: black;'>🂡</span><span class='card deck'\n",
       "            style='color: black;'>🃖</span><span class='card deck'\n",
       "            style='color: black;'>🂤</span><span class='card deck'\n",
       "            style='color: red;'>🂺</span><span class='card deck'\n",
       "            style='color: black;'>🃝</span><span class='card deck'\n",
       "            style='color: red;'>🃉</span><span class='card deck'\n",
       "            style='color: red;'>🂽</span><span class='card deck'\n",
       "            style='color: black;'>🃑</span><span class='card deck'\n",
       "            style='color: red;'>🂹</span><span class='card deck'\n",
       "            style='color: black;'>🃕</span><span class='card deck'\n",
       "            style='color: black;'>🂪</span><span class='card deck'\n",
       "            style='color: black;'>🂧</span><span class='card deck'\n",
       "            style='color: red;'>🂵</span><span class='card deck'\n",
       "            style='color: red;'>🂸</span><span class='card deck'\n",
       "            style='color: red;'>🂴</span><span class='card deck'\n",
       "            style='color: red;'>🂳</span><br>Player0 <span class='card'>🂡</span><span class='card' style='color:red;'>🂱</span><span class='card' style='color:red;'>🃁</span><span class='card'>🃑</span><br>Deck1:<span class='card deck'\n",
       "            style='color: red;'>🃎</span><span class='card deck'\n",
       "            style='color: red;'>🂸</span><span class='card deck'\n",
       "            style='color: black;'>🃖</span><span class='card deck'\n",
       "            style='color: black;'>🃛</span><span class='card deck'\n",
       "            style='color: black;'>🃞</span><span class='card deck'\n",
       "            style='color: red;'>🂵</span><span class='card deck'\n",
       "            style='color: red;'>🂾</span><span class='card deck'\n",
       "            style='color: red;'>🂲</span><span class='card deck'\n",
       "            style='color: red;'>🂳</span><span class='card deck'\n",
       "            style='color: black;'>🂢</span><span class='card deck'\n",
       "            style='color: black;'>🃕</span><span class='card deck'\n",
       "            style='color: black;'>🃘</span><span class='card deck'\n",
       "            style='color: black;'>🃗</span><span class='card deck'\n",
       "            style='color: black;'>🃝</span><span class='card deck'\n",
       "            style='color: red;'>🃇</span><span class='card deck'\n",
       "            style='color: red;'>🃋</span><span class='card deck'\n",
       "            style='color: red;'>🃁</span><span class='card deck'\n",
       "            style='color: red;'>🂹</span><span class='card deck'\n",
       "            style='color: red;'>🃄</span><span class='card deck'\n",
       "            style='color: black;'>🂪</span><span class='card deck'\n",
       "            style='color: red;'>🂽</span><span class='card deck'\n",
       "            style='color: black;'>🂫</span><span class='card deck'\n",
       "            style='color: black;'>🂣</span><span class='card deck'\n",
       "            style='color: black;'>🂥</span><span class='card deck'\n",
       "            style='color: red;'>🃃</span><span class='card deck'\n",
       "            style='color: red;'>🃈</span><span class='card deck'\n",
       "            style='color: black;'>🂡</span><span class='card deck'\n",
       "            style='color: red;'>🃂</span><span class='card deck'\n",
       "            style='color: black;'>🂨</span><span class='card deck'\n",
       "            style='color: red;'>🃉</span><span class='card deck'\n",
       "            style='color: black;'>🃔</span><span class='card deck'\n",
       "            style='color: red;'>🃅</span><span class='card deck'\n",
       "            style='color: black;'>🂦</span><span class='card deck'\n",
       "            style='color: black;'>🃒</span><span class='card deck'\n",
       "            style='color: black;'>🂧</span><span class='card deck'\n",
       "            style='color: black;'>🂭</span><span class='card deck'\n",
       "            style='color: red;'>🂱</span><span class='card deck'\n",
       "            style='color: red;'>🂴</span><span class='card deck'\n",
       "            style='color: red;'>🂺</span><span class='card deck'\n",
       "            style='color: red;'>🂷</span><span class='card deck'\n",
       "            style='color: black;'>🂩</span><span class='card deck'\n",
       "            style='color: red;'>🃍</span><span class='card deck'\n",
       "            style='color: black;'>🂮</span><span class='card deck'\n",
       "            style='color: red;'>🂻</span><span class='card deck'\n",
       "            style='color: red;'>🂶</span><span class='card deck'\n",
       "            style='color: red;'>🃆</span><span class='card deck'\n",
       "            style='color: black;'>🃑</span><span class='card deck'\n",
       "            style='color: black;'>🂤</span><span class='card deck'\n",
       "            style='color: black;'>🃙</span><span class='card deck'\n",
       "            style='color: black;'>🃚</span><span class='card deck'\n",
       "            style='color: black;'>🃓</span><span class='card deck'\n",
       "            style='color: red;'>🃊</span><br>Player1 <span class='card'>🂡</span><span class='card' style='color:red;'>🂱</span><span class='card' style='color:red;'>🃁</span><span class='card'>🃑</span><br>Deck2:<span class='card deck'\n",
       "            style='color: red;'>🂺</span><span class='card deck'\n",
       "            style='color: black;'>🂡</span><span class='card deck'\n",
       "            style='color: red;'>🃂</span><span class='card deck'\n",
       "            style='color: black;'>🂨</span><span class='card deck'\n",
       "            style='color: red;'>🃍</span><span class='card deck'\n",
       "            style='color: black;'>🃒</span><span class='card deck'\n",
       "            style='color: black;'>🃖</span><span class='card deck'\n",
       "            style='color: black;'>🂤</span><span class='card deck'\n",
       "            style='color: black;'>🃚</span><span class='card deck'\n",
       "            style='color: black;'>🂮</span><span class='card deck'\n",
       "            style='color: black;'>🃓</span><span class='card deck'\n",
       "            style='color: red;'>🃆</span><span class='card deck'\n",
       "            style='color: red;'>🂹</span><span class='card deck'\n",
       "            style='color: black;'>🃞</span><span class='card deck'\n",
       "            style='color: black;'>🃕</span><span class='card deck'\n",
       "            style='color: red;'>🃄</span><span class='card deck'\n",
       "            style='color: black;'>🂥</span><span class='card deck'\n",
       "            style='color: red;'>🃇</span><span class='card deck'\n",
       "            style='color: red;'>🃊</span><span class='card deck'\n",
       "            style='color: red;'>🃁</span><span class='card deck'\n",
       "            style='color: black;'>🂣</span><span class='card deck'\n",
       "            style='color: black;'>🂧</span><span class='card deck'\n",
       "            style='color: red;'>🂴</span><span class='card deck'\n",
       "            style='color: black;'>🂭</span><span class='card deck'\n",
       "            style='color: red;'>🃋</span><span class='card deck'\n",
       "            style='color: red;'>🂱</span><span class='card deck'\n",
       "            style='color: black;'>🃝</span><span class='card deck'\n",
       "            style='color: black;'>🂪</span><span class='card deck'\n",
       "            style='color: red;'>🃈</span><span class='card deck'\n",
       "            style='color: red;'>🃅</span><span class='card deck'\n",
       "            style='color: red;'>🂾</span><span class='card deck'\n",
       "            style='color: black;'>🂢</span><span class='card deck'\n",
       "            style='color: black;'>🃙</span><span class='card deck'\n",
       "            style='color: red;'>🃃</span><span class='card deck'\n",
       "            style='color: black;'>🂫</span><span class='card deck'\n",
       "            style='color: black;'>🃔</span><span class='card deck'\n",
       "            style='color: red;'>🂷</span><span class='card deck'\n",
       "            style='color: black;'>🂩</span><span class='card deck'\n",
       "            style='color: black;'>🃑</span><span class='card deck'\n",
       "            style='color: black;'>🃘</span><span class='card deck'\n",
       "            style='color: red;'>🂽</span><span class='card deck'\n",
       "            style='color: red;'>🂶</span><span class='card deck'\n",
       "            style='color: black;'>🃛</span><span class='card deck'\n",
       "            style='color: black;'>🃗</span><span class='card deck'\n",
       "            style='color: red;'>🂳</span><span class='card deck'\n",
       "            style='color: red;'>🂸</span><span class='card deck'\n",
       "            style='color: red;'>🃎</span><span class='card deck'\n",
       "            style='color: red;'>🃉</span><span class='card deck'\n",
       "            style='color: red;'>🂵</span><span class='card deck'\n",
       "            style='color: red;'>🂻</span><span class='card deck'\n",
       "            style='color: black;'>🂦</span><span class='card deck'\n",
       "            style='color: red;'>🂲</span><br>Player2 <span class='card'>🂡</span><span class='card' style='color:red;'>🂱</span><span class='card' style='color:red;'>🃁</span><span class='card'>🃑</span><br>Deck3:<span class='card deck'\n",
       "            style='color: red;'>🃋</span><span class='card deck'\n",
       "            style='color: black;'>🃕</span><span class='card deck'\n",
       "            style='color: black;'>🂪</span><span class='card deck'\n",
       "            style='color: red;'>🂾</span><span class='card deck'\n",
       "            style='color: black;'>🂭</span><span class='card deck'\n",
       "            style='color: black;'>🃛</span><span class='card deck'\n",
       "            style='color: red;'>🃄</span><span class='card deck'\n",
       "            style='color: red;'>🂷</span><span class='card deck'\n",
       "            style='color: red;'>🃆</span><span class='card deck'\n",
       "            style='color: red;'>🃅</span><span class='card deck'\n",
       "            style='color: black;'>🃑</span><span class='card deck'\n",
       "            style='color: red;'>🂹</span><span class='card deck'\n",
       "            style='color: red;'>🂶</span><span class='card deck'\n",
       "            style='color: black;'>🂢</span><span class='card deck'\n",
       "            style='color: black;'>🂧</span><span class='card deck'\n",
       "            style='color: red;'>🂵</span><span class='card deck'\n",
       "            style='color: black;'>🃒</span><span class='card deck'\n",
       "            style='color: black;'>🃚</span><span class='card deck'\n",
       "            style='color: black;'>🂤</span><span class='card deck'\n",
       "            style='color: red;'>🃂</span><span class='card deck'\n",
       "            style='color: red;'>🂴</span><span class='card deck'\n",
       "            style='color: black;'>🂨</span><span class='card deck'\n",
       "            style='color: black;'>🂦</span><span class='card deck'\n",
       "            style='color: black;'>🃓</span><span class='card deck'\n",
       "            style='color: black;'>🃙</span><span class='card deck'\n",
       "            style='color: black;'>🃗</span><span class='card deck'\n",
       "            style='color: red;'>🃎</span><span class='card deck'\n",
       "            style='color: black;'>🃞</span><span class='card deck'\n",
       "            style='color: red;'>🂺</span><span class='card deck'\n",
       "            style='color: red;'>🃉</span><span class='card deck'\n",
       "            style='color: red;'>🃈</span><span class='card deck'\n",
       "            style='color: black;'>🂥</span><span class='card deck'\n",
       "            style='color: red;'>🃇</span><span class='card deck'\n",
       "            style='color: black;'>🂫</span><span class='card deck'\n",
       "            style='color: red;'>🂻</span><span class='card deck'\n",
       "            style='color: black;'>🂡</span><span class='card deck'\n",
       "            style='color: red;'>🃊</span><span class='card deck'\n",
       "            style='color: black;'>🃔</span><span class='card deck'\n",
       "            style='color: red;'>🂸</span><span class='card deck'\n",
       "            style='color: red;'>🂽</span><span class='card deck'\n",
       "            style='color: red;'>🂱</span><span class='card deck'\n",
       "            style='color: red;'>🃃</span><span class='card deck'\n",
       "            style='color: red;'>🃍</span><span class='card deck'\n",
       "            style='color: black;'>🃘</span><span class='card deck'\n",
       "            style='color: black;'>🂩</span><span class='card deck'\n",
       "            style='color: black;'>🂮</span><span class='card deck'\n",
       "            style='color: red;'>🂲</span><span class='card deck'\n",
       "            style='color: red;'>🃁</span><span class='card deck'\n",
       "            style='color: black;'>🃝</span><span class='card deck'\n",
       "            style='color: red;'>🂳</span><span class='card deck'\n",
       "            style='color: black;'>🂣</span><span class='card deck'\n",
       "            style='color: black;'>🃖</span><br>Player3 <span class='card'>🂡</span><span class='card' style='color:red;'>🂱</span><span class='card' style='color:red;'>🃁</span><span class='card'>🃑</span><br>&emsp;&emsp;&emsp;&nbsp;last player puts its card to Deck0"
      ]
     },
     "execution_count": 33,
     "metadata": {},
     "output_type": "execute_result"
    }
   ],
   "source": [
    "val dummyPlayerSampleHTMLcode = { n:Int ->\n",
    "    \"Player${n} \" +\n",
    "    \"<span class='card'>${Card.SA.face}</span>\" +\n",
    "    \"<span class='card' style='color:red;'>${Card.HA.face}</span>\" +\n",
    "    \"<span class='card' style='color:red;'>${Card.DA.face}</span>\" +\n",
    "    \"<span class='card'>${Card.CA.face}</span>\"\n",
    "}\n",
    "    \n",
    "HTML( myStyle +\n",
    "    Card.values().asList().shuffled()\n",
    "        .map { CardItem(it,true) }\n",
    "        .fold(\"Deck0:\") { acc, c -> acc +\"\"\"<span class='card deck'\n",
    "            style='color: ${if (c.up) c.color() else \"black\"};'>${c.show()}</span>\"\"\"\n",
    "        } + \"<br>${dummyPlayerSampleHTMLcode(0)}<br>\" +\n",
    "    Card.values().asList().shuffled()\n",
    "        .map { CardItem(it,true) }\n",
    "        .fold(\"Deck1:\") { acc, c -> acc +\"\"\"<span class='card deck'\n",
    "            style='color: ${if (c.up) c.color() else \"black\"};'>${c.show()}</span>\"\"\"\n",
    "        } + \"<br>${dummyPlayerSampleHTMLcode(1)}<br>\" +\n",
    "    Card.values().asList().shuffled()\n",
    "        .map { CardItem(it,true) }\n",
    "        .fold(\"Deck2:\") { acc, c -> acc +\"\"\"<span class='card deck'\n",
    "            style='color: ${if (c.up) c.color() else \"black\"};'>${c.show()}</span>\"\"\"\n",
    "        }+ \"<br>${dummyPlayerSampleHTMLcode(2)}<br>\" +\n",
    "    Card.values().asList().shuffled()\n",
    "        .map { CardItem(it,true) }\n",
    "        .fold(\"Deck3:\")  { acc, c -> acc +\"\"\"<span class='card deck'\n",
    "            style='color: ${if (c.up) c.color() else \"black\"};'>${c.show()}</span>\"\"\"\n",
    "        } + \"<br>${dummyPlayerSampleHTMLcode(3)}<br>&emsp;&emsp;&emsp;&nbsp;last player puts its card to Deck0\"\n",
    ")"
   ]
  },
  {
   "cell_type": "code",
   "execution_count": 34,
   "metadata": {
    "tags": []
   },
   "outputs": [
    {
     "data": {
      "text/html": [
       "\n",
       "<style>\n",
       "@import url('https://fonts.googleapis.com/css2?family=Noto+Sans+Symbols+2&display=swap');\n",
       ".card {\n",
       "    display: inline-block; \n",
       "    font-size: 60pt; height: 62pt;\n",
       "    font-family: \"Noto Sans Symbols 2\", sans-serif;\n",
       "    background: rgba(255,255,255, 1) !important;\n",
       "}\n",
       ".deck { margin-right:-32pt; }\n",
       "</style>\n",
       "<span class='card deck'\n",
       "            style='color: black;'>🃛</span><span class='card deck'\n",
       "            style='color: black;'>🃓</span><span class='card deck'\n",
       "            style='color: black;'>🃙</span><span class='card deck'\n",
       "            style='color: red;'>🂷</span><span class='card deck'\n",
       "            style='color: red;'>🃆</span><span class='card deck'\n",
       "            style='color: black;'>🂣</span><span class='card deck'\n",
       "            style='color: black;'>🃕</span><span class='card deck'\n",
       "            style='color: red;'>🂶</span><span class='card deck'\n",
       "            style='color: red;'>🂾</span><span class='card deck'\n",
       "            style='color: red;'>🂲</span><span class='card deck'\n",
       "            style='color: black;'>🂤</span><span class='card deck'\n",
       "            style='color: red;'>🃉</span><span class='card deck'\n",
       "            style='color: red;'>🃊</span><span class='card deck'\n",
       "            style='color: red;'>🃎</span><span class='card deck'\n",
       "            style='color: black;'>🂡</span><span class='card deck'\n",
       "            style='color: red;'>🂸</span><span class='card deck'\n",
       "            style='color: black;'>🃔</span><span class='card deck'\n",
       "            style='color: black;'>🂩</span><span class='card deck'\n",
       "            style='color: red;'>🃇</span><span class='card deck'\n",
       "            style='color: red;'>🃋</span><span class='card deck'\n",
       "            style='color: red;'>🃄</span><span class='card deck'\n",
       "            style='color: black;'>🃚</span><span class='card deck'\n",
       "            style='color: red;'>🃂</span><span class='card deck'\n",
       "            style='color: red;'>🂻</span><span class='card deck'\n",
       "            style='color: black;'>🂮</span><span class='card deck'\n",
       "            style='color: red;'>🃁</span><span class='card deck'\n",
       "            style='color: red;'>🂳</span><span class='card deck'\n",
       "            style='color: black;'>🂪</span><span class='card deck'\n",
       "            style='color: black;'>🂨</span><span class='card deck'\n",
       "            style='color: black;'>🂥</span><span class='card deck'\n",
       "            style='color: red;'>🃅</span><span class='card deck'\n",
       "            style='color: red;'>🂵</span><span class='card deck'\n",
       "            style='color: black;'>🃘</span><span class='card deck'\n",
       "            style='color: black;'>🃑</span><span class='card deck'\n",
       "            style='color: red;'>🂽</span><span class='card deck'\n",
       "            style='color: black;'>🂧</span><span class='card deck'\n",
       "            style='color: black;'>🃝</span><span class='card deck'\n",
       "            style='color: red;'>🂹</span><span class='card deck'\n",
       "            style='color: black;'>🃗</span><span class='card deck'\n",
       "            style='color: red;'>🂴</span><span class='card deck'\n",
       "            style='color: black;'>🂫</span><span class='card deck'\n",
       "            style='color: red;'>🃍</span><span class='card deck'\n",
       "            style='color: black;'>🃒</span><span class='card deck'\n",
       "            style='color: black;'>🂢</span><span class='card deck'\n",
       "            style='color: red;'>🂱</span><span class='card deck'\n",
       "            style='color: black;'>🃞</span><span class='card deck'\n",
       "            style='color: black;'>🂦</span><span class='card deck'\n",
       "            style='color: red;'>🃈</span><span class='card deck'\n",
       "            style='color: black;'>🂭</span><span class='card deck'\n",
       "            style='color: red;'>🂺</span><span class='card deck'\n",
       "            style='color: red;'>🃃</span><span class='card deck'\n",
       "            style='color: black;'>🃖</span>"
      ]
     },
     "metadata": {},
     "output_type": "display_data"
    }
   ],
   "source": [
    "val mcs = Card.values().toMutableList()\n",
    "\n",
    "val htmlContent = HTML(\n",
    "     mcs.map { CardItem(it,true) }\n",
    "        .fold(myStyle) { acc, c -> acc +\"\"\"<span class='card deck'\n",
    "            style='color: ${if (c.up) c.color() else \"black\"};'>${c.show()}</span>\"\"\"\n",
    "        }\n",
    ")\n",
    "\n",
    "DISPLAY( htmlContent.withId(\"myDeck\") )"
   ]
  },
  {
   "cell_type": "code",
   "execution_count": 35,
   "metadata": {
    "tags": []
   },
   "outputs": [],
   "source": [
    "mcs.shuffle()\n",
    "\n",
    "val newContent = HTML(\n",
    "     mcs.map { CardItem(it,true) }\n",
    "        .fold(myStyle)  { acc, c -> acc +\"\"\"<span class='card deck'\n",
    "            style='color: ${if (c.up) c.color() else \"black\"};'>${c.show()}</span>\"\"\"\n",
    "        }\n",
    ")\n",
    "\n",
    "UPDATE_DISPLAY( newContent, \"myDeck\" ) // 이 게 실행되면 위에 있는 카드 덱이 바뀐다"
   ]
  },
  {
   "cell_type": "code",
   "execution_count": null,
   "metadata": {},
   "outputs": [],
   "source": []
  }
 ],
 "metadata": {
  "datalore": {
   "base_environment": "default",
   "computation_mode": "JUPYTER",
   "package_manager": "pip",
   "packages": [],
   "version": 1
  },
  "kernelspec": {
   "display_name": "Kotlin",
   "language": "kotlin",
   "name": "kotlin"
  },
  "language_info": {
   "codemirror_mode": "text/x-kotlin",
   "file_extension": ".kt",
   "mimetype": "text/x-kotlin",
   "name": "kotlin",
   "nbconvert_exporter": "",
   "pygments_lexer": "kotlin",
   "version": "1.8.20-Beta"
  }
 },
 "nbformat": 4,
 "nbformat_minor": 4
}
