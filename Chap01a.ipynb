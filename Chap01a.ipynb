{
 "cells":[
  {
   "cell_type":"markdown",
   "source":[
    "# 01. Getting Started with Kotlin (Part A)"
   ],
   "attachments":{
    
   },
   "metadata":{
    "datalore":{
     "node_id":"74klxS7M8AeeLeT1D0RrtZ",
     "type":"MD",
     "hide_input_from_viewers":true,
     "hide_output_from_viewers":true
    }
   }
  },
  {
   "cell_type":"code",
   "source":[
    "KotlinVersion.CURRENT"
   ],
   "execution_count":1,
   "outputs":[
    {
     "data":{
      "text\/plain":[
       "1.8.20"
      ]
     },
     "metadata":{
      
     },
     "output_type":"display_data"
    }
   ],
   "metadata":{
    "datalore":{
     "node_id":"csmxvEZTu3wOSgKSkgJGxQ",
     "type":"CODE",
     "hide_input_from_viewers":true,
     "hide_output_from_viewers":true
    }
   }
  },
  {
   "cell_type":"code",
   "source":[
    "println(\"Hello world\")"
   ],
   "execution_count":2,
   "outputs":[
    {
     "name":"stdout",
     "text":[
      "Hello world\n"
     ],
     "output_type":"stream"
    }
   ],
   "metadata":{
    "datalore":{
     "node_id":"DhePRkhgMkZJRyvM9UKY4W",
     "type":"CODE",
     "hide_input_from_viewers":true,
     "hide_output_from_viewers":true
    }
   }
  },
  {
   "cell_type":"code",
   "source":[
    "fun main() {\n",
    "    println(\"Hello main\")\n",
    "}"
   ],
   "execution_count":3,
   "outputs":[
    
   ],
   "metadata":{
    "datalore":{
     "node_id":"dYKniKFw8GBGuGOskpyzQR",
     "type":"CODE",
     "hide_input_from_viewers":true,
     "hide_output_from_viewers":true
    }
   }
  },
  {
   "cell_type":"markdown",
   "source":[
    
   ],
   "attachments":{
    
   },
   "metadata":{
    "datalore":{
     "node_id":"TB62Y4X4EYvlU0VK1Kwlsv",
     "type":"MD",
     "hide_input_from_viewers":true,
     "hide_output_from_viewers":true
    }
   }
  },
  {
   "cell_type":"code",
   "source":[
    "main()"
   ],
   "execution_count":4,
   "outputs":[
    {
     "name":"stdout",
     "text":[
      "Hello main\n"
     ],
     "output_type":"stream"
    }
   ],
   "metadata":{
    "datalore":{
     "node_id":"C1WrTGYT7GBOZ9fLj12iqG",
     "type":"CODE",
     "hide_input_from_viewers":true,
     "hide_output_from_viewers":true
    }
   }
  },
  {
   "cell_type":"markdown",
   "source":[
    "## Data types in Kotlin\n",
    "\n",
    "책에서는 data type을 Kotlin 공식 문서와는 좀 다르게 소개\n",
    " \n",
    "꼭 완전히 틀렸다고는 할 수 없지만 일반적으로 코틀린만 놓고 대해 설명할 때는 저렇게 하지 않는다는 것에 유의!!!\n",
    "\n",
    "참고: https:\/\/kotlinlang.org\/docs\/basic-types.html\n",
    "\n",
    "책에서 나열하는 Byte, Short, Int, Long, Float, Double, Char, Boolean 등은\n",
    "대략 Java의 primitive type에 대응되는 것들을 나열하고 있는 것 같음\n",
    "\n",
    "정확히는 Kotin에서는 boxing을 알아서 처리하기 때문에 저런 것들이\n",
    "Java의 primitive type(즉, CPU에서 직접 효과적으로 처리할 수 있는 타입)에 항상 그대로 대응되지는 않는다.\n",
    "에그러니까 코틀린에서 Int는 상황에 따라 적절히 자바에서 int나 Integer중 하나로 알아서 왔다갔다하면서 처리된다.\n",
    "\n",
    "\n",
    "이게 왜 가끔 이런 혼란스러운 상황이 생기냐면 C++이 C와의 호환성을 고려하면서 만들어졌듯,\n",
    "Kotlin은 소스코드의 생김새는 Java와 상당히 다른 면이 있지만 JVM에서 실행할 때 Java와 연동하는 것을 고려하면서 만들어졌기 때문에\n",
    "Java의 개념과 함께 놓고 비교하면서 설명하는 경우에는 용어가 꼬이게 되는 면이 있다.\n",
    "그래서 자바에 익숙한 사람들을 대상으로 Java에서 부르는 이름을 기준으로 Kotlin에 대해서 설명하고 있는지,\n",
    "아니면 Kotlin에서 자체적으로 붙인 공식적인 이름을 사용하고 있는지 잘 구분해 가면서 관련 자료를 읽을 필요가 있다.\n",
    "\n",
    "탐구과제: Kotlin에서 `Int`와 `Integer`의 차이에 대해 조사해 보라"
   ],
   "attachments":{
    
   },
   "metadata":{
    "datalore":{
     "node_id":"xfWDIjiDJwIZzi9kX1SPMV",
     "type":"MD",
     "hide_input_from_viewers":true,
     "hide_output_from_viewers":true
    }
   }
  },
  {
   "cell_type":"markdown",
   "source":[
    "## Declaring a variable in Kotlin\n",
    "\n",
    "- `val` 키워드는 불변(immutable) 즉 읽기만(read-only) 가능하므로 재재정(reassign) 불가능\n",
    "- `var` 키워드는 가변(mutable)"
   ],
   "attachments":{
    
   },
   "metadata":{
    "datalore":{
     "node_id":"FaAVGVNajec9h318I3yc7v",
     "type":"MD",
     "hide_input_from_viewers":true,
     "hide_output_from_viewers":true
    }
   }
  },
  {
   "cell_type":"code",
   "source":[
    "val age = 25 \/\/ var로 바꿔서 아래 두 셀을 실행해 보라"
   ],
   "execution_count":5,
   "outputs":[
    
   ],
   "metadata":{
    "datalore":{
     "node_id":"zI5PoFf0UIUANRLkqjj9cI",
     "type":"CODE",
     "hide_input_from_viewers":true,
     "hide_output_from_viewers":true
    }
   }
  },
  {
   "cell_type":"code",
   "source":[
    "age = 26"
   ],
   "execution_count":6,
   "outputs":[
    {
     "name":"stderr",
     "text":[
      "Line_14.jupyter.kts (1:1 - 4) Val cannot be reassigned"
     ],
     "output_type":"stream"
    },
    {
     "ename":"Syntax Error",
     "evalue":"Syntax Error: Val cannot be reassigned",
     "traceback":[
      "\u001b[0;31m---------------------------------------------------------------------------",
      "Traceback (most recent call last)",
      "Syntax Error: Val cannot be reassigned"
     ],
     "output_type":"error"
    }
   ],
   "metadata":{
    "datalore":{
     "node_id":"6JxPO03UaVz0vNaEFtbqk8",
     "type":"CODE",
     "hide_input_from_viewers":true,
     "hide_output_from_viewers":true
    }
   }
  },
  {
   "cell_type":"code",
   "source":[
    "age++"
   ],
   "execution_count":7,
   "outputs":[
    {
     "name":"stderr",
     "text":[
      "Line_21.jupyter.kts (1:1 - 4) Val cannot be reassigned"
     ],
     "output_type":"stream"
    },
    {
     "ename":"Syntax Error",
     "evalue":"Syntax Error: Val cannot be reassigned",
     "traceback":[
      "\u001b[0;31m---------------------------------------------------------------------------",
      "Traceback (most recent call last)",
      "Syntax Error: Val cannot be reassigned"
     ],
     "output_type":"error"
    }
   ],
   "metadata":{
    "datalore":{
     "node_id":"KDW82U7GeAiTUTedSyyI6D",
     "type":"CODE",
     "hide_input_from_viewers":true,
     "hide_output_from_viewers":true
    }
   }
  },
  {
   "cell_type":"markdown",
   "source":[
    "## Type inference"
   ],
   "attachments":{
    
   },
   "metadata":{
    "datalore":{
     "node_id":"o4rLzqz9YvcFYCpMO51udX",
     "type":"MD",
     "hide_input_from_viewers":true,
     "hide_output_from_viewers":true
    }
   }
  },
  {
   "cell_type":"code",
   "source":[
    "var age = 25      \/\/ 25로 초기값을 지정한 것을 근거로 age의 타입을 Int로 유추\n",
    "val name = \"Bob\"  \/\/ \"Bob\"으로 값을 지정한 것을 근거로 name의 타입을 String으로 유추"
   ],
   "execution_count":8,
   "outputs":[
    
   ],
   "metadata":{
    "datalore":{
     "node_id":"UW74P8YTxlaUSpgyCQMoYB",
     "type":"CODE",
     "hide_input_from_viewers":true,
     "hide_output_from_viewers":true
    }
   }
  },
  {
   "cell_type":"code",
   "source":[
    "age::class"
   ],
   "execution_count":9,
   "outputs":[
    {
     "data":{
      "text\/plain":[
       "class kotlin.Int"
      ]
     },
     "metadata":{
      
     },
     "output_type":"display_data"
    }
   ],
   "metadata":{
    "datalore":{
     "node_id":"dL5xrY6u73pHbQ1vzFmCnO",
     "type":"CODE",
     "hide_input_from_viewers":true,
     "hide_output_from_viewers":true
    }
   }
  },
  {
   "cell_type":"code",
   "source":[
    "name::class"
   ],
   "execution_count":10,
   "outputs":[
    {
     "data":{
      "text\/plain":[
       "class kotlin.String"
      ]
     },
     "metadata":{
      
     },
     "output_type":"display_data"
    }
   ],
   "metadata":{
    "datalore":{
     "node_id":"dO4mgySLe5k57QYpMDNQrL",
     "type":"CODE",
     "hide_input_from_viewers":true,
     "hide_output_from_viewers":true
    }
   }
  },
  {
   "cell_type":"markdown",
   "source":[
    "## Type annotation"
   ],
   "attachments":{
    
   },
   "metadata":{
    "datalore":{
     "node_id":"gOr76gm9R4jAffbmxOvAzq",
     "type":"MD",
     "hide_input_from_viewers":true,
     "hide_output_from_viewers":true
    }
   }
  },
  {
   "cell_type":"code",
   "source":[
    "val myInt: Int    = 10\n",
    "var myStr: String = \"Hello\"\n",
    "var myReal: Double = 12.123"
   ],
   "execution_count":11,
   "outputs":[
    
   ],
   "metadata":{
    "datalore":{
     "node_id":"Apu64CzO1vX2FGpZhq7Jax",
     "type":"CODE",
     "hide_input_from_viewers":true,
     "hide_output_from_viewers":true
    }
   }
  },
  {
   "cell_type":"code",
   "source":[
    "\/\/ var 키워드로 선언하는 변수는 이후의 코드에서 초기화하는 것도 가능\n",
    "var str: String \/\/ 여기에는 반드시 type annotation 필요! (왜 그런지 생각해 보라)\n",
    "\n",
    "\/\/ println(myStr) \/\/ 이 코드의 주석을 풀면 어떻게 되는지 확인해 보라\n",
    "\n",
    "str = \"Bye\" \/\/ 여기서 str 변수를 초기화\n",
    "\n",
    "println(str)"
   ],
   "execution_count":12,
   "outputs":[
    {
     "name":"stdout",
     "text":[
      "Bye\n"
     ],
     "output_type":"stream"
    }
   ],
   "metadata":{
    "datalore":{
     "node_id":"LLrw4R5XAX6iPKY35Z3BzS",
     "type":"CODE",
     "hide_input_from_viewers":true,
     "hide_output_from_viewers":true
    }
   }
  },
  {
   "cell_type":"markdown",
   "source":[
    "## Number, Boolean, Character\n",
    "책에서는 코틀린의 basic type을 설명하며 number, real, Boolean, character 이렇게 나열하면서 설명하고 있지만\n",
    "공식 문서에서는 number에 정수(integer)와 실수(real)를 모두 포함하는 방식으로 분류해서 설명하고 있다.\n",
    "\n",
    "참고: https:\/\/kotlinlang.org\/docs\/basic-types.html"
   ],
   "attachments":{
    
   },
   "metadata":{
    "datalore":{
     "node_id":"fVmoawtMxsDcDE5ni5lO5J",
     "type":"MD",
     "hide_input_from_viewers":true,
     "hide_output_from_viewers":true
    }
   }
  },
  {
   "cell_type":"code",
   "source":[
    "val myInt: Int = 1      \/\/ 범위에 벗어나는 값으로 바꿔보라\n",
    "val myLong: Long = 1    \/\/ 범위에 벗어나는 값으로 바꿔보라\n",
    "val myShort: Short = 1  \/\/ 범위에 벗어나는 값으로 바꿔보라\n",
    "val myByte: Byte = 1    \/\/ 범위에 벗어나는 값으로 바꿔보라"
   ],
   "execution_count":13,
   "outputs":[
    
   ],
   "metadata":{
    "datalore":{
     "node_id":"B5RWca8ZbfwkbVBKoAxJSv",
     "type":"CODE",
     "hide_input_from_viewers":true,
     "hide_output_from_viewers":true
    }
   }
  },
  {
   "cell_type":"code",
   "source":[
    "\/\/ Int min ~ max\n",
    "println(Int.MIN_VALUE)\n",
    "println(Int.MAX_VALUE)\n",
    "\n",
    "\/\/ 나머지 Long, Short, Byte에 대해서도 해보라"
   ],
   "execution_count":14,
   "outputs":[
    {
     "name":"stdout",
     "text":[
      "-2147483648\n",
      "2147483647\n"
     ],
     "output_type":"stream"
    }
   ],
   "metadata":{
    "datalore":{
     "node_id":"5tLNciYgrzcnJ5aCVorq0C",
     "type":"CODE",
     "hide_input_from_viewers":true,
     "hide_output_from_viewers":true
    }
   }
  },
  {
   "cell_type":"code",
   "source":[
    "val rd: Double = 0.12345123451234512345\n",
    "val rf: Float  = 0.12345123451234512345f \/\/ 끝에 f를 붙여야\n",
    "\n",
    "\/\/ 책에 나오는 실수 리터럴의 과학적 표기법(scientific notation)에 대해서도 알아둘 것"
   ],
   "execution_count":15,
   "outputs":[
    
   ],
   "metadata":{
    "datalore":{
     "node_id":"YsiMDmVCICr7WlLJrCAORj",
     "type":"CODE",
     "hide_input_from_viewers":true,
     "hide_output_from_viewers":true
    }
   }
  },
  {
   "cell_type":"code",
   "source":[
    "rd"
   ],
   "execution_count":16,
   "outputs":[
    {
     "data":{
      "text\/plain":[
       "0.12345123451234512"
      ]
     },
     "metadata":{
      
     },
     "output_type":"display_data"
    }
   ],
   "metadata":{
    "datalore":{
     "node_id":"LshiWqCVGUvX53CRGnqk7r",
     "type":"CODE",
     "hide_input_from_viewers":true,
     "hide_output_from_viewers":true
    }
   }
  },
  {
   "cell_type":"code",
   "source":[
    "rd == 0.123451234512345123"
   ],
   "execution_count":17,
   "outputs":[
    {
     "data":{
      "text\/plain":[
       "true"
      ]
     },
     "metadata":{
      
     },
     "output_type":"display_data"
    }
   ],
   "metadata":{
    "datalore":{
     "node_id":"5S0RlDE5ZtY4xDqq8umEyy",
     "type":"CODE",
     "hide_input_from_viewers":true,
     "hide_output_from_viewers":true
    }
   }
  },
  {
   "cell_type":"code",
   "source":[
    "rf"
   ],
   "execution_count":18,
   "outputs":[
    {
     "data":{
      "text\/plain":[
       "0.12345123"
      ]
     },
     "metadata":{
      
     },
     "output_type":"display_data"
    }
   ],
   "metadata":{
    "datalore":{
     "node_id":"zSNwkzNTgp5n3lfc6V1L3a",
     "type":"CODE",
     "hide_input_from_viewers":true,
     "hide_output_from_viewers":true
    }
   }
  },
  {
   "cell_type":"code",
   "source":[
    "rf == 0.123451234f"
   ],
   "execution_count":19,
   "outputs":[
    {
     "data":{
      "text\/plain":[
       "true"
      ]
     },
     "metadata":{
      
     },
     "output_type":"display_data"
    }
   ],
   "metadata":{
    "datalore":{
     "node_id":"QdAryHBiYncow7PM0uY19s",
     "type":"CODE",
     "hide_input_from_viewers":true,
     "hide_output_from_viewers":true
    }
   }
  },
  {
   "cell_type":"code",
   "source":[
    "rd == rf"
   ],
   "execution_count":20,
   "outputs":[
    {
     "name":"stderr",
     "text":[
      "Line_47.jupyter.kts (1:1 - 9) Operator '==' cannot be applied to 'Double' and 'Float'"
     ],
     "output_type":"stream"
    },
    {
     "ename":"Syntax Error",
     "evalue":"Syntax Error: Operator '==' cannot be applied to 'Double' and 'Float'",
     "traceback":[
      "\u001b[0;31m---------------------------------------------------------------------------",
      "Traceback (most recent call last)",
      "Syntax Error: Operator '==' cannot be applied to 'Double' and 'Float'"
     ],
     "output_type":"error"
    }
   ],
   "metadata":{
    "datalore":{
     "node_id":"VjFXZQxK407OUzVSgL9yWD",
     "type":"CODE",
     "hide_input_from_viewers":true,
     "hide_output_from_viewers":true
    }
   }
  },
  {
   "cell_type":"code",
   "source":[
    "rd.toFloat() == rf"
   ],
   "execution_count":21,
   "outputs":[
    {
     "data":{
      "text\/plain":[
       "true"
      ]
     },
     "metadata":{
      
     },
     "output_type":"display_data"
    }
   ],
   "metadata":{
    "datalore":{
     "node_id":"x1rBO3gjGPlRFsG8OKFtAf",
     "type":"CODE",
     "hide_input_from_viewers":true,
     "hide_output_from_viewers":true
    }
   }
  },
  {
   "cell_type":"code",
   "source":[
    "rd == rf.toDouble()"
   ],
   "execution_count":22,
   "outputs":[
    {
     "data":{
      "text\/plain":[
       "false"
      ]
     },
     "metadata":{
      
     },
     "output_type":"display_data"
    }
   ],
   "metadata":{
    "datalore":{
     "node_id":"H2Ep2pRzReOSHqk4IfHosY",
     "type":"CODE",
     "hide_input_from_viewers":true,
     "hide_output_from_viewers":true
    }
   }
  },
  {
   "cell_type":"markdown",
   "source":[
    "`Boolean`이랑 `Char`는 간단하니까 책이랑 아래 링크를 읽어보고 자습\n",
    "\n",
    "https:\/\/kotlinlang.org\/docs\/booleans.html\n",
    "\n",
    "https:\/\/kotlinlang.org\/docs\/characters.html"
   ],
   "attachments":{
    
   },
   "metadata":{
    "datalore":{
     "node_id":"kks3IinXejBdWANg9vOEZ5",
     "type":"MD",
     "hide_input_from_viewers":true,
     "hide_output_from_viewers":true
    }
   }
  },
  {
   "cell_type":"markdown",
   "source":[
    "## Type checking with the `is` keyworkd"
   ],
   "attachments":{
    
   },
   "metadata":{
    "datalore":{
     "node_id":"uaewem5iGAKoooPoZpEryJ",
     "type":"MD",
     "hide_input_from_viewers":true,
     "hide_output_from_viewers":true
    }
   }
  },
  {
   "cell_type":"code",
   "source":[
    "var a1: Any = 'a' \/\/ 3 이나 'a'  또는 3.14f 등으로 바꿔가며 아래 셀을 다시 실행해 보라"
   ],
   "execution_count":23,
   "outputs":[
    
   ],
   "metadata":{
    "datalore":{
     "node_id":"ILPcWE29Wau0H8q2IqVA57",
     "type":"CODE",
     "hide_input_from_viewers":true,
     "hide_output_from_viewers":true
    }
   }
  },
  {
   "cell_type":"code",
   "source":[
    "a1 is Int"
   ],
   "execution_count":24,
   "outputs":[
    {
     "data":{
      "text\/plain":[
       "false"
      ]
     },
     "metadata":{
      
     },
     "output_type":"display_data"
    }
   ],
   "metadata":{
    "datalore":{
     "node_id":"vstrNl65lRjkcfeojP6nP5",
     "type":"CODE",
     "hide_input_from_viewers":true,
     "hide_output_from_viewers":true
    }
   }
  },
  {
   "cell_type":"code",
   "source":[
    "a1 is Char"
   ],
   "execution_count":25,
   "outputs":[
    {
     "data":{
      "text\/plain":[
       "true"
      ]
     },
     "metadata":{
      
     },
     "output_type":"display_data"
    }
   ],
   "metadata":{
    "datalore":{
     "node_id":"N81ZN5rO154ANaR0LshgAa",
     "type":"CODE",
     "hide_input_from_viewers":true,
     "hide_output_from_viewers":true
    }
   }
  },
  {
   "cell_type":"code",
   "source":[
    "a1 is Float"
   ],
   "execution_count":26,
   "outputs":[
    {
     "data":{
      "text\/plain":[
       "false"
      ]
     },
     "metadata":{
      
     },
     "output_type":"display_data"
    }
   ],
   "metadata":{
    "datalore":{
     "node_id":"Ip3ArjP02tSZDVZRguXlDT",
     "type":"CODE",
     "hide_input_from_viewers":true,
     "hide_output_from_viewers":true
    }
   }
  },
  {
   "cell_type":"code",
   "source":[
    "3 !is Int \/\/ is와 반대의 결과를 계산하는 !is 연산자도 있다"
   ],
   "execution_count":27,
   "outputs":[
    {
     "data":{
      "text\/plain":[
       "false"
      ]
     },
     "metadata":{
      
     },
     "output_type":"display_data"
    }
   ],
   "metadata":{
    "datalore":{
     "node_id":"fqa75TZCFiiZclfXIagVaf",
     "type":"CODE",
     "hide_input_from_viewers":true,
     "hide_output_from_viewers":true
    }
   }
  },
  {
   "cell_type":"markdown",
   "source":[
    "## String"
   ],
   "attachments":{
    
   },
   "metadata":{
    "datalore":{
     "node_id":"R8WhuOB1SSXizGSPDpVHNo",
     "type":"MD",
     "hide_input_from_viewers":true,
     "hide_output_from_viewers":true
    }
   }
  },
  {
   "cell_type":"code",
   "source":[
    "var s1 = \"hello\"\n",
    "var s2 = \"hello\\nworld\\nbye\"\n",
    "var s3 = \"\"\"hello\n",
    "world\n",
    "bye\"\"\""
   ],
   "execution_count":28,
   "outputs":[
    
   ],
   "metadata":{
    "datalore":{
     "node_id":"mIaE3UEuSJk9zD7J9QKsEN",
     "type":"CODE",
     "hide_input_from_viewers":true,
     "hide_output_from_viewers":true
    }
   }
  },
  {
   "cell_type":"code",
   "source":[
    "println(s1)"
   ],
   "execution_count":29,
   "outputs":[
    {
     "name":"stdout",
     "text":[
      "hello\n"
     ],
     "output_type":"stream"
    }
   ],
   "metadata":{
    "datalore":{
     "node_id":"U3CEhA7gvdOdJ1AhTOw1AG",
     "type":"CODE",
     "hide_input_from_viewers":true,
     "hide_output_from_viewers":true
    }
   }
  },
  {
   "cell_type":"code",
   "source":[
    "println(s2)"
   ],
   "execution_count":30,
   "outputs":[
    {
     "name":"stdout",
     "text":[
      "hello\n",
      "world\n",
      "bye\n"
     ],
     "output_type":"stream"
    }
   ],
   "metadata":{
    "datalore":{
     "node_id":"I3e8C7POzw7MT5SMdWTTlc",
     "type":"CODE",
     "hide_input_from_viewers":true,
     "hide_output_from_viewers":true
    }
   }
  },
  {
   "cell_type":"code",
   "source":[
    "println(s3)"
   ],
   "execution_count":31,
   "outputs":[
    {
     "name":"stdout",
     "text":[
      "hello\n",
      "world\n",
      "bye\n"
     ],
     "output_type":"stream"
    }
   ],
   "metadata":{
    "datalore":{
     "node_id":"4yqDWv8iHlwaE0JJ40yI0l",
     "type":"CODE",
     "hide_input_from_viewers":true,
     "hide_output_from_viewers":true
    }
   }
  },
  {
   "cell_type":"code",
   "source":[
    "s2 == s3"
   ],
   "execution_count":32,
   "outputs":[
    {
     "data":{
      "text\/plain":[
       "true"
      ]
     },
     "metadata":{
      
     },
     "output_type":"display_data"
    }
   ],
   "metadata":{
    "datalore":{
     "node_id":"zmrgrsdseWxuHeMbAgtfaE",
     "type":"CODE",
     "hide_input_from_viewers":true,
     "hide_output_from_viewers":true
    }
   }
  },
  {
   "cell_type":"code",
   "source":[
    "val age = 25\n",
    "val name = \"Bob\"\n",
    "\/\/ 문자열 안에 $변수이름 활용\n",
    "println(\"My name is $name and I am $age years old.\")"
   ],
   "execution_count":33,
   "outputs":[
    {
     "name":"stdout",
     "text":[
      "My name is Bob and I am 25 years old.\n"
     ],
     "output_type":"stream"
    }
   ],
   "metadata":{
    "datalore":{
     "node_id":"Al7x5tOcD3n7NvJ5r8YdjR",
     "type":"CODE",
     "hide_input_from_viewers":true,
     "hide_output_from_viewers":true
    }
   }
  },
  {
   "cell_type":"code",
   "source":[
    "val x = 3\n",
    "val y = 4\n",
    "\/\/ 문자열 안에 단순한 변수 이름이 아닌 ${복잡한 식}\n",
    "println(\"Sum of $x and $y is ${x + y}\")"
   ],
   "execution_count":34,
   "outputs":[
    {
     "name":"stdout",
     "text":[
      "Sum of 3 and 4 is 7\n"
     ],
     "output_type":"stream"
    }
   ],
   "metadata":{
    "datalore":{
     "node_id":"tKY1QzS6wScNnHAfcc8lMZ",
     "type":"CODE",
     "hide_input_from_viewers":true,
     "hide_output_from_viewers":true
    }
   }
  },
  {
   "cell_type":"code",
   "source":[
    "\/\/ 여러 줄 문자열에서도 활용 가능\n",
    "\"\"\"\n",
    "Sum of  $x\n",
    "    and $y\n",
    "is      ${x + y}\n",
    "\"\"\""
   ],
   "execution_count":35,
   "outputs":[
    {
     "data":{
      "text\/plain":[
       "\n",
       "Sum of  3\n",
       "    and 4\n",
       "is      7\n"
      ]
     },
     "metadata":{
      
     },
     "output_type":"display_data"
    }
   ],
   "metadata":{
    "datalore":{
     "node_id":"zWXYyWYbrClH4KLiErs0d8",
     "type":"CODE",
     "hide_input_from_viewers":true,
     "hide_output_from_viewers":true
    }
   }
  }
 ],
 "metadata":{
  "kernelspec":{
   "display_name":"Kotlin",
   "language":"kotlin",
   "name":"kotlin"
  },
  "datalore":{
   "computation_mode":"JUPYTER",
   "package_manager":"pip",
   "base_environment":"default",
   "packages":[
    
   ],
   "report_row_ids":[
    
   ],
   "version":3
  }
 },
 "nbformat":4,
 "nbformat_minor":4
}