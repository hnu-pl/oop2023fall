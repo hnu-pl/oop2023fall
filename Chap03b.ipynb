{
 "cells": [
  {
   "cell_type": "markdown",
   "id": "cabf41b1-d71a-4249-8042-85f388e9e4bf",
   "metadata": {
    "tags": []
   },
   "source": [
    "# 03. The 4 Pillars of OOP (Part B)"
   ]
  },
  {
   "cell_type": "markdown",
   "id": "8cca7659-ad4a-491a-9af3-52c40920d173",
   "metadata": {
    "tags": []
   },
   "source": [
    "## Overriding\n",
    "\n",
    "책에는 더 뒤에 나오지만 추상 클래스나 인터페이스 예제에\n",
    "`override` 키워드가 나타나고 있어서 이걸 먼저 다뤄야 할 것 같다.\n",
    "(책의 순서는 왜 그런 건지 조금 의아함)\n",
    "\n",
    "subclass는 superclass의 속성과 함수를 상속받아 활용한다.\n",
    "하지만 그대로 상속받은 그대로의 내용이 아닌 subclass에 특성화된 동작으로\n",
    "기존의 것을 재정의(override)하는 것을 Overrding이라고 한다.\n",
    "(참고로, 아직 소개하지는 않았지만 상속관계 말고도 인터페이스에서 선언한 함수를 정의하는\n",
    "것도 마찬가지로 Overriding으로 취급한다.)\n",
    "\n",
    "코틀린에서는 superclass에서 `open`으로 선언된 속성이나 함수만 subclass에서 재정의(override) 가능하며\n",
    "재정의할 때에는 반드시 `override` 키워드로 재정의임을 분명히 표시해 주어야 한다.\n",
    "`open`으로 선언되지 않은 속성이나 함수를 재정의하려 하거나,\n",
    "재정의인데 `override` 키워드로 표시하지 않거나 하면 코틀린에서는 에러가 난다.\n",
    "\n",
    "또한, 함수의 이름은 물론 파라메터 개수와 타입 그리고 리턴 타입까지 완전히 일치하도록 재정의해야 한다."
   ]
  },
  {
   "cell_type": "code",
   "execution_count": 1,
   "id": "e2d45235-2aff-47f4-a9c0-39906d8fa84d",
   "metadata": {
    "tags": []
   },
   "outputs": [],
   "source": [
    "open class Person(var name: String, var age: Int) {\n",
    "    open fun greet() {\n",
    "        println(\"My name is $name and I am $age years old.\")\n",
    "    }\n",
    "}\n",
    "\n",
    "class Student(name: String, age: Int,\n",
    "              var major: String,\n",
    "              var institution: String\n",
    "             ): Person(name, age) {\n",
    "    /*\n",
    "    override fun greet() {\n",
    "        println(\"My name is $name and I am $age years old.\") // 상위 클래스와 똑같이 출력\n",
    "        println(\"I study $major at $institution.\") // 학상에게 추가된 속성에 대해서도 출력\n",
    "    }\n",
    "    */\n",
    "}"
   ]
  },
  {
   "cell_type": "code",
   "execution_count": 2,
   "id": "8857f8ca-723a-4096-b0c8-ed6582369ab2",
   "metadata": {
    "tags": []
   },
   "outputs": [
    {
     "name": "stdout",
     "output_type": "stream",
     "text": [
      "My name is Josh and I am 35 years old.\n"
     ]
    }
   ],
   "source": [
    "val p1 = Person(\"Josh\", 35)\n",
    "p1.greet()"
   ]
  },
  {
   "cell_type": "code",
   "execution_count": 3,
   "id": "d09df1ea-4378-441a-a08f-d0fd70654daa",
   "metadata": {
    "tags": []
   },
   "outputs": [
    {
     "name": "stdout",
     "output_type": "stream",
     "text": [
      "My name is Peter and I am 23 years old.\n"
     ]
    }
   ],
   "source": [
    "val s1 = Student(\"Peter\", 23, \"Computer Engineering\", \"Hannam University\")\n",
    "s1.greet()\n",
    "// Student 클래스에서 주석처리된 부분을 풀고 다시 실행해 보라"
   ]
  },
  {
   "cell_type": "markdown",
   "id": "855b0abb-9391-4dab-8cc2-6a2448f011a7",
   "metadata": {
    "tags": []
   },
   "source": [
    "### The `super` keyword\n",
    "`this` 키워드도 아래와 같은 두 가지 용도가 있듯이\n",
    "- 같은 클래스의 생성자에서 다른 생성자에서 또다른 생성자 호출\n",
    "- 클래스 안의 함수에서 객체 자신을 참조\n",
    "\n",
    "`super` 키워드도 마찬가지로 두 가지 용도가 있다\n",
    "- 하위 클래스의 생성자에서 상위 클래스의 생성자 호출\n",
    "- 클래스 안의 함수에서 재정의(override)되기 전의 상위클래스 내용에 접근\n",
    "\n",
    "`super`의 첫번째 용도는 이미 살펴보았고 두번째 용도를 여기서 살펴보자"
   ]
  },
  {
   "cell_type": "code",
   "execution_count": 4,
   "id": "8de1aad5-6998-4bd2-b53c-5055c591765c",
   "metadata": {
    "tags": []
   },
   "outputs": [],
   "source": [
    "open class Person(var name: String, var age: Int) {\n",
    "    open fun greet() {\n",
    "        println(\"My name is $name and I am $age years old.\")\n",
    "    }\n",
    "}\n",
    "\n",
    "class Student(name: String, age: Int,\n",
    "              var major: String,\n",
    "              var institution: String\n",
    "             ): Person(name, age) {\n",
    "    override fun greet() {\n",
    "        super.greet() // 재정의되기 전의 상위 클래스 greet() 내용을 호출해 활용\n",
    "        println(\"I study $major at $institution.\") // 학상에게 추가된 속성에 대해서도 출력\n",
    "    }\n",
    "}"
   ]
  },
  {
   "cell_type": "code",
   "execution_count": 5,
   "id": "64108861-1ea8-420f-b6e0-e5ee50b784d0",
   "metadata": {
    "tags": []
   },
   "outputs": [
    {
     "name": "stdout",
     "output_type": "stream",
     "text": [
      "My name is Josh and I am 35 years old.\n"
     ]
    }
   ],
   "source": [
    "val p1 = Person(\"Josh\", 35)\n",
    "p1.greet()"
   ]
  },
  {
   "cell_type": "code",
   "execution_count": 6,
   "id": "0e642341-32c3-4a5b-8ec1-8f877b1a690c",
   "metadata": {
    "tags": []
   },
   "outputs": [
    {
     "name": "stdout",
     "output_type": "stream",
     "text": [
      "My name is Peter and I am 23 years old.\n",
      "I study Computer Engineering at Hannam University.\n"
     ]
    }
   ],
   "source": [
    "val s1 = Student(\"Peter\", 23, \"Computer Engineering\", \"Hannam University\")\n",
    "s1.greet()"
   ]
  },
  {
   "cell_type": "markdown",
   "id": "2c5041ac-78dc-456a-85f2-e2a9752ea24a",
   "metadata": {},
   "source": [
    "### The `final` keyword\n",
    "\n",
    "여러 단계의 깊은 클래스 계증구조에서는 재정의된 함수를 더 밑에 있는 하위 클래스에서\n",
    "또 다시 더 특성화해서 재정의할 수도 있다.\n",
    "\n",
    "하지만 때로는 여기까지 재정의했으면 이제 더 이상 특성화할 것이 남아있지 않고 더 이상 재정의하지 못하도록 막아놓고 싶은 경우도 있는데, 이럴 때 `final` 키워드를 활용한다."
   ]
  },
  {
   "cell_type": "code",
   "execution_count": 7,
   "id": "7a509813-3d68-4b47-aa89-73a1ea6353d7",
   "metadata": {
    "tags": []
   },
   "outputs": [],
   "source": [
    "open class Animal {\n",
    "    open fun makeSound() = println(\"??? override me plz ???\")\n",
    "}\n",
    "\n",
    "open class Dog: Animal() {\n",
    "    /* final */ override fun makeSound() = println(\"멍멍 woof woof\")\n",
    "}\n",
    "// 위의 final 주석과 아래 재정의를 풀었다 걸었다 하며 실행해 보라\n",
    "class JindoDog: Dog() {\n",
    "    // override fun makeSound() = println(\"진진 jin jin\") // 이상한 내용으로 재정의하려 하네???\n",
    "}"
   ]
  },
  {
   "cell_type": "markdown",
   "id": "373928a9-dbbd-47f3-a7ea-fe575b381628",
   "metadata": {},
   "source": [
    "### Property-overriding\n",
    "상위 클래스의 속성도 `open`으로 선언하여 하위 클래스에서 다음과 같은 것들을 재정의할 수 있다.\n",
    "- `val` 속성을 `var` 속성으로 (없었던 `set` 함수를 추가로 정의하는 효과)\n",
    "- `get`이나 `set` 함수 (혹은 둘 다) 재정의\n",
    "- 초기값 재정의\n",
    "\n",
    "`var` 속성을 `val` 속성으로 재정의하는 것은 왜 허용하지 않는지 한번 생각해 보라."
   ]
  },
  {
   "cell_type": "code",
   "execution_count": 8,
   "id": "8fc7011f-ce8b-49c8-af54-a3eea40c35cd",
   "metadata": {
    "tags": []
   },
   "outputs": [],
   "source": [
    "open class Readable(open val content: String)\n",
    "\n",
    "class Modifiable(override var content: String): Readable(content)"
   ]
  },
  {
   "cell_type": "code",
   "execution_count": 9,
   "id": "4144a311-e0bf-4a01-8bee-d29482833c07",
   "metadata": {
    "tags": []
   },
   "outputs": [],
   "source": [
    "val r1 = Readable(\"Hello\")"
   ]
  },
  {
   "cell_type": "code",
   "execution_count": 10,
   "id": "01eb309b-f48f-4a90-abb4-35a023d37cbc",
   "metadata": {
    "tags": []
   },
   "outputs": [
    {
     "data": {
      "text/plain": [
       "Hello"
      ]
     },
     "execution_count": 10,
     "metadata": {},
     "output_type": "execute_result"
    }
   ],
   "source": [
    "r1.content // get 함수가 호출됨"
   ]
  },
  {
   "cell_type": "code",
   "execution_count": 11,
   "id": "7adb1108-29a1-4656-b514-9c8d9b668763",
   "metadata": {
    "tags": []
   },
   "outputs": [
    {
     "name": "stderr",
     "output_type": "stream",
     "text": [
      "Line_10.jupyter.kts (1:1 - 11) Val cannot be reassigned"
     ]
    }
   ],
   "source": [
    "r1.content = \"Hi\" // set 함수는 존재하지 않으므로 error"
   ]
  },
  {
   "cell_type": "code",
   "execution_count": 12,
   "id": "f63a1471-3796-4bc3-855c-e5be17b616ef",
   "metadata": {
    "tags": []
   },
   "outputs": [],
   "source": [
    "val m1 = Modifiable(\"Hello\")"
   ]
  },
  {
   "cell_type": "code",
   "execution_count": 13,
   "id": "136b9107-cc9e-4678-b943-871b12f8a33c",
   "metadata": {
    "tags": []
   },
   "outputs": [
    {
     "data": {
      "text/plain": [
       "Hello"
      ]
     },
     "execution_count": 13,
     "metadata": {},
     "output_type": "execute_result"
    }
   ],
   "source": [
    "m1.content // get 함수가 호출됨"
   ]
  },
  {
   "cell_type": "code",
   "execution_count": 14,
   "id": "2f7d3196-4f8d-4ae7-acf1-180c2b7466dd",
   "metadata": {
    "tags": []
   },
   "outputs": [],
   "source": [
    "m1.content = \"Hi\" // get 함수가 호출됨"
   ]
  },
  {
   "cell_type": "markdown",
   "id": "bba01e06-6319-407a-93d7-c5571bc66450",
   "metadata": {
    "tags": []
   },
   "source": [
    "코틀린 클래스의 속성에 대한 getter 함수와 setter 함수라 불리는 `get`과 `set` 함수에 대해\n",
    "이 책에서는 4장에서 소개하지만 여기에 한꺼번에 설명하는 게 더 관련성이 높은 내용이라 여기서\n",
    "같이 다룬다."
   ]
  },
  {
   "cell_type": "code",
   "execution_count": 15,
   "id": "b687f4e7-06f5-4aef-9484-91d455d1f042",
   "metadata": {
    "tags": []
   },
   "outputs": [],
   "source": [
    "class C {\n",
    "    val r: String = \"Hello\"  // r에 대한 get 함수가 자동으로 만들어져 제공됨\n",
    "    var rw: String = \"Hi\"  // rw에 대한 get과 set 함수가 자동으로 만들어져 제공됨 \n",
    "}"
   ]
  },
  {
   "cell_type": "code",
   "execution_count": 16,
   "id": "ef9576a9-c3f7-49f6-8ade-9ebf955b0fea",
   "metadata": {},
   "outputs": [],
   "source": [
    "class C { // 위와 같은 내용을 길게 작성하면\n",
    "    \n",
    "    val r: String = \"Hello\"\n",
    "    get() { return field } // field는 날것 그대로의 변수 r을 참조\n",
    "    \n",
    "    var rw: String = \"Hi\"\n",
    "    get() = field        // field는 날것 그대로의 변수 rw를 참조\n",
    "    set(v) { field = v }\n",
    "}"
   ]
  },
  {
   "cell_type": "code",
   "execution_count": 17,
   "id": "e9e2e59a-f8d2-491e-931a-e4bb96bc274e",
   "metadata": {
    "tags": []
   },
   "outputs": [],
   "source": [
    "// set 함수 재정의 예시 (get도 비슷한 방식으로 재정의할 수 있음)\n",
    "\n",
    "open class IntBox { // 자연수 속성 하나로 이루어진 클래스\n",
    "    open var number: Int = 0\n",
    "}\n",
    "\n",
    "// 아래 하위 클래스에서 number 속성의 set을 재정의하고 get은 상속받은 그대로\n",
    "\n",
    "open class NatBox: IntBox() { // 자연수 즉 0 이상의 정수만 담고 싶다면\n",
    "    override var number: Int = 0\n",
    "    // 음수로 재지정하려 시도하는 경우는 부호를 뒤집은 절대값으로 저장\n",
    "    set(v) { field = if (v < 0) -v else v }\n",
    "}"
   ]
  },
  {
   "cell_type": "code",
   "execution_count": 18,
   "id": "1a45bb07-32f7-4ed3-92e6-80cb4c6762c0",
   "metadata": {
    "tags": []
   },
   "outputs": [
    {
     "data": {
      "text/plain": [
       "-13"
      ]
     },
     "execution_count": 18,
     "metadata": {},
     "output_type": "execute_result"
    }
   ],
   "source": [
    "val ib = IntBox()\n",
    "ib.number = -13\n",
    "\n",
    "ib.number"
   ]
  },
  {
   "cell_type": "code",
   "execution_count": 19,
   "id": "ad6d7e04-a6f4-4e99-b226-60c7498fea6e",
   "metadata": {
    "tags": []
   },
   "outputs": [
    {
     "data": {
      "text/plain": [
       "13"
      ]
     },
     "execution_count": 19,
     "metadata": {},
     "output_type": "execute_result"
    }
   ],
   "source": [
    "val nb = NatBox()\n",
    "nb.number = -13 // 재정의된 set 함수 호출됨\n",
    "\n",
    "nb.number"
   ]
  },
  {
   "cell_type": "code",
   "execution_count": 20,
   "id": "b49f9511-9e9f-4a0f-af5d-0a6a4db1ea36",
   "metadata": {
    "tags": []
   },
   "outputs": [],
   "source": [
    "open class C1 {\n",
    "    open val r: String = \"Hello\"\n",
    "    open var rw: String = \"Bye\"\n",
    "}\n",
    "// 다른 건 그대로 두고 초기값만 재정의\n",
    "class C2: C1() {\n",
    "    override val r: String = \"반가워\"\n",
    "    override var rw: String = \"잘가\"\n",
    "}"
   ]
  },
  {
   "cell_type": "code",
   "execution_count": null,
   "id": "b8659bc7-c40d-486d-b9fd-3cc24a2bb776",
   "metadata": {},
   "outputs": [],
   "source": []
  }
 ],
 "metadata": {
  "kernelspec": {
   "display_name": "Kotlin",
   "language": "kotlin",
   "name": "kotlin"
  },
  "language_info": {
   "codemirror_mode": "text/x-kotlin",
   "file_extension": ".kt",
   "mimetype": "text/x-kotlin",
   "name": "kotlin",
   "nbconvert_exporter": "",
   "pygments_lexer": "kotlin",
   "version": "1.8.20"
  }
 },
 "nbformat": 4,
 "nbformat_minor": 5
}
