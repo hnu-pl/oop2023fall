{
 "cells": [
  {
   "cell_type": "markdown",
   "id": "cabf41b1-d71a-4249-8042-85f388e9e4bf",
   "metadata": {
    "tags": []
   },
   "source": [
    "# 05. Data Collection, Iterators, and Filters (Part B)"
   ]
  },
  {
   "cell_type": "markdown",
   "id": "7e4ab9dc-8c47-4eb1-b7d0-c5a001ba9430",
   "metadata": {
    "tags": []
   },
   "source": [
    "## Lists in Kotlin"
   ]
  },
  {
   "cell_type": "markdown",
   "id": "ca37f76f-a077-4289-9503-c6c3bfd52800",
   "metadata": {},
   "source": [
    "### Immutable lists"
   ]
  },
  {
   "cell_type": "code",
   "execution_count": 1,
   "id": "d94c04fe-1198-4260-94df-ae605e4433fd",
   "metadata": {
    "tags": []
   },
   "outputs": [
    {
     "name": "stdout",
     "output_type": "stream",
     "text": [
      "[1, 2, 3, 4, 5, 6]\n",
      "[1, 2, 3, 4, 5, 6]\n"
     ]
    }
   ],
   "source": [
    "val intList/* : List<Int> */ = listOf(1,2,3,4,5,6)\n",
    "\n",
    "println( intList )\n",
    "println( intList.toString() )"
   ]
  },
  {
   "cell_type": "code",
   "execution_count": 2,
   "id": "97a605f5-7336-4c68-a693-5e41cc7c50e1",
   "metadata": {
    "tags": []
   },
   "outputs": [
    {
     "name": "stdout",
     "output_type": "stream",
     "text": [
      "1 2 3 4 5 6 "
     ]
    }
   ],
   "source": [
    "for (e in intList) print(\"$e \")"
   ]
  },
  {
   "cell_type": "code",
   "execution_count": 3,
   "id": "f5e94eef-2cf2-4567-9f32-c8e540531a79",
   "metadata": {
    "tags": []
   },
   "outputs": [
    {
     "data": {
      "text/plain": [
       "class java.util.Arrays$ArrayList"
      ]
     },
     "execution_count": 3,
     "metadata": {},
     "output_type": "execute_result"
    }
   ],
   "source": [
    "intList::class"
   ]
  },
  {
   "cell_type": "code",
   "execution_count": 4,
   "id": "32460c09-fb3c-4f77-8a6c-5242c2ef6dc5",
   "metadata": {
    "tags": []
   },
   "outputs": [
    {
     "data": {
      "text/plain": [
       "[Hello, Kotlin, Bye, Java]"
      ]
     },
     "execution_count": 4,
     "metadata": {},
     "output_type": "execute_result"
    }
   ],
   "source": [
    "val strList = listOf/* <String> */(\"Hello\", \"Kotlin\", \"Bye\", \"Java\")\n",
    "\n",
    "strList"
   ]
  },
  {
   "cell_type": "code",
   "execution_count": 5,
   "id": "84af521c-41cd-4396-b84c-2e093f11b190",
   "metadata": {
    "tags": []
   },
   "outputs": [
    {
     "data": {
      "text/plain": [
       "Kotlin"
      ]
     },
     "execution_count": 5,
     "metadata": {},
     "output_type": "execute_result"
    }
   ],
   "source": [
    "strList[1]"
   ]
  },
  {
   "cell_type": "code",
   "execution_count": 6,
   "id": "2e18479f-5ace-4311-baff-3e2055e0305a",
   "metadata": {
    "tags": []
   },
   "outputs": [
    {
     "name": "stderr",
     "output_type": "stream",
     "text": [
      "Line_5.jupyter.kts (1:1 - 11) Unresolved reference. None of the following candidates is applicable because of receiver type mismatch: \n",
      "public inline operator fun kotlin.text.StringBuilder /* = java.lang.StringBuilder */.set(index: Int, value: Char): Unit defined in kotlin.text\n",
      "Line_5.jupyter.kts (1:8 - 11) No set method providing array access"
     ]
    }
   ],
   "source": [
    "strList[1] = \"Scala\" // immutable list를 통해서는 원소 변경 불가"
   ]
  },
  {
   "cell_type": "markdown",
   "id": "8448b56f-4774-4e24-a011-fd1b84c12c14",
   "metadata": {},
   "source": [
    "## Immutable lists and interfaces\n",
    "- https://kotlinlang.org/api/latest/jvm/stdlib/kotlin.collections/-iterable/\n",
    "- https://kotlinlang.org/api/latest/jvm/stdlib/kotlin.collections/-collection/\n",
    "- https://kotlinlang.org/api/latest/jvm/stdlib/kotlin.collections/-list/\n",
    "- https://kotlinlang.org/api/latest/jvm/stdlib/kotlin/-array/"
   ]
  },
  {
   "cell_type": "markdown",
   "id": "7d6fe922-af53-4ad9-8f46-62affb6710a5",
   "metadata": {},
   "source": [
    "### Iterable interfaces"
   ]
  },
  {
   "cell_type": "code",
   "execution_count": 7,
   "id": "5527290b-b9b0-41c6-90fe-9c56a195160d",
   "metadata": {
    "tags": []
   },
   "outputs": [
    {
     "data": {
      "text/plain": [
       "true"
      ]
     },
     "execution_count": 7,
     "metadata": {},
     "output_type": "execute_result"
    }
   ],
   "source": [
    "listOf(1,2,3) is Iterable<*> // immutable lists are immutable iterables"
   ]
  },
  {
   "cell_type": "code",
   "execution_count": 8,
   "id": "cb26aa38-c94b-46a0-b30f-803b772aa0e9",
   "metadata": {
    "tags": []
   },
   "outputs": [
    {
     "data": {
      "text/plain": [
       "false"
      ]
     },
     "execution_count": 8,
     "metadata": {},
     "output_type": "execute_result"
    }
   ],
   "source": [
    "arrayOf(1,2,3) is Iterable<*>"
   ]
  },
  {
   "cell_type": "code",
   "execution_count": 9,
   "id": "f9248754-58fd-4380-838c-4d7947ee5da5",
   "metadata": {
    "tags": []
   },
   "outputs": [
    {
     "name": "stdout",
     "output_type": "stream",
     "text": [
      "1\n",
      "2\n",
      "3\n"
     ]
    }
   ],
   "source": [
    "val intList: List<Int> = listOf(1,2,3)\n",
    "val intIterable: Iterable<Int> = intList\n",
    "///////////////\n",
    "val iter: Iterator<Int> = intIterable.iterator()\n",
    "while ( iter.hasNext() ) {\n",
    "    val e = iter.next()\n",
    "    println( e )\n",
    "}"
   ]
  },
  {
   "cell_type": "code",
   "execution_count": 10,
   "id": "a5257f13-8e5a-41bb-90e2-989abb584548",
   "metadata": {
    "tags": []
   },
   "outputs": [
    {
     "name": "stdout",
     "output_type": "stream",
     "text": [
      "1\n",
      "2\n",
      "3\n"
     ]
    }
   ],
   "source": [
    "val intList: List<Int> = listOf(1,2,3)\n",
    "val intIterable: Iterable<Int> = intList\n",
    "///////////////\n",
    "for (e in intIterable) {\n",
    "    println( e )\n",
    "}"
   ]
  },
  {
   "cell_type": "markdown",
   "id": "2e5daa39-1d69-489c-8327-676854d736fa",
   "metadata": {
    "tags": []
   },
   "source": [
    "### Collection interfaces\n",
    "Iterable의 함수에 추가로 크기(원소의 개수) 속성을 지원"
   ]
  },
  {
   "cell_type": "code",
   "execution_count": 11,
   "id": "de5317af-9ea0-48d6-a9b9-e72677b04c84",
   "metadata": {
    "tags": []
   },
   "outputs": [],
   "source": [
    "val intList: List<Int> = listOf(1,2,3,4,5)\n",
    "val intCollection: Collection<Int> = intList\n",
    "val intIterable: Iterable<Int> = intCollection"
   ]
  },
  {
   "cell_type": "code",
   "execution_count": 12,
   "id": "94a93351-25fc-4bb2-8595-4f04a21305de",
   "metadata": {
    "tags": []
   },
   "outputs": [
    {
     "data": {
      "text/plain": [
       "5"
      ]
     },
     "execution_count": 12,
     "metadata": {},
     "output_type": "execute_result"
    }
   ],
   "source": [
    "intCollection.size"
   ]
  },
  {
   "cell_type": "code",
   "execution_count": 13,
   "id": "8135e873-8ca3-47dd-8f8a-d2999ba9aa94",
   "metadata": {
    "tags": []
   },
   "outputs": [
    {
     "name": "stderr",
     "output_type": "stream",
     "text": [
      "Line_12.jupyter.kts (1:13 - 17) Unresolved reference: size"
     ]
    }
   ],
   "source": [
    "intIterable.size // Iterable 에서는 지원되지 않음"
   ]
  },
  {
   "cell_type": "markdown",
   "id": "e8d3a48f-1124-4ac5-903e-19afa47057dc",
   "metadata": {},
   "source": [
    "### List interfaces\n",
    "원소들이 일차원적인 선형 구조로 위치가 정해져 배치된 Collection\n",
    "\n",
    "인덱스를 통해 접근 가능하도록 한 것이 바로 이렇게 원소가 순차적으로 배치되어 있음을 반영하는 것"
   ]
  },
  {
   "cell_type": "code",
   "execution_count": 14,
   "id": "63d18e29-ff14-4eab-b9fa-e9dcb3207dc1",
   "metadata": {
    "tags": []
   },
   "outputs": [],
   "source": [
    "val intList: List<Int> = listOf(1,2,3,4,5)\n",
    "val intCollection: Collection<Int> = intList"
   ]
  },
  {
   "cell_type": "code",
   "execution_count": 15,
   "id": "b1b89078-ed3c-432c-8456-fa32c1cd40ea",
   "metadata": {
    "tags": []
   },
   "outputs": [
    {
     "data": {
      "text/plain": [
       "4"
      ]
     },
     "execution_count": 15,
     "metadata": {},
     "output_type": "execute_result"
    }
   ],
   "source": [
    "intList[3]"
   ]
  },
  {
   "cell_type": "code",
   "execution_count": 16,
   "id": "cd2a5faf-a78e-4941-86ac-2e65db00cb2d",
   "metadata": {
    "tags": []
   },
   "outputs": [
    {
     "name": "stderr",
     "output_type": "stream",
     "text": [
      "Line_15.jupyter.kts (1:1 - 17) Unresolved reference. None of the following candidates is applicable because of receiver type mismatch: \n",
      "public operator fun MatchGroupCollection.get(name: String): MatchGroup? defined in kotlin.text\n",
      "Line_15.jupyter.kts (1:14 - 17) No get method providing array access"
     ]
    }
   ],
   "source": [
    "intCollection[4]"
   ]
  },
  {
   "cell_type": "markdown",
   "id": "1a9502cd-1231-4c04-a6d2-73a1cf8c6ecf",
   "metadata": {},
   "source": [
    "## Mutable lists\n",
    "- https://kotlinlang.org/api/latest/jvm/stdlib/kotlin.collections/-mutable-iterable/\n",
    "- https://kotlinlang.org/api/latest/jvm/stdlib/kotlin.collections/-mutable-collection/\n",
    "- https://kotlinlang.org/api/latest/jvm/stdlib/kotlin.collections/-mutable-list/\n",
    "\n",
    "불변(immutable) 인터페이스는 대응되는 가변(mutable) 인터페이스의 상위 인터페이스 \n",
    "\n",
    "가변 인터페이스는 불변 인터페이스가 할 수 있는 모든 동작을 다 할 수 있어야 함\n",
    "\n",
    "즉 가변 인터페이스는 불변 인터페이스의 함수를 기본적으로 지원한다는 이야기\n",
    "\n",
    "그리고 가변 인터페이스는 불변 인터페이스에서는 없던 동작을 추가로 지원\n",
    "- MutableIterable: 원소 삭제\n",
    "- MutableCollection: 원소 삭제/추가\n",
    "- MutableList: 원소 삭제/추가/변경\n",
    "\n",
    "참고로, 일차원적인 선형 구조로 배치된 원소들에 대해 삭제/추가가 가능하면 \"변경\"이라는 동작도 자연스럽게 가능해진다. 왜냐하면 삭제한 바로 그 위치에 추가하는 방식으로도 다른 추가적인 기능을 전혀 생각하지 않고서도 \"변경\"을 구현할 수 있기 때문. 물론, 특정 데이터 구조에서는 이것보다 효율적인 방법으로 특정 위치의 원소를 변경하는 것도 당연히 가능하다 (예를 들면, 배열의 경우 특정 메모리 위치에 덮어쓰기). 그러니까 List의 특성과 MutableCollection의 특성을 동시에 만족하면 \"변경\"이 가능할 수밖에 없는 것이지 MutableList에 별도로 더 획기적이고 창의적인 기능으로써 원소의 \"변경\" 동작이 추가된 것이 아니라는 말이다.\n"
   ]
  },
  {
   "cell_type": "code",
   "execution_count": 17,
   "id": "bf489b37-00b2-4acf-b07d-d2a95da8a19a",
   "metadata": {
    "tags": []
   },
   "outputs": [],
   "source": [
    "val intMutList: MutableList<Int> = mutableListOf(1,2,3,4,5)\n",
    "val intMutColl: MutableCollection<Int> = intMutList\n",
    "val intMutIter: MutableIterable<Int> = intMutColl"
   ]
  },
  {
   "cell_type": "code",
   "execution_count": 18,
   "id": "8ed61924-9b31-4106-9614-bba4abbb65b9",
   "metadata": {
    "tags": []
   },
   "outputs": [],
   "source": [
    "val intList: List<Int> = intMutList\n",
    "val intColl: Collection<Int> = intMutColl\n",
    "val intIter: Iterable<Int> = intMutIter"
   ]
  },
  {
   "cell_type": "code",
   "execution_count": 19,
   "id": "962c3a02-ec9b-444a-900c-d8faabb61ddb",
   "metadata": {
    "tags": []
   },
   "outputs": [],
   "source": [
    "// 나머지 내용은 책을 보며 스스로 학습"
   ]
  },
  {
   "cell_type": "markdown",
   "id": "25f4f5b4-d96d-45a4-a33c-c258f0326320",
   "metadata": {
    "tags": []
   },
   "source": [
    "## Sets\n",
    "- https://kotlinlang.org/api/latest/jvm/stdlib/kotlin.collections/-set/\n",
    "- https://kotlinlang.org/api/latest/jvm/stdlib/kotlin.collections/-mutable-set/\n",
    "\n",
    "집합은 순서와 중복을 따지지 않는 Collection"
   ]
  },
  {
   "cell_type": "code",
   "execution_count": 20,
   "id": "83fc3d4e-c054-4069-bfc5-cb25189ebae1",
   "metadata": {
    "tags": []
   },
   "outputs": [
    {
     "data": {
      "text/plain": [
       "false"
      ]
     },
     "execution_count": 20,
     "metadata": {},
     "output_type": "execute_result"
    }
   ],
   "source": [
    "listOf(1,2,3) == listOf(3,1,2)"
   ]
  },
  {
   "cell_type": "code",
   "execution_count": 21,
   "id": "176666a5-54d2-4bfd-9e56-469b8e712ab9",
   "metadata": {
    "tags": []
   },
   "outputs": [
    {
     "data": {
      "text/plain": [
       "false"
      ]
     },
     "execution_count": 21,
     "metadata": {},
     "output_type": "execute_result"
    }
   ],
   "source": [
    "listOf(1,2,3) == listOf(1,2,2,3,3,3)"
   ]
  },
  {
   "cell_type": "code",
   "execution_count": 22,
   "id": "145a99d7-42a8-40fa-9884-421e6baf0396",
   "metadata": {
    "tags": []
   },
   "outputs": [
    {
     "data": {
      "text/plain": [
       "true"
      ]
     },
     "execution_count": 22,
     "metadata": {},
     "output_type": "execute_result"
    }
   ],
   "source": [
    "setOf(1,2,3) == setOf(3,1,2)"
   ]
  },
  {
   "cell_type": "code",
   "execution_count": 23,
   "id": "240754e8-428b-45da-bb2f-49ee1a3eec98",
   "metadata": {
    "tags": []
   },
   "outputs": [
    {
     "data": {
      "text/plain": [
       "true"
      ]
     },
     "execution_count": 23,
     "metadata": {},
     "output_type": "execute_result"
    }
   ],
   "source": [
    "setOf(1,2,3) == setOf(1,2,2,3,3,3)"
   ]
  },
  {
   "cell_type": "markdown",
   "id": "90e2f379-d6ba-4b70-9af9-fbc4adc33b46",
   "metadata": {},
   "source": [
    "## Maps\n",
    "- https://kotlinlang.org/api/latest/jvm/stdlib/kotlin.collections/-map/\n",
    "- https://kotlinlang.org/api/latest/jvm/stdlib/kotlin.collections/-mutable-map/"
   ]
  },
  {
   "cell_type": "code",
   "execution_count": 24,
   "id": "28721d1d-e826-4c70-b838-711a1f8ae445",
   "metadata": {
    "tags": []
   },
   "outputs": [
    {
     "data": {
      "text/plain": [
       "(1, One)"
      ]
     },
     "execution_count": 24,
     "metadata": {},
     "output_type": "execute_result"
    }
   ],
   "source": [
    "Pair(1,\"One\")"
   ]
  },
  {
   "cell_type": "code",
   "execution_count": 25,
   "id": "f726889f-4830-4dc2-820b-62e387c9e2ce",
   "metadata": {
    "tags": []
   },
   "outputs": [
    {
     "data": {
      "text/plain": [
       "(1, One)"
      ]
     },
     "execution_count": 25,
     "metadata": {},
     "output_type": "execute_result"
    }
   ],
   "source": [
    "1 to \"One\""
   ]
  },
  {
   "cell_type": "code",
   "execution_count": 36,
   "id": "4aa61b0e-94f8-4c3d-be61-724374b3c215",
   "metadata": {
    "tags": []
   },
   "outputs": [
    {
     "data": {
      "text/plain": [
       "true"
      ]
     },
     "execution_count": 36,
     "metadata": {},
     "output_type": "execute_result"
    }
   ],
   "source": [
    "val p1: Pair<Int,String> = Pair(1,\"One\")\n",
    "val p2: Pair<Int,String> = 1 to \"One\"\n",
    "\n",
    "p1 == p2"
   ]
  },
  {
   "cell_type": "code",
   "execution_count": 37,
   "id": "7de56a92-6dcd-41c7-894d-84726d0acb59",
   "metadata": {
    "tags": []
   },
   "outputs": [
    {
     "data": {
      "text/plain": [
       "{1=One, 2=Two, 4=Four}"
      ]
     },
     "execution_count": 37,
     "metadata": {},
     "output_type": "execute_result"
    }
   ],
   "source": [
    "mapOf( Pair(1,\"One\"), Pair(2,\"Two\"), Pair(4,\"Four\") )"
   ]
  },
  {
   "cell_type": "code",
   "execution_count": 38,
   "id": "9aa89036-d0c8-4afe-9c31-850daa2b1cfb",
   "metadata": {
    "tags": []
   },
   "outputs": [
    {
     "data": {
      "text/plain": [
       "{2=Two, 1=One, 4=Four}"
      ]
     },
     "execution_count": 38,
     "metadata": {},
     "output_type": "execute_result"
    }
   ],
   "source": [
    "mapOf( 2 to \"Two\", 1 to \"One\",  4 to \"Four\" )"
   ]
  },
  {
   "cell_type": "code",
   "execution_count": 39,
   "id": "026ca382-f5a9-4514-badb-97689a95d12f",
   "metadata": {
    "tags": []
   },
   "outputs": [
    {
     "data": {
      "text/plain": [
       "true"
      ]
     },
     "execution_count": 39,
     "metadata": {},
     "output_type": "execute_result"
    }
   ],
   "source": [
    "val m1: Map<Int,String> = mapOf( Pair(1,\"One\"), Pair(2,\"Two\"), Pair(4,\"Four\") )\n",
    "val m2: Map<Int,String> = mapOf( 2 to \"Two\", 1 to \"One\",  4 to \"Four\" )\n",
    "\n",
    "m1 == m2"
   ]
  },
  {
   "cell_type": "code",
   "execution_count": 40,
   "id": "2b11d40e-b788-42fa-b83a-f0514d12193d",
   "metadata": {
    "tags": []
   },
   "outputs": [
    {
     "data": {
      "text/plain": [
       "Two"
      ]
     },
     "execution_count": 40,
     "metadata": {},
     "output_type": "execute_result"
    }
   ],
   "source": [
    "m1[2]"
   ]
  },
  {
   "cell_type": "code",
   "execution_count": 31,
   "id": "8b49c4c7-9570-4e5c-b686-813a3df9e15b",
   "metadata": {
    "tags": []
   },
   "outputs": [
    {
     "data": {
      "text/plain": [
       "null"
      ]
     },
     "execution_count": 31,
     "metadata": {},
     "output_type": "execute_result"
    }
   ],
   "source": [
    "m1[3]"
   ]
  },
  {
   "cell_type": "code",
   "execution_count": 32,
   "id": "6d3a7ff2-50f8-4473-9e0b-2726eada4d8b",
   "metadata": {
    "tags": []
   },
   "outputs": [
    {
     "data": {
      "text/plain": [
       "fun kotlin.collections.Map<K, V>.get(K): V?"
      ]
     },
     "execution_count": 32,
     "metadata": {},
     "output_type": "execute_result"
    }
   ],
   "source": [
    "m1::get"
   ]
  },
  {
   "cell_type": "code",
   "execution_count": 33,
   "id": "55d07946-8f72-48fd-82d6-0036879d619b",
   "metadata": {
    "tags": []
   },
   "outputs": [
    {
     "name": "stderr",
     "output_type": "stream",
     "text": [
      "Line_32.jupyter.kts (1:1 - 6) Unresolved reference. None of the following candidates is applicable because of receiver type mismatch: \n",
      "public inline operator fun kotlin.text.StringBuilder /* = java.lang.StringBuilder */.set(index: Int, value: Char): Unit defined in kotlin.text\n",
      "Line_32.jupyter.kts (1:3 - 6) No set method providing array access"
     ]
    }
   ],
   "source": [
    "m1[4] = \"FOUR\" // not allowed for immutable maps"
   ]
  },
  {
   "cell_type": "code",
   "execution_count": 42,
   "id": "416b15c6-ffc4-4db7-88e1-c8620275604a",
   "metadata": {
    "tags": []
   },
   "outputs": [
    {
     "data": {
      "text/plain": [
       "4"
      ]
     },
     "execution_count": 42,
     "metadata": {},
     "output_type": "execute_result"
    }
   ],
   "source": [
    "val m3: Map<String,Int> = mapOf(\"One\" to 1, \"Four\" to 4, \"Two\" to 2)\n",
    "\n",
    "m3[\"Four\"]"
   ]
  },
  {
   "cell_type": "markdown",
   "id": "2ebb1046-5e9a-4ec2-b12d-461bae938e22",
   "metadata": {},
   "source": [
    "## Iterators in Kotlin\n",
    "\n",
    "### Iterators\n",
    "### List iterators\n",
    "### Mutable iterators\n",
    "### Mutable list iterators\n",
    "\n",
    "네 인터페이스의 관계를 나타내는 그림을 이해할 수 있으면 된다."
   ]
  },
  {
   "cell_type": "code",
   "execution_count": null,
   "id": "b42e64a0-9d50-40c0-b725-961667f788bf",
   "metadata": {},
   "outputs": [],
   "source": []
  }
 ],
 "metadata": {
  "kernelspec": {
   "display_name": "Kotlin",
   "language": "kotlin",
   "name": "kotlin"
  },
  "language_info": {
   "codemirror_mode": "text/x-kotlin",
   "file_extension": ".kt",
   "mimetype": "text/x-kotlin",
   "name": "kotlin",
   "nbconvert_exporter": "",
   "pygments_lexer": "kotlin",
   "version": "1.8.20-Beta"
  }
 },
 "nbformat": 4,
 "nbformat_minor": 5
}
