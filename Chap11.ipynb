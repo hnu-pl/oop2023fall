{
 "cells": [
  {
   "cell_type": "markdown",
   "id": "735f9fce-e18b-4261-ae7a-c42945a0c365",
   "metadata": {},
   "source": [
    "# 11. Testing OOP with Kotlin\n",
    "\n",
    "이건 아마도 수업시간에 여기까지 진도가 못나갈 거 같은데 혹시 나간다면 약간의 준비작업"
   ]
  },
  {
   "cell_type": "code",
   "execution_count": 3,
   "id": "930ddf2f-3e1e-4d99-a37c-dd660b857f5c",
   "metadata": {
    "tags": []
   },
   "outputs": [],
   "source": [
    "@file:DependsOn(\"org.junit.jupiter:junit-jupiter:5.10.0\")"
   ]
  },
  {
   "cell_type": "code",
   "execution_count": 2,
   "id": "8b95f770-9430-4c56-8e32-de364f9fab7c",
   "metadata": {
    "tags": []
   },
   "outputs": [
    {
     "name": "stderr",
     "output_type": "stream",
     "text": [
      "Failed to process '%%loadFromPOM' command. Unknown line magic keyword: '%loadFromPOM'\n",
      "org.jetbrains.kotlinx.jupyter.exceptions.ReplPreprocessingException: Unknown line magic keyword: '%loadFromPOM'\n",
      "org.jetbrains.kotlinx.jupyter.exceptions.ReplPreprocessingException: Failed to process '%%loadFromPOM' command. Unknown line magic keyword: '%loadFromPOM'\n",
      "\tat org.jetbrains.kotlinx.jupyter.magics.AbstractMagicsHandler.handle(AbstractMagicsHandler.kt:51)\n",
      "\tat org.jetbrains.kotlinx.jupyter.magics.AbstractMagicsProcessor$Companion.processSingleMagic(AbstractMagicsProcessor.kt:66)\n",
      "\tat org.jetbrains.kotlinx.jupyter.magics.MagicsProcessor.processMagics(MagicsProcessor.kt:15)\n",
      "\tat org.jetbrains.kotlinx.jupyter.magics.MagicsProcessor.processMagics$default(MagicsProcessor.kt:11)\n",
      "\tat org.jetbrains.kotlinx.jupyter.magics.MagicsProcessor.process(MagicsProcessor.kt:21)\n",
      "\tat org.jetbrains.kotlinx.jupyter.magics.CompoundCodePreprocessor.process$iteration(CompoundCodePreprocessor.kt:30)\n",
      "\tat org.jetbrains.kotlinx.jupyter.magics.CompoundCodePreprocessor.process(CompoundCodePreprocessor.kt:37)\n",
      "\tat org.jetbrains.kotlinx.jupyter.repl.impl.CellExecutorImpl.execute(CellExecutorImpl.kt:57)\n",
      "\tat org.jetbrains.kotlinx.jupyter.repl.CellExecutor$DefaultImpls.execute$default(CellExecutor.kt:15)\n",
      "\tat org.jetbrains.kotlinx.jupyter.ReplForJupyterImpl$evalEx$1.invoke(repl.kt:471)\n",
      "\tat org.jetbrains.kotlinx.jupyter.ReplForJupyterImpl$evalEx$1.invoke(repl.kt:462)\n",
      "\tat org.jetbrains.kotlinx.jupyter.ReplForJupyterImpl.withEvalContext(repl.kt:425)\n",
      "\tat org.jetbrains.kotlinx.jupyter.ReplForJupyterImpl.evalEx(repl.kt:462)\n",
      "\tat org.jetbrains.kotlinx.jupyter.messaging.ProtocolKt$shellMessagesHandler$2$res$1.invoke(protocol.kt:318)\n",
      "\tat org.jetbrains.kotlinx.jupyter.messaging.ProtocolKt$shellMessagesHandler$2$res$1.invoke(protocol.kt:312)\n",
      "\tat org.jetbrains.kotlinx.jupyter.JupyterExecutorImpl$runExecution$execThread$1.invoke(execution.kt:37)\n",
      "\tat org.jetbrains.kotlinx.jupyter.JupyterExecutorImpl$runExecution$execThread$1.invoke(execution.kt:32)\n",
      "\tat kotlin.concurrent.ThreadsKt$thread$thread$1.run(Thread.kt:30)\n",
      "Caused by: org.jetbrains.kotlinx.jupyter.exceptions.ReplPreprocessingException: Unknown line magic keyword: '%loadFromPOM'\n",
      "\tat org.jetbrains.kotlinx.jupyter.magics.AbstractMagicsHandler.handle(AbstractMagicsHandler.kt:44)\n",
      "\t... 17 more\n",
      "\n"
     ]
    }
   ],
   "source": [
    "%%loadFromPOM\n",
    "    <properties>\n",
    "        <junit-platform.version>5.3.1</junit-platform.version>\n",
    "    </properties>\n",
    "    <dependencies>\n",
    "        <dependency>\n",
    "            <groupId>org.junit.jupiter</groupId>\n",
    "            <artifactId>junit-jupiter-api</artifactId>\n",
    "            <version>5.3.1</version>\n",
    "        <!--    <scope>test</scope> -->\n",
    "        </dependency>\n",
    "        <dependency>\n",
    "            <groupId>org.junit.jupiter</groupId>\n",
    "            <artifactId>junit-jupiter-engine</artifactId>\n",
    "            <version>${junit-platform.version}</version>\n",
    "        <!--    <scope>test</scope> -->\n",
    "        </dependency>\n",
    "    </dependencies>\n",
    "    <build>\n",
    "        <plugins>\n",
    "            <plugin>\n",
    "                <groupId>org.apache.maven.plugins</groupId>\n",
    "                <artifactId>maven-compiler-plugin</artifactId>\n",
    "                <version>3.8.0</version>\n",
    "            </plugin>\n",
    "            <plugin>\n",
    "                <groupId>org.apache.maven.plugins</groupId>\n",
    "                <artifactId>maven-surefire-plugin</artifactId>\n",
    "                <version>2.22.0</version>\n",
    "                <configuration>\n",
    "                    <argLine>\n",
    "                        --illegal-access=permit\n",
    "                    </argLine>\n",
    "                </configuration>\n",
    "            </plugin>\n",
    "            <plugin>\n",
    "                <groupId>org.apache.maven.plugins</groupId>\n",
    "                <artifactId>maven-failsafe-plugin</artifactId>\n",
    "                <version>2.22.0</version>\n",
    "                <configuration>\n",
    "                    <argLine>\n",
    "                        --illegal-access=permit\n",
    "                    </argLine>\n",
    "                </configuration>\n",
    "            </plugin>\n",
    "        </plugins>\n",
    "    </build>"
   ]
  },
  {
   "cell_type": "code",
   "execution_count": 12,
   "id": "9bd551f5-983b-4465-a629-680fc4dd7fe1",
   "metadata": {
    "tags": []
   },
   "outputs": [],
   "source": [
    "import org.junit.jupiter.api.Assertions.assertEquals\n",
    "\n",
    "import org.junit.jupiter.api.Test\n",
    "import org.junit.jupiter.api.assertThrows\n",
    "import org.junit.jupiter.params.ParameterizedTest\n",
    "import org.junit.jupiter.params.provider.CsvSource\n",
    "\n",
    "\n",
    "class Tests {\n",
    "    @Test\n",
    "    fun testMethod() {\n",
    "        assertEquals(3, 1 + 2)\n",
    "    }\n",
    "}"
   ]
  },
  {
   "cell_type": "code",
   "execution_count": 13,
   "id": "fb1d2221-d386-4c00-9d47-a728e6b4ea9b",
   "metadata": {
    "tags": []
   },
   "outputs": [],
   "source": [
    "val tst = Tests()\n",
    "tst.testMethod()"
   ]
  },
  {
   "cell_type": "code",
   "execution_count": 25,
   "id": "c966e931-1126-4478-86a2-a97bef44a160",
   "metadata": {
    "tags": []
   },
   "outputs": [],
   "source": [
    "import org.junit.jupiter.api.Test\n",
    "import org.junit.jupiter.api.Assertions.assertEquals\n",
    "import org.junit.jupiter.api.Assertions.assertNotEquals\n",
    "\n",
    "class Assertion {\n",
    "    @Test\n",
    "    fun equals() {\n",
    "        assertEquals(2, 2);\n",
    "    }\n",
    "\n",
    "    @Test\n",
    "    fun notEquals() {\n",
    "        assertNotEquals(2,1);\n",
    "    }\n",
    "}"
   ]
  },
  {
   "cell_type": "code",
   "execution_count": 26,
   "id": "e142152d-549b-4809-9ecd-28c03dba7884",
   "metadata": {
    "tags": []
   },
   "outputs": [],
   "source": [
    "val assertion = Assertion();\n",
    "assertion.equals();\n",
    "assertion.notEquals();"
   ]
  },
  {
   "cell_type": "code",
   "execution_count": 5,
   "id": "5f14747b-e04d-4a03-9d94-6c81dc6d1eeb",
   "metadata": {
    "tags": []
   },
   "outputs": [
    {
     "name": "stderr",
     "output_type": "stream",
     "text": [
      "Line_3.jupyter.kts (12:26 - 36) Unresolved reference: Calculator\n",
      "Line_3.jupyter.kts (24:26 - 36) Unresolved reference: Calculator\n",
      "Line_3.jupyter.kts (32:26 - 36) Unresolved reference: Calculator"
     ]
    }
   ],
   "source": [
    "import org.junit.jupiter.api.Assertions.assertEquals\n",
    "\n",
    "import org.junit.jupiter.api.Test\n",
    "import org.junit.jupiter.api.assertThrows\n",
    "import org.junit.jupiter.params.ParameterizedTest\n",
    "import org.junit.jupiter.params.provider.CsvSource\n",
    "\n",
    "class CalculatorTests {\n",
    "\n",
    "    @Test\n",
    "    fun `1 + 1 = 2`() {\n",
    "        val calculator = Calculator()\n",
    "        assertEquals(2, calculator.add(1, 1), \"1 + 1 should equal 2\")\n",
    "    }\n",
    "\n",
    "    @ParameterizedTest(name = \"{0} + {1} = {2}\")\n",
    "    @CsvSource(\n",
    "            \"0,    1,   1\",\n",
    "            \"1,    2,   3\",\n",
    "            \"49,  51, 100\",\n",
    "            \"1,  100, 101\"\n",
    "    )\n",
    "    fun add(first: Int, second: Int, expectedResult: Int) {\n",
    "        val calculator = Calculator()\n",
    "        assertEquals(expectedResult, calculator.add(first, second)) {\n",
    "            \"$first + $second should equal $expectedResult\"\n",
    "        }\n",
    "    }\n",
    "\n",
    "    @Test\n",
    "    fun divisionByZeroError() {\n",
    "        val calculator = Calculator()\n",
    "        val exception = assertThrows<AssertionError> {\n",
    "            calculator.div(1, 0)\n",
    "        }\n",
    "        assertEquals(\"Division by Zero\", exception.message)\n",
    "    }\n",
    "}"
   ]
  },
  {
   "cell_type": "code",
   "execution_count": null,
   "id": "94f064ff-5867-4b09-8a2d-d5db559aeae5",
   "metadata": {},
   "outputs": [],
   "source": []
  }
 ],
 "metadata": {
  "kernelspec": {
   "display_name": "Kotlin",
   "language": "kotlin",
   "name": "kotlin"
  },
  "language_info": {
   "codemirror_mode": "text/x-kotlin",
   "file_extension": ".kt",
   "mimetype": "text/x-kotlin",
   "name": "kotlin",
   "nbconvert_exporter": "",
   "pygments_lexer": "kotlin",
   "version": "1.8.20"
  }
 },
 "nbformat": 4,
 "nbformat_minor": 5
}
