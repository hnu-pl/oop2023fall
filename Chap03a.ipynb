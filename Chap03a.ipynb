{
 "cells": [
  {
   "cell_type": "markdown",
   "id": "cabf41b1-d71a-4249-8042-85f388e9e4bf",
   "metadata": {
    "tags": []
   },
   "source": [
    "# 03. The 4 Pillars of OOP (Part A)\n",
    "\n",
    "OOP의 4대 어쩌고가 캡슐화(encapsulation), 상속(inheritance), 추상화(abstraction), 다형성(polymorphism) 이라고들 하는데 ...\n",
    "\n",
    "이거 네 개 모두가 정말로 OOP의 필수불가결한 핵심이냐고 묻는다면 꼭 무조건 반드시 그렇다고 할 수도 없어서 ...\n",
    "\n",
    "저런 걸 물어보는 시험문제가 난다면 외워야겠지만 저런 걸 물어보는 시험 자체가 의미없다고 보는 편\n",
    "\n",
    "물론 저 용어 각각의 의미가 무엇인지 어떤 개념인지 알고 활용할 줄 알면 그게 진짜 실력에 도움이 되고 좋겠죠\n",
    "\n",
    "문제는 이 책은 코틀린이라는 언어를 간단히 알아보기에는 좋은 점이 있는 책이지만, 저 네 개의 개념을 설명을 잘 하지는 못하고 있다는 점입니다. 왜 저런 개념이 나왔는지 핵심적인 설명보다는 코틀린 언어의 기능적 요소에 저 개념을 하나씩 끼워맞추려다 보니까 이상하게 설명이 전개되는 부분들이 있습니다. 상속과 다형성에 대해서는 뭐 크게 잘못된 설명이 나올 여지가 별로 없고, 문제는 캡슐화와 추상화와 관련된 개념에 대한 설명이 좀 그렇습니다.\n",
    "\n",
    "encapsulation의 정의 자체는 잘 설명했는데 관련 내용을 나열하는 데 있어서 뭐 완전히 틀렸다고는 할 수 없지만 좀 논의가 필요한 부분들이 있어서\n",
    "\n",
    "abstraction과 가장 밀접한 내용이 implementation hiding인데, 책에서는 implementation hiding을 encapsulation과 관련이 많은 개념으로 이쪽에 설명하려 하고 있음 (그런데, 이런 식의 설명이 이 책에만 있는 게 아니라서 ...)\n",
    "\n",
    "이 주제와 관려내서 다음 블로그 글에서 인용하는\n",
    "https://justhackem.wordpress.com/2017/02/28/encapsulation-and-information-hiding/\n",
    "이 개발 관련 웹진 기사\n",
    "https://www.infoworld.com/article/2075271/encapsulation-is-not-information-hiding.html\n",
    "에 나오는 내용으로 이해하는 것을 추천. (참고로, infoworld 기사의 제목은 \n",
    "\"Encapsulation is not information hiding\", 우리말로 옮기면 \"캡슐화는 정보은닉이 아니다\")\n",
    "\n",
    "    Encapsulation refers to the bundling of data with the methods that operate on that data.\n",
    "    \n",
    "    캡슐화는 해당 데이터에서 작동하는 메서드와 데이터를 묶는 것을 말합니다.\n",
    "\n",
    "캡슐화의 정의 혹은 핵심 개념은 이것에 집중해야 하고 다른 것들(뭘 숨기고 제한하고 하는 기능 등)은 보조적 역할이다라는 것을 강조합니다.\n",
    "\n",
    "캡슐화를 하려다 보면 특정 상황에서 특정 언어에서 제공하는 방식에 따라서 정보은닉(information hiding)이 유용한 경우도 있다. 그러니까 좋은 캡슐화라는 목적을 이루기 위한 여러가지 방법 중에 상당수의 경우에 효과적인 방법의 하나라거나 혹은 다양한 종류의 개념에 대해 캡슐화를 잘 하려다 보면 유용하게 활용할 수 있는 요소/기능 정도로 이해하면 좋겠습니다."
   ]
  },
  {
   "cell_type": "markdown",
   "id": "53abeac8-1c62-40f1-9043-b6eaba6394bc",
   "metadata": {},
   "source": [
    "| Student                                                   |   | Professor                                                       |   | Employee                                                     |\n",
    "|-----------------------------------------------------------|---|-----------------------------------------------------------------|---|--------------------------------------------------------------|\n",
    "| first name<br>last name<br>age<br>student id              |   | first name<br>last name<br>age<br>professor id                  |   | first name<br>last name<br>age<br>employee id                |\n",
    "| speak()<br>greet()<br>aboutEducation()<br>attendLecture() |   | speak()<br>greet()<br>aboutSpecialization()<br>deliverLecture() |   | speak()<br>greet()<br>aboutDesignation()<br>deliverLecture() |"
   ]
  },
  {
   "cell_type": "code",
   "execution_count": null,
   "id": "6a430b0d-a853-4517-b71e-70e85966a4be",
   "metadata": {},
   "outputs": [],
   "source": []
  }
 ],
 "metadata": {
  "kernelspec": {
   "display_name": "Kotlin",
   "language": "kotlin",
   "name": "kotlin"
  },
  "language_info": {
   "codemirror_mode": "text/x-kotlin",
   "file_extension": ".kt",
   "mimetype": "text/x-kotlin",
   "name": "kotlin",
   "nbconvert_exporter": "",
   "pygments_lexer": "kotlin",
   "version": "1.8.20-Beta"
  }
 },
 "nbformat": 4,
 "nbformat_minor": 5
}
