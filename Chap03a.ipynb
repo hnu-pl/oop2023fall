{
 "cells": [
  {
   "cell_type": "markdown",
   "id": "cabf41b1-d71a-4249-8042-85f388e9e4bf",
   "metadata": {
    "tags": []
   },
   "source": [
    "# 03. The 4 Pillars of OOP (Part A)\n",
    "\n",
    "OOP의 4대 어쩌고가 캡슐화(encapsulation), 상속(inheritance), 추상화(abstraction), 다형성(polymorphism) 이라고들 하는데 ...\n",
    "\n",
    "이거 네 개 모두가 정말로 OOP의 필수불가결한 핵심이냐고 묻는다면 꼭 무조건 반드시 그렇다고 할 수도 없어서 ...\n",
    "\n",
    "저런 걸 물어보는 시험문제가 난다면 외워야겠지만 저런 걸 물어보는 시험 자체가 의미없다고 보는 편\n",
    "\n",
    "물론 저 용어 각각의 의미가 무엇인지 어떤 개념인지 알고 활용할 줄 알면 그게 진짜 실력에 도움이 되고 좋겠죠\n",
    "\n",
    "문제는 이 책은 코틀린이라는 언어를 간단히 알아보기에는 좋은 점이 있는 책이지만, 저 네 개의 개념을 설명을 잘 하지는 못하고 있다는 점입니다. 왜 저런 개념이 나왔는지 핵심적인 설명보다는 코틀린 언어의 기능적 요소에 저 개념을 하나씩 끼워맞추려다 보니까 이상하게 설명이 전개되는 부분들이 있습니다. 상속과 다형성에 대해서는 뭐 크게 잘못된 설명이 나올 여지가 별로 없고, 문제는 캡슐화와 추상화와 관련된 개념에 대한 설명이 좀 그렇습니다."
   ]
  },
  {
   "cell_type": "markdown",
   "id": "1285e9e3-4b11-4099-99e1-2da2c9bceb6f",
   "metadata": {
    "tags": []
   },
   "source": [
    "encapsulation의 정의 자체는 잘 설명했는데 관련 개념을 설명하는 데 있어서 논의가 필요한 부분들이 있어서\n",
    "\n",
    "abstraction과 가장 밀접한 내용이 implementation hiding인데, 책에서는 implementation hiding을 encapsulation과 관련이 많은 개념으로 이쪽에 설명하려 하고 있음 (그런데, 이런 식의 설명이 이 책에만 있는 게 아니라서 ...)\n",
    "\n",
    "abstraction은 자료구조에서 추상 데이터 타입(abstract data type 줄여서 ADT)라는 개념이 왜 나오는지 설명을 찾아보라\n",
    "\n",
    "\n",
    "encapsulation과 information hiding과 관련해서는서 다음 블로그 글에서 인용하는\n",
    "https://justhackem.wordpress.com/2017/02/28/encapsulation-and-information-hiding/\n",
    "이 개발 관련 웹진 기사\n",
    "https://www.infoworld.com/article/2075271/encapsulation-is-not-information-hiding.html\n",
    "에 나오는 내용으로 이해하는 것을 추천. (참고로, infoworld 기사의 제목은 \n",
    "\"Encapsulation is not information hiding\", 우리말로 옮기면 \"캡슐화는 정보은닉이 아니다\")\n",
    "\n",
    "    Encapsulation refers to the bundling of data with the methods that operate on that data.\n",
    "    \n",
    "    캡슐화는 해당 데이터에서 작동하는 메서드와 데이터를 묶는 것을 말합니다.\n",
    "\n",
    "캡슐화의 정의 혹은 핵심 개념은 이것으로 이해해야 하고 다른 것들(뭘 숨기고 제한하고 하는 기능 등)은 별도의 개념으로 캡슐화와 관련성이 있는 것으로 설명한다.\n",
    "\n",
    "캡슐화를 하려다 보면 특정 상황에서 특정 언어에서 제공하는 방식에 따라서 정보은닉(information hiding)이 유용한 경우도 있다. 그러니까 좋은 캡슐화라는 목적을 이루기 위한 여러가지 방법 중에 상당수의 경우에 효과적인 방법의 하나라거나 혹은 캡슐화된 코드를 더 관리하기 좋게 도와주는 유용한 방식/기능 정도로 이해하면 좋겠습니다.\n",
    "\n",
    "그러니까 정리하면\n",
    "- 내가 잘 감싸서 하나로 묶어놓는 것이 캡슐화\n",
    "- 내가 아무리 잘 감싸놨어도 (내일의 나를 포함한) 남들이 그렇게 묶어놓은 의도를 무시하고 다시 풀어헤쳐서 헤집어 놓으며 사용하지 말라는 보장이 없는데, 이 의도를 존중하도록 강제하는 것을 도와주자는 취지에서 정보은닉(information hiding)을 하자는 것"
   ]
  },
  {
   "cell_type": "markdown",
   "id": "2bdd5959-590d-4ffc-a08e-55e214b62a8b",
   "metadata": {},
   "source": [
    "## What is inheritance\n",
    "\n",
    "계층적 구조로 클래스를 선언하면 상위 클래스의 구현(즉, 상위 클래스에 작성된 코드)를 하위 클래스들에 자동으로 공유되는 방식을 클래스 상속(inheritance)이라고 함\n",
    "\n"
   ]
  },
  {
   "cell_type": "markdown",
   "id": "53abeac8-1c62-40f1-9043-b6eaba6394bc",
   "metadata": {},
   "source": [
    "| Student                                                   |   | Professor                                                       |   | Employee                                                     |\n",
    "|-----------------------------------------------------------|---|-----------------------------------------------------------------|---|--------------------------------------------------------------|\n",
    "| first name<br>last name<br>age<br>student id              |   | first name<br>last name<br>age<br>professor id                  |   | first name<br>last name<br>age<br>employee id                |\n",
    "| speak()<br>greet()<br>aboutEducation()<br>attendLecture() |   | speak()<br>greet()<br>aboutSpecialization()<br>deliverLecture() |   | speak()<br>greet()<br>aboutDesignation()<br>deliverLecture() |"
   ]
  },
  {
   "cell_type": "markdown",
   "id": "b1176069-6ac8-4d21-b1fa-9486a43e1247",
   "metadata": {
    "tags": []
   },
   "source": [
    "### 클래스 상속에 적합한 경우\n",
    "\n",
    "1. 공통되는 속성과 동작\n",
    "2. 분명한 **is-a** 관계\n",
    "   - Student is a Person\n",
    "   - Professor is a Person\n",
    "   - Employee is a Person\n",
    "   \n",
    "이럴 때, \n",
    "- 공통적 속성과 동작을 포함하는 Person이라는 클래스를 선언하고\n",
    "- Student, Professor, Employee는 Person이라는 상위 클래스(superclass)를 상속하는 하위 클래스(subclass)로 선언\n",
    "\n",
    "상위/하위 클래스(super/sub- class) 대신에 부모/자녀 클래스(parent/child class)라는 표현을 쓰기도 함\n",
    "\n",
    "### 클래스 상속에 적합하지 않은 경우\n",
    "\n",
    "대표적으로 **is-a** 관계가 아닌 **has-a** 관계\n",
    "\n",
    "- Car has an Engine\n",
    "- Chainsaw has an Engine\n",
    "\n",
    "자동차와 체인톱은 모두 엔진으로 돌아간다는 공통점이 있지만\n",
    "- 자동차는 엔진이 아니고 탈것\n",
    "- 체인톱은 엔진이 아니고 공구\n",
    "\n",
    "그러니까 Engine을 Car와 Chainsaw가 Engine을 상속하도록 하는 것은 잘못된 설계\n",
    "\n",
    "\n",
    "나중에 **is-a** 관계나 **has-a** 관계에 대해서는 책에 나중에 나오는데\n",
    "여기 상속 부분이 관련된 부분이라 미리 한번 살펴봄"
   ]
  },
  {
   "cell_type": "markdown",
   "id": "df8e73c8-cf23-4475-b74d-e1fcd1b48acf",
   "metadata": {
    "tags": []
   },
   "source": [
    "## Using the `open` keyword\n",
    "코틀린에서는 기본적으로 클래스를 선언하면 그로부터 상속을 막아놓음\n",
    "\n",
    "`open`이라는 키워드로 선언한 클래스로부터는 상속 가능\n",
    "\n",
    "즉, 코틀린에서는 클래스가 기본적으로는 `open`이 아님\n",
    "\n",
    "참고로, 자바는 반대로 클래스로는 기본적으로 상속을 허용하고 `final`이라는 키워드로 선언한 클래스의 상속을 막음"
   ]
  },
  {
   "cell_type": "code",
   "execution_count": 1,
   "id": "6a430b0d-a853-4517-b71e-70e85966a4be",
   "metadata": {
    "tags": []
   },
   "outputs": [
    {
     "name": "stderr",
     "output_type": "stream",
     "text": [
      "Line_0.jupyter.kts (3:16 - 22) This type is final, so it cannot be inherited from\n",
      "Line_0.jupyter.kts (5:18 - 24) This type is final, so it cannot be inherited from\n",
      "Line_0.jupyter.kts (7:17 - 23) This type is final, so it cannot be inherited from"
     ]
    }
   ],
   "source": [
    "/* open */ class Person // open 의 주석을 해제해 보라\n",
    "\n",
    "class Student: Person()\n",
    "\n",
    "class Professor: Person()\n",
    "\n",
    "class Employee: Person()"
   ]
  },
  {
   "cell_type": "markdown",
   "id": "639e6b22-2108-4467-808a-a1d58e2309a9",
   "metadata": {},
   "source": [
    "## Using the `super` keyword\n",
    "`this`의 용도 중 하나가 오버로딩된 생성자에서 다른 생성자를 호출하는 것인데\n",
    "\n",
    "이와 비슷하게 상속 계층구조에서 부모 클래스의 생성자를 호출하는 용도로 `super`라는 키워드 활용"
   ]
  },
  {
   "cell_type": "code",
   "execution_count": 2,
   "id": "d4772609-072f-4b66-9766-a725ab9a7d9b",
   "metadata": {
    "tags": []
   },
   "outputs": [],
   "source": [
    "open class Person(val name: String, val id: Int)\n",
    "\n",
    "// 주생성자는 상위클래스 생성자를 클래스 이름으로 호출\n",
    "class Student(name: String, id: Int,\n",
    "              var enrolled: Boolean,\n",
    "              var year: Int\n",
    "             ): Person(name, id)\n",
    "\n",
    "\n",
    "// class Professor(name: String, id: Int, ...): Person(name, id)\n",
    "\n",
    "// class Employee(name: String, id: Int, ...): Person(name, id)"
   ]
  },
  {
   "cell_type": "code",
   "execution_count": 3,
   "id": "de589851-5fbf-45a1-9f98-66315665b5be",
   "metadata": {
    "tags": []
   },
   "outputs": [],
   "source": [
    "open class Person(val name: String, val id: Int)\n",
    "\n",
    "class Student: Person {\n",
    "    var enrolled: Boolean\n",
    "    var year: Int\n",
    "    // 부생성자는 상위클래스 생성자를 this 키워드로 호출\n",
    "    constructor (name: String, id: Int,\n",
    "                 enrolled: Boolean,\n",
    "                 year: Int\n",
    "                ): super(name, id) {\n",
    "        this.enrolled = enrolled\n",
    "        this.year = year\n",
    "    }\n",
    "}\n",
    "\n",
    "// class Professor(name: String, id: Int, ...): Person(name, id)\n",
    "\n",
    "// class Employee(name: String, id: Int, ...): Person(name, id)"
   ]
  },
  {
   "cell_type": "code",
   "execution_count": 4,
   "id": "78e32e97-76bf-4c86-a62c-c4b43b90449e",
   "metadata": {},
   "outputs": [],
   "source": [
    "open class Person(val name: String, val id: Int)\n",
    "\n",
    "class Student: Person {\n",
    "    var enrolled: Boolean\n",
    "    var year: Int\n",
    "    // 부생성자는 상위클래스 생성자를 super 키워드로 호출\n",
    "    constructor (name: String, id: Int,\n",
    "                 enrolled: Boolean,\n",
    "                 year: Int\n",
    "                ): super(name, id) {\n",
    "        this.enrolled = enrolled\n",
    "        this.year = year\n",
    "    }\n",
    "}\n",
    "\n",
    "// class Professor(name: String, id: Int, ...): Person(name, id)\n",
    "\n",
    "// class Employee(name: String, id: Int, ...): Person(name, id)"
   ]
  },
  {
   "cell_type": "markdown",
   "id": "d134f89a-8dbf-47de-811d-fcbcf3e5c072",
   "metadata": {},
   "source": [
    "## Class-initialization hierarchy"
   ]
  },
  {
   "cell_type": "code",
   "execution_count": 5,
   "id": "186a86b6-e01b-40a4-8bfe-39d9b06eb9a8",
   "metadata": {
    "tags": []
   },
   "outputs": [],
   "source": [
    "open class A {\n",
    "    init { println(\"class A init\") }\n",
    "}\n",
    "\n",
    "open class B: A() {\n",
    "    init { println(\"class B init\") }\n",
    "}\n",
    "\n",
    "open class C: B() {\n",
    "    init { println(\"class C init\") }\n",
    "}"
   ]
  },
  {
   "cell_type": "code",
   "execution_count": 6,
   "id": "9de83182-fef7-4204-9c3a-dea2c3fe3b60",
   "metadata": {
    "tags": []
   },
   "outputs": [
    {
     "name": "stdout",
     "output_type": "stream",
     "text": [
      "class A init\n"
     ]
    }
   ],
   "source": [
    "val a = A()"
   ]
  },
  {
   "cell_type": "code",
   "execution_count": 7,
   "id": "ba341e8a-049f-4094-aa99-07097bc0ca17",
   "metadata": {
    "tags": []
   },
   "outputs": [
    {
     "name": "stdout",
     "output_type": "stream",
     "text": [
      "class A init\n",
      "class B init\n"
     ]
    }
   ],
   "source": [
    "val b = B()"
   ]
  },
  {
   "cell_type": "code",
   "execution_count": 8,
   "id": "f2066357-69b0-4ecc-b053-84225f4df76e",
   "metadata": {
    "tags": []
   },
   "outputs": [
    {
     "name": "stdout",
     "output_type": "stream",
     "text": [
      "class A init\n",
      "class B init\n",
      "class C init\n"
     ]
    }
   ],
   "source": [
    "val c = C()"
   ]
  },
  {
   "cell_type": "code",
   "execution_count": null,
   "id": "49a6b5bf-63ea-4eea-b790-7823292ad474",
   "metadata": {},
   "outputs": [],
   "source": []
  }
 ],
 "metadata": {
  "kernelspec": {
   "display_name": "Kotlin",
   "language": "kotlin",
   "name": "kotlin"
  },
  "language_info": {
   "codemirror_mode": "text/x-kotlin",
   "file_extension": ".kt",
   "mimetype": "text/x-kotlin",
   "name": "kotlin",
   "nbconvert_exporter": "",
   "pygments_lexer": "kotlin",
   "version": "1.8.20-Beta"
  }
 },
 "nbformat": 4,
 "nbformat_minor": 5
}
