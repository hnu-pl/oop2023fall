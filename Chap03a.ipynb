{
 "cells": [
  {
   "cell_type": "markdown",
   "id": "cabf41b1-d71a-4249-8042-85f388e9e4bf",
   "metadata": {
    "tags": []
   },
   "source": [
    "# 03. The 4 Pillars of OOP (Part A)\n",
    "\n",
    "OOP의 4대 어쩌고가 캡슐화(encapsulation), 상속(inheritance), 추상화(abstraction), 다형성(polymorphism) 이라고들 하는데 ...\n",
    "\n",
    "이거 네 개가 정말로 OOP의 필수불가결한 핵심이냐고 묻는다면 꼭 무조건 그렇다고 할 수도 없어서 ... 이 세상에는 프로토타입 기반 OOP도 있으니\n",
    "\n",
    "그냥 저렇게 말하는 사람들도 있구나 좋은 의견입니다 정도로 생각하고 어디서 한번 들어봤다 정도로 넘어가면 됨\n",
    "\n",
    "저런 걸 물어보는 시험문제가 난다면 외워야겠지만 저런 걸 물어보는 시험 자체가 의미없다고 보는 편\n",
    "\n",
    "물론 저 용어 각각의 의미가 무엇인지 어떤 개념인지 알고 활용할 줄 알면 그게 진짜 실력에 도움이 되고 좋겠죠"
   ]
  },
  {
   "cell_type": "code",
   "execution_count": null,
   "id": "6a430b0d-a853-4517-b71e-70e85966a4be",
   "metadata": {},
   "outputs": [],
   "source": []
  }
 ],
 "metadata": {
  "kernelspec": {
   "display_name": "Kotlin",
   "language": "kotlin",
   "name": "kotlin"
  },
  "language_info": {
   "codemirror_mode": "text/x-kotlin",
   "file_extension": ".kt",
   "mimetype": "text/x-kotlin",
   "name": "kotlin",
   "nbconvert_exporter": "",
   "pygments_lexer": "kotlin",
   "version": "1.8.20-Beta"
  }
 },
 "nbformat": 4,
 "nbformat_minor": 5
}
