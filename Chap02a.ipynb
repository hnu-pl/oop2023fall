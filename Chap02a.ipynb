{
 "cells": [
  {
   "cell_type": "markdown",
   "id": "cabf41b1-d71a-4249-8042-85f388e9e4bf",
   "metadata": {
    "tags": []
   },
   "source": [
    "# 02. Intro. to OOP (Part A)"
   ]
  },
  {
   "cell_type": "markdown",
   "id": "2b13d4c8-ce82-4e31-9a9a-2a331d38d9c7",
   "metadata": {},
   "source": [
    "## Classes and objects\n",
    "\n",
    "물건/대상(object)들의 분류/부류(class)\n",
    "\n",
    "물리적인 실체가 있는 대상(object)들의 class\n",
    "\n",
    "- Car class\n",
    "  - attribute: 색상, 문 개수, 차량번호, ... \n",
    "  - behavior: 도로를 주행하며 직진, 죄회전, 우회전, ...\n",
    "- Person class\n",
    "  - attribute: 이름, 키 몸무게, ... \n",
    "  - behavior: 이동하기, 말하기, 잠자기, ...\n",
    "\n",
    "물리적인 실체가 없는 대상(object)들의 class\n",
    "- BankAccount class\n",
    "  - attribute: 계좌번호, 계좌종류, 잔고, ...\n",
    "  - behavior: 입금, 출금, ...\n",
    "  \n",
    "이런 class를 object의 설계도에 비유할 수도 있다.\n",
    "\n",
    "즉, 하나의 class에 속하는 여러 개의 서로 다른 object가 존재할 수 있음\n",
    "(마치 공장에서 자동차(Car)라는 부류의 물건를 여러 대 찍어내듯이)\n",
    "\n",
    "어떤 class에 속하는 object를 그 class의 instance라고도 한다."
   ]
  },
  {
   "cell_type": "markdown",
   "id": "7579e88d-29dd-4f56-b108-a162c9aedba0",
   "metadata": {},
   "source": [
    "## Attributes and Behaviors\n",
    "Kotlin에서는 attribute를 property으로 behavior를 function으로 나타낸다.\n",
    "\n",
    "참고로\n",
    "- 자바 클래스에서 인스턴스 변수(instance variable)가 코틀린 클래스에서 속성(property)에 해당\n",
    "- 자바 클래스에서 인스턴스 메소드(instance method)가 코틀린 클래스에서 함수(function)에 해당\n",
    "\n",
    "자바 클래스에서는 인스턴스 변수와 클래스 변수 그리고\n",
    "인스턴스 메소드와 클래스 메소드를 구분해야 하기 때문에 이름이 복잡해지지만,\n",
    "코틀린 클래스에는 자바의 클래스 변수나 클래스 메소드에 직접적으로 대응되는 요소가 없기 때문에\n",
    "공식 문서에서도 간단한 이름으로 부른다.\n",
    "\n",
    "물론 코틀린 코드를 설명할 때 공식 문서에서 가장 우선적으로 부르는 이름 외에도\n",
    "객체지향 언어들에서 두루두루 통용되는 멤버 변수(member variable)이나\n",
    "멤버 함수(member function) 혹은 메소드(method)라는 용어를 써도\n",
    "소통하는 데 딱히 문제가 되지는 않는다."
   ]
  },
  {
   "cell_type": "markdown",
   "id": "e50a9d6a-ed72-4d97-a1e9-4b16d5507bc0",
   "metadata": {
    "tags": []
   },
   "source": [
    "## Benefits of OOP\n",
    "이거는 ... 그냥 그런가보다 하고 읽어보자\n",
    "\n",
    "OOP가 가장 잘 맞는 문제가 있을 것이고 OOP보다는 다른 방식의 접근이 더 잘 맞는 문제도 있을 것이다\n",
    "\n",
    "이렇게 요약된 말로 장단점이 뭔지 내용을 읽어보는 것보다 실제 사례 아니면 하다못해 작은 예제 코드를 보고 수정하고 작성해 보며 직접 경험을 해봐야 사실 의미가 있음"
   ]
  },
  {
   "cell_type": "code",
   "execution_count": 1,
   "id": "b7676832-a1d4-4bab-92de-ece9725a59c6",
   "metadata": {
    "tags": []
   },
   "outputs": [],
   "source": [
    "class Person // 이것만으로도 클래스 정의가 된다 (물론 내용이 거의 없는 클래스지만)"
   ]
  },
  {
   "cell_type": "code",
   "execution_count": 2,
   "id": "965aae07-e5a4-45a6-9c7c-3231310d6851",
   "metadata": {
    "tags": []
   },
   "outputs": [],
   "source": [
    "class Person { } // 위와 똑같은 클래스 정의"
   ]
  },
  {
   "cell_type": "code",
   "execution_count": 3,
   "id": "ecfe0653-dcb6-4007-acc2-382a7dad737e",
   "metadata": {
    "tags": []
   },
   "outputs": [],
   "source": [
    "val p = Person() // 기본 생성자(default constructor)가 자동으로 만들어져 제공됨"
   ]
  },
  {
   "cell_type": "code",
   "execution_count": 4,
   "id": "370bd3fd-49e3-4d1b-874a-fffa6873adc1",
   "metadata": {},
   "outputs": [
    {
     "name": "stderr",
     "output_type": "stream",
     "text": [
      "Line_3.jupyter.kts (2:5 - 21) Property must be initialized or be abstract\n",
      "Line_3.jupyter.kts (3:5 - 17) Property must be initialized or be abstract\n",
      "Line_3.jupyter.kts (4:5 - 23) Property must be initialized or be abstract"
     ]
    }
   ],
   "source": [
    "class Person {\n",
    "    var name: String\n",
    "    var age: Int\n",
    "    var height: Double\n",
    "}"
   ]
  },
  {
   "cell_type": "code",
   "execution_count": 5,
   "id": "1ae3aa0d-3ddb-436a-956c-fc47979e6ffa",
   "metadata": {
    "tags": []
   },
   "outputs": [],
   "source": [
    "class Person {\n",
    "    var name: String = \"홍길동\"\n",
    "    var age: Int     = 580\n",
    "    var height: Int  = 173\n",
    "}"
   ]
  },
  {
   "cell_type": "markdown",
   "id": "3c4a39d0-21f2-4cac-aa1b-dc7be140a8b2",
   "metadata": {},
   "source": [
    "## Default constructor"
   ]
  },
  {
   "cell_type": "code",
   "execution_count": 6,
   "id": "369e6867-eef9-46f5-9cf5-558a1366b45b",
   "metadata": {
    "tags": []
   },
   "outputs": [
    {
     "name": "stdout",
     "output_type": "stream",
     "text": [
      "이름: 홍길동, 나이: 580, 키: 173cm\n"
     ]
    }
   ],
   "source": [
    "val p1 = Person()\n",
    "\n",
    "println(\"이름: ${p1.name}, 나이: ${p1.age}, 키: ${p1.height}cm\")"
   ]
  },
  {
   "cell_type": "code",
   "execution_count": 7,
   "id": "5ebc885f-e6da-4723-a642-24e5dc6e3721",
   "metadata": {
    "tags": []
   },
   "outputs": [
    {
     "name": "stdout",
     "output_type": "stream",
     "text": [
      "이름: 홍길동, 나이: 580, 키: 173cm\n",
      "이름: 이순신, 나이: 478, 키: 173cm\n"
     ]
    }
   ],
   "source": [
    "val p2 = Person() // 기본 생성자로는 항상 똑같은 속성(property)값의 object만 만들어짐\n",
    "\n",
    "println(\"이름: ${p2.name}, 나이: ${p2.age}, 키: ${p2.height}cm\")\n",
    "\n",
    "// 만들고 난 다음 속성을 변경하면 되긴 하지만 불~~편~~ (val로 선언된 경우라면 이마저도 안됨)\n",
    "p2.name = \"이순신\"\n",
    "p2.age = 478\n",
    "\n",
    "println(\"이름: ${p2.name}, 나이: ${p2.age}, 키: ${p2.height}cm\")"
   ]
  },
  {
   "cell_type": "markdown",
   "id": "242c974d-1060-4a55-889d-2f6a6ae5e161",
   "metadata": {},
   "source": [
    "## Primary constructor\n",
    "주생성자"
   ]
  },
  {
   "cell_type": "code",
   "execution_count": 8,
   "id": "58c80d9f-aec2-4252-b504-57d5dee1011d",
   "metadata": {
    "tags": []
   },
   "outputs": [],
   "source": [
    "class Person(var name: String, var age: Int, var height: Int)"
   ]
  },
  {
   "cell_type": "code",
   "execution_count": 9,
   "id": "a4f5d632-0059-4f5c-988e-1ba02da2950f",
   "metadata": {
    "tags": []
   },
   "outputs": [],
   "source": [
    "// 굳이 길게 쓰자면 이렇게도\n",
    "class Person constructor(var name: String, var age: Int, var height: Int)"
   ]
  },
  {
   "cell_type": "code",
   "execution_count": 10,
   "id": "abd1e4ec-8561-425b-aa7e-3c0044af86b3",
   "metadata": {
    "tags": []
   },
   "outputs": [
    {
     "name": "stdout",
     "output_type": "stream",
     "text": [
      "이름: 김민재, 나이: 26, 키: 180cm\n"
     ]
    }
   ],
   "source": [
    "val p1 = Person(\"김민재\", 26, 180)\n",
    "\n",
    "println(\"이름: ${p1.name}, 나이: ${p1.age}, 키: ${p1.height}cm\")"
   ]
  },
  {
   "cell_type": "code",
   "execution_count": 11,
   "id": "8cacbc0f-7f0c-48e9-8b9d-ec6e2eefee19",
   "metadata": {
    "tags": []
   },
   "outputs": [],
   "source": [
    "class Person(name: String, age: Int, height: Int) { // 더 길게 쓰자면\n",
    "    var name: String = name\n",
    "    var age: Int = age\n",
    "    var height: Int = height\n",
    "}"
   ]
  },
  {
   "cell_type": "code",
   "execution_count": 12,
   "id": "04d36592-a9a4-4031-b1c5-95f48102fbff",
   "metadata": {
    "tags": []
   },
   "outputs": [
    {
     "name": "stdout",
     "output_type": "stream",
     "text": [
      "이름: 김연아, 나이: 33, 키: 164cm\n"
     ]
    }
   ],
   "source": [
    "val p2 = Person(\"김연아\", 33, 164)\n",
    "\n",
    "println(\"이름: ${p2.name}, 나이: ${p2.age}, 키: ${p2.height}cm\")"
   ]
  },
  {
   "cell_type": "code",
   "execution_count": 13,
   "id": "291099e2-022a-449a-a25e-61577f568301",
   "metadata": {
    "tags": []
   },
   "outputs": [
    {
     "name": "stderr",
     "output_type": "stream",
     "text": [
      "Line_12.jupyter.kts (2:5 - 21) Property must be initialized or be abstract\n",
      "Line_12.jupyter.kts (3:5 - 17) Property must be initialized or be abstract\n",
      "Line_12.jupyter.kts (4:5 - 20) Property must be initialized or be abstract\n",
      "Line_12.jupyter.kts (7:9 - 13) Val cannot be reassigned\n",
      "Line_12.jupyter.kts (8:9 - 12) Val cannot be reassigned\n",
      "Line_12.jupyter.kts (9:9 - 15) Val cannot be reassigned"
     ]
    }
   ],
   "source": [
    "class Person(name: String, age: Int, height: Int) { // 더 길게 쓰자면 대략 이런 식인데 ...\n",
    "    var name: String\n",
    "    var age: Int\n",
    "    var height: Int\n",
    "    \n",
    "    init {\n",
    "        name = name\n",
    "        age = age\n",
    "        height = height\n",
    "    }\n",
    "}"
   ]
  },
  {
   "cell_type": "code",
   "execution_count": 14,
   "id": "7d226b18-9fb6-4ad8-928b-57eb264c26ac",
   "metadata": {
    "tags": []
   },
   "outputs": [],
   "source": [
    "// 생성자 파라메터와 속성 이름이 겹치지 않게 하는 방법도 있고\n",
    "class Person(_name: String, _age: Int, _height: Int) { \n",
    "    var name: String\n",
    "    var age: Int\n",
    "    var height: Int\n",
    "    \n",
    "    init {\n",
    "        name = _name\n",
    "        age = _age\n",
    "        height = _height\n",
    "    }\n",
    "}"
   ]
  },
  {
   "cell_type": "code",
   "execution_count": 15,
   "id": "1c581125-8168-493d-b193-37064bf0f059",
   "metadata": {
    "tags": []
   },
   "outputs": [],
   "source": [
    "class Person(name: String, age: Int, height: Int) {\n",
    "    var name: String\n",
    "    var age: Int\n",
    "    var height: Int\n",
    "    \n",
    "    init { // 생성자 파라메터와 속성의 이름이 겹치더라도 this를 활용하면\n",
    "        this.name = name\n",
    "        this.age = age\n",
    "        this.height = height\n",
    "    }\n",
    "}"
   ]
  },
  {
   "cell_type": "code",
   "execution_count": 16,
   "id": "b19472f6-d2ee-4d0c-b024-1d91441b9bb3",
   "metadata": {
    "tags": []
   },
   "outputs": [
    {
     "name": "stdout",
     "output_type": "stream",
     "text": [
      "이름: 김연아, 나이: 70, 키: 179cm\n"
     ]
    }
   ],
   "source": [
    "val p3 = Person(\"차범근\", 70, 179)\n",
    "\n",
    "println(\"이름: ${p2.name}, 나이: ${p3.age}, 키: ${p3.height}cm\")"
   ]
  },
  {
   "cell_type": "code",
   "execution_count": 17,
   "id": "e8f5529d-f508-47d3-b5a4-8821bd66f394",
   "metadata": {
    "tags": []
   },
   "outputs": [],
   "source": [
    "// init 블럭에서 require 등의 내용은 책을 보며 스스로 학습"
   ]
  }
 ],
 "metadata": {
  "kernelspec": {
   "display_name": "Kotlin",
   "language": "kotlin",
   "name": "kotlin"
  },
  "language_info": {
   "codemirror_mode": "text/x-kotlin",
   "file_extension": ".kt",
   "mimetype": "text/x-kotlin",
   "name": "kotlin",
   "nbconvert_exporter": "",
   "pygments_lexer": "kotlin",
   "version": "1.8.20-Beta"
  }
 },
 "nbformat": 4,
 "nbformat_minor": 5
}
