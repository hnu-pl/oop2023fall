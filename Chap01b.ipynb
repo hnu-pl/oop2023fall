{
 "cells": [
  {
   "cell_type": "markdown",
   "metadata": {
    "datalore": {
     "hide_input_from_viewers": true,
     "hide_output_from_viewers": true,
     "node_id": "74klxS7M8AeeLeT1D0RrtZ",
     "type": "MD"
    }
   },
   "source": [
    "# 01. Getting Started with Kotlin (Part B)"
   ]
  },
  {
   "cell_type": "markdown",
   "metadata": {
    "datalore": {
     "hide_input_from_viewers": true,
     "hide_output_from_viewers": true,
     "node_id": "iJ04LdOUXwXwzAU0XO3Wcp",
     "type": "MD"
    }
   },
   "source": [
    "## Null safety\n",
    "`null`로 인해 문제가 발생하는 자바 코드의 예:\n",
    "```java\n",
    "String name = null; // Java에서는 null로 초기화 가능\n",
    "// name = \"hello\"; // 실수로 이렇게 초기화하는 것을 깜빡하고 빼먹으면\n",
    "int length = name.length(); // 널포인터 예외가 발생하며 프로그램 비정상 종료!!!!!\n",
    "```"
   ]
  },
  {
   "cell_type": "code",
   "execution_count": 1,
   "metadata": {
    "datalore": {
     "hide_input_from_viewers": true,
     "hide_output_from_viewers": true,
     "node_id": "Yd7txd1EdPYNaL80osvg70",
     "type": "CODE"
    },
    "tags": []
   },
   "outputs": [
    {
     "name": "stderr",
     "output_type": "stream",
     "text": [
      "Line_0.jupyter.kts (1:19 - 23) Null can not be a value of a non-null type String"
     ]
    }
   ],
   "source": [
    "var s0 : String = null // 코틀린의 타입은 기본적으로 널을 정상적인 값으로 허용하지 않음!"
   ]
  },
  {
   "cell_type": "code",
   "execution_count": 2,
   "metadata": {
    "datalore": {
     "hide_input_from_viewers": true,
     "hide_output_from_viewers": true,
     "node_id": "UjNJ9dwF3LmlIfcyogLOWE",
     "type": "CODE"
    },
    "tags": []
   },
   "outputs": [],
   "source": [
    "var s1 : String = \"Hello\" // 반드시 널이 아닌 정상적인 값으로 초기화해야"
   ]
  },
  {
   "cell_type": "code",
   "execution_count": 3,
   "metadata": {
    "datalore": {
     "hide_input_from_viewers": true,
     "hide_output_from_viewers": true,
     "node_id": "ElerWWZVGducueV8i0vTA4",
     "type": "CODE"
    },
    "tags": []
   },
   "outputs": [
    {
     "name": "stderr",
     "output_type": "stream",
     "text": [
      "Line_2.jupyter.kts (1:6 - 10) Null can not be a value of a non-null type String"
     ]
    }
   ],
   "source": [
    "s1 = null // 기존의 정상적인 값을 null로 재지정 불가능"
   ]
  },
  {
   "cell_type": "code",
   "execution_count": 4,
   "metadata": {
    "datalore": {
     "hide_input_from_viewers": true,
     "hide_output_from_viewers": true,
     "node_id": "BQ4QxHWSJpvGE2Ezw1zIhL",
     "type": "CODE"
    },
    "tags": []
   },
   "outputs": [
    {
     "data": {
      "text/plain": [
       "5"
      ]
     },
     "execution_count": 4,
     "metadata": {},
     "output_type": "execute_result"
    }
   ],
   "source": [
    "s1.length // null로 인한 오류 걱정 없이 안심하고 멤버나 메소드에 접근을 보장!"
   ]
  },
  {
   "cell_type": "code",
   "execution_count": 5,
   "metadata": {
    "datalore": {
     "hide_input_from_viewers": true,
     "hide_output_from_viewers": true,
     "node_id": "JfLcrfaRfvFKCegzzToZep",
     "type": "CODE"
    },
    "tags": []
   },
   "outputs": [],
   "source": [
    " // 물음표를 타입 이름 뒤에 붙여주면 널이 허용됨\n",
    " var mayBeNull: String? = null"
   ]
  },
  {
   "cell_type": "markdown",
   "metadata": {
    "datalore": {
     "hide_input_from_viewers": true,
     "hide_output_from_viewers": true,
     "node_id": "RckmVQcfIhfyvLSGMaAAon",
     "type": "MD"
    }
   },
   "source": [
    "## Safe call operators\n",
    "`null`과 메소드 호출에 관련된 연산자들을 알아보자."
   ]
  },
  {
   "cell_type": "code",
   "execution_count": 6,
   "metadata": {
    "datalore": {
     "hide_input_from_viewers": true,
     "hide_output_from_viewers": true,
     "node_id": "1VZbkAHugb2uouEjITW6U1",
     "type": "CODE"
    },
    "tags": []
   },
   "outputs": [
    {
     "name": "stderr",
     "output_type": "stream",
     "text": [
      "Line_5.jupyter.kts (2:28 - 29) Only safe (?.) or non-null asserted (!!.) calls are allowed on a nullable receiver of type String?"
     ]
    }
   ],
   "source": [
    "var mayBeNull: String? = null\n",
    "var length: Int = mayBeNull.length"
   ]
  },
  {
   "cell_type": "markdown",
   "metadata": {
    "datalore": {
     "hide_input_from_viewers": true,
     "hide_output_from_viewers": true,
     "node_id": "PUPFFMuDbdSvxAlwbKB7lr",
     "type": "MD"
    }
   },
   "source": [
    "var mayBeNull: String? = null\n",
    "var notNull: String = mayBeNull!! // !! sure operator (나를 믿어 null 아니라니깐)\n",
    "var length: Int = mayBeNull.length"
   ]
  },
  {
   "cell_type": "code",
   "execution_count": 7,
   "metadata": {
    "datalore": {
     "hide_input_from_viewers": true,
     "hide_output_from_viewers": true,
     "node_id": "NXzIZWSiZaZ9uo9OsiUqQ7",
     "type": "CODE"
    },
    "tags": []
   },
   "outputs": [
    {
     "name": "stdout",
     "output_type": "stream",
     "text": [
      "5\n"
     ]
    }
   ],
   "source": [
    "var mayBeNull: String? = null\n",
    "\n",
    "mayBeNull = \"Hello\" // 나중에 널이 아닌 문자열 값으로 재지정 할수도 있고 (여기를 주석처리해 볼 것)\n",
    "\n",
    "/////////////////////////////////////////////\n",
    "var length: Int? = null\n",
    "if (mayBeNull != null) { // null이 아닌지 검사한 다음\n",
    "    length = (mayBeNull!!).length // 괄호는 지워도 됨\n",
    "}\n",
    "/////////////////////////////////////////////\n",
    "\n",
    "println(length)"
   ]
  },
  {
   "cell_type": "code",
   "execution_count": 8,
   "metadata": {
    "datalore": {
     "hide_input_from_viewers": true,
     "hide_output_from_viewers": true,
     "node_id": "ZyKclA3iAkmZcxQrLGY5s8",
     "type": "CODE"
    },
    "tags": []
   },
   "outputs": [
    {
     "name": "stdout",
     "output_type": "stream",
     "text": [
      "5\n"
     ]
    }
   ],
   "source": [
    "var mayBeNull: String? = null\n",
    "\n",
    "mayBeNull = \"Hello\" // 나중에 널이 아닌 문자열 값으로 재지정 할수도 있고 (여기를 주석처리해 볼 것)\n",
    "\n",
    "/////////////////////////////////////////////\n",
    "var length: Int? = mayBeNull?.length // ?. safe call operator\n",
    "/////////////////////////////////////////////\n",
    "\n",
    "println(length)"
   ]
  },
  {
   "cell_type": "code",
   "execution_count": 9,
   "metadata": {
    "datalore": {
     "hide_input_from_viewers": true,
     "hide_output_from_viewers": true,
     "node_id": "hZYTDpsSMNvBBwVJZazDaw",
     "type": "CODE"
    },
    "tags": []
   },
   "outputs": [
    {
     "name": "stdout",
     "output_type": "stream",
     "text": [
      "5\n"
     ]
    }
   ],
   "source": [
    "var mayBeNull: String? = null\n",
    "\n",
    "mayBeNull = \"Hello\" // 나중에 널이 아닌 문자열 값으로 재지정 할수도 있고 (여기를 주석처리해 볼 것)\n",
    "\n",
    "/////////////////////////////////////////////\n",
    "var length: Int = 0 // 이번엔 non-nullable 타입으로\n",
    "if (mayBeNull != null) { // null이 아닌지 검사한 다음\n",
    "    length = (mayBeNull!!).length // !! sure operator (괄호는 지워도 됨)\n",
    "}\n",
    "/////////////////////////////////////////////\n",
    "\n",
    "println(length)"
   ]
  },
  {
   "cell_type": "code",
   "execution_count": 10,
   "metadata": {
    "datalore": {
     "hide_input_from_viewers": true,
     "hide_output_from_viewers": true,
     "node_id": "JsQMfoWZetJBbHA5qUUW3z",
     "type": "CODE"
    },
    "tags": []
   },
   "outputs": [
    {
     "name": "stdout",
     "output_type": "stream",
     "text": [
      "5\n"
     ]
    }
   ],
   "source": [
    "var mayBeNull: String? = null\n",
    "\n",
    "mayBeNull = \"Hello\" // 나중에 널이 아닌 문자열 값으로 재지정 할수도 있고 (여기를 주석처리해 볼 것)\n",
    "\n",
    "/////////////////////////////////////////////\n",
    "var length: Int = mayBeNull?.length ?: 0 // ?: Elvis operator\n",
    "/////////////////////////////////////////////\n",
    "\n",
    "println(length)"
   ]
  },
  {
   "cell_type": "code",
   "execution_count": 11,
   "metadata": {
    "datalore": {
     "hide_input_from_viewers": true,
     "hide_output_from_viewers": true,
     "node_id": "ifprzjghgWYKFJ7UF1To9v",
     "type": "CODE"
    },
    "tags": []
   },
   "outputs": [
    {
     "data": {
      "text/plain": [
       "default value"
      ]
     },
     "execution_count": 11,
     "metadata": {},
     "output_type": "execute_result"
    }
   ],
   "source": [
    "null ?: \"default value\" // 왼쪽이 null이면 오른쪽 값"
   ]
  },
  {
   "cell_type": "code",
   "execution_count": 12,
   "metadata": {
    "datalore": {
     "hide_input_from_viewers": true,
     "hide_output_from_viewers": true,
     "node_id": "INzUApfO1u6aCiVDbAEkzb",
     "type": "CODE"
    },
    "tags": []
   },
   "outputs": [
    {
     "data": {
      "text/plain": [
       "non-null value"
      ]
     },
     "execution_count": 12,
     "metadata": {},
     "output_type": "execute_result"
    }
   ],
   "source": [
    "\"non-null value\" ?: \"default value\" // 왼쪽이 null이면 왼쪽 값"
   ]
  },
  {
   "cell_type": "markdown",
   "metadata": {
    "datalore": {
     "hide_input_from_viewers": true,
     "hide_output_from_viewers": true,
     "node_id": "B4RVkFNSEFomKtIG9BhcIk",
     "type": "MD"
    }
   },
   "source": [
    "## Type casting\n",
    "Kotlin은 타입 변환을 더 엄격하게 관리\n",
    "\n",
    "Java에서 nubmer 타입끼리 스리슬쩍 타입 변환이 되는 경우라도,\n",
    "Kotlin에서는 타입 변환 메소드를 호출해서 명시적으로 변환해야 할 수 있음"
   ]
  },
  {
   "cell_type": "code",
   "execution_count": 13,
   "metadata": {
    "datalore": {
     "hide_input_from_viewers": true,
     "hide_output_from_viewers": true,
     "node_id": "aiYcQRhi0lx9XtgqZGIFvQ",
     "type": "CODE"
    },
    "tags": []
   },
   "outputs": [
    {
     "name": "stderr",
     "output_type": "stream",
     "text": [
      "Line_20.jupyter.kts (2:24 - 29) Type mismatch: inferred type is Int but Double was expected"
     ]
    }
   ],
   "source": [
    "val myInt: Int  = 3\n",
    "val myDouble: Double = myInt // Java에서는 스리슬쩍 변환되지만 ..."
   ]
  },
  {
   "cell_type": "code",
   "execution_count": 14,
   "metadata": {
    "datalore": {
     "hide_input_from_viewers": true,
     "hide_output_from_viewers": true,
     "node_id": "2PJQMNgeqs5L378wQLp0Jl",
     "type": "CODE"
    },
    "tags": []
   },
   "outputs": [],
   "source": [
    "val myInt: Int  = 3\n",
    "val myDouble: Double = myInt.toDouble()"
   ]
  },
  {
   "cell_type": "code",
   "execution_count": 15,
   "metadata": {
    "datalore": {
     "hide_input_from_viewers": true,
     "hide_output_from_viewers": true,
     "node_id": "yuqoDKohLdFRCLYbYvva6n",
     "type": "CODE"
    },
    "tags": []
   },
   "outputs": [
    {
     "name": "stdout",
     "output_type": "stream",
     "text": [
      "3\n",
      "3.0\n"
     ]
    }
   ],
   "source": [
    "println(myInt)\n",
    "println(myDouble)"
   ]
  },
  {
   "cell_type": "code",
   "execution_count": 16,
   "metadata": {
    "datalore": {
     "hide_input_from_viewers": true,
     "hide_output_from_viewers": true,
     "node_id": "Wp6fDRHjD6kIOgECqLjZ9T",
     "type": "CODE"
    },
    "tags": []
   },
   "outputs": [
    {
     "name": "stdout",
     "output_type": "stream",
     "text": [
      "12510000\n",
      "10125\n"
     ]
    }
   ],
   "source": [
    "// 문자열을 정수로 변환\n",
    "val str = \"125\"\n",
    "val v: Int = str.toInt()\n",
    "\n",
    "println(str + 10000)\n",
    "println(v   + 10000)"
   ]
  },
  {
   "cell_type": "code",
   "execution_count": 17,
   "metadata": {
    "datalore": {
     "hide_input_from_viewers": true,
     "hide_output_from_viewers": true,
     "node_id": "11faoffTo8qHznmD0vsPor",
     "type": "CODE"
    },
    "tags": []
   },
   "outputs": [
    {
     "name": "stderr",
     "output_type": "stream",
     "text": [
      "For input string: \"#125\"\n",
      "java.lang.NumberFormatException: For input string: \"#125\"\n",
      "\tat java.base/java.lang.NumberFormatException.forInputString(NumberFormatException.java:65)\n",
      "\tat java.base/java.lang.Integer.parseInt(Integer.java:638)\n",
      "\tat java.base/java.lang.Integer.parseInt(Integer.java:770)\n",
      "\tat Line_24_jupyter.<init>(Line_24.jupyter.kts:2)\n",
      "\tat java.base/jdk.internal.reflect.NativeConstructorAccessorImpl.newInstance0(Native Method)\n",
      "\tat java.base/jdk.internal.reflect.NativeConstructorAccessorImpl.newInstance(NativeConstructorAccessorImpl.java:62)\n",
      "\tat java.base/jdk.internal.reflect.DelegatingConstructorAccessorImpl.newInstance(DelegatingConstructorAccessorImpl.java:45)\n",
      "\tat java.base/java.lang.reflect.Constructor.newInstance(Constructor.java:490)\n",
      "\tat kotlin.script.experimental.jvm.BasicJvmScriptEvaluator.evalWithConfigAndOtherScriptsResults(BasicJvmScriptEvaluator.kt:105)\n",
      "\tat kotlin.script.experimental.jvm.BasicJvmScriptEvaluator.invoke$suspendImpl(BasicJvmScriptEvaluator.kt:47)\n",
      "\tat kotlin.script.experimental.jvm.BasicJvmScriptEvaluator.invoke(BasicJvmScriptEvaluator.kt)\n",
      "\tat kotlin.script.experimental.jvm.BasicJvmReplEvaluator.eval(BasicJvmReplEvaluator.kt:49)\n",
      "\tat org.jetbrains.kotlinx.jupyter.repl.impl.InternalEvaluatorImpl$eval$resultWithDiagnostics$1.invokeSuspend(InternalEvaluatorImpl.kt:103)\n",
      "\tat kotlin.coroutines.jvm.internal.BaseContinuationImpl.resumeWith(ContinuationImpl.kt:33)\n",
      "\tat kotlinx.coroutines.DispatchedTask.run(DispatchedTask.kt:106)\n",
      "\tat kotlinx.coroutines.EventLoopImplBase.processNextEvent(EventLoop.common.kt:284)\n",
      "\tat kotlinx.coroutines.BlockingCoroutine.joinBlocking(Builders.kt:85)\n",
      "\tat kotlinx.coroutines.BuildersKt__BuildersKt.runBlocking(Builders.kt:59)\n",
      "\tat kotlinx.coroutines.BuildersKt.runBlocking(Unknown Source)\n",
      "\tat kotlinx.coroutines.BuildersKt__BuildersKt.runBlocking$default(Builders.kt:38)\n",
      "\tat kotlinx.coroutines.BuildersKt.runBlocking$default(Unknown Source)\n",
      "\tat org.jetbrains.kotlinx.jupyter.repl.impl.InternalEvaluatorImpl.eval(InternalEvaluatorImpl.kt:103)\n",
      "\tat org.jetbrains.kotlinx.jupyter.repl.impl.CellExecutorImpl$execute$1$result$1.invoke(CellExecutorImpl.kt:75)\n",
      "\tat org.jetbrains.kotlinx.jupyter.repl.impl.CellExecutorImpl$execute$1$result$1.invoke(CellExecutorImpl.kt:73)\n",
      "\tat org.jetbrains.kotlinx.jupyter.ReplForJupyterImpl.withHost(repl.kt:658)\n",
      "\tat org.jetbrains.kotlinx.jupyter.repl.impl.CellExecutorImpl.execute(CellExecutorImpl.kt:73)\n",
      "\tat org.jetbrains.kotlinx.jupyter.repl.CellExecutor$DefaultImpls.execute$default(CellExecutor.kt:15)\n",
      "\tat org.jetbrains.kotlinx.jupyter.ReplForJupyterImpl$evalEx$1.invoke(repl.kt:471)\n",
      "\tat org.jetbrains.kotlinx.jupyter.ReplForJupyterImpl$evalEx$1.invoke(repl.kt:462)\n",
      "\tat org.jetbrains.kotlinx.jupyter.ReplForJupyterImpl.withEvalContext(repl.kt:425)\n",
      "\tat org.jetbrains.kotlinx.jupyter.ReplForJupyterImpl.evalEx(repl.kt:462)\n",
      "\tat org.jetbrains.kotlinx.jupyter.messaging.ProtocolKt$shellMessagesHandler$2$res$1.invoke(protocol.kt:318)\n",
      "\tat org.jetbrains.kotlinx.jupyter.messaging.ProtocolKt$shellMessagesHandler$2$res$1.invoke(protocol.kt:312)\n",
      "\tat org.jetbrains.kotlinx.jupyter.JupyterExecutorImpl$runExecution$execThread$1.invoke(execution.kt:37)\n",
      "\tat org.jetbrains.kotlinx.jupyter.JupyterExecutorImpl$runExecution$execThread$1.invoke(execution.kt:32)\n",
      "\tat kotlin.concurrent.ThreadsKt$thread$thread$1.run(Thread.kt:30)\n"
     ]
    }
   ],
   "source": [
    "val str = \"#125\" // 변환이 불가능한 문자열\n",
    "val v: Int = str.toInt()"
   ]
  },
  {
   "cell_type": "code",
   "execution_count": 18,
   "metadata": {
    "datalore": {
     "hide_input_from_viewers": true,
     "hide_output_from_viewers": true,
     "node_id": "O4NveB74F38cnee65AkKWC",
     "type": "CODE"
    },
    "tags": []
   },
   "outputs": [
    {
     "name": "stdout",
     "output_type": "stream",
     "text": [
      "null\n"
     ]
    }
   ],
   "source": [
    "val str = \"#125\"\n",
    "val v: Int? = str.toIntOrNull()\n",
    "\n",
    "println(v)"
   ]
  },
  {
   "cell_type": "markdown",
   "metadata": {
    "datalore": {
     "hide_input_from_viewers": true,
     "hide_output_from_viewers": true,
     "node_id": "dxUAzs1wM99vZoeHoQHh2f",
     "type": "MD"
    }
   },
   "source": [
    "## Smart cast\n",
    "특정 조건이 만족되는 경우 상위 타입을 하위 타입으로 자동으로 변환\n",
    "\n",
    "예를 들면,\n",
    "- nullable 타입인 `String?`를 non-nullable 타입인 `String`으로\n",
    "- `Any`에서 `Int` 또는 `String` 또는 `Double`로 (참고로, `Any`는 최상위 non-nullable 타입)\n",
    "\n",
    "참고로 코틀린에서 `Any?` 타입이 대략 Java에서 `Object` 타입에 해당한다. \n",
    "\n",
    "스마트 캐스트는 불변(immutable)인 변수에 대해서만 smart cast 가능\n",
    "\n",
    "즉 `val`로 선언한 변수만 가능하고 `var`로 선언한 변수는 smart cast 안됨\n",
    "\n",
    "참고로 함수 파라메터는 `val`로 선언한 변수와 마찬가지로 불변이며, 실제 코드에서 smart cast는 `val`로 직접 선언된 변수보다는 함수 파라메터에 더 많이 활용된다."
   ]
  },
  {
   "cell_type": "code",
   "execution_count": 19,
   "metadata": {
    "datalore": {
     "hide_input_from_viewers": true,
     "hide_output_from_viewers": true,
     "node_id": "tWUaYTTaQrRVlFsKQJZghw",
     "type": "CODE"
    },
    "tags": []
   },
   "outputs": [
    {
     "name": "stderr",
     "output_type": "stream",
     "text": [
      "Line_26.jupyter.kts (6:14 - 23) Smart cast to 'String' is impossible, because 'mayBeNull' is a mutable property that could have been changed by this time"
     ]
    }
   ],
   "source": [
    "var mayBeNull: String? = \"Hello\" // val로 고쳐보라\n",
    "\n",
    "/////////////////////////////////////////////\n",
    "var length: Int? = null\n",
    "if (mayBeNull != null) { // null이 아닌지 검사한 다음\n",
    "    length = mayBeNull.length // val로 고치고 나면 여기서 String?에서 String으로 smart cast됨 \n",
    "}\n",
    "/////////////////////////////////////////////\n",
    "\n",
    "println(length)"
   ]
  },
  {
   "cell_type": "code",
   "execution_count": 20,
   "metadata": {
    "datalore": {
     "hide_input_from_viewers": true,
     "hide_output_from_viewers": true,
     "node_id": "6bYVraMeK2taPJnFiWt1mP",
     "type": "CODE"
    },
    "tags": []
   },
   "outputs": [
    {
     "name": "stdout",
     "output_type": "stream",
     "text": [
      "10003\n"
     ]
    }
   ],
   "source": [
    "val any : Any = 3 // 3 또는 \"hello\" 또는 12.34 등으로 바꾸어 보며 실험해 보라\n",
    "\n",
    "if (any is Int) {\n",
    "    println( any + 10000 )    // Any에서 Int로 smart cast됨\n",
    "} else if (any is String) {\n",
    "    println( any + \" world\" ) // Any에서 String으로 smart cast됨\n",
    "} else if (any is Double) {\n",
    "    println( any + 0.00001 )  // Any에서 String으로 smart cast됨\n",
    "} else {\n",
    "    println(\"the type of any is neither Int nor String nor Double\")\n",
    "}"
   ]
  },
  {
   "cell_type": "code",
   "execution_count": 21,
   "metadata": {
    "datalore": {
     "hide_input_from_viewers": true,
     "hide_output_from_viewers": true,
     "node_id": "l8KVluU4SiIatU0jNVfcvA",
     "type": "CODE"
    },
    "tags": []
   },
   "outputs": [
    {
     "name": "stdout",
     "output_type": "stream",
     "text": [
      "10003\n"
     ]
    }
   ],
   "source": [
    "val any : Any = 3 // 3 또는 \"hello\" 또는 12.34 등으로 바꾸어 보며 실험해 보라\n",
    "\n",
    "when (any) { // 중첩된 if문 대신에 when문을 쓰면 더 깔끔\n",
    "    is Int    -> println( any + 10000 )    // Any에서 Int로 smart cast됨\n",
    "    is String -> println( any + \" world\" ) // Any에서 String으로 smart cast됨\n",
    "    is Double -> println( any + 0.00001 )  // Any에서 String으로 smart cast됨\n",
    "    else -> println(\"the type of any is neither Int nor String nor Double\")\n",
    "}"
   ]
  },
  {
   "cell_type": "markdown",
   "metadata": {
    "datalore": {
     "hide_input_from_viewers": true,
     "hide_output_from_viewers": true,
     "node_id": "XECs46suH4NvldHR1AjOxE",
     "type": "MD"
    }
   },
   "source": [
    "## Unsafe cast\n",
    "Kotin의 타입 변환 연산자인 `as` 와 `as?`에 대해 알아보자."
   ]
  },
  {
   "cell_type": "code",
   "execution_count": 22,
   "metadata": {
    "datalore": {
     "hide_input_from_viewers": true,
     "hide_output_from_viewers": true,
     "node_id": "L6gpnwUUBXXdQ2cgsc1sBr",
     "type": "CODE"
    },
    "tags": []
   },
   "outputs": [],
   "source": [
    "fun myUnsafeTypeCast(any: Any?): String {\n",
    "    val s: String = any as String\n",
    "    return s\n",
    "}"
   ]
  },
  {
   "cell_type": "code",
   "execution_count": 23,
   "metadata": {
    "datalore": {
     "hide_input_from_viewers": true,
     "hide_output_from_viewers": true,
     "node_id": "fAL5EDQjQHuhE7IWAh7r3L",
     "type": "CODE"
    },
    "tags": []
   },
   "outputs": [
    {
     "data": {
      "text/plain": [
       "Hello"
      ]
     },
     "execution_count": 23,
     "metadata": {},
     "output_type": "execute_result"
    }
   ],
   "source": [
    "myUnsafeTypeCast(\"Hello\")"
   ]
  },
  {
   "cell_type": "code",
   "execution_count": 24,
   "metadata": {
    "datalore": {
     "hide_input_from_viewers": true,
     "hide_output_from_viewers": true,
     "node_id": "tMobkvr5bu05v4GG4vix19",
     "type": "CODE"
    },
    "tags": []
   },
   "outputs": [],
   "source": [
    "// myTypeCastOrNull(3) // 주석을 풀어 실행해 보면 타입 변환 오류 발생"
   ]
  },
  {
   "cell_type": "code",
   "execution_count": 25,
   "metadata": {
    "datalore": {
     "hide_input_from_viewers": true,
     "hide_output_from_viewers": true,
     "node_id": "H1xBDLedQIJFjsYCwms3UI",
     "type": "CODE"
    },
    "tags": []
   },
   "outputs": [],
   "source": [
    "// myUnsafeTypeCast(null) // 주석을 풀어 실행해 보면 타입 변환 오류 발생"
   ]
  },
  {
   "cell_type": "code",
   "execution_count": 26,
   "metadata": {
    "datalore": {
     "hide_input_from_viewers": true,
     "hide_output_from_viewers": true,
     "node_id": "MUiGC6oTZ5Iz0Clw4LNvPb",
     "type": "CODE"
    },
    "tags": []
   },
   "outputs": [],
   "source": [
    "fun myTypeCastOrNull(any: Any?): String? {\n",
    "    val s: String? = any as? String\n",
    "    return s\n",
    "}"
   ]
  },
  {
   "cell_type": "code",
   "execution_count": 27,
   "metadata": {
    "datalore": {
     "hide_input_from_viewers": true,
     "hide_output_from_viewers": true,
     "node_id": "KoOJBzNw1g23iIk5NzCwzT",
     "type": "CODE"
    },
    "tags": []
   },
   "outputs": [
    {
     "data": {
      "text/plain": [
       "Hello"
      ]
     },
     "execution_count": 27,
     "metadata": {},
     "output_type": "execute_result"
    }
   ],
   "source": [
    "myTypeCastOrNull(\"Hello\")"
   ]
  },
  {
   "cell_type": "code",
   "execution_count": 28,
   "metadata": {
    "datalore": {
     "hide_input_from_viewers": true,
     "hide_output_from_viewers": true,
     "node_id": "JE1NbFW9J46GCGdTuYCiMZ",
     "type": "CODE"
    },
    "tags": []
   },
   "outputs": [
    {
     "data": {
      "text/plain": [
       "null"
      ]
     },
     "execution_count": 28,
     "metadata": {},
     "output_type": "execute_result"
    }
   ],
   "source": [
    "myTypeCastOrNull(3)"
   ]
  },
  {
   "cell_type": "code",
   "execution_count": 29,
   "metadata": {
    "datalore": {
     "hide_input_from_viewers": true,
     "hide_output_from_viewers": true,
     "node_id": "DruIXbMTg8DyrADN2bJTqI",
     "type": "CODE"
    },
    "tags": []
   },
   "outputs": [
    {
     "data": {
      "text/plain": [
       "null"
      ]
     },
     "execution_count": 29,
     "metadata": {},
     "output_type": "execute_result"
    }
   ],
   "source": [
    "myTypeCastOrNull(null)"
   ]
  },
  {
   "cell_type": "markdown",
   "metadata": {
    "datalore": {
     "hide_input_from_viewers": true,
     "hide_output_from_viewers": true,
     "node_id": "19Y9hP0LTrLCCiOwTUh19q",
     "type": "MD"
    }
   },
   "source": [
    "## `Pair` and `Triple`\n",
    "코틀린 표준라이브러리에서 제공하는 순서쌍(2튜플) 타입은 `Pair`와 3튜플 타입인 `Triple`에 대해 알아보자."
   ]
  },
  {
   "cell_type": "code",
   "execution_count": 30,
   "metadata": {
    "datalore": {
     "hide_input_from_viewers": true,
     "hide_output_from_viewers": true,
     "node_id": "UsBYGh4W8fsFP78SD7mYf5",
     "type": "CODE"
    },
    "tags": []
   },
   "outputs": [],
   "source": [
    "val point = Pair(30, 40) // 2차원 좌표점을 나타내는 두 개의 Int 값으로 이루어진 순서쌍\n",
    "val mobile = Pair(\"SKT\", 50000) // 서로 다른 타입의 값 두 개로 이루어진 순서쌍\n",
    "val student = Triple(\"홍길동\", 20239999, \"컴퓨터공학과\")"
   ]
  },
  {
   "cell_type": "code",
   "execution_count": 31,
   "metadata": {
    "datalore": {
     "hide_input_from_viewers": true,
     "hide_output_from_viewers": true,
     "node_id": "fXDu4jhPHC4yRczjnASLsQ",
     "type": "CODE"
    },
    "tags": []
   },
   "outputs": [
    {
     "name": "stdout",
     "output_type": "stream",
     "text": [
      "point is at (30, 40)\n",
      "My mobile plan from SKT charges 50000 per month\n",
      "홍길동(20239999) 학생은 컴퓨터공학과 소속입니다\n"
     ]
    }
   ],
   "source": [
    "println(\"point is at (${point.first}, ${point.second})\")\n",
    "\n",
    "println(\"My mobile plan from ${mobile.first} charges ${mobile.second} per month\")\n",
    "\n",
    "println(\"${student.first}(${student.second}) 학생은 ${student.third} 소속입니다\")"
   ]
  },
  {
   "cell_type": "code",
   "execution_count": 32,
   "metadata": {
    "datalore": {
     "hide_input_from_viewers": true,
     "hide_output_from_viewers": true,
     "node_id": "trS8rPxUqWBM7rOG8NDtdI",
     "type": "CODE"
    },
    "tags": []
   },
   "outputs": [
    {
     "name": "stdout",
     "output_type": "stream",
     "text": [
      "point is at (30, 40)\n",
      "My mobile plan from SKT charges 50000 per month\n",
      "홍길동(20239999) 학생은 컴퓨터공학과 소속입니다\n"
     ]
    }
   ],
   "source": [
    "val (x, y) = point\n",
    "println(\"point is at ($x, $y)\")\n",
    "\n",
    "val (company, price) = mobile\n",
    "println(\"My mobile plan from $company charges $price per month\")\n",
    "\n",
    "val (name, id, major) = student\n",
    "println(\"$name($id) 학생은 $major 소속입니다\")"
   ]
  },
  {
   "cell_type": "code",
   "execution_count": 33,
   "metadata": {
    "datalore": {
     "hide_input_from_viewers": true,
     "hide_output_from_viewers": true,
     "node_id": "iJvKF1UmVkV8G3x64K9Tjc",
     "type": "CODE"
    },
    "tags": []
   },
   "outputs": [
    {
     "name": "stdout",
     "output_type": "stream",
     "text": [
      "point3d's x and y coordininates are 5 and 9\n"
     ]
    }
   ],
   "source": [
    "val point3d = Triple(5, 9, 11)\n",
    "val (x, y, _) = point3d // 관심있는 부분 외에는 _ 로 처리\n",
    "\n",
    "println(\"point3d's x and y coordininates are $x and $y\")"
   ]
  },
  {
   "cell_type": "code",
   "execution_count": null,
   "metadata": {
    "datalore": {
     "hide_input_from_viewers": true,
     "hide_output_from_viewers": true,
     "node_id": "RzIYk2BjnaGdQ8HMeYpPmo",
     "type": "CODE"
    }
   },
   "outputs": [],
   "source": [
    "// component1(), compoenent2() 등의 메소드를 활용하는 방법에 대해서는 책을 보고 스스로 학습"
   ]
  }
 ],
 "metadata": {
  "datalore": {
   "base_environment": "default",
   "computation_mode": "JUPYTER",
   "package_manager": "pip",
   "packages": [],
   "report_row_ids": [],
   "version": 3
  },
  "kernelspec": {
   "display_name": "Kotlin",
   "language": "kotlin",
   "name": "kotlin"
  },
  "language_info": {
   "codemirror_mode": "text/x-kotlin",
   "file_extension": ".kt",
   "mimetype": "text/x-kotlin",
   "name": "kotlin",
   "nbconvert_exporter": "",
   "pygments_lexer": "kotlin",
   "version": "1.8.20-Beta"
  }
 },
 "nbformat": 4,
 "nbformat_minor": 4
}
