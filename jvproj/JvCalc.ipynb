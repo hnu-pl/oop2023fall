{
 "cells": [
  {
   "cell_type": "code",
   "execution_count": 4,
   "metadata": {},
   "outputs": [],
   "source": [
    "/* sealed */ interface Entry { // Java 17부터는 sealed가 지원된다고 하더라 \n",
    "    enum BinOp implements Entry { ADD, MULT }\n",
    "    record Value(int number) implements Entry { } \n",
    "}\n",
    "\n",
    "record Pair<A,B>(A a, B b) { }\n",
    "\n",
    "interface ICalculator {\n",
    "    boolean appendEntry(Entry e); // input either BinOp or Vaule\n",
    "        // appends legal entry input and return true (returns false for illegal input)\n",
    "        // updates last calculated value if possible\n",
    "    boolean removeEntry(); // push the x button\n",
    "        // removes the last input entry and return true (returns false if it is not possible)\n",
    "        // updates last calculated value if necessary\n",
    "    Entry.Value calculate();    // push the = button\n",
    "        // calculate current entry and returns the result value (return null when it fails) \n",
    "        // add to history\n",
    "        // clear current entries and nullify last calculated value\n",
    "    Entry.Value lastValue(); // last calculated value\n",
    "    List<Entry> entries();  // current entries\n",
    "    List<Pair<Entry, Entry.Value>> history();  // history of calculations\n",
    "    void clearEntries(); // clear the current entries, also clearing last calculate value\n",
    "    void clearHistory(); // clear history\n",
    "}"
   ]
  },
  {
   "cell_type": "code",
   "execution_count": 2,
   "metadata": {},
   "outputs": [],
   "source": [
    "// ... Calculator implements ICalculator ..."
   ]
  },
  {
   "cell_type": "code",
   "execution_count": null,
   "metadata": {},
   "outputs": [],
   "source": []
  }
 ],
 "metadata": {
  "kernelspec": {
   "display_name": "Java",
   "language": "java",
   "name": "java"
  },
  "language_info": {
   "codemirror_mode": "java",
   "file_extension": ".jshell",
   "mimetype": "text/x-java-source",
   "name": "Java",
   "pygments_lexer": "java",
   "version": "15+36-1562"
  }
 },
 "nbformat": 4,
 "nbformat_minor": 4
}
