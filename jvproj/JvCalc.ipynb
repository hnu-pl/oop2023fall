{
 "cells": [
  {
   "cell_type": "markdown",
   "metadata": {},
   "source": [
    "# HW2a: Java Calcuator\n",
    "- 이름: ???\n",
    "- 학번: ????????"
   ]
  },
  {
   "cell_type": "markdown",
   "metadata": {},
   "source": [
    "https://calculatorhistory.net"
   ]
  },
  {
   "cell_type": "code",
   "execution_count": 1,
   "metadata": {},
   "outputs": [],
   "source": [
    "sealed interface Entry { // entries for arithmetic expressions\n",
    "    enum BinOp implements Entry { ADD, MULT } // +, *\n",
    "    enum Delim implements Entry { LPAREN, RPAREN } // (, )\n",
    "    record Value(int number) implements Entry { } // integer value\n",
    "}"
   ]
  },
  {
   "cell_type": "code",
   "execution_count": 2,
   "metadata": {},
   "outputs": [
    {
     "data": {
      "text/plain": [
       "ADD"
      ]
     },
     "execution_count": 2,
     "metadata": {},
     "output_type": "execute_result"
    }
   ],
   "source": [
    "Entry.BinOp.ADD"
   ]
  },
  {
   "cell_type": "code",
   "execution_count": 3,
   "metadata": {},
   "outputs": [
    {
     "data": {
      "text/plain": [
       "LPAREN"
      ]
     },
     "execution_count": 3,
     "metadata": {},
     "output_type": "execute_result"
    }
   ],
   "source": [
    "Entry.Delim.LPAREN"
   ]
  },
  {
   "cell_type": "code",
   "execution_count": 4,
   "metadata": {},
   "outputs": [
    {
     "data": {
      "text/plain": [
       "Value[number=43]"
      ]
     },
     "execution_count": 4,
     "metadata": {},
     "output_type": "execute_result"
    }
   ],
   "source": [
    "new Entry.Value(43)"
   ]
  },
  {
   "cell_type": "code",
   "execution_count": 5,
   "metadata": {},
   "outputs": [],
   "source": [
    "record Pair<A,B>(A first, B second) { } // because Java standard library does not provide pair data type\n",
    "\n",
    "interface ICalculator {\n",
    "    boolean appendEntry(Entry e); // adds an entriy (either BinOp, Delim, or Vaule) at the end\n",
    "        // appends legal entry input and return true (returns false for illegal input without adding it)\n",
    "    boolean removeEntry(); // removes the last added entry; ◄(x or DEL) button\n",
    "        // removes the last input entry and returns true (returns false if not possible)\n",
    "    Entry.Value currValue(); // currently calculated value from the current entries (defaults to null)\n",
    "    Entry.Value lastValue(); // last calculated value (defaults to 0)\n",
    "    List<Entry> entries();  // get current entries\n",
    "    List< Pair<List<Entry>, Entry.Value> > history();  // history of calculations\n",
    "    void clearEntries(); // clear the current entries; AC button\n",
    "    void clearHistory(); // clear history\n",
    "}"
   ]
  },
  {
   "cell_type": "markdown",
   "metadata": {},
   "source": [
    "----\n",
    "참고자료: https://madplay.github.io/post/call-javascript-function-from-java-using-graalvm"
   ]
  },
  {
   "cell_type": "code",
   "execution_count": 6,
   "metadata": {},
   "outputs": [],
   "source": [
    "%maven org.graalvm.js:js:19.2.0.1\n",
    "%maven org.graalvm.js:js-scriptengine:19.2.0.1\n",
    "\n",
    "import org.graalvm.polyglot.*"
   ]
  },
  {
   "cell_type": "code",
   "execution_count": 7,
   "metadata": {},
   "outputs": [
    {
     "name": "stdout",
     "output_type": "stream",
     "text": [
      "43\n",
      "true\n",
      "class org.graalvm.polyglot.Value\n"
     ]
    }
   ],
   "source": [
    "try (Context context = Context.create(\"js\")) {\n",
    "\n",
    "    var value = context.eval(\"js\", \"3 + 4 * 10\");\n",
    "    System.out.println( value );\n",
    "    System.out.println( value.toString().equals(\"43\") );\n",
    "    System.out.println( value.getClass() ); // 7\n",
    "\n",
    "} catch (Exception e) {\n",
    "    System.err.println(e);\n",
    "}"
   ]
  },
  {
   "cell_type": "code",
   "execution_count": 8,
   "metadata": {},
   "outputs": [
    {
     "name": "stdout",
     "output_type": "stream",
     "text": [
      "43\n",
      "true\n",
      "class org.graalvm.polyglot.Value\n"
     ]
    }
   ],
   "source": [
    "Context context = Context.create(\"js\"); // 그냥 항상 성공한다고 가정하면 이렇게 써도 ...\n",
    "\n",
    "var value = context.eval(\"js\", \"3 + 4 * 10\");\n",
    "System.out.println( value );\n",
    "System.out.println( value.toString().equals(\"43\") );\n",
    "System.out.println( value.getClass() );"
   ]
  },
  {
   "cell_type": "code",
   "execution_count": 9,
   "metadata": {},
   "outputs": [
    {
     "name": "stderr",
     "output_type": "stream",
     "text": [
      "org.graalvm.polyglot.PolyglotException: SyntaxError: Unnamed:1:8 Expected an operand but found eof\n",
      "3 + 4 * \n",
      "        ^\n",
      "\n"
     ]
    },
    {
     "name": "stdout",
     "output_type": "stream",
     "text": [
      "이걸 적당히 잘 처리하면 유용하게 활용 가능\n"
     ]
    }
   ],
   "source": [
    "Context context = Context.create(\"js\");\n",
    "\n",
    "try {\n",
    "    Value value = context.eval(\"js\", \"3 + 4 * \"); // 사실 여기서 문제가 발생할 수도\n",
    "    System.out.println( value );\n",
    "    System.out.println( value.toString().equals(\"43\") );\n",
    "    System.out.println( value.getClass() );\n",
    "} catch (Exception e) {\n",
    "    System.err.println(e);\n",
    "    System.out.println(\"이걸 적당히 잘 처리하면 유용하게 활용 가능\");\n",
    "}"
   ]
  },
  {
   "cell_type": "markdown",
   "metadata": {},
   "source": [
    "----"
   ]
  },
  {
   "cell_type": "code",
   "execution_count": 10,
   "metadata": {},
   "outputs": [],
   "source": [
    "// ... class Calculator implements ICalculator ..."
   ]
  },
  {
   "cell_type": "code",
   "execution_count": null,
   "metadata": {},
   "outputs": [],
   "source": []
  }
 ],
 "metadata": {
  "kernelspec": {
   "display_name": "Java",
   "language": "java",
   "name": "java"
  },
  "language_info": {
   "codemirror_mode": "java",
   "file_extension": ".jshell",
   "mimetype": "text/x-java-source",
   "name": "Java",
   "pygments_lexer": "java",
   "version": "15+36-1562"
  }
 },
 "nbformat": 4,
 "nbformat_minor": 4
}
