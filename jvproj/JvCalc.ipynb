{
 "cells": [
  {
   "cell_type": "markdown",
   "metadata": {},
   "source": [
    "# HW2a: Java Calcuator\n",
    "- 이름: ???\n",
    "- 학번: ????????"
   ]
  },
  {
   "cell_type": "markdown",
   "metadata": {},
   "source": [
    "https://calculatorhistory.net"
   ]
  },
  {
   "cell_type": "code",
   "execution_count": 1,
   "metadata": {},
   "outputs": [],
   "source": [
    "sealed interface Entry { // entries for arithmetic expressions\n",
    "    enum BinOp implements Entry { ADD, MULT } // +, *\n",
    "    enum Delim implements Entry { LPAREN, RPAREN } // (, )\n",
    "    record Value(int number) implements Entry { }\n",
    "\n",
    "    /////////////////////////////////////////\n",
    "    // 아래는 실습 이후에 추가된 메소드 \n",
    "    /////////////////////////////////////////\n",
    "    \n",
    "    static String asString(Entry e) {\n",
    "        Objects.requireNonNull(e);\n",
    "        return switch ( e.toString() ) {\n",
    "                case \"ADD\" -> \"+\";\n",
    "                case \"MULT\" -> \"*\";\n",
    "                case \"LPAREN\" -> \"(\";\n",
    "                case \"RPAREN\" -> \")\";\n",
    "                default -> \"\"+((Value)e).number();\n",
    "        };\n",
    "    }\n",
    "}"
   ]
  },
  {
   "cell_type": "code",
   "execution_count": 2,
   "metadata": {},
   "outputs": [
    {
     "data": {
      "text/plain": [
       "ADD"
      ]
     },
     "execution_count": 2,
     "metadata": {},
     "output_type": "execute_result"
    }
   ],
   "source": [
    "Entry.BinOp.ADD"
   ]
  },
  {
   "cell_type": "code",
   "execution_count": 3,
   "metadata": {},
   "outputs": [
    {
     "data": {
      "text/plain": [
       "LPAREN"
      ]
     },
     "execution_count": 3,
     "metadata": {},
     "output_type": "execute_result"
    }
   ],
   "source": [
    "Entry.Delim.LPAREN"
   ]
  },
  {
   "cell_type": "code",
   "execution_count": 4,
   "metadata": {},
   "outputs": [
    {
     "data": {
      "text/plain": [
       "Value[number=43]"
      ]
     },
     "execution_count": 4,
     "metadata": {},
     "output_type": "execute_result"
    }
   ],
   "source": [
    "new Entry.Value(43)"
   ]
  },
  {
   "cell_type": "code",
   "execution_count": 5,
   "metadata": {},
   "outputs": [
    {
     "data": {
      "text/plain": [
       "+"
      ]
     },
     "execution_count": 5,
     "metadata": {},
     "output_type": "execute_result"
    }
   ],
   "source": [
    "Entry.asString( Entry.BinOp.ADD )"
   ]
  },
  {
   "cell_type": "code",
   "execution_count": 6,
   "metadata": {},
   "outputs": [
    {
     "data": {
      "text/plain": [
       "43"
      ]
     },
     "execution_count": 6,
     "metadata": {},
     "output_type": "execute_result"
    }
   ],
   "source": [
    "Entry.asString( new Entry.Value(43) )"
   ]
  },
  {
   "cell_type": "code",
   "execution_count": 7,
   "metadata": {},
   "outputs": [
    {
     "name": "stdout",
     "output_type": "stream",
     "text": [
      "[Value[number=43], MULT, LPAREN, Value[number=56], ADD, Value[number=43], RPAREN]\n"
     ]
    },
    {
     "data": {
      "text/plain": [
       "43 * ( 56 + 43 )"
      ]
     },
     "execution_count": 7,
     "metadata": {},
     "output_type": "execute_result"
    }
   ],
   "source": [
    "import java.util.stream.*;\n",
    "\n",
    "var v1 = new Entry.Value(43);\n",
    "var v2 = new Entry.Value(56);\n",
    "var es = List.of(v1, Entry.BinOp.MULT, Entry.Delim.LPAREN, v2, Entry.BinOp.ADD, v1, Entry.Delim.RPAREN );\n",
    "\n",
    "System.out.println(es);\n",
    "\n",
    "es.stream().map(Entry::asString).collect(Collectors.joining(\" \"))"
   ]
  },
  {
   "cell_type": "code",
   "execution_count": 8,
   "metadata": {},
   "outputs": [],
   "source": [
    "record Pair<A,B>(A first, B second) { } // because Java standard library does not provide pair data type\n",
    "\n",
    "interface ICalculator {\n",
    "    // Adds an entriy (either BinOp, Delim, or Vaule) at the end.\n",
    "    // Appends legal entry input and return true (returns false for illegal input without adding it).\n",
    "    boolean appendEntry(Entry e);\n",
    "    \n",
    "    // Removes the last added entry; The ◄(x or DEL) button\n",
    "    // Removes the last input entry and returns true (returns false if not possible)\n",
    "    boolean removeEntry();\n",
    "    \n",
    "    Entry.Value currValue(); // Currently calculated value from the current entries (defaults to null).\n",
    "    Entry.Value lastValue(); // Last calculated value (defaults to 0).\n",
    "    \n",
    "    List<Entry> entries();  // Get current entries.\n",
    "    List< Pair<List<Entry>, Entry.Value> > history();  // History of calculations.\n",
    "    \n",
    "    void clearEntries(); // Clear the current entries; AC button.\n",
    "    void clearHistory(); // Clear history.\n",
    "    \n",
    "    /////////////////////////////////////////\n",
    "    // 아래는 실습 이후에 추가된 메소드 \n",
    "    /////////////////////////////////////////\n",
    "    \n",
    "    // The = button.\n",
    "    // Adds the current entries and its calculated current value as a pair into history,\n",
    "    // when the current entries form a valid expression to calculate the current vaule,\n",
    "    // and clears the current entries.\n",
    "    // Returns true for adding valid form of entries and its result value.\n",
    "    // Returns false, without adding to the history,\n",
    "    // when the current entries do not form a valid expression.\n",
    "    boolean addHistory();\n",
    "}"
   ]
  },
  {
   "cell_type": "markdown",
   "metadata": {},
   "source": [
    "----\n",
    "참고자료: https://madplay.github.io/post/call-javascript-function-from-java-using-graalvm"
   ]
  },
  {
   "cell_type": "code",
   "execution_count": 9,
   "metadata": {},
   "outputs": [],
   "source": [
    "%maven org.graalvm.js:js:19.2.0.1\n",
    "%maven org.graalvm.js:js-scriptengine:19.2.0.1\n",
    "\n",
    "import org.graalvm.polyglot.*"
   ]
  },
  {
   "cell_type": "code",
   "execution_count": 10,
   "metadata": {},
   "outputs": [
    {
     "name": "stdout",
     "output_type": "stream",
     "text": [
      "43\n",
      "true\n",
      "class org.graalvm.polyglot.Value\n"
     ]
    }
   ],
   "source": [
    "try (Context context = Context.create(\"js\")) {\n",
    "\n",
    "    var value = context.eval(\"js\", \"3 + 4 * 10\");\n",
    "    System.out.println( value );\n",
    "    System.out.println( value.toString().equals(\"43\") );\n",
    "    System.out.println( value.getClass() ); // 7\n",
    "\n",
    "} catch (Exception e) {\n",
    "    System.err.println(e);\n",
    "}"
   ]
  },
  {
   "cell_type": "code",
   "execution_count": 11,
   "metadata": {},
   "outputs": [
    {
     "name": "stdout",
     "output_type": "stream",
     "text": [
      "43\n",
      "true\n",
      "class org.graalvm.polyglot.Value\n"
     ]
    },
    {
     "data": {
      "text/plain": [
       "true"
      ]
     },
     "execution_count": 11,
     "metadata": {},
     "output_type": "execute_result"
    }
   ],
   "source": [
    "Context context = Context.create(\"js\"); // 그냥 항상 성공한다고 가정하면 이렇게 써도 ...\n",
    "\n",
    "var value = context.eval(\"js\", \"3 + 4 * 10\");\n",
    "System.out.println( value );\n",
    "System.out.println( value.toString().equals(\"43\") );\n",
    "System.out.println( value.getClass() );\n",
    "\n",
    "int vi = value.asInt();\n",
    "vi == 43"
   ]
  },
  {
   "cell_type": "code",
   "execution_count": 12,
   "metadata": {},
   "outputs": [
    {
     "name": "stderr",
     "output_type": "stream",
     "text": [
      "org.graalvm.polyglot.PolyglotException: SyntaxError: Unnamed:1:8 Expected an operand but found eof\n",
      "3 + 4 * \n",
      "        ^\n",
      "\n"
     ]
    },
    {
     "name": "stdout",
     "output_type": "stream",
     "text": [
      "이걸 적당히 잘 처리하면 유용하게 활용 가능\n"
     ]
    }
   ],
   "source": [
    "Context context = Context.create(\"js\");\n",
    "\n",
    "try {\n",
    "    Value value = context.eval(\"js\", \"3 + 4 * \"); // 사실 여기서 문제가 발생할 수도\n",
    "    System.out.println( value );\n",
    "    System.out.println( value.toString().equals(\"43\") );\n",
    "    System.out.println( value.getClass() );\n",
    "} catch (Exception e) {\n",
    "    System.err.println(e);\n",
    "    System.out.println(\"이걸 적당히 잘 처리하면 유용하게 활용 가능\");\n",
    "}"
   ]
  },
  {
   "cell_type": "markdown",
   "metadata": {},
   "source": [
    "----"
   ]
  },
  {
   "cell_type": "code",
   "execution_count": 10,
   "metadata": {},
   "outputs": [],
   "source": [
    "// ... class Calculator implements ICalculator ..."
   ]
  },
  {
   "cell_type": "code",
   "execution_count": null,
   "metadata": {},
   "outputs": [],
   "source": []
  }
 ],
 "metadata": {
  "kernelspec": {
   "display_name": "Java",
   "language": "java",
   "name": "java"
  },
  "language_info": {
   "codemirror_mode": "java",
   "file_extension": ".jshell",
   "mimetype": "text/x-java-source",
   "name": "Java",
   "pygments_lexer": "java",
   "version": "15+36-1562"
  }
 },
 "nbformat": 4,
 "nbformat_minor": 4
}
