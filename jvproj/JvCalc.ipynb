{
 "cells": [
  {
   "cell_type": "markdown",
   "metadata": {},
   "source": [
    "# HW2a: Java Calculator\n",
    "- 이름: ???\n",
    "- 학번: ????????"
   ]
  },
  {
   "cell_type": "markdown",
   "metadata": {},
   "source": [
    "https://calculatorhistory.net\n",
    "\n",
    "### Define your `Calculator` class by overriding abstract methods of the `ICalculator` interface (15점)\n",
    "\n",
    "`ICalculator` 인터페이스의 주석에 지시된 내용과 수업시간에 설명한 내용을 바탕으로 해당 인터페이스를 구현하는 `Calculator`를 작성하고 적절히 테스트하라. 테스트들에서 인터페이스의 모든 메소드의 동작을 활용해야 하며, 의도한 테스트 시나리오대로 동작함을 확인할 수 있도록 적절한 출력이 이루어져야 한다.\n",
    "\n",
    "`appendEntry` 메소드의 주석에 \"legal entry\"라는 표현이 등장하는데, Java 버전에서는 이 내용은 사실상 거의 무시해도 좋다. 이것은 Kotlin 버전에서만 구현하는 것으로 한다.\n",
    "보통 계산기 응용프로그램들은 올바른 식(valid expression)으로서 구성될 가망이 없는 버튼을 누르면 해당 입력을 거부하거나, 혹은 사용자에게 친절을 베풀어 자동으로 사용자가 입력하지 않은 내용까지 자동으로 추가하여 올바른 식을 구성할 수 있는 형태로만 입력이 진행된다.\n",
    "하지만, 이번 Java 버전에서는 올바른 식으로 구성될 가망이 없는 `Entry`들도 `appendEntry` 메소드를 통해 입력이 항상 가능하도록 구현하라.\n",
    "그러니까 `appendEntry` 메소드는 항상 `true`를 리턴하게 된다는 말이다. 단, null인 `Entry`는 어떤 경우에도 추가되지 `appendEntry`의 파라메터가 null이 아님을 확인하고 진행하도록 java-forax 교재에서처럼 `Objects.requireNonNull`을 활용해 처리하라.\n",
    "\n",
    "실제 계산기 응용프로그램과 `ICalculator` 인터페이스는 숫자를 입력할 때 차이점이 있다.\n",
    "실제 계산기 응용프로그램은 43이라는 수를 입력하기 위해 각각의 자리수인 4를 입력하고 3을 입력하는 과정을 거쳐야 하며, 연속되는 자리수 이외의 다른 입력이 들어오면 이전까지 연속적으로 입력되었던 자리수들을 합쳐서 하나의 수를 구성한다.\n",
    "우리는 이를 단순화하여 `Entry.Value` 값으로 한꺼번에 43이라는 수를 `appendEntry`로 추가하도록 한다.\n",
    "\n",
    "`Calculator`의 기능을 구현하기 위해서는 `ICalculator`의 메소드를 구현하는 것 외에도 적절한 인스턴스 변수들도 선언되어야 할 것이다.\n",
    "\n",
    "인스턴스 변수의 정보의 내용을 노출하는 메소드들은 캡슐화를 고려하여 작성하라.\n",
    "\n",
    "### Override `Calculator::toString` (10점)\n",
    "\n",
    "테스트 출력을 위해서는 적절히 보기좋게 계산기의 상태를 출력할 필요가 있다. 따라서 주어진 ICalculator 인터페이스의 추상 메소드를 오버라이딩하는 것 외에도 출력을 위한 `toString`도 적절히 오버라이드하라.\n",
    "\n",
    "예컨대, `1 + 1`을 계산한 다음 `2 * 3`을 계산하고 나서 지금은 미완성인 식 `( 43 +`를 입력중인 상황이라면\n",
    "Calculator 객체가 **정확히** 다음과 같이 출력되어야 한다.\n",
    "들여쓰기에 해당하는 왼쪽의 빈칸들은 space가 아닌 tab으로 처리하라.\n",
    "\n",
    "```\n",
    "Calculator[\n",
    "\tentries=\"( 43 +\",\n",
    "\tcurrVal=null,\n",
    "\tlastVal=6,\n",
    "\thistory=[\n",
    "\t\t2 * 3 = 6,\n",
    "\t\t1 + 1 = 2\n",
    "\t]\n",
    "]\n",
    "```\n",
    "\n",
    "Calculator의 기능을 완전히 완성하지 않더라도 이것만으로 부분점수가 부여될 수 있다.\n",
    "예를 들면 `new Calculator()`로 객체를 생성한 직후에 history나 entries등을 빈 리스트 등의 정상적인 기본값이 아닌\n",
    "테스트를 위해 임의로 초기화시켜 놓고 `toString`이 작동한다는 것을 시연하는 테스트가 있으면 부분점수 획득이 가능하다.\n",
    "당연히 `toString`에 위 내용을 문자열로 하드코딩하면 당연히 인정이 안되고, 인스턴스 변수에 있는 데이터로부터 처리하여 문자열을 만들 내야 부분점수로 인정될 요건이 된다.\n",
    "\n",
    "자신이 작성한 프로그램이 잘 동작하는지 알아보기 위해서는 테스트를 실행했을 때 적절한 데이터가 출력되는지 알아보아야 하는 기능이 필수적이다.\n",
    "그러니까 작성하기 쉬운 간단한 메소드들은 먼저 작성해 놓더라도 조금 복잡하다고 생각되는 것을 작성하여 모든 내용을 완성하기 전에 일단 `toString`부터 작성할 것을 권장한다.\n",
    "\n",
    "----"
   ]
  },
  {
   "cell_type": "code",
   "execution_count": 1,
   "metadata": {},
   "outputs": [],
   "source": [
    "sealed interface Entry { // entries for arithmetic expressions\n",
    "    enum BinOp implements Entry { ADD, MULT } // +, *\n",
    "    enum Delim implements Entry { LPAREN, RPAREN } // (, )\n",
    "    record Value(int number) implements Entry { }\n",
    "\n",
    "    /////////////////////////////////////////\n",
    "    // 아래는 실습 이후에 추가된 메소드 \n",
    "    /////////////////////////////////////////\n",
    "    \n",
    "    static String asString(Entry e) {\n",
    "        Objects.requireNonNull(e);\n",
    "        return switch ( e.toString() ) {\n",
    "                case \"ADD\" -> \"+\";\n",
    "                case \"MULT\" -> \"*\";\n",
    "                case \"LPAREN\" -> \"(\";\n",
    "                case \"RPAREN\" -> \")\";\n",
    "                default -> \"\"+((Value)e).number();\n",
    "        };\n",
    "    }\n",
    "}"
   ]
  },
  {
   "cell_type": "code",
   "execution_count": 2,
   "metadata": {},
   "outputs": [
    {
     "data": {
      "text/plain": [
       "ADD"
      ]
     },
     "execution_count": 2,
     "metadata": {},
     "output_type": "execute_result"
    }
   ],
   "source": [
    "Entry.BinOp.ADD"
   ]
  },
  {
   "cell_type": "code",
   "execution_count": 3,
   "metadata": {},
   "outputs": [
    {
     "data": {
      "text/plain": [
       "LPAREN"
      ]
     },
     "execution_count": 3,
     "metadata": {},
     "output_type": "execute_result"
    }
   ],
   "source": [
    "Entry.Delim.LPAREN"
   ]
  },
  {
   "cell_type": "code",
   "execution_count": 4,
   "metadata": {},
   "outputs": [
    {
     "data": {
      "text/plain": [
       "Value[number=43]"
      ]
     },
     "execution_count": 4,
     "metadata": {},
     "output_type": "execute_result"
    }
   ],
   "source": [
    "new Entry.Value(43)"
   ]
  },
  {
   "cell_type": "code",
   "execution_count": 5,
   "metadata": {},
   "outputs": [
    {
     "data": {
      "text/plain": [
       "+"
      ]
     },
     "execution_count": 5,
     "metadata": {},
     "output_type": "execute_result"
    }
   ],
   "source": [
    "Entry.asString( Entry.BinOp.ADD )"
   ]
  },
  {
   "cell_type": "code",
   "execution_count": 6,
   "metadata": {},
   "outputs": [
    {
     "data": {
      "text/plain": [
       "43"
      ]
     },
     "execution_count": 6,
     "metadata": {},
     "output_type": "execute_result"
    }
   ],
   "source": [
    "Entry.asString( new Entry.Value(43) )"
   ]
  },
  {
   "cell_type": "code",
   "execution_count": 7,
   "metadata": {},
   "outputs": [
    {
     "name": "stdout",
     "output_type": "stream",
     "text": [
      "[Value[number=43], MULT, LPAREN, Value[number=56], ADD, Value[number=43], RPAREN]\n"
     ]
    },
    {
     "data": {
      "text/plain": [
       "43 * ( 56 + 43 )"
      ]
     },
     "execution_count": 7,
     "metadata": {},
     "output_type": "execute_result"
    }
   ],
   "source": [
    "import java.util.stream.*;\n",
    "\n",
    "var v1 = new Entry.Value(43);\n",
    "var v2 = new Entry.Value(56);\n",
    "var es = List.of(v1, Entry.BinOp.MULT, Entry.Delim.LPAREN, v2, Entry.BinOp.ADD, v1, Entry.Delim.RPAREN );\n",
    "\n",
    "System.out.println(es);\n",
    "\n",
    "es.stream().map(Entry::asString).collect(Collectors.joining(\" \"))"
   ]
  },
  {
   "cell_type": "code",
   "execution_count": 8,
   "metadata": {},
   "outputs": [],
   "source": [
    "record Pair<A,B>(A first, B second) { } // because Java standard library does not provide pair data type\n",
    "\n",
    "interface ICalculator {\n",
    "    // Adds an entriy (either BinOp, Delim, or Vaule) at the end.\n",
    "    // Appends legal entry input and return true (returns false for illegal input without adding it).\n",
    "    // The parameter `e` is required to be non-null.\n",
    "    // Further details are discussed in the homework assignment instruction above.\n",
    "    boolean appendEntry(Entry e);\n",
    "    \n",
    "    // Removes the last added entry; The ◄(x or DEL) button\n",
    "    // Removes the last input entry and returns true (returns false if not possible)\n",
    "    boolean removeEntry();\n",
    "    \n",
    "    Entry.Value currValue(); // Currently calculated value from the current entries (defaults to null).\n",
    "    Entry.Value lastValue(); // Last calculated value (defaults to 0).\n",
    "    \n",
    "    List<Entry> entries();  // Get current entries.\n",
    "    List< Pair<List<Entry>, Entry.Value> > history();  // History of calculations.\n",
    "    \n",
    "    void clearEntries(); // Clear the current entries; AC button.\n",
    "    void clearHistory(); // Clear history.\n",
    "    \n",
    "    /////////////////////////////////////////\n",
    "    // 아래는 실습 이후에 추가된 메소드 \n",
    "    /////////////////////////////////////////\n",
    "    \n",
    "    // The = button.\n",
    "    // Adds the current entries and its calculated current value as a pair into history,\n",
    "    // when the current entries form a valid expression to calculate the current vaule,\n",
    "    // and clears the current entries and resets the current value.\n",
    "    // Returns the calculated result value for adding valid form of entries and its result value.\n",
    "    // Returns null, without adding to the history, when the current entries do not form a valid expression.\n",
    "    Entry.Value calculate();\n",
    "}"
   ]
  },
  {
   "cell_type": "markdown",
   "metadata": {},
   "source": [
    "----\n",
    "참고자료: https://madplay.github.io/post/call-javascript-function-from-java-using-graalvm"
   ]
  },
  {
   "cell_type": "code",
   "execution_count": 9,
   "metadata": {},
   "outputs": [],
   "source": [
    "%maven org.graalvm.js:js:19.2.0.1\n",
    "%maven org.graalvm.js:js-scriptengine:19.2.0.1\n",
    "\n",
    "import org.graalvm.polyglot.*"
   ]
  },
  {
   "cell_type": "code",
   "execution_count": 10,
   "metadata": {},
   "outputs": [
    {
     "name": "stdout",
     "output_type": "stream",
     "text": [
      "43\n",
      "true\n",
      "class org.graalvm.polyglot.Value\n"
     ]
    }
   ],
   "source": [
    "try (Context context = Context.create(\"js\")) {\n",
    "\n",
    "    var value = context.eval(\"js\", \"3 + 4 * 10\");\n",
    "    System.out.println( value );\n",
    "    System.out.println( value.toString().equals(\"43\") );\n",
    "    System.out.println( value.getClass() ); // 7\n",
    "\n",
    "} catch (Exception e) {\n",
    "    System.err.println(e);\n",
    "}"
   ]
  },
  {
   "cell_type": "code",
   "execution_count": 11,
   "metadata": {},
   "outputs": [
    {
     "name": "stdout",
     "output_type": "stream",
     "text": [
      "43\n",
      "true\n",
      "class org.graalvm.polyglot.Value\n"
     ]
    },
    {
     "data": {
      "text/plain": [
       "true"
      ]
     },
     "execution_count": 11,
     "metadata": {},
     "output_type": "execute_result"
    }
   ],
   "source": [
    "Context context = Context.create(\"js\"); // 그냥 항상 성공한다고 가정하면 이렇게 써도 ...\n",
    "\n",
    "var value = context.eval(\"js\", \"3 + 4 * 10\");\n",
    "System.out.println( value );\n",
    "System.out.println( value.toString().equals(\"43\") );\n",
    "System.out.println( value.getClass() );\n",
    "\n",
    "int vi = value.asInt();\n",
    "vi == 43"
   ]
  },
  {
   "cell_type": "code",
   "execution_count": 12,
   "metadata": {},
   "outputs": [
    {
     "name": "stderr",
     "output_type": "stream",
     "text": [
      "org.graalvm.polyglot.PolyglotException: SyntaxError: Unnamed:1:8 Expected an operand but found eof\n",
      "3 + 4 * \n",
      "        ^\n",
      "\n"
     ]
    },
    {
     "name": "stdout",
     "output_type": "stream",
     "text": [
      "이걸 적당히 잘 처리하면 유용하게 활용 가능\n"
     ]
    }
   ],
   "source": [
    "Context context = Context.create(\"js\");\n",
    "\n",
    "try {\n",
    "    Value value = context.eval(\"js\", \"3 + 4 * \"); // 사실 여기서 문제가 발생할 수도\n",
    "    System.out.println( value );\n",
    "    System.out.println( value.toString().equals(\"43\") );\n",
    "    System.out.println( value.getClass() );\n",
    "} catch (Exception e) {\n",
    "    System.err.println(e);\n",
    "    System.out.println(\"이걸 적당히 잘 처리하면 유용하게 활용 가능\");\n",
    "}"
   ]
  },
  {
   "cell_type": "markdown",
   "metadata": {},
   "source": [
    "----"
   ]
  },
  {
   "cell_type": "code",
   "execution_count": 13,
   "metadata": {},
   "outputs": [],
   "source": [
    "// ... class Calculator implements ICalculator ..."
   ]
  },
  {
   "cell_type": "code",
   "execution_count": null,
   "metadata": {},
   "outputs": [],
   "source": []
  }
 ],
 "metadata": {
  "kernelspec": {
   "display_name": "Java",
   "language": "java",
   "name": "java"
  },
  "language_info": {
   "codemirror_mode": "java",
   "file_extension": ".jshell",
   "mimetype": "text/x-java-source",
   "name": "Java",
   "pygments_lexer": "java",
   "version": "15+36-1562"
  }
 },
 "nbformat": 4,
 "nbformat_minor": 4
}
