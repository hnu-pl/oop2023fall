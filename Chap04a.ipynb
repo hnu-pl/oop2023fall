{
 "cells": [
  {
   "cell_type": "markdown",
   "id": "cabf41b1-d71a-4249-8042-85f388e9e4bf",
   "metadata": {
    "tags": []
   },
   "source": [
    "# 04. Classes - Advanced Concepts (Part A)"
   ]
  },
  {
   "cell_type": "markdown",
   "id": "1838dc54-c2f5-43a3-85ac-70651fddd8d8",
   "metadata": {},
   "source": [
    "## Enum classes"
   ]
  },
  {
   "cell_type": "code",
   "execution_count": 38,
   "id": "8a0450d6-bc1c-44b4-ac4d-e8a22d2cd492",
   "metadata": {
    "tags": []
   },
   "outputs": [],
   "source": [
    "enum class Days { SUN, MON, TUE, WED, THR, FRI, SAT }"
   ]
  },
  {
   "cell_type": "code",
   "execution_count": 39,
   "id": "fc701150-afd0-4a04-9f48-c32a6efdd459",
   "metadata": {
    "tags": []
   },
   "outputs": [
    {
     "data": {
      "text/plain": [
       "weekend"
      ]
     },
     "execution_count": 39,
     "metadata": {},
     "output_type": "execute_result"
    }
   ],
   "source": [
    "val day: Days = Days.SUN // 요일을 바꾸어 가면서 실행해 보라\n",
    "\n",
    "when (day) {\n",
    "    Days.MON, Days.TUE, Days.WED, Days.THR, Days.FRI -> \"weekday\"\n",
    "    Days.SAT, Days.SUN                               -> \"weekend\"\n",
    "}"
   ]
  },
  {
   "cell_type": "code",
   "execution_count": 41,
   "id": "60ea6786-b827-4878-87fb-330db72a93ff",
   "metadata": {
    "tags": []
   },
   "outputs": [
    {
     "name": "stderr",
     "output_type": "stream",
     "text": [
      "Line_41.jupyter.kts (5:1 - 5) 'when' expression must be exhaustive, add necessary 'MON', 'TUE', 'WED', 'THR', 'FRI' branches or 'else' branch instead\n",
      "Line_41.jupyter.kts (6:32 - 41) The expression is unused\n",
      "Line_41.jupyter.kts (7:32 - 41) The expression is unused"
     ]
    }
   ],
   "source": [
    "val day: Days = Days.SUN // 요일을 바꾸어 가면서 실행해 보라\n",
    "\n",
    "// 하나하나 나열하는 것이 아니라 range 등을 활용하게 되면 자동으로 모든 경우를 다\n",
    "// 고려했는지 코틀린 컴파일러가 알아차리지 못하기 때문에 마지막에 else 처리를 해야\n",
    "when (day) {\n",
    "    in Days.MON .. Days.FRI -> \"weekday\"\n",
    "    Days.SAT, Days.SUN      -> \"weekend\"\n",
    "    // else -> \"impossible Days value\" // 주석을 풀면 오류가 없어질 것이다\n",
    "}"
   ]
  },
  {
   "cell_type": "code",
   "execution_count": 48,
   "id": "bb9b481c-3592-469e-b2a7-574abb5e20ce",
   "metadata": {
    "tags": []
   },
   "outputs": [
    {
     "name": "stdout",
     "output_type": "stream",
     "text": [
      "SUN\n",
      "0\n",
      "MON\n",
      "1\n"
     ]
    }
   ],
   "source": [
    "println( Days.SUN.name ) // enum 상수를 나타내는 문자열 출력\n",
    "println( Days.SUN.ordinal ) // enum 상수에 부여된 정수값 출력\n",
    "\n",
    "println( Days.MON.name ) // enum 상수를 나타내는 문자열 출력\n",
    "println( Days.MON.ordinal ) // enum 상수에 부여된 정수값 출력"
   ]
  },
  {
   "cell_type": "code",
   "execution_count": 51,
   "id": "fa1ec06b-618a-4943-927b-e7f964587d02",
   "metadata": {
    "tags": []
   },
   "outputs": [
    {
     "name": "stdout",
     "output_type": "stream",
     "text": [
      "MON\n",
      "TUE\n"
     ]
    }
   ],
   "source": [
    "println( Days.MON ) // Days.MON.name 의 내용으로 출력됨\n",
    "println( Days.TUE ) // Days.TUE.name 의 내용으로 출력됨"
   ]
  },
  {
   "cell_type": "code",
   "execution_count": 59,
   "id": "ed2d57c7-d810-4b7b-96d1-26ee9938748e",
   "metadata": {
    "tags": []
   },
   "outputs": [
    {
     "data": {
      "text/plain": [
       "WED"
      ]
     },
     "execution_count": 59,
     "metadata": {},
     "output_type": "execute_result"
    }
   ],
   "source": [
    "Days.valueOf(\"WED\") // 문자열을 enum 값으로 변환"
   ]
  },
  {
   "cell_type": "code",
   "execution_count": 60,
   "id": "dfeee740-4867-488e-a7e2-17533dff793e",
   "metadata": {
    "tags": []
   },
   "outputs": [
    {
     "data": {
      "text/plain": [
       "true"
      ]
     },
     "execution_count": 60,
     "metadata": {},
     "output_type": "execute_result"
    }
   ],
   "source": [
    "Days.valueOf(\"WED\") == Days.WED"
   ]
  },
  {
   "cell_type": "code",
   "execution_count": 42,
   "id": "c2b17975-47fb-4ed9-bbe6-f525c1e5e786",
   "metadata": {
    "tags": []
   },
   "outputs": [
    {
     "data": {
      "text/plain": [
       "[SUN, MON, TUE, WED, THR, FRI, SAT]"
      ]
     },
     "execution_count": 42,
     "metadata": {},
     "output_type": "execute_result"
    }
   ],
   "source": [
    "// 모든 enum 상수를 차례로 나열한 배열\n",
    "Days.values() // 1.9 이전까지는 이렇게\n",
    "// Days.entries // 1.9 이상부터는 이렇게"
   ]
  },
  {
   "cell_type": "code",
   "execution_count": 64,
   "id": "2c935265-b656-4730-8d55-6b9aaff2bc36",
   "metadata": {
    "tags": []
   },
   "outputs": [
    {
     "name": "stdout",
     "output_type": "stream",
     "text": [
      "ordinal value of SUN is 0\n",
      "ordinal value of MON is 1\n",
      "ordinal value of TUE is 2\n",
      "ordinal value of WED is 3\n",
      "ordinal value of THR is 4\n",
      "ordinal value of FRI is 5\n",
      "ordinal value of SAT is 6\n"
     ]
    }
   ],
   "source": [
    "// for ( d in Days.entries ) { // 1.9 이상부터는 이렇게\n",
    "for ( d in Days.values() ) {\n",
    "    val nm: String = d.name\n",
    "    val ord: Int   = d.ordinal\n",
    "    println(\"ordinal value of $nm is $ord\")\n",
    "}"
   ]
  },
  {
   "cell_type": "code",
   "execution_count": 65,
   "id": "a7e519a9-3eaf-4afa-9ec0-e42981ae4c0d",
   "metadata": {
    "tags": []
   },
   "outputs": [],
   "source": [
    "// 생성자를 제공하는 enum 클래스 선언\n",
    "enum class MyDays(val korean: String) {\n",
    "    SUN(\"일\"), MON(\"월\"), TUE(\"화\"), WED(\"수\"), THR(\"목\"), FRI(\"금\"), SAT(\"토\")\n",
    "}"
   ]
  },
  {
   "cell_type": "code",
   "execution_count": 69,
   "id": "ebc99f64-5e95-46bf-a576-c3d18b27fdff",
   "metadata": {
    "tags": []
   },
   "outputs": [
    {
     "name": "stdout",
     "output_type": "stream",
     "text": [
      "Korean representation of SUN is 일\n",
      "Korean representation of MON is 월\n",
      "Korean representation of TUE is 화\n",
      "Korean representation of WED is 수\n",
      "Korean representation of THR is 목\n",
      "Korean representation of FRI is 금\n",
      "Korean representation of SAT is 토\n"
     ]
    }
   ],
   "source": [
    "// for ( d in MyDays.entries ) { // 1.9 이상부터는 이렇게\n",
    "for ( d in MyDays.values() ) {\n",
    "    println(\"Korean representation of $d is ${d.korean}\")\n",
    "}"
   ]
  },
  {
   "cell_type": "code",
   "execution_count": null,
   "id": "0f103cf1-eb87-4063-a0aa-5bd4353d94ee",
   "metadata": {},
   "outputs": [],
   "source": []
  }
 ],
 "metadata": {
  "kernelspec": {
   "display_name": "Kotlin",
   "language": "kotlin",
   "name": "kotlin"
  },
  "language_info": {
   "codemirror_mode": "text/x-kotlin",
   "file_extension": ".kt",
   "mimetype": "text/x-kotlin",
   "name": "kotlin",
   "nbconvert_exporter": "",
   "pygments_lexer": "kotlin",
   "version": "1.8.20-Beta"
  }
 },
 "nbformat": 4,
 "nbformat_minor": 5
}
