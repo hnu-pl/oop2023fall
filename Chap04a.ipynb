{
 "cells": [
  {
   "cell_type": "markdown",
   "id": "cabf41b1-d71a-4249-8042-85f388e9e4bf",
   "metadata": {
    "tags": []
   },
   "source": [
    "# 04. Classes - Advanced Concepts (Part A)"
   ]
  },
  {
   "cell_type": "markdown",
   "id": "1838dc54-c2f5-43a3-85ac-70651fddd8d8",
   "metadata": {},
   "source": [
    "## Enum classes"
   ]
  },
  {
   "cell_type": "code",
   "execution_count": 1,
   "id": "8a0450d6-bc1c-44b4-ac4d-e8a22d2cd492",
   "metadata": {
    "tags": []
   },
   "outputs": [],
   "source": [
    "enum class Days { SUN, MON, TUE, WED, THR, FRI, SAT }"
   ]
  },
  {
   "cell_type": "code",
   "execution_count": 2,
   "id": "fc701150-afd0-4a04-9f48-c32a6efdd459",
   "metadata": {
    "tags": []
   },
   "outputs": [
    {
     "data": {
      "text/plain": [
       "weekend"
      ]
     },
     "execution_count": 2,
     "metadata": {},
     "output_type": "execute_result"
    }
   ],
   "source": [
    "val day: Days = Days.SUN // 요일을 바꾸어 가면서 실행해 보라\n",
    "\n",
    "when (day) {\n",
    "    Days.MON, Days.TUE, Days.WED, Days.THR, Days.FRI -> \"weekday\"\n",
    "    Days.SAT, Days.SUN                               -> \"weekend\"\n",
    "}"
   ]
  },
  {
   "cell_type": "code",
   "execution_count": 3,
   "id": "60ea6786-b827-4878-87fb-330db72a93ff",
   "metadata": {
    "tags": []
   },
   "outputs": [
    {
     "name": "stderr",
     "output_type": "stream",
     "text": [
      "Line_2.jupyter.kts (5:1 - 5) 'when' expression must be exhaustive, add necessary 'MON', 'TUE', 'WED', 'THR', 'FRI' branches or 'else' branch instead\n",
      "Line_2.jupyter.kts (6:32 - 41) The expression is unused\n",
      "Line_2.jupyter.kts (7:32 - 41) The expression is unused"
     ]
    }
   ],
   "source": [
    "val day: Days = Days.SUN // 요일을 바꾸어 가면서 실행해 보라\n",
    "\n",
    "// 하나하나 나열하는 것이 아니라 range 등을 활용하게 되면 자동으로 모든 경우를 다\n",
    "// 고려했는지 코틀린 컴파일러가 알아차리지 못하기 때문에 마지막에 else 처리를 해야\n",
    "when (day) {\n",
    "    in Days.MON .. Days.FRI -> \"weekday\"\n",
    "    Days.SAT, Days.SUN      -> \"weekend\"\n",
    "    // else -> \"impossible Days value\" // 주석을 풀면 오류가 없어질 것이다\n",
    "}"
   ]
  },
  {
   "cell_type": "code",
   "execution_count": 4,
   "id": "bb9b481c-3592-469e-b2a7-574abb5e20ce",
   "metadata": {
    "tags": []
   },
   "outputs": [
    {
     "name": "stdout",
     "output_type": "stream",
     "text": [
      "SUN\n",
      "0\n",
      "MON\n",
      "1\n"
     ]
    }
   ],
   "source": [
    "println( Days.SUN.name ) // enum 상수를 나타내는 문자열 출력\n",
    "println( Days.SUN.ordinal ) // enum 상수에 부여된 정수값 출력\n",
    "\n",
    "println( Days.MON.name ) // enum 상수를 나타내는 문자열 출력\n",
    "println( Days.MON.ordinal ) // enum 상수에 부여된 정수값 출력"
   ]
  },
  {
   "cell_type": "code",
   "execution_count": 5,
   "id": "fa1ec06b-618a-4943-927b-e7f964587d02",
   "metadata": {
    "tags": []
   },
   "outputs": [
    {
     "name": "stdout",
     "output_type": "stream",
     "text": [
      "MON\n",
      "TUE\n"
     ]
    }
   ],
   "source": [
    "println( Days.MON ) // Days.MON.name 의 내용으로 출력됨\n",
    "println( Days.TUE ) // Days.TUE.name 의 내용으로 출력됨"
   ]
  },
  {
   "cell_type": "code",
   "execution_count": 6,
   "id": "ed2d57c7-d810-4b7b-96d1-26ee9938748e",
   "metadata": {
    "tags": []
   },
   "outputs": [
    {
     "data": {
      "text/plain": [
       "WED"
      ]
     },
     "execution_count": 6,
     "metadata": {},
     "output_type": "execute_result"
    }
   ],
   "source": [
    "Days.valueOf(\"WED\") // 문자열을 enum 값으로 변환"
   ]
  },
  {
   "cell_type": "code",
   "execution_count": 7,
   "id": "dfeee740-4867-488e-a7e2-17533dff793e",
   "metadata": {
    "tags": []
   },
   "outputs": [
    {
     "data": {
      "text/plain": [
       "true"
      ]
     },
     "execution_count": 7,
     "metadata": {},
     "output_type": "execute_result"
    }
   ],
   "source": [
    "Days.valueOf(\"WED\") == Days.WED"
   ]
  },
  {
   "cell_type": "code",
   "execution_count": 8,
   "id": "c2b17975-47fb-4ed9-bbe6-f525c1e5e786",
   "metadata": {
    "tags": []
   },
   "outputs": [
    {
     "data": {
      "text/plain": [
       "[SUN, MON, TUE, WED, THR, FRI, SAT]"
      ]
     },
     "execution_count": 8,
     "metadata": {},
     "output_type": "execute_result"
    }
   ],
   "source": [
    "// 모든 enum 상수를 차례로 나열한 배열\n",
    "Days.values() // 1.9 이전까지는 이렇게\n",
    "// Days.entries // 1.9 이상부터는 이렇게"
   ]
  },
  {
   "cell_type": "code",
   "execution_count": 9,
   "id": "2c935265-b656-4730-8d55-6b9aaff2bc36",
   "metadata": {
    "tags": []
   },
   "outputs": [
    {
     "name": "stdout",
     "output_type": "stream",
     "text": [
      "ordinal value of SUN is 0\n",
      "ordinal value of MON is 1\n",
      "ordinal value of TUE is 2\n",
      "ordinal value of WED is 3\n",
      "ordinal value of THR is 4\n",
      "ordinal value of FRI is 5\n",
      "ordinal value of SAT is 6\n"
     ]
    }
   ],
   "source": [
    "// for ( d in Days.entries ) { // 1.9 이상부터는 이렇게\n",
    "for ( d in Days.values() ) {\n",
    "    val nm: String = d.name\n",
    "    val ord: Int   = d.ordinal\n",
    "    println(\"ordinal value of $nm is $ord\")\n",
    "}"
   ]
  },
  {
   "cell_type": "markdown",
   "id": "24b9ca99-5a84-4f6c-98e7-8ba6315bbd48",
   "metadata": {},
   "source": [
    "### Enum class with a constructor"
   ]
  },
  {
   "cell_type": "code",
   "execution_count": 10,
   "id": "a7e519a9-3eaf-4afa-9ec0-e42981ae4c0d",
   "metadata": {
    "tags": []
   },
   "outputs": [],
   "source": [
    "enum class MyDays(val korean: String) { // name이나  ordinal과 같이 enum class에\n",
    "    SUN(\"일\"), MON(\"월\"), TUE(\"화\"), WED(\"수\"), THR(\"목\"), FRI(\"금\"), SAT(\"토\")\n",
    "}"
   ]
  },
  {
   "cell_type": "code",
   "execution_count": 11,
   "id": "ebc99f64-5e95-46bf-a576-c3d18b27fdff",
   "metadata": {
    "tags": []
   },
   "outputs": [
    {
     "name": "stdout",
     "output_type": "stream",
     "text": [
      "Korean representation of SUN is 일\n",
      "Korean representation of MON is 월\n",
      "Korean representation of TUE is 화\n",
      "Korean representation of WED is 수\n",
      "Korean representation of THR is 목\n",
      "Korean representation of FRI is 금\n",
      "Korean representation of SAT is 토\n"
     ]
    }
   ],
   "source": [
    "// for ( d in MyDays.entries ) { // 1.9 이상부터는 이렇게\n",
    "for ( d in MyDays.values() ) {\n",
    "    println(\"Korean representation of $d is ${d.korean}\")\n",
    "}"
   ]
  },
  {
   "cell_type": "markdown",
   "id": "4648f473-800e-4bb6-af44-4eb279dad83e",
   "metadata": {
    "tags": []
   },
   "source": [
    "### Enum class and functions"
   ]
  },
  {
   "cell_type": "code",
   "execution_count": 12,
   "id": "0f103cf1-eb87-4063-a0aa-5bd4353d94ee",
   "metadata": {
    "tags": []
   },
   "outputs": [],
   "source": [
    "enum class MyDays(val korean: String) { // name이나  ordinal과 같이 enum class에\n",
    "    SUN(\"일\"), MON(\"월\"), TUE(\"화\"), WED(\"수\"), THR(\"목\"), FRI(\"금\"), SAT(\"토\"); // 여기 세미콜론 꼭 필요!!!\n",
    "    \n",
    "    fun getKorean(long: Boolean = false) = if (long) korean+\"요일\" else korean\n",
    "}"
   ]
  },
  {
   "cell_type": "code",
   "execution_count": 13,
   "id": "3cf17370-55ec-4752-b4bb-ee14a7844d19",
   "metadata": {
    "tags": []
   },
   "outputs": [
    {
     "data": {
      "text/plain": [
       "목"
      ]
     },
     "execution_count": 13,
     "metadata": {},
     "output_type": "execute_result"
    }
   ],
   "source": [
    "MyDays.THR.getKorean()"
   ]
  },
  {
   "cell_type": "code",
   "execution_count": 14,
   "id": "91a6eefd-196e-4fc6-ad8f-2cebbb0cd856",
   "metadata": {
    "tags": []
   },
   "outputs": [
    {
     "data": {
      "text/plain": [
       "목요일"
      ]
     },
     "execution_count": 14,
     "metadata": {},
     "output_type": "execute_result"
    }
   ],
   "source": [
    "MyDays.THR.getKorean(long=true)"
   ]
  },
  {
   "cell_type": "markdown",
   "id": "1eb1c280-1730-4cfe-8d61-b78c929fa657",
   "metadata": {},
   "source": [
    "### The enum class and interfaces\n",
    "이 부분도 sealed class와 object를 알고 와서 다시 읽어보면 이해가 잘 될 것"
   ]
  },
  {
   "cell_type": "markdown",
   "id": "96d02464-6d44-4068-844a-8f63f83175ef",
   "metadata": {},
   "source": [
    "## Sealed classes\n",
    "enum class보다 일반적인 용도\n",
    "- enum class의 상수는 한정되어 있으며, 각각의 상수는 유일무이한 값이다.\n",
    "- sealed class의 하위 클래스의 개수는 한정되어 있지만 각각의 하위 클래스의 인스턴스는 여러 개일 수 있다.\n",
    "\n",
    "그러니까 enum 클래스는 크기 1인 원소 한개짜리 집합들만을 정해진 개수만큼 합집합한 경우에 해당\n",
    "\n",
    "앞의 예제에서 Days라는 enum class를 집합으로 해석하자면\n",
    "Days = {SUN} ∪ {MON} ∪ {TUE} ∪ {WED} ∪ {THR} ∪ {FRI} ∪ {SAT}\n",
    "\n",
    "sealed 클래스를 상속받는 하위 클래스가 일정 개수로 한정되지만 각각의 하위 클래스를 집합으로 본다면 다양한 크기의 집합이 가능\n",
    "\n",
    "`sealed` 클래스는 `abstract` 클래스의 특수한 형태다.\n",
    "\n",
    "그러니까 코틀린에는 두 가지 종류의 `abstract` 클래스가 있다고 생각하면 이해하기 편하다\n",
    "- `abstract open`(줄여 쓰면 `abstract`)\n",
    "  - 다른 곳에서 추가로 하위 클래스를 선언할 가능성을 열어놓음\n",
    "- `abstract sealed` (줄여 쓰면 `sealed`)으로 선언하면\n",
    "  - 다른 곳에서는 더 이상 하위 클래스 선언이 불가능하게 막아버림"
   ]
  },
  {
   "cell_type": "code",
   "execution_count": 15,
   "id": "8c62a40b-afdd-4d4c-96d2-8a3c9caa6c8f",
   "metadata": {
    "tags": []
   },
   "outputs": [],
   "source": [
    "abstract sealed class KSoldier {\n",
    "    class Army: KSoldier()\n",
    "    class Navy: KSoldier()\n",
    "    class AirForce: KSoldier()\n",
    "}"
   ]
  },
  {
   "cell_type": "markdown",
   "id": "4ece0845-2422-42b7-9fc6-cf29f7b59bed",
   "metadata": {},
   "source": [
    "위의 클래스 선언에서 `abstract sealed`를 `abstract open`으로 바꾸면 어떻게 되는지 시험해 보라"
   ]
  },
  {
   "cell_type": "code",
   "execution_count": 16,
   "id": "e7e6369d-e20e-49c5-a841-794e1edeab54",
   "metadata": {
    "tags": []
   },
   "outputs": [
    {
     "data": {
      "text/plain": [
       "해군 군인입니다"
      ]
     },
     "execution_count": 16,
     "metadata": {},
     "output_type": "execute_result"
    }
   ],
   "source": [
    "val s1: KSoldier = KSoldier.Navy()\n",
    "\n",
    "when (s1) {\n",
    "    is KSoldier.Army     -> \"육군 군인입니다\"\n",
    "    is KSoldier.Navy     -> \"해군 군인입니다\"\n",
    "    is KSoldier.AirForce -> \"공군 군인입니다\"\n",
    "    // else -> \"sealed라면 필요없는데 ...\"\n",
    "}"
   ]
  },
  {
   "cell_type": "markdown",
   "id": "c9bebeea-f552-45cf-bbbe-22302ab04c07",
   "metadata": {},
   "source": [
    "## Objects and companion objects\n",
    "어떤 클래스의 인스턴스가 유일무이한 경우 그런 클래스를 싱글턴 클래스 그리고 그런 객체를 싱글톤 객체라고 부른다.\n",
    "\n",
    "코틀린에서는 싱글톤 객체를 간단히 정의할 수 있는 `object` 키워드를 제공"
   ]
  },
  {
   "cell_type": "code",
   "execution_count": 17,
   "id": "ea87a4a7-ee3f-4172-ad8f-1071397bbeca",
   "metadata": {
    "tags": []
   },
   "outputs": [],
   "source": [
    "object MyButton { // 프로그램 전체에 딱 하나만 있는 버튼\n",
    "    var count = 0\n",
    "    fun click() = println(\"clicked ${++count} times\")\n",
    "}"
   ]
  },
  {
   "cell_type": "code",
   "execution_count": 18,
   "id": "60716f64-9929-443f-9f31-e94c0e801717",
   "metadata": {
    "tags": []
   },
   "outputs": [
    {
     "data": {
      "text/plain": [
       "true"
      ]
     },
     "execution_count": 18,
     "metadata": {},
     "output_type": "execute_result"
    }
   ],
   "source": [
    "// class 이름의 역할도 하면서 유일무이한 object를 참조하는 이름 역할도 함\n",
    "MyButton is MyButton "
   ]
  },
  {
   "cell_type": "code",
   "execution_count": 19,
   "id": "f72852b9-d8ea-4481-b07d-9a916dff5337",
   "metadata": {
    "tags": []
   },
   "outputs": [
    {
     "name": "stdout",
     "output_type": "stream",
     "text": [
      "clicked 1 times\n",
      "clicked 2 times\n",
      "clicked 3 times\n"
     ]
    }
   ],
   "source": [
    "MyButton.click()\n",
    "MyButton.click()\n",
    "MyButton.click()"
   ]
  },
  {
   "cell_type": "markdown",
   "id": "60293813-d83f-4d73-ade9-9d7233e2023e",
   "metadata": {},
   "source": [
    "### The object class with inheritance and interfaces\n",
    "\n",
    "이 책에서는 `object` 키워드로 싱글톤이 클래스로 역할을 할 때 object class라고 부르고 있는 것 같다.\n",
    "\n",
    "object로 선언하는 클래스도 일반 class와 마찬가지로 클래스 상속이나 인터페이스를 활용하며 선언할 수 있다.\n",
    "\n",
    "책에 있는 것보다 훨씬 더 좋은 예시는 enum class의 기능을 `sealed`와 `object`로 대신 표현해 보는 것이다."
   ]
  },
  {
   "cell_type": "code",
   "execution_count": 20,
   "id": "5c88db8b-68f8-4baa-b941-8a5954cb8c8e",
   "metadata": {
    "tags": []
   },
   "outputs": [],
   "source": [
    "// enum CardSuit { CLUB, DIAMOND, HEART, SPADE } 대신에 비슷하게 아래와 같이\n",
    "sealed class CardSuit {\n",
    "    object CLUB:    CardSuit() { override fun toString() = \"CLUB\"    }\n",
    "    object DIAMOND: CardSuit() { override fun toString() = \"DIAMOND\" }\n",
    "    object HEART:   CardSuit() { override fun toString() = \"HEART\" }\n",
    "    object SPADE:   CardSuit() { override fun toString() = \"SPADE\" }\n",
    "}"
   ]
  },
  {
   "cell_type": "code",
   "execution_count": 21,
   "id": "eb307e78-cbb2-4d6f-b8cd-5cd3a5496c23",
   "metadata": {
    "tags": []
   },
   "outputs": [
    {
     "data": {
      "text/plain": [
       "CLUB"
      ]
     },
     "execution_count": 21,
     "metadata": {},
     "output_type": "execute_result"
    }
   ],
   "source": [
    "CardSuit.CLUB"
   ]
  },
  {
   "cell_type": "code",
   "execution_count": 22,
   "id": "333f07b4-280a-4543-848d-afef499443bc",
   "metadata": {
    "tags": []
   },
   "outputs": [
    {
     "data": {
      "text/plain": [
       "true"
      ]
     },
     "execution_count": 22,
     "metadata": {},
     "output_type": "execute_result"
    }
   ],
   "source": [
    "CardSuit.CLUB is CardSuit // CLUB은 CardSuit 타입이다 (상위 클래스니까)"
   ]
  },
  {
   "cell_type": "code",
   "execution_count": 23,
   "id": "01adde3d-d80a-4f10-9cdc-4304c02d45de",
   "metadata": {
    "tags": []
   },
   "outputs": [
    {
     "data": {
      "text/plain": [
       "true"
      ]
     },
     "execution_count": 23,
     "metadata": {},
     "output_type": "execute_result"
    }
   ],
   "source": [
    "CardSuit.CLUB is CardSuit.CLUB // CLUB은 CLUB 타입이다"
   ]
  },
  {
   "cell_type": "code",
   "execution_count": 24,
   "id": "e65c5e8d-da1e-42bb-b2da-b18a35f1b521",
   "metadata": {
    "tags": []
   },
   "outputs": [
    {
     "data": {
      "text/plain": [
       "true"
      ]
     },
     "execution_count": 24,
     "metadata": {},
     "output_type": "execute_result"
    }
   ],
   "source": [
    "Days.SUN is Days"
   ]
  },
  {
   "cell_type": "code",
   "execution_count": 25,
   "id": "cc8e5c2d-a34e-4710-a7b8-b0f82c086aa3",
   "metadata": {
    "tags": []
   },
   "outputs": [
    {
     "name": "stderr",
     "output_type": "stream",
     "text": [
      "Line_24.jupyter.kts (1:13 - 21) 'is' over enum entry is not allowed, use comparison instead\n",
      "Line_24.jupyter.kts (1:18 - 21) Use of enum entry names as types is not allowed, use enum type instead"
     ]
    }
   ],
   "source": [
    "Days.SUN is Days.SUN // 진짜 enum 상수는 클래스 역할은 하지 못하는 등 세부적인 차이가 있기는 함"
   ]
  },
  {
   "cell_type": "markdown",
   "id": "36c737b3-a0df-4296-8caa-802fe3b9751e",
   "metadata": {},
   "source": [
    "### Companion objects\n",
    "클래스 안에 있는 오브젝트이지만 오브젝트 이름을 언급하지 않고 투명한듯 통과해서 클래스 이름만을 통해 속성/함수에 접근 가능\n",
    "\n",
    "Java의 경우 클래스 안에서 static으로 선언하는 클래스 변수 및 클래스 메소드에 해당하는 기능을 Kotlin에서 작성할 때 활용 가능\n",
    "\n",
    "Java의 클래스 변수/메소드와 차이점은 Kotlin의 companion object는 \n",
    "- class의 역할도 하므로 클래스 상속이나 인터페이스와 함께 선언 가능\n",
    "- 클래스 이름으로만 접근 가능하고 인스턴스를 통해서는 접근 불가능"
   ]
  },
  {
   "cell_type": "code",
   "execution_count": 26,
   "id": "59803f13-fc09-49f1-9ac3-10537a70b92a",
   "metadata": {
    "tags": []
   },
   "outputs": [],
   "source": [
    "class ObjVsCompanionObj {\n",
    "    object NotCompanion {\n",
    "        val prop = 1\n",
    "        init { println(\"initializing NotCompanion object\") }\n",
    "    }\n",
    "    companion object { // 기본적으로 이름은 Companion\n",
    "        val prop = 2\n",
    "        init { println(\"initializing Companion object\") }\n",
    "    }\n",
    "}"
   ]
  },
  {
   "cell_type": "code",
   "execution_count": 27,
   "id": "297a3ecc-df0a-4377-977b-a638f2d1021f",
   "metadata": {
    "tags": []
   },
   "outputs": [
    {
     "name": "stdout",
     "output_type": "stream",
     "text": [
      "initializing Companion object\n"
     ]
    }
   ],
   "source": [
    " // 클래스를 처음 사용할 때 자동적으로 초기화 (companion object를 직접 참조하지 않아도)\n",
    "val o1 = ObjVsCompanionObj()"
   ]
  },
  {
   "cell_type": "code",
   "execution_count": 28,
   "id": "f1bedc8a-8aaa-427c-b980-b12bfd200bd0",
   "metadata": {
    "tags": []
   },
   "outputs": [
    {
     "name": "stdout",
     "output_type": "stream",
     "text": [
      "initializing NotCompanion object\n"
     ]
    }
   ],
   "source": [
    "val o2 = ObjVsCompanionObj.NotCompanion // object를 처음 참조할 때 초기화"
   ]
  },
  {
   "cell_type": "code",
   "execution_count": 29,
   "id": "3834c2b2-27e6-45c8-b18c-8d3b0096bcd4",
   "metadata": {
    "tags": []
   },
   "outputs": [
    {
     "name": "stderr",
     "output_type": "stream",
     "text": [
      "Line_28.jupyter.kts (1:1 - 24) Unresolved reference: ObjectVsCompanionObject"
     ]
    }
   ],
   "source": [
    "ObjectVsCompanionObject.prop"
   ]
  },
  {
   "cell_type": "code",
   "execution_count": 30,
   "id": "b97c48f7-d02c-4e8e-9359-fd7972700726",
   "metadata": {
    "tags": []
   },
   "outputs": [
    {
     "name": "stderr",
     "output_type": "stream",
     "text": [
      "Line_29.jupyter.kts (1:1 - 24) Unresolved reference: ObjectVsCompanionObject"
     ]
    }
   ],
   "source": [
    "ObjectVsCompanionObject.Companion.prop // Companion은 생략 가능"
   ]
  },
  {
   "cell_type": "code",
   "execution_count": 31,
   "id": "5a1abf70-5c1f-4d00-ae9a-81ed13654b9d",
   "metadata": {
    "tags": []
   },
   "outputs": [
    {
     "name": "stderr",
     "output_type": "stream",
     "text": [
      "Line_30.jupyter.kts (1:4 - 8) Unresolved reference: prop"
     ]
    }
   ],
   "source": [
    "o1.prop // Java의 static과 속성/메소드와 달리 인스턴스를 통해서는 접근 불가"
   ]
  },
  {
   "cell_type": "code",
   "execution_count": 32,
   "id": "718c3645-872a-4dc6-9a06-5d4fae29cd5d",
   "metadata": {
    "tags": []
   },
   "outputs": [
    {
     "data": {
      "text/plain": [
       "1"
      ]
     },
     "execution_count": 32,
     "metadata": {},
     "output_type": "execute_result"
    }
   ],
   "source": [
    "ObjVsCompanionObj.NotCompanion.prop"
   ]
  },
  {
   "cell_type": "code",
   "execution_count": 33,
   "id": "b2095116-08d8-470c-b5d7-4c20446f2076",
   "metadata": {
    "tags": []
   },
   "outputs": [
    {
     "name": "stderr",
     "output_type": "stream",
     "text": [
      "Line_32.jupyter.kts (2:4 - 16) Nested object 'NotCompanion' accessed via instance reference"
     ]
    }
   ],
   "source": [
    "// 왜냐하면 원래부터 object 선언은 val이나 var같은 속성 선언이 아니라 클래스 선언의 역할을 하므로 인스턴스를 통해서는 접근 불가\n",
    "o1.NotCompanion.prop"
   ]
  },
  {
   "cell_type": "code",
   "execution_count": 34,
   "id": "0bde4bc0-f7e4-4fe1-bf9d-e80fe0fe6cc3",
   "metadata": {
    "tags": []
   },
   "outputs": [
    {
     "data": {
      "text/plain": [
       "1"
      ]
     },
     "execution_count": 34,
     "metadata": {},
     "output_type": "execute_result"
    }
   ],
   "source": [
    "ObjVsCompanionObj.NotCompanion.prop"
   ]
  },
  {
   "cell_type": "code",
   "execution_count": null,
   "id": "ddf9d4eb-aefc-43f4-bf0b-b5672ac5c40f",
   "metadata": {},
   "outputs": [],
   "source": [
    "// 1.9 부터는 data object가 있다고 한다!!!"
   ]
  }
 ],
 "metadata": {
  "kernelspec": {
   "display_name": "Kotlin",
   "language": "kotlin",
   "name": "kotlin"
  },
  "language_info": {
   "codemirror_mode": "text/x-kotlin",
   "file_extension": ".kt",
   "mimetype": "text/x-kotlin",
   "name": "kotlin",
   "nbconvert_exporter": "",
   "pygments_lexer": "kotlin",
   "version": "1.8.20-Beta"
  }
 },
 "nbformat": 4,
 "nbformat_minor": 5
}
