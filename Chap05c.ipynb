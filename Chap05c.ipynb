{
 "cells": [
  {
   "cell_type": "markdown",
   "id": "cabf41b1-d71a-4249-8042-85f388e9e4bf",
   "metadata": {
    "tags": []
   },
   "source": [
    "# 05. Data Collection, Iterators, and Filters (Part C)"
   ]
  },
  {
   "cell_type": "markdown",
   "id": "26da17d7-3c26-4ddc-840e-4e0714c556d5",
   "metadata": {
    "tags": []
   },
   "source": [
    "## Filters and collection functions"
   ]
  },
  {
   "cell_type": "markdown",
   "id": "f32f8bbd-cf02-49c8-975a-08ee887dae5d",
   "metadata": {},
   "source": [
    "### The `filter` function"
   ]
  },
  {
   "cell_type": "code",
   "execution_count": 1,
   "id": "d6f58c0c-01ef-449e-95c0-6a5a323dc112",
   "metadata": {
    "tags": []
   },
   "outputs": [],
   "source": [
    "val numbers = listOf(5,1,3,2,4,8,6,9,7)"
   ]
  },
  {
   "cell_type": "code",
   "execution_count": 2,
   "id": "5ec4d9c1-5b90-44b0-9b47-dbfd06190f34",
   "metadata": {
    "tags": []
   },
   "outputs": [
    {
     "data": {
      "text/plain": [
       "[5, 1, 3, 2, 4, 8, 6, 9, 7]"
      ]
     },
     "execution_count": 2,
     "metadata": {},
     "output_type": "execute_result"
    }
   ],
   "source": [
    "numbers"
   ]
  },
  {
   "cell_type": "code",
   "execution_count": 3,
   "id": "57652cf9-ee6f-40d9-9482-cb4a1c1f6b7d",
   "metadata": {
    "tags": []
   },
   "outputs": [
    {
     "data": {
      "text/plain": [
       "[8, 6, 9, 7]"
      ]
     },
     "execution_count": 3,
     "metadata": {},
     "output_type": "execute_result"
    }
   ],
   "source": [
    "numbers.filter { n -> n > 5 }"
   ]
  },
  {
   "cell_type": "code",
   "execution_count": 4,
   "id": "3fb48de9-700a-4769-bb9e-374570a1031d",
   "metadata": {
    "tags": []
   },
   "outputs": [
    {
     "data": {
      "text/plain": [
       "[8, 6, 9, 7]"
      ]
     },
     "execution_count": 4,
     "metadata": {},
     "output_type": "execute_result"
    }
   ],
   "source": [
    "numbers.filter { it > 5 }"
   ]
  },
  {
   "cell_type": "code",
   "execution_count": 5,
   "id": "4ee4cf20-9384-4ab0-9fd0-783d70fc6ec4",
   "metadata": {
    "tags": []
   },
   "outputs": [
    {
     "data": {
      "text/plain": [
       "fun kotlin.collections.Iterable<T>.filter((T) -> kotlin.Boolean): kotlin.collections.List<T>"
      ]
     },
     "execution_count": 5,
     "metadata": {},
     "output_type": "execute_result"
    }
   ],
   "source": [
    "numbers::filter"
   ]
  },
  {
   "cell_type": "markdown",
   "id": "4f2ba259-d16f-4c3d-b3de-a98ec3924d4a",
   "metadata": {},
   "source": [
    "### The `filterNot`, `filterNotNull`, `filterNotNull` functions\n",
    "책을 보며 스스로 학습"
   ]
  },
  {
   "cell_type": "code",
   "execution_count": 6,
   "id": "1f97c91d-09fb-48d3-91ad-39064377f98b",
   "metadata": {
    "tags": []
   },
   "outputs": [
    {
     "data": {
      "text/plain": [
       "fun kotlin.collections.Iterable<T>.filterNot((T) -> kotlin.Boolean): kotlin.collections.List<T>"
      ]
     },
     "execution_count": 6,
     "metadata": {},
     "output_type": "execute_result"
    }
   ],
   "source": [
    "numbers::filterNot"
   ]
  },
  {
   "cell_type": "code",
   "execution_count": 7,
   "id": "77d96878-9be0-411b-b0c5-df8058431e74",
   "metadata": {
    "tags": []
   },
   "outputs": [
    {
     "data": {
      "text/plain": [
       "fun kotlin.collections.Iterable<T?>.filterNotNull(): kotlin.collections.List<T>"
      ]
     },
     "execution_count": 7,
     "metadata": {},
     "output_type": "execute_result"
    }
   ],
   "source": [
    "numbers::filterNotNull"
   ]
  },
  {
   "cell_type": "code",
   "execution_count": 8,
   "id": "f0007bf8-43f8-49ba-ba56-172fe1b29021",
   "metadata": {
    "tags": []
   },
   "outputs": [
    {
     "name": "stderr",
     "output_type": "stream",
     "text": [
      "Line_7.jupyter.kts (1:10 - 26) Overload resolution ambiguity: \n",
      "public inline fun <reified R> Iterable<*>.filterIsInstance(): List<TypeVariable(R)> defined in kotlin.collections\n",
      "public fun <R> Iterable<*>.filterIsInstance(klass: Class<TypeVariable(R)>): List<TypeVariable(R)> defined in kotlin.collections"
     ]
    }
   ],
   "source": [
    "numbers::filterIsInstance"
   ]
  },
  {
   "cell_type": "markdown",
   "id": "fc44e796-5f99-42f0-80f4-b08a8dba113d",
   "metadata": {},
   "source": [
    "### The `slice` function"
   ]
  },
  {
   "cell_type": "code",
   "execution_count": 9,
   "id": "175d945e-efd4-464d-9474-5db45fa6f1ad",
   "metadata": {},
   "outputs": [
    {
     "data": {
      "text/plain": [
       "[SUN, MON, TUE, WED, THR, FRI, SAT]"
      ]
     },
     "execution_count": 9,
     "metadata": {},
     "output_type": "execute_result"
    }
   ],
   "source": [
    "enum class Days { SUN, MON, TUE, WED, THR, FRI, SAT }\n",
    "\n",
    "// val days: List<Days> = Days.entries // 1.9 이상이었다면 이렇게 ...\n",
    "val days: List<Days> = Days.values().toList()\n",
    "\n",
    "days"
   ]
  },
  {
   "cell_type": "code",
   "execution_count": 10,
   "id": "8535395a-1393-4b41-ac4f-968590741986",
   "metadata": {
    "tags": []
   },
   "outputs": [
    {
     "data": {
      "text/plain": [
       "[MON, WED, FRI]"
      ]
     },
     "execution_count": 10,
     "metadata": {},
     "output_type": "execute_result"
    }
   ],
   "source": [
    "days.slice( listOf(1,3,5) )"
   ]
  },
  {
   "cell_type": "markdown",
   "id": "27fced6f-1de2-454e-bf36-5c0a15ac7ce6",
   "metadata": {
    "tags": []
   },
   "source": [
    "days.slice(1..5)"
   ]
  },
  {
   "cell_type": "markdown",
   "id": "353159a9-95c3-467f-aa58-67c678a14fb7",
   "metadata": {},
   "source": [
    "### The `take` and `takeWhile` functions"
   ]
  },
  {
   "cell_type": "code",
   "execution_count": 11,
   "id": "b2ad3bfb-03fd-4ebc-bc79-510efd4b39b4",
   "metadata": {
    "tags": []
   },
   "outputs": [],
   "source": [
    "val numbers = listOf(2,4,6,7,8,9,10,12,13)"
   ]
  },
  {
   "cell_type": "code",
   "execution_count": 12,
   "id": "a4a64c8a-34b5-4f2f-b2f7-05e050c197a9",
   "metadata": {
    "tags": []
   },
   "outputs": [
    {
     "data": {
      "text/plain": [
       "[2, 4, 6, 7, 8]"
      ]
     },
     "execution_count": 12,
     "metadata": {},
     "output_type": "execute_result"
    }
   ],
   "source": [
    "numbers.take(5) // 앞에서 5개"
   ]
  },
  {
   "cell_type": "code",
   "execution_count": 13,
   "id": "d52f618b-8630-47b1-b262-026de913cb21",
   "metadata": {
    "tags": []
   },
   "outputs": [
    {
     "data": {
      "text/plain": [
       "[2, 4, 6]"
      ]
     },
     "execution_count": 13,
     "metadata": {},
     "output_type": "execute_result"
    }
   ],
   "source": [
    "// 맨 앞에서부터 연속적으로 짝수인 것들만 (즉, 짝수가 아닌 게 나타나면 끝)\n",
    "numbers.takeWhile { it % 2 == 0 }"
   ]
  },
  {
   "cell_type": "code",
   "execution_count": 14,
   "id": "2ff84a1b-d34e-48cb-a370-ff9734489c6f",
   "metadata": {
    "tags": []
   },
   "outputs": [
    {
     "data": {
      "text/plain": [
       "[2, 4, 6, 8, 10, 12]"
      ]
     },
     "execution_count": 14,
     "metadata": {},
     "output_type": "execute_result"
    }
   ],
   "source": [
    "numbers.filter { it % 2 == 0 } // takeWhile과 차이를 비교해 보라"
   ]
  },
  {
   "cell_type": "markdown",
   "id": "8c86a77b-3a64-43ba-a6e6-23540ac2d6b2",
   "metadata": {},
   "source": [
    "### The `takeLast` and `takeLastWhile` functions\n",
    "\n",
    "스스로 학습"
   ]
  },
  {
   "cell_type": "markdown",
   "id": "cfa8c670-f270-457e-b851-253f64ed1c9e",
   "metadata": {},
   "source": [
    "### The `drop` and `dropWhile` functions"
   ]
  },
  {
   "cell_type": "code",
   "execution_count": 15,
   "id": "8c1a827a-f08a-44b9-922a-32f671c3358c",
   "metadata": {
    "tags": []
   },
   "outputs": [
    {
     "data": {
      "text/plain": [
       "[2, 4, 6, 7, 8, 9, 10, 12, 13]"
      ]
     },
     "execution_count": 15,
     "metadata": {},
     "output_type": "execute_result"
    }
   ],
   "source": [
    "numbers"
   ]
  },
  {
   "cell_type": "code",
   "execution_count": 16,
   "id": "922d72ca-4c53-483e-85ec-d62a545054a8",
   "metadata": {
    "tags": []
   },
   "outputs": [
    {
     "data": {
      "text/plain": [
       "[9, 10, 12, 13]"
      ]
     },
     "execution_count": 16,
     "metadata": {},
     "output_type": "execute_result"
    }
   ],
   "source": [
    "numbers.drop(5) // 앞에서 5개를 뺀 나머지"
   ]
  },
  {
   "cell_type": "code",
   "execution_count": 17,
   "id": "582e7805-b12f-4228-b43f-410ec9192657",
   "metadata": {
    "tags": []
   },
   "outputs": [
    {
     "data": {
      "text/plain": [
       "[7, 8, 9, 10, 12, 13]"
      ]
     },
     "execution_count": 17,
     "metadata": {},
     "output_type": "execute_result"
    }
   ],
   "source": [
    "// 맨 앞에서부터 연속적으로 짝수인 것들만 버린 나머지 (즉, 처음 나타나는 짝수가 아닌 것부터 끝까지)\n",
    "numbers.dropWhile { it % 2 == 0 } "
   ]
  },
  {
   "cell_type": "markdown",
   "id": "d5806ad6-a936-4a77-b8d5-8689f22eec18",
   "metadata": {},
   "source": [
    "### The `dropLast` and `dropLastWhile` functions\n",
    "\n",
    "스스로 학습"
   ]
  },
  {
   "cell_type": "markdown",
   "id": "fb26f7ba-d63c-4a93-9c73-5cefb9548ce1",
   "metadata": {},
   "source": [
    "### The `fold` and `foldRight` functions"
   ]
  },
  {
   "cell_type": "code",
   "execution_count": 18,
   "id": "61cba342-6b3b-4ac4-aeb1-283905e91c93",
   "metadata": {
    "tags": []
   },
   "outputs": [
    {
     "data": {
      "text/plain": [
       "90"
      ]
     },
     "execution_count": 18,
     "metadata": {},
     "output_type": "execute_result"
    }
   ],
   "source": [
    "val ns = listOf(1, 2, 3, 4)\n",
    "val v0 = 100\n",
    "\n",
    "ns.fold(v0) { v, n -> v - n } // (((100 - 1) - 2) - 3) - 4"
   ]
  },
  {
   "cell_type": "code",
   "execution_count": 19,
   "id": "6cf4e646-7be5-4030-b8c7-9c5937f760b8",
   "metadata": {
    "tags": []
   },
   "outputs": [
    {
     "data": {
      "text/plain": [
       "98"
      ]
     },
     "execution_count": 19,
     "metadata": {},
     "output_type": "execute_result"
    }
   ],
   "source": [
    "val ns = listOf(1, 2, 3, 4)\n",
    "val v0 = 100\n",
    "\n",
    "ns.foldRight(v0) { n, v -> n - v } // 1 - (2 - (3 - (4 - 100)))"
   ]
  },
  {
   "cell_type": "code",
   "execution_count": 20,
   "id": "519a571c-29d8-4feb-9485-01ec4249b2e6",
   "metadata": {
    "tags": []
   },
   "outputs": [
    {
     "name": "stdout",
     "output_type": "stream",
     "text": [
      "100\n",
      "100\n"
     ]
    }
   ],
   "source": [
    "val nil = listOf<Int>() // empty list\n",
    "\n",
    "println( nil.fold(100)      { v, n -> v - n } )\n",
    "println( nil.foldRight(100) { n, v -> n - v } )"
   ]
  },
  {
   "cell_type": "markdown",
   "id": "5073ed1d-d8c4-470d-bd4c-c8acda819456",
   "metadata": {},
   "source": [
    "### The `reduce` and `reduceRight` functions\n",
    "스스로 학습"
   ]
  },
  {
   "cell_type": "code",
   "execution_count": 21,
   "id": "02029552-c232-45f2-8322-8c26bb9518c1",
   "metadata": {
    "tags": []
   },
   "outputs": [
    {
     "name": "stderr",
     "output_type": "stream",
     "text": [
      "Line_20.jupyter.kts (1:18 - 35) Type mismatch: inferred type is (Int, Int) -> Int but (Int, TypeVariable(S), TypeVariable(T)) -> TypeVariable(S) was expected\n",
      "Line_20.jupyter.kts (1:20 - 24) Expected 3 parameters of types Int, Int, Nothing"
     ]
    }
   ],
   "source": [
    "ns.reduceIndexed { v, n -> v - n }"
   ]
  },
  {
   "cell_type": "code",
   "execution_count": 22,
   "id": "5a5925be-5fbd-44fc-8b67-f7b99dc449a3",
   "metadata": {
    "tags": []
   },
   "outputs": [
    {
     "data": {
      "text/plain": [
       "-2"
      ]
     },
     "execution_count": 22,
     "metadata": {},
     "output_type": "execute_result"
    }
   ],
   "source": [
    "ns.reduceRight { v, n -> v - n }"
   ]
  },
  {
   "cell_type": "markdown",
   "id": "8975dce2-01e7-4a7f-9eb0-d55f127b4dac",
   "metadata": {
    "tags": []
   },
   "source": [
    "### The `reduceIndexed` and `reduceRightIndexed` functions\n",
    "스스로 학습"
   ]
  },
  {
   "cell_type": "code",
   "execution_count": 23,
   "id": "5ec75296-a129-4ca6-9a5c-4e53a39c5dcd",
   "metadata": {
    "tags": []
   },
   "outputs": [
    {
     "data": {
      "text/plain": [
       "fun kotlin.collections.Iterable<T>.reduceIndexed((index: kotlin.Int, acc: S, T) -> S): S"
      ]
     },
     "execution_count": 23,
     "metadata": {},
     "output_type": "execute_result"
    }
   ],
   "source": [
    "ns::reduceIndexed"
   ]
  },
  {
   "cell_type": "code",
   "execution_count": 24,
   "id": "06fbdb6e-125c-4a61-81e6-389871b5a257",
   "metadata": {
    "tags": []
   },
   "outputs": [
    {
     "data": {
      "text/plain": [
       "fun kotlin.collections.List<T>.reduceRightIndexed((index: kotlin.Int, T, acc: S) -> S): S"
      ]
     },
     "execution_count": 24,
     "metadata": {},
     "output_type": "execute_result"
    }
   ],
   "source": [
    "ns::reduceRightIndexed"
   ]
  },
  {
   "cell_type": "markdown",
   "id": "7cf4b090-21e6-44f9-be31-1715010e8d6b",
   "metadata": {},
   "source": [
    "### `foreach`, `foreachIndexed`, `onEach` functions\n",
    "스스로 학습"
   ]
  },
  {
   "cell_type": "markdown",
   "id": "61693e95-47d8-4e4d-b2ad-613e439fe97a",
   "metadata": {
    "tags": []
   },
   "source": [
    "### `min`, `minBy`, `max`, `maxBy` functions\n",
    "스스로 학습"
   ]
  }
 ],
 "metadata": {
  "kernelspec": {
   "display_name": "Kotlin",
   "language": "kotlin",
   "name": "kotlin"
  },
  "language_info": {
   "codemirror_mode": "text/x-kotlin",
   "file_extension": ".kt",
   "mimetype": "text/x-kotlin",
   "name": "kotlin",
   "nbconvert_exporter": "",
   "pygments_lexer": "kotlin",
   "version": "1.8.20"
  }
 },
 "nbformat": 4,
 "nbformat_minor": 5
}
