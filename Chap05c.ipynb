{
 "cells":[
  {
   "cell_type":"markdown",
   "source":[
    "# 05. Data Collection, Iterators, and Filters (Part C)"
   ],
   "attachments":{
    
   },
   "metadata":{
    "datalore":{
     "node_id":"cPh8hGYqZHo5KNuBktg87n",
     "type":"MD",
     "hide_input_from_viewers":false,
     "hide_output_from_viewers":false,
     "report_properties":{
      "rowId":"1SZvYOJKNcV8Mj0WUGYymB"
     }
    }
   }
  },
  {
   "cell_type":"markdown",
   "source":[
    "## Filters and collection functions"
   ],
   "attachments":{
    
   },
   "metadata":{
    "datalore":{
     "node_id":"uDe2acOFNNjhgUbVfmmo5o",
     "type":"MD",
     "hide_input_from_viewers":false,
     "hide_output_from_viewers":false,
     "report_properties":{
      "rowId":"hTaoyp7nuthAHVD5pyJIPV"
     }
    }
   }
  },
  {
   "cell_type":"code",
   "source":[
    "val numbers = listOf(5,1,3,2,4,8,6,9,7)"
   ],
   "execution_count":23,
   "outputs":[
    
   ],
   "metadata":{
    "datalore":{
     "node_id":"3wZjCZA88RQOBmW1X60Mvu",
     "type":"CODE",
     "hide_input_from_viewers":false,
     "hide_output_from_viewers":false,
     "report_properties":{
      "rowId":"uxn5etBkOzomRC9d1bcV7M"
     }
    }
   }
  },
  {
   "cell_type":"markdown",
   "source":[
    "## The `map` function"
   ],
   "attachments":{
    
   },
   "metadata":{
    "datalore":{
     "node_id":"mfauzQJLhP1gJMixxDGk3e",
     "type":"MD",
     "hide_input_from_viewers":true,
     "hide_output_from_viewers":true
    }
   }
  },
  {
   "cell_type":"code",
   "source":[
    "numbers.map { n -> n * 10 }"
   ],
   "execution_count":24,
   "outputs":[
    {
     "data":{
      "text\/plain":[
       "[50, 10, 30, 20, 40, 80, 60, 90, 70]"
      ]
     },
     "metadata":{
      
     },
     "output_type":"display_data"
    }
   ],
   "metadata":{
    "datalore":{
     "node_id":"9iEsYSOHUNCq7YLTBJY6wn",
     "type":"CODE",
     "hide_input_from_viewers":true,
     "hide_output_from_viewers":true
    }
   }
  },
  {
   "cell_type":"code",
   "source":[
    "numbers.map { it * 10 }"
   ],
   "execution_count":25,
   "outputs":[
    {
     "data":{
      "text\/plain":[
       "[50, 10, 30, 20, 40, 80, 60, 90, 70]"
      ]
     },
     "metadata":{
      
     },
     "output_type":"display_data"
    }
   ],
   "metadata":{
    "datalore":{
     "node_id":"5pRsfIH9Rhb5jOXaN5Ee8l",
     "type":"CODE",
     "hide_input_from_viewers":true,
     "hide_output_from_viewers":true
    }
   }
  },
  {
   "cell_type":"markdown",
   "source":[
    "### The `filter` function"
   ],
   "attachments":{
    
   },
   "metadata":{
    "datalore":{
     "node_id":"3W0Qg8O9NJneXru3mDzCxz",
     "type":"MD",
     "hide_input_from_viewers":false,
     "hide_output_from_viewers":false,
     "report_properties":{
      "rowId":"VebbDGhq8XVhYvEXUCe7Te"
     }
    }
   }
  },
  {
   "cell_type":"code",
   "source":[
    "numbers"
   ],
   "execution_count":2,
   "outputs":[
    {
     "data":{
      "text\/plain":[
       "[5, 1, 3, 2, 4, 8, 6, 9, 7]"
      ]
     },
     "metadata":{
      
     },
     "output_type":"display_data"
    }
   ],
   "metadata":{
    "datalore":{
     "node_id":"IrRasAhT2ph2n8HnImwr1r",
     "type":"CODE",
     "hide_input_from_viewers":false,
     "hide_output_from_viewers":false,
     "report_properties":{
      "rowId":"O7F0JoxX0DSuwAjXnec9FZ"
     }
    }
   }
  },
  {
   "cell_type":"code",
   "source":[
    "numbers.filter { n -> n > 5 }"
   ],
   "execution_count":4,
   "outputs":[
    {
     "data":{
      "text\/plain":[
       "[8, 6, 9, 7]"
      ]
     },
     "metadata":{
      
     },
     "output_type":"display_data"
    }
   ],
   "metadata":{
    "datalore":{
     "node_id":"ZmFVk3vEjgqf2mRZ83XCto",
     "type":"CODE",
     "hide_input_from_viewers":false,
     "hide_output_from_viewers":false,
     "report_properties":{
      "rowId":"WTQnoYzGGEDIEFhocQXB0W"
     }
    }
   }
  },
  {
   "cell_type":"code",
   "source":[
    "numbers.filter { it > 5 }"
   ],
   "execution_count":6,
   "outputs":[
    {
     "data":{
      "text\/plain":[
       "[8, 6, 9, 7]"
      ]
     },
     "metadata":{
      
     },
     "output_type":"display_data"
    }
   ],
   "metadata":{
    "datalore":{
     "node_id":"udRbGxmIHdwDCTLOhdfcqc",
     "type":"CODE",
     "hide_input_from_viewers":false,
     "hide_output_from_viewers":false,
     "report_properties":{
      "rowId":"M3Yns4PT2c6pDs4EMcowJ2"
     }
    }
   }
  },
  {
   "cell_type":"code",
   "source":[
    "numbers::filter"
   ],
   "execution_count":5,
   "outputs":[
    {
     "data":{
      "text\/plain":[
       "fun kotlin.collections.Iterable<T>.filter((T) -> kotlin.Boolean): kotlin.collections.List<T>"
      ]
     },
     "metadata":{
      
     },
     "output_type":"display_data"
    }
   ],
   "metadata":{
    "datalore":{
     "node_id":"1s5ZqHO9WPZ9xTchOcMr8N",
     "type":"CODE",
     "hide_input_from_viewers":false,
     "hide_output_from_viewers":false,
     "report_properties":{
      "rowId":"hZg3B8jL33DQJhT5QEN49C"
     }
    }
   }
  },
  {
   "cell_type":"markdown",
   "source":[
    "### The `filterNot`, `filterNotNull`, `filterNotNull` functions\n",
    "책을 보며 스스로 학습"
   ],
   "attachments":{
    
   },
   "metadata":{
    "datalore":{
     "node_id":"HGXIonMTqJ7wj42t6RLlPK",
     "type":"MD",
     "hide_input_from_viewers":false,
     "hide_output_from_viewers":false,
     "report_properties":{
      "rowId":"WwHidKMGL52HkciiSd3I80"
     }
    }
   }
  },
  {
   "cell_type":"code",
   "source":[
    "numbers::filterNot"
   ],
   "execution_count":6,
   "outputs":[
    {
     "data":{
      "text\/plain":[
       "fun kotlin.collections.Iterable<T>.filterNot((T) -> kotlin.Boolean): kotlin.collections.List<T>"
      ]
     },
     "metadata":{
      
     },
     "output_type":"display_data"
    }
   ],
   "metadata":{
    "datalore":{
     "node_id":"WkUydyL1iwn07opoPfSWny",
     "type":"CODE",
     "hide_input_from_viewers":false,
     "hide_output_from_viewers":false,
     "report_properties":{
      "rowId":"8Sux28pJduME8jXJTNehZV"
     }
    }
   }
  },
  {
   "cell_type":"code",
   "source":[
    "numbers::filterNotNull"
   ],
   "execution_count":7,
   "outputs":[
    {
     "data":{
      "text\/plain":[
       "fun kotlin.collections.Iterable<T?>.filterNotNull(): kotlin.collections.List<T>"
      ]
     },
     "metadata":{
      
     },
     "output_type":"display_data"
    }
   ],
   "metadata":{
    "datalore":{
     "node_id":"uruI9p0gqM6VJohT9AhdV5",
     "type":"CODE",
     "hide_input_from_viewers":false,
     "hide_output_from_viewers":false,
     "report_properties":{
      "rowId":"6sC6wWtV0WTbXbwaR4lzg9"
     }
    }
   }
  },
  {
   "cell_type":"code",
   "source":[
    "numbers::filterIsInstance"
   ],
   "execution_count":8,
   "outputs":[
    {
     "name":"stderr",
     "text":[
      "Line_7.jupyter.kts (1:10 - 26) Overload resolution ambiguity: \n",
      "public inline fun <reified R> Iterable<*>.filterIsInstance(): List<TypeVariable(R)> defined in kotlin.collections\n",
      "public fun <R> Iterable<*>.filterIsInstance(klass: Class<TypeVariable(R)>): List<TypeVariable(R)> defined in kotlin.collections"
     ],
     "output_type":"stream"
    }
   ],
   "metadata":{
    "datalore":{
     "node_id":"MCJKwVa2HzPvlR5Fgq4G2e",
     "type":"CODE",
     "hide_input_from_viewers":false,
     "hide_output_from_viewers":false,
     "report_properties":{
      "rowId":"grKM279SydITzUhpwDEcck"
     }
    }
   }
  },
  {
   "cell_type":"markdown",
   "source":[
    "### The `slice` function"
   ],
   "attachments":{
    
   },
   "metadata":{
    "datalore":{
     "node_id":"3A4ei0g0UX8GAn5M8Z6RIY",
     "type":"MD",
     "hide_input_from_viewers":false,
     "hide_output_from_viewers":false,
     "report_properties":{
      "rowId":"9Q9AJOJ6GUpKvZSnXaOZUk"
     }
    }
   }
  },
  {
   "cell_type":"code",
   "source":[
    "enum class Days { SUN, MON, TUE, WED, THR, FRI, SAT }\n",
    "\n",
    "\/\/ val days: List<Days> = Days.entries \/\/ 1.9 이상이었다면 이렇게 ...\n",
    "val days: List<Days> = Days.values().toList()\n",
    "\n",
    "days"
   ],
   "execution_count":7,
   "outputs":[
    {
     "data":{
      "text\/plain":[
       "[SUN, MON, TUE, WED, THR, FRI, SAT]"
      ]
     },
     "metadata":{
      
     },
     "output_type":"display_data"
    }
   ],
   "metadata":{
    "datalore":{
     "node_id":"CIhmIOJuiV4tx9GnW5KaNa",
     "type":"CODE",
     "hide_input_from_viewers":false,
     "hide_output_from_viewers":false,
     "report_properties":{
      "rowId":"HniuHqBZLKBMzvWF4fs9aQ"
     }
    }
   }
  },
  {
   "cell_type":"code",
   "source":[
    "days.slice( listOf(1,3,5) )"
   ],
   "execution_count":8,
   "outputs":[
    {
     "data":{
      "text\/plain":[
       "[MON, WED, FRI]"
      ]
     },
     "metadata":{
      
     },
     "output_type":"display_data"
    }
   ],
   "metadata":{
    "datalore":{
     "node_id":"i8kCExBMZE2SQknp7nhB1b",
     "type":"CODE",
     "hide_input_from_viewers":false,
     "hide_output_from_viewers":false,
     "report_properties":{
      "rowId":"uNJXwAsU5PxzSBThBGjfJU"
     }
    }
   }
  },
  {
   "cell_type":"code",
   "source":[
    "days.slice(1..5)"
   ],
   "execution_count":11,
   "outputs":[
    {
     "data":{
      "text\/plain":[
       "[MON, TUE, WED, THR, FRI]"
      ]
     },
     "metadata":{
      
     },
     "output_type":"display_data"
    }
   ],
   "metadata":{
    "datalore":{
     "node_id":"XFrqNUF9pIJbenGZuqdpFz",
     "type":"CODE",
     "hide_input_from_viewers":true,
     "hide_output_from_viewers":true
    }
   }
  },
  {
   "cell_type":"markdown",
   "source":[
    "### The `take` and `takeWhile` functions"
   ],
   "attachments":{
    
   },
   "metadata":{
    "datalore":{
     "node_id":"T5Zl5gmbibDyu4AySjrM5W",
     "type":"MD",
     "hide_input_from_viewers":false,
     "hide_output_from_viewers":false,
     "report_properties":{
      "rowId":"tMH0YOOVM8lk4HWwxS3mGA"
     }
    }
   }
  },
  {
   "cell_type":"code",
   "source":[
    "val numbers = listOf(2,4,6,7,8,9,10,12,13)"
   ],
   "execution_count":12,
   "outputs":[
    
   ],
   "metadata":{
    "datalore":{
     "node_id":"g0iYa8wNdiIuqjSZbr9JTL",
     "type":"CODE",
     "hide_input_from_viewers":false,
     "hide_output_from_viewers":false,
     "report_properties":{
      "rowId":"2o7V5WgfHarBWMXGlHGVmr"
     }
    }
   }
  },
  {
   "cell_type":"code",
   "source":[
    "numbers.take(5) \/\/ 앞에서 5개"
   ],
   "execution_count":13,
   "outputs":[
    {
     "data":{
      "text\/plain":[
       "[2, 4, 6, 7, 8]"
      ]
     },
     "metadata":{
      
     },
     "output_type":"display_data"
    }
   ],
   "metadata":{
    "datalore":{
     "node_id":"lbJtrXEFI2lmGtfDPFutez",
     "type":"CODE",
     "hide_input_from_viewers":false,
     "hide_output_from_viewers":false,
     "report_properties":{
      "rowId":"rdneJ2FCAfgJGGpp6uBC1t"
     }
    }
   }
  },
  {
   "cell_type":"code",
   "source":[
    "\/\/ 맨 앞에서부터 연속적으로 짝수인 것들만 (즉, 짝수가 아닌 게 나타나면 끝)\n",
    "numbers.takeWhile { it % 2 == 0 }"
   ],
   "execution_count":14,
   "outputs":[
    {
     "data":{
      "text\/plain":[
       "[2, 4, 6]"
      ]
     },
     "metadata":{
      
     },
     "output_type":"display_data"
    }
   ],
   "metadata":{
    "datalore":{
     "node_id":"aMzexnGmN1gYU3QR8Uukzu",
     "type":"CODE",
     "hide_input_from_viewers":false,
     "hide_output_from_viewers":false,
     "report_properties":{
      "rowId":"GipSiIzhszACglbZ7Xe2Dd"
     }
    }
   }
  },
  {
   "cell_type":"code",
   "source":[
    "numbers.filter { it % 2 == 0 } \/\/ takeWhile과 차이를 비교해 보라"
   ],
   "execution_count":15,
   "outputs":[
    {
     "data":{
      "text\/plain":[
       "[2, 4, 6, 8, 10, 12]"
      ]
     },
     "metadata":{
      
     },
     "output_type":"display_data"
    }
   ],
   "metadata":{
    "datalore":{
     "node_id":"KnNLdurBRUgBre1jIy9vd4",
     "type":"CODE",
     "hide_input_from_viewers":false,
     "hide_output_from_viewers":false,
     "report_properties":{
      "rowId":"LqXaZNbGcqHsH2NaKhVP4j"
     }
    }
   }
  },
  {
   "cell_type":"markdown",
   "source":[
    "### The `takeLast` and `takeLastWhile` functions\n",
    "\n",
    "스스로 학습"
   ],
   "attachments":{
    
   },
   "metadata":{
    "datalore":{
     "node_id":"uZX9mnlDIDpQ4mhXCKIrv1",
     "type":"MD",
     "hide_input_from_viewers":false,
     "hide_output_from_viewers":false,
     "report_properties":{
      "rowId":"3LrX2X1eO1a2tBYY9yf0nP"
     }
    }
   }
  },
  {
   "cell_type":"markdown",
   "source":[
    "### The `drop` and `dropWhile` functions"
   ],
   "attachments":{
    
   },
   "metadata":{
    "datalore":{
     "node_id":"n7KgWReYfLEBe7JCCAkXfc",
     "type":"MD",
     "hide_input_from_viewers":false,
     "hide_output_from_viewers":false,
     "report_properties":{
      "rowId":"JptGc0vnRTXWA8dYL2HOr5"
     }
    }
   }
  },
  {
   "cell_type":"code",
   "source":[
    "numbers"
   ],
   "execution_count":16,
   "outputs":[
    {
     "data":{
      "text\/plain":[
       "[2, 4, 6, 7, 8, 9, 10, 12, 13]"
      ]
     },
     "metadata":{
      
     },
     "output_type":"display_data"
    }
   ],
   "metadata":{
    "datalore":{
     "node_id":"iA6MDiLlOXGRFUMSlUH55X",
     "type":"CODE",
     "hide_input_from_viewers":false,
     "hide_output_from_viewers":false,
     "report_properties":{
      "rowId":"oY2vbiGsZ8FfqMfYqKMa5I"
     }
    }
   }
  },
  {
   "cell_type":"code",
   "source":[
    "numbers.drop(5) \/\/ 앞에서 5개를 뺀 나머지"
   ],
   "execution_count":17,
   "outputs":[
    {
     "data":{
      "text\/plain":[
       "[9, 10, 12, 13]"
      ]
     },
     "metadata":{
      
     },
     "output_type":"display_data"
    }
   ],
   "metadata":{
    "datalore":{
     "node_id":"wDTMyyux4bqOovNm2iUyoJ",
     "type":"CODE",
     "hide_input_from_viewers":false,
     "hide_output_from_viewers":false,
     "report_properties":{
      "rowId":"J8F6Kal7SwCqjSfRPdCLhR"
     }
    }
   }
  },
  {
   "cell_type":"code",
   "source":[
    "numbers"
   ],
   "execution_count":18,
   "outputs":[
    {
     "data":{
      "text\/plain":[
       "[2, 4, 6, 7, 8, 9, 10, 12, 13]"
      ]
     },
     "metadata":{
      
     },
     "output_type":"display_data"
    }
   ],
   "metadata":{
    "datalore":{
     "node_id":"GOSe65RkhtKtNFU4BQSuXu",
     "type":"CODE",
     "hide_input_from_viewers":true,
     "hide_output_from_viewers":true
    }
   }
  },
  {
   "cell_type":"code",
   "source":[
    "\/\/ 맨 앞에서부터 연속적으로 짝수인 것들만 버린 나머지 (즉, 처음 나타나는 짝수가 아닌 것부터 끝까지)\n",
    "numbers.dropWhile { it % 2 == 0 } "
   ],
   "execution_count":19,
   "outputs":[
    {
     "data":{
      "text\/plain":[
       "[7, 8, 9, 10, 12, 13]"
      ]
     },
     "metadata":{
      
     },
     "output_type":"display_data"
    }
   ],
   "metadata":{
    "datalore":{
     "node_id":"qgNr4mf09PRKsGp9UOJ1TH",
     "type":"CODE",
     "hide_input_from_viewers":false,
     "hide_output_from_viewers":false,
     "report_properties":{
      "rowId":"rkBdkS23R6CDd2rTK3VVMP"
     }
    }
   }
  },
  {
   "cell_type":"markdown",
   "source":[
    "### The `dropLast` and `dropLastWhile` functions\n",
    "\n",
    "스스로 학습"
   ],
   "attachments":{
    
   },
   "metadata":{
    "datalore":{
     "node_id":"uLHmLrrSwIukyKcfyjkHQT",
     "type":"MD",
     "hide_input_from_viewers":false,
     "hide_output_from_viewers":false,
     "report_properties":{
      "rowId":"FV66wTy0BpRAitASMpQHQy"
     }
    }
   }
  },
  {
   "cell_type":"markdown",
   "source":[
    "### The `fold` and `foldRight` functions"
   ],
   "attachments":{
    
   },
   "metadata":{
    "datalore":{
     "node_id":"Lyq9hTCA3OP9bJbCO7yjG1",
     "type":"MD",
     "hide_input_from_viewers":false,
     "hide_output_from_viewers":false,
     "report_properties":{
      "rowId":"yhabEN7nLIRsDfRYp4kFyk"
     }
    }
   }
  },
  {
   "cell_type":"code",
   "source":[
    "val ns = listOf(1, 2, 3, 4)\n",
    "val v0 = 100\n",
    "\n",
    "ns.fold(v0) { v, n -> v - n } \/\/ (((100 - 1) - 2) - 3) - 4"
   ],
   "execution_count":18,
   "outputs":[
    {
     "data":{
      "text\/plain":[
       "90"
      ]
     },
     "metadata":{
      
     },
     "output_type":"display_data"
    }
   ],
   "metadata":{
    "datalore":{
     "node_id":"R2JSLO4AvueQ1ZiSVelDl2",
     "type":"CODE",
     "hide_input_from_viewers":false,
     "hide_output_from_viewers":false,
     "report_properties":{
      "rowId":"GchnkF5LawaGM5MgjpotP3"
     }
    }
   }
  },
  {
   "cell_type":"code",
   "source":[
    "val ns = listOf(1, 2, 3, 4)\n",
    "val v0 = 100\n",
    "\n",
    "ns.foldRight(v0) { n, v -> n - v } \/\/ 1 - (2 - (3 - (4 - 100)))"
   ],
   "execution_count":19,
   "outputs":[
    {
     "data":{
      "text\/plain":[
       "98"
      ]
     },
     "metadata":{
      
     },
     "output_type":"display_data"
    }
   ],
   "metadata":{
    "datalore":{
     "node_id":"fhlaH4Ir7dNPaxX0MLLTBM",
     "type":"CODE",
     "hide_input_from_viewers":false,
     "hide_output_from_viewers":false,
     "report_properties":{
      "rowId":"oMUZzwiXswazIlvU4ROjCN"
     }
    }
   }
  },
  {
   "cell_type":"code",
   "source":[
    "val nil = listOf<Int>() \/\/ empty list\n",
    "\n",
    "println( nil.fold(100)      { v, n -> v - n } )\n",
    "println( nil.foldRight(100) { n, v -> n - v } )"
   ],
   "execution_count":20,
   "outputs":[
    {
     "name":"stdout",
     "text":[
      "100\n",
      "100\n"
     ],
     "output_type":"stream"
    }
   ],
   "metadata":{
    "datalore":{
     "node_id":"eD5Y1gxd4MwbYEHaPI2qVL",
     "type":"CODE",
     "hide_input_from_viewers":false,
     "hide_output_from_viewers":false,
     "report_properties":{
      "rowId":"us6mgSd8PnCIrGJ62HOg2L"
     }
    }
   }
  },
  {
   "cell_type":"markdown",
   "source":[
    "### The `reduce` and `reduceRight` functions\n",
    "스스로 학습"
   ],
   "attachments":{
    
   },
   "metadata":{
    "datalore":{
     "node_id":"3veoS6NM7x3l5k9lO5IYSi",
     "type":"MD",
     "hide_input_from_viewers":false,
     "hide_output_from_viewers":false,
     "report_properties":{
      "rowId":"c7m5KTAYEK6TtvVu471PAj"
     }
    }
   }
  },
  {
   "cell_type":"code",
   "source":[
    "ns.reduceIndexed { v, n -> v - n }"
   ],
   "execution_count":21,
   "outputs":[
    {
     "name":"stderr",
     "text":[
      "Line_20.jupyter.kts (1:18 - 35) Type mismatch: inferred type is (Int, Int) -> Int but (Int, TypeVariable(S), TypeVariable(T)) -> TypeVariable(S) was expected\n",
      "Line_20.jupyter.kts (1:20 - 24) Expected 3 parameters of types Int, Int, Nothing"
     ],
     "output_type":"stream"
    }
   ],
   "metadata":{
    "datalore":{
     "node_id":"GZVdGy6csKgnayjlxzf1zT",
     "type":"CODE",
     "hide_input_from_viewers":false,
     "hide_output_from_viewers":false,
     "report_properties":{
      "rowId":"jyAYvlqB83VdaXlcU6ZZJG"
     }
    }
   }
  },
  {
   "cell_type":"code",
   "source":[
    "ns.reduceRight { v, n -> v - n }"
   ],
   "execution_count":22,
   "outputs":[
    {
     "data":{
      "text\/plain":[
       "-2"
      ]
     },
     "metadata":{
      
     },
     "output_type":"display_data"
    }
   ],
   "metadata":{
    "datalore":{
     "node_id":"muv0wj4c9eVCXjZoWKjUve",
     "type":"CODE",
     "hide_input_from_viewers":false,
     "hide_output_from_viewers":false,
     "report_properties":{
      "rowId":"59ad21IGImdq2QohIcjRMZ"
     }
    }
   }
  },
  {
   "cell_type":"markdown",
   "source":[
    "### The `reduceIndexed` and `reduceRightIndexed` functions\n",
    "스스로 학습"
   ],
   "attachments":{
    
   },
   "metadata":{
    "datalore":{
     "node_id":"DrwFb3bNDYDVacnXgxnpDg",
     "type":"MD",
     "hide_input_from_viewers":false,
     "hide_output_from_viewers":false,
     "report_properties":{
      "rowId":"BoM7j1LIKsXgh7ummMcB9J"
     }
    }
   }
  },
  {
   "cell_type":"code",
   "source":[
    "ns::reduceIndexed"
   ],
   "execution_count":23,
   "outputs":[
    {
     "data":{
      "text\/plain":[
       "fun kotlin.collections.Iterable<T>.reduceIndexed((index: kotlin.Int, acc: S, T) -> S): S"
      ]
     },
     "metadata":{
      
     },
     "output_type":"display_data"
    }
   ],
   "metadata":{
    "datalore":{
     "node_id":"AfmCkBa189I0pcEf4B79xQ",
     "type":"CODE",
     "hide_input_from_viewers":false,
     "hide_output_from_viewers":false,
     "report_properties":{
      "rowId":"45mlVdgvMbJohxIKXhyuqs"
     }
    }
   }
  },
  {
   "cell_type":"code",
   "source":[
    "ns::reduceRightIndexed"
   ],
   "execution_count":24,
   "outputs":[
    {
     "data":{
      "text\/plain":[
       "fun kotlin.collections.List<T>.reduceRightIndexed((index: kotlin.Int, T, acc: S) -> S): S"
      ]
     },
     "metadata":{
      
     },
     "output_type":"display_data"
    }
   ],
   "metadata":{
    "datalore":{
     "node_id":"RlwfIbqKMUL22wYYFoptZV",
     "type":"CODE",
     "hide_input_from_viewers":false,
     "hide_output_from_viewers":false,
     "report_properties":{
      "rowId":"AIp9nxzLUQEqbmnmVFQDKM"
     }
    }
   }
  },
  {
   "cell_type":"markdown",
   "source":[
    "### `foreach`, `foreachIndexed`, `onEach` functions\n",
    "스스로 학습"
   ],
   "attachments":{
    
   },
   "metadata":{
    "datalore":{
     "node_id":"IgqJoDhw9A9vgxkmgy6K5W",
     "type":"MD",
     "hide_input_from_viewers":false,
     "hide_output_from_viewers":false,
     "report_properties":{
      "rowId":"lZafPT1sxkKvH04kNGYDVm"
     }
    }
   }
  },
  {
   "cell_type":"markdown",
   "source":[
    "### `min`, `minBy`, `max`, `maxBy` functions\n",
    "스스로 학습"
   ],
   "attachments":{
    
   },
   "metadata":{
    "datalore":{
     "node_id":"eHQ47BazKyynUzrLiX1M0F",
     "type":"MD",
     "hide_input_from_viewers":false,
     "hide_output_from_viewers":false,
     "report_properties":{
      "rowId":"VvklBoN1aEsyMDBtmbfgQi"
     }
    }
   }
  },
  {
   "cell_type":"markdown",
   "source":[
    "# The `flatMap` function"
   ],
   "attachments":{
    
   },
   "metadata":{
    "datalore":{
     "node_id":"HtyvIkwbB0DFO3vC8Xcp6w",
     "type":"MD",
     "hide_input_from_viewers":true,
     "hide_output_from_viewers":true
    }
   }
  },
  {
   "cell_type":"code",
   "source":[
    "val xs = (1..3).toList()\n",
    "val ys = (1..3).toList()"
   ],
   "execution_count":42,
   "outputs":[
    
   ],
   "metadata":{
    "datalore":{
     "node_id":"WbpkXjL5Y9zgazxuzzXkIL",
     "type":"CODE",
     "hide_input_from_viewers":true,
     "hide_output_from_viewers":true
    }
   }
  },
  {
   "cell_type":"code",
   "source":[
    "ys.map { y -> xs.map { Pair(it, y) } }"
   ],
   "execution_count":43,
   "outputs":[
    {
     "data":{
      "text\/plain":[
       "[[(1, 1), (2, 1), (3, 1)], [(1, 2), (2, 2), (3, 2)], [(1, 3), (2, 3), (3, 3)]]"
      ]
     },
     "metadata":{
      
     },
     "output_type":"display_data"
    }
   ],
   "metadata":{
    "datalore":{
     "node_id":"dI7Yu2aya38AzcugHwLRpC",
     "type":"CODE",
     "hide_input_from_viewers":true,
     "hide_output_from_viewers":true
    }
   }
  },
  {
   "cell_type":"code",
   "source":[
    "ys.flatMap { y -> xs.map { Pair(it, y) } }"
   ],
   "execution_count":44,
   "outputs":[
    {
     "data":{
      "text\/plain":[
       "[(1, 1), (2, 1), (3, 1), (1, 2), (2, 2), (3, 2), (1, 3), (2, 3), (3, 3)]"
      ]
     },
     "metadata":{
      
     },
     "output_type":"display_data"
    }
   ],
   "metadata":{
    "datalore":{
     "node_id":"bzi4otct0eLPYwkz3tQE4C",
     "type":"CODE",
     "hide_input_from_viewers":true,
     "hide_output_from_viewers":true
    }
   }
  },
  {
   "cell_type":"code",
   "source":[
    "xs.map { Pair(it, 1) }"
   ],
   "execution_count":36,
   "outputs":[
    {
     "data":{
      "text\/plain":[
       "[(1, 1), (2, 1), (3, 1)]"
      ]
     },
     "metadata":{
      
     },
     "output_type":"display_data"
    }
   ],
   "metadata":{
    "datalore":{
     "node_id":"iPGDSv01bjBSizTcxBh1ds",
     "type":"CODE",
     "hide_input_from_viewers":true,
     "hide_output_from_viewers":true
    }
   }
  },
  {
   "cell_type":"code",
   "source":[
    "xs.map { Pair(it, 2) }"
   ],
   "execution_count":37,
   "outputs":[
    {
     "data":{
      "text\/plain":[
       "[(1, 2), (2, 2), (3, 2)]"
      ]
     },
     "metadata":{
      
     },
     "output_type":"display_data"
    }
   ],
   "metadata":{
    "datalore":{
     "node_id":"KAx5WwN3b7FtexL6e89sPJ",
     "type":"CODE",
     "hide_input_from_viewers":true,
     "hide_output_from_viewers":true
    }
   }
  },
  {
   "cell_type":"code",
   "source":[
    "xs.map { Pair(it, 3) }"
   ],
   "execution_count":39,
   "outputs":[
    {
     "name":"stderr",
     "text":[
      "Line_139.jupyter.kts (1:1 - 3) Unresolved reference: xs\n",
      "Line_139.jupyter.kts (1:15 - 17) Unresolved reference: it"
     ],
     "output_type":"stream"
    },
    {
     "ename":"Syntax Error",
     "evalue":"Syntax Error: Unresolved reference: xs",
     "traceback":[
      "\u001b[0;31m---------------------------------------------------------------------------",
      "Traceback (most recent call last)",
      "Syntax Error: Unresolved reference: xs"
     ],
     "output_type":"error"
    }
   ],
   "metadata":{
    "datalore":{
     "node_id":"lHYeu3Etxlx9IiXRHzBlSA",
     "type":"CODE",
     "hide_input_from_viewers":true,
     "hide_output_from_viewers":true
    }
   }
  },
  {
   "cell_type":"code",
   "source":[
    
   ],
   "execution_count":null,
   "outputs":[
    
   ],
   "metadata":{
    "datalore":{
     "node_id":"9nYKGA2qfwVYNLnDt8y3j8",
     "type":"CODE",
     "hide_input_from_viewers":true,
     "hide_output_from_viewers":true
    }
   }
  }
 ],
 "metadata":{
  "kernelspec":{
   "display_name":"Kotlin",
   "language":"kotlin",
   "name":"kotlin"
  },
  "datalore":{
   "computation_mode":"JUPYTER",
   "package_manager":"pip",
   "base_environment":"default",
   "packages":[
    
   ],
   "report_row_ids":[
    "1SZvYOJKNcV8Mj0WUGYymB",
    "hTaoyp7nuthAHVD5pyJIPV",
    "VebbDGhq8XVhYvEXUCe7Te",
    "uxn5etBkOzomRC9d1bcV7M",
    "O7F0JoxX0DSuwAjXnec9FZ",
    "WTQnoYzGGEDIEFhocQXB0W",
    "M3Yns4PT2c6pDs4EMcowJ2",
    "hZg3B8jL33DQJhT5QEN49C",
    "WwHidKMGL52HkciiSd3I80",
    "8Sux28pJduME8jXJTNehZV",
    "6sC6wWtV0WTbXbwaR4lzg9",
    "grKM279SydITzUhpwDEcck",
    "9Q9AJOJ6GUpKvZSnXaOZUk",
    "HniuHqBZLKBMzvWF4fs9aQ",
    "uNJXwAsU5PxzSBThBGjfJU",
    "WYihFGQN8PRyVMDp2BXdRd",
    "tMH0YOOVM8lk4HWwxS3mGA",
    "2o7V5WgfHarBWMXGlHGVmr",
    "rdneJ2FCAfgJGGpp6uBC1t",
    "GipSiIzhszACglbZ7Xe2Dd",
    "LqXaZNbGcqHsH2NaKhVP4j",
    "3LrX2X1eO1a2tBYY9yf0nP",
    "JptGc0vnRTXWA8dYL2HOr5",
    "oY2vbiGsZ8FfqMfYqKMa5I",
    "J8F6Kal7SwCqjSfRPdCLhR",
    "rkBdkS23R6CDd2rTK3VVMP",
    "FV66wTy0BpRAitASMpQHQy",
    "yhabEN7nLIRsDfRYp4kFyk",
    "GchnkF5LawaGM5MgjpotP3",
    "oMUZzwiXswazIlvU4ROjCN",
    "us6mgSd8PnCIrGJ62HOg2L",
    "c7m5KTAYEK6TtvVu471PAj",
    "jyAYvlqB83VdaXlcU6ZZJG",
    "59ad21IGImdq2QohIcjRMZ",
    "BoM7j1LIKsXgh7ummMcB9J",
    "45mlVdgvMbJohxIKXhyuqs",
    "AIp9nxzLUQEqbmnmVFQDKM",
    "lZafPT1sxkKvH04kNGYDVm",
    "VvklBoN1aEsyMDBtmbfgQi"
   ],
   "version":3
  }
 },
 "nbformat":4,
 "nbformat_minor":4
}