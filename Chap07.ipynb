{
 "cells": [
  {
   "cell_type": "markdown",
   "id": "d7529e44-3ffe-4722-8604-b5fdfb050339",
   "metadata": {},
   "source": [
    "# 07. Corutines - a Lightweight Thread?"
   ]
  },
  {
   "cell_type": "markdown",
   "id": "2b9a19ab-0a82-4dc1-9d63-e0a519089b81",
   "metadata": {},
   "source": [
    "## What are corutines?\n",
    "교재가 집필되던 시절과 지금의 라이브러리 버전이 상당히 차이가 난다는 점에 유의!\n",
    "\n",
    "- https://kotlinlang.org/api/kotlinx.coroutines/kotlinx-coroutines-core/\n",
    "- https://kotlinlang.org/api/latest/jvm/stdlib/kotlin.coroutines/\n"
   ]
  },
  {
   "cell_type": "code",
   "execution_count": 1,
   "id": "b46d8e81-c7b0-4f74-926c-46b3b6d2eb6f",
   "metadata": {
    "tags": []
   },
   "outputs": [],
   "source": [
    "@file:DependsOn(\"org.jetbrains.kotlinx:kotlinx-coroutines-core:1.7.2\")\n",
    "import kotlinx.coroutines.*"
   ]
  },
  {
   "cell_type": "code",
   "execution_count": 2,
   "id": "d1c0e254-a3eb-4036-9776-f6b24b14021e",
   "metadata": {
    "tags": []
   },
   "outputs": [
    {
     "name": "stdout",
     "output_type": "stream",
     "text": [
      "DefaultDispatcher-worker-1\n"
     ]
    },
    {
     "data": {
      "text/plain": [
       "StandaloneCoroutine{Active}@5a5daff6"
      ]
     },
     "execution_count": 2,
     "metadata": {},
     "output_type": "execute_result"
    }
   ],
   "source": [
    "GlobalScope.launch {\n",
    "    launch {\n",
    "        delay(500L)\n",
    "        println(\"after delay \" + Thread.currentThread().name)\n",
    "    }\n",
    "\n",
    "    println(Thread.currentThread().name)\n",
    "    Thread.currentThread().join()\n",
    "}"
   ]
  },
  {
   "cell_type": "code",
   "execution_count": 3,
   "id": "50f3d07e-284f-4d63-8c97-47ceabe85baa",
   "metadata": {
    "tags": []
   },
   "outputs": [
    {
     "name": "stdout",
     "output_type": "stream",
     "text": [
      "after delay DefaultDispatcher-worker-2\n",
      "DefaultDispatcher-worker-2\n"
     ]
    },
    {
     "data": {
      "text/plain": [
       "StandaloneCoroutine{Active}@1d36334"
      ]
     },
     "execution_count": 3,
     "metadata": {},
     "output_type": "execute_result"
    }
   ],
   "source": [
    "GlobalScope.launch {\n",
    "    val job: Job = launch {\n",
    "        delay(500L)\n",
    "        println(\"after delay \" + Thread.currentThread().name)\n",
    "    }\n",
    "\n",
    "    println(Thread.currentThread().name)\n",
    "    job.cancel()\n",
    "    Thread.currentThread().join()\n",
    "}"
   ]
  },
  {
   "cell_type": "code",
   "execution_count": 4,
   "id": "2bdddae7-949e-4e85-93aa-b8bc5ced4207",
   "metadata": {
    "tags": []
   },
   "outputs": [
    {
     "name": "stdout",
     "output_type": "stream",
     "text": [
      "Execution of code '/*여기?*/ runBlocking ...'\n",
      "after delay Execution of code '/*여기?*/ runBlocking ...'\n"
     ]
    }
   ],
   "source": [
    "/*여기?*/ runBlocking {\n",
    "    val job: Job = launch {\n",
    "        delay(500L)\n",
    "        println(\"after delay \" + Thread.currentThread().name)\n",
    "    }\n",
    "\n",
    "    println(Thread.currentThread().name)\n",
    "    job.join()\n",
    "}"
   ]
  },
  {
   "cell_type": "code",
   "execution_count": 5,
   "id": "0dd4007b-1dc3-4ee5-baa3-1246f52cae56",
   "metadata": {},
   "outputs": [
    {
     "name": "stdout",
     "output_type": "stream",
     "text": [
      "Hello, \n",
      "coroutine!\n"
     ]
    }
   ],
   "source": [
    "/*저기?*/ runBlocking {\n",
    "    val job: Job = launch {\n",
    "        delay(500L)\n",
    "        println(\"coroutine!\")\n",
    "    }\n",
    "\n",
    "    println(\"Hello, \")\n",
    "    job.join()\n",
    "}"
   ]
  },
  {
   "cell_type": "markdown",
   "id": "52b6c9f0-1b2d-4ee1-a4cc-5e3c18b07460",
   "metadata": {},
   "source": [
    "## Coroutines and threads"
   ]
  },
  {
   "cell_type": "code",
   "execution_count": 29,
   "id": "adbc8440-963f-4050-987d-63cc14e098af",
   "metadata": {
    "tags": []
   },
   "outputs": [
    {
     "name": "stdout",
     "output_type": "stream",
     "text": [
      "DefaultDispatcher-worker-14\n",
      "DefaultDispatcher-worker-7\n",
      "DefaultDispatcher-worker-13\n",
      "DefaultDispatcher-worker-11\n",
      "DefaultDispatcher-worker-11\n",
      "DefaultDispatcher-worker-11\n",
      "DefaultDispatcher-worker-19\n",
      "DefaultDispatcher-worker-15\n",
      "DefaultDispatcher-worker-15\n",
      "DefaultDispatcher-worker-8\n",
      "DefaultDispatcher-worker-8\n",
      "DefaultDispatcher-worker-8\n",
      "DefaultDispatcher-worker-5\n",
      "DefaultDispatcher-worker-17\n",
      "DefaultDispatcher-worker-16\n",
      "DefaultDispatcher-worker-20\n",
      "DefaultDispatcher-worker-6\n",
      "DefaultDispatcher-worker-12\n",
      "DefaultDispatcher-worker-10\n",
      "DefaultDispatcher-worker-3\n",
      "DefaultDispatcher-worker-5\n",
      "DefaultDispatcher-worker-8\n",
      "DefaultDispatcher-worker-15\n",
      "DefaultDispatcher-worker-19\n",
      "DefaultDispatcher-worker-11\n",
      "DefaultDispatcher-worker-18\n",
      "DefaultDispatcher-worker-7\n",
      "DefaultDispatcher-worker-13\n",
      "DefaultDispatcher-worker-4\n",
      "DefaultDispatcher-worker-14\n",
      "DefaultDispatcher-worker-9\n"
     ]
    },
    {
     "data": {
      "text/plain": [
       "StandaloneCoroutine{Active}@458b830c"
      ]
     },
     "execution_count": 29,
     "metadata": {},
     "output_type": "execute_result"
    }
   ],
   "source": [
    "GlobalScope.launch {\n",
    "    val parentJob = Job()\n",
    "    (0..30).forEach {\n",
    "        launch(context = parentJob) {\n",
    "            println( Thread.currentThread().name )\n",
    "        }\n",
    "    }\n",
    "    joinAll(parentJob)\n",
    "}"
   ]
  },
  {
   "cell_type": "code",
   "execution_count": 7,
   "id": "706e1c20-b866-4d06-beae-552f95e42759",
   "metadata": {
    "tags": []
   },
   "outputs": [
    {
     "data": {
      "text/plain": [
       "{awt.toolkit=sun.awt.X11.XToolkit, idea.io.use.nio2=true, java.specification.version=11, sun.cpu.isalist=, sun.jnu.encoding=UTF-8, java.class.path=/opt/conda/lib/python3.10/site-packages/run_kotlin_kernel/jars/kotlin-jupyter-kernel-0.11.0-348.jar, java.vm.vendor=Ubuntu, sun.arch.data.model=64, java.vendor.url=https://ubuntu.com/, user.timezone=GMT, psi.track.invalidation=true, idea.ignore.disabled.plugins=true, os.name=Linux, java.vm.specification.version=11, sun.java.launcher=SUN_STANDARD, user.country=US, sun.boot.library.path=/usr/lib/jvm/java-11-openjdk-amd64/lib, sun.java.command=/opt/conda/lib/python3.10/site-packages/run_kotlin_kernel/jars/kotlin-jupyter-kernel-0.11.0-348.jar -classpath=/opt/conda/lib/python3.10/site-packages/run_kotlin_kernel/jars/lib-0.11.0-348.jar:/opt/conda/lib/python3.10/site-packages/run_kotlin_kernel/jars/api-0.11.0-348.jar:/opt/conda/lib/python3.10/site-packages/run_kotlin_kernel/jars/kotlin-script-runtime-1.8.20-Beta.jar:/opt/conda/lib/python3.10/site-packages/run_kotlin_kernel/jars/kotlin-reflect-1.8.20-Beta.jar:/opt/conda/lib/python3.10/site-packages/run_kotlin_kernel/jars/kotlin-stdlib-1.8.20-Beta.jar:/opt/conda/lib/python3.10/site-packages/run_kotlin_kernel/jars/kotlin-stdlib-common-1.8.20-Beta.jar:/opt/conda/lib/python3.10/site-packages/run_kotlin_kernel/jars/annotations-13.0.jar:/opt/conda/lib/python3.10/site-packages/run_kotlin_kernel/jars/kotlinx-serialization-json-jvm-1.4.1.jar:/opt/conda/lib/python3.10/site-packages/run_kotlin_kernel/jars/kotlinx-serialization-core-jvm-1.4.1.jar:/opt/conda/lib/python3.10/site-packages/run_kotlin_kernel/jars/kotlin-stdlib-jdk8-1.7.20.jar:/opt/conda/lib/python3.10/site-packages/run_kotlin_kernel/jars/kotlin-stdlib-jdk7-1.7.20.jar /home/jovyan/.local/share/jupyter/runtime/kernel-2a1732e7-ea72-4e4b-b95a-469855d417aa.json -home=/opt/conda/lib/python3.10/site-packages/run_kotlin_kernel -debugPort=1044, jdk.debug=release, sun.cpu.endian=little, user.home=/home/jovyan, user.language=en, java.specification.vendor=Oracle Corporation, java.version.date=2023-01-17, java.home=/usr/lib/jvm/java-11-openjdk-amd64, idea.plugins.compatible.build=999.SNAPSHOT, file.separator=/, java.vm.compressedOopsMode=Zero based, line.separator=\n",
       ", java.specification.name=Java Platform API Specification, java.vm.specification.vendor=Oracle Corporation, java.awt.graphicsenv=sun.awt.X11GraphicsEnvironment, sun.management.compiler=HotSpot 64-Bit Tiered Compilers, java.runtime.version=11.0.18+10-post-Ubuntu-0ubuntu122.04, user.name=jovyan, path.separator=:, os.version=6.2.0-25-generic, java.runtime.name=OpenJDK Runtime Environment, file.encoding=UTF-8, project.structure.add.tools.jar.to.new.jdk=false, guice.disable.misplaced.annotation.check=true, psi.incremental.reparse.depth.limit=1000, java.vm.name=OpenJDK 64-Bit Server VM, java.vendor.url.bug=https://bugs.launchpad.net/ubuntu/+source/openjdk-lts, java.io.tmpdir=/tmp, java.version=11.0.18, user.dir=/home/jovyan/work, ide.hide.excluded.files=false, os.arch=amd64, java.vm.specification.name=Java Virtual Machine Specification, java.awt.printerjob=sun.print.PSPrinterJob, sun.os.patch.level=unknown, java.library.path=/usr/java/packages/lib:/usr/lib/x86_64-linux-gnu/jni:/lib/x86_64-linux-gnu:/usr/lib/x86_64-linux-gnu:/usr/lib/jni:/lib:/usr/lib, java.vm.info=mixed mode, sharing, java.vendor=Ubuntu, java.vm.version=11.0.18+10-post-Ubuntu-0ubuntu122.04, sun.io.unicode.encoding=UnicodeLittle, java.class.version=55.0, ast.loading.filter=false}"
      ]
     },
     "execution_count": 7,
     "metadata": {},
     "output_type": "execute_result"
    }
   ],
   "source": [
    "System.getProperties()"
   ]
  },
  {
   "cell_type": "code",
   "execution_count": 8,
   "id": "e674a547-c8b6-472f-8b00-ba2b77184c57",
   "metadata": {
    "tags": []
   },
   "outputs": [
    {
     "data": {
      "text/plain": [
       "20"
      ]
     },
     "execution_count": 8,
     "metadata": {},
     "output_type": "execute_result"
    }
   ],
   "source": [
    "Runtime.getRuntime().availableProcessors()"
   ]
  },
  {
   "cell_type": "code",
   "execution_count": 9,
   "id": "c2043355-07ea-48d0-b979-b2cda97642ea",
   "metadata": {
    "tags": []
   },
   "outputs": [],
   "source": [
    "val parallelism = max(1, Runtime.getRuntime().availableProcessors() - 1)"
   ]
  },
  {
   "cell_type": "code",
   "execution_count": 42,
   "id": "e457db60-d533-41bd-8c39-7d8e5a7a163f",
   "metadata": {
    "tags": []
   },
   "outputs": [
    {
     "name": "stdout",
     "output_type": "stream",
     "text": [
      "1\n",
      "4\n",
      "2\n",
      "10\n",
      "11\n",
      "1\n",
      "8\n",
      "1\n",
      "16\n",
      "17\n",
      "18\n",
      "19\n",
      "20\n",
      "21\n",
      "22\n",
      "1\n",
      "1\n",
      "1\n",
      "3\n",
      "1\n",
      "5\n",
      "1\n",
      "6\n",
      "9\n",
      "7\n",
      "1\n",
      "15\n",
      "1\n",
      "14\n",
      "13\n",
      "12\n"
     ]
    },
    {
     "data": {
      "text/plain": [
       "StandaloneCoroutine{Active}@158d053a"
      ]
     },
     "execution_count": 42,
     "metadata": {},
     "output_type": "execute_result"
    }
   ],
   "source": [
    "var sum = 0\n",
    "GlobalScope.launch {\n",
    "    val parentJob = Job()\n",
    "    (0..30).forEach {\n",
    "        launch(context = parentJob) {\n",
    "            sum += 1\n",
    "            println(sum)\n",
    "        }\n",
    "    }\n",
    "    joinAll(parentJob)\n",
    "}\n"
   ]
  },
  {
   "cell_type": "code",
   "execution_count": null,
   "id": "87da88d7-2434-4d77-a643-dcddef15373b",
   "metadata": {},
   "outputs": [],
   "source": []
  }
 ],
 "metadata": {
  "kernelspec": {
   "display_name": "Kotlin",
   "language": "kotlin",
   "name": "kotlin"
  },
  "language_info": {
   "codemirror_mode": "text/x-kotlin",
   "file_extension": ".kt",
   "mimetype": "text/x-kotlin",
   "name": "kotlin",
   "nbconvert_exporter": "",
   "pygments_lexer": "kotlin",
   "version": "1.8.20-Beta"
  }
 },
 "nbformat": 4,
 "nbformat_minor": 5
}
