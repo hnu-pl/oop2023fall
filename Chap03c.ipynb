{
 "cells": [
  {
   "cell_type": "markdown",
   "id": "cabf41b1-d71a-4249-8042-85f388e9e4bf",
   "metadata": {
    "tags": []
   },
   "source": [
    "# 03. The 4 Pillars of OOP (Part C)"
   ]
  },
  {
   "cell_type": "markdown",
   "id": "345ee7f7-ee98-467b-b4f3-fa6f4c78c725",
   "metadata": {},
   "source": [
    "## Abstraction\n",
    "이미 언급했지만 abstraction은 데이터구조 시간에도 다루는\n",
    "abstract data type을 만드는 바로 그 취지에 해당하는 개념이다.\n",
    "\n",
    "온라인 쇼핑몰 개발을 위해 **장바구니**라는 기능을 라이브러리로 제공할 때\n",
    "이를 사용하는 입장에 있는 프로그래머는 장바구니가 내부적으로 어떻게\n",
    "구현되어 있는지 (배열, 연결리스트, 트리, ...) 알 필요가 없으므로\n",
    "장바구니에 물건을 몇개씩 집어넣어 놓고 빼고 이런 동작만을 활용할 수 있으면 된다.\n",
    "(이렇게 내부 구현에 의존하지 않도록 하는 것을 implemetation hiding이라고 함)\n",
    "\n",
    "라이브러리를 제공하는 라이브러리 개발자 입장에서도 나중에 **장바구니**의\n",
    "내부 구현를 개선하려 할 때 (예를 들면 배열이었다가 무슨 트리로 바꾼다거나)\n",
    "라이브러리를 사용하는 입장에 있는 프로그래머들이 내부 구현에는 의존하지\n",
    "않는 방식으로 사용하고 있으므로 라이브러리 사용자들이 이미 작성한 코드는\n",
    "수정하지 않아도 된다는 큰 장점이 있다."
   ]
  },
  {
   "cell_type": "markdown",
   "id": "6c3ba986-74b8-469f-8ded-62128691b235",
   "metadata": {},
   "source": [
    "## Abstract classes\n",
    "\n",
    "그러니까 이런 설명 없이 갑자기 특정 언어 기능인 abstract class부터 이야기하는 것은 abstraction이라는 개념을 설명하기에 좋은 전개는 아니라는 것\n",
    "\n",
    "하지만 어쨌든 abstract class라는 기능은 코틀린 뿐만 아니라 다른 클래스 기반 OOPL에도 많이들 제공하므로 알아두어야 하는 항목인 것은 맞다.\n",
    "\n",
    "클래스의 인스턴스가 되는 대상(object)을 구체적으로 직접 생성하는 것이 부자연스러우며,\n",
    "다른 구체적인 클래스의 포괄적인 분류로서만 역할을 하는 것이 자연스러운 상위 클래스를 `abstract` 키워드로 선언하면\n",
    "- abstract class의 생성자를 직접 호출하여 인스턴스 생성 불가\n",
    "- 하위 클래스의 생성자를 통해서만 상위 abstract class의 생성자 호출 가능\n",
    "\n",
    "참고로, `abstract` 클래스는 그로부터 상속된 하위 클래스(subclass)를 통해서 활용할 것을 전제로 하고 있어\n",
    "`abstract` 키워드가 이미 `open`의 의미를 포함하므로, `abstract` 클래스 선언에서는 `open`을 생략해도 된다. \n",
    "즉, `abstract open C`라는 클래스 선언을 `abstract C`로 해도 괜찮다."
   ]
  },
  {
   "cell_type": "code",
   "execution_count": 1,
   "id": "ee3ecf56-537f-4f95-8daa-56fb5a2c5b93",
   "metadata": {
    "tags": []
   },
   "outputs": [],
   "source": [
    "/* abstract */ open class Pet(val species: String, val size: Int, val price: Int)\n",
    "// 햄스터 (여러 품종을 품종에 따라 다른 가격으로 판매)\n",
    "class Hamster(val breed: String, size: Int, price: Int): Pet(\"hamster\", size, price)\n",
    "// 금붕어 (한 품종이지만 크기가 조금씩 다른 것을 크기에 따라 다른 가격으로 분양)\n",
    "class GoldFish(size: Int, price: Int): Pet(\"gold fish\", size, price)\n",
    "// 소라게 (한 종류만 균일가로 분양)\n",
    "class HermitCrab(): Pet(\"hermit crab\", 5, 10000)"
   ]
  },
  {
   "cell_type": "code",
   "execution_count": 2,
   "id": "26aed15d-ad50-4714-b9e1-be0bb1baef64",
   "metadata": {},
   "outputs": [],
   "source": [
    "val h1 = Hamster(\"golden\", 15, 50000)  // 골든 햄스터 50,000원\n",
    "val h2 = Hamster(\"drawrf\", 8, 20000) // 드워프 햄스터 20,000원\n",
    "\n",
    "val g1 = GoldFish(6, 2000)  //  6cm 금붕어 2,000원\n",
    "val g2 = GoldFish(10, 4000) // 10cm 금붕어 4,000원\n",
    "\n",
    "val c1 = HermitCrab() // 모두 같은 크기 같은 가격"
   ]
  },
  {
   "cell_type": "code",
   "execution_count": 3,
   "id": "3613256b-a72c-4311-bb34-2eb18961294f",
   "metadata": {},
   "outputs": [],
   "source": [
    "// 위의 것들은 말이 되는데\n",
    "\n",
    "// 이건 좀 말이 안되는 이야기 같다 ...\n",
    "val p = Pet(\"unknown\", 20, 30000)\n",
    "// 무슨 종류 동물인지도 아몰랑 어쨌든 크기 20cm정도 되는 애완동물 30000원짜리 만들어 달라고???\n",
    "\n",
    "// 위에 Pet 클래스 선언에서 abstract의 주석을 해제하고 다시 실행해 보라"
   ]
  },
  {
   "cell_type": "markdown",
   "id": "d45cf546-e4a3-43b2-91b0-9503fbcf01dd",
   "metadata": {},
   "source": [
    "## Abstract functions\n",
    "추상(`abstract`) 함수는 상위 추상 클래스에서 함수의 내용을 정할 수 없는 경우에 활용\n",
    "\n",
    "즉, 하위 클래스에서 어떤 동작을 하기는 한다라는 점 외에는 어떠한 공통점으로 대표되는 동작이 정의되지 않는 경우\n",
    "상위 클래스에서 정의를 제공하지 않고 실제 동작에 대한 정의는 각각의 하위 클래스에서 정의하도록 책임을 떠넘기는 것.\n",
    "\n",
    "하위 클래스에서는 상위 클래스에서 상속받은 추상 함수를 정의할 의무가 있으며,\n",
    "상속받은 추상 함수에 대한 정의를 제공하지 않으면 클래스 선언이 성공하지 못하고 오류가 난다.\n",
    "\n",
    "추상 함수를 하위 클래스에서 정의하는 것도 재정의(override)로 취급한다."
   ]
  },
  {
   "cell_type": "code",
   "execution_count": 4,
   "id": "ba1c536c-6e94-4bd3-9615-50ee13adbb04",
   "metadata": {},
   "outputs": [],
   "source": [
    "abstract class Animal {\n",
    "    // 상위 추상 클래스에서 함수의 내용을 정할 수 없는 경우\n",
    "    open fun makeSound() = println(\"??? override me plz ???\") // (1) 억지로 어색한 정의\n",
    "    // abstract fun makeSound() // (2) 그것보다는 abstract fun이 바람직\n",
    "}\n",
    "\n",
    "// 위 상위 클래스 (1)과 (2)를 번갈아서 주석처리를 바꿔 보면서\n",
    "// 아래 하위 클래스의 함수 재정의 주석처리도 풀었다 걸었다 해보라\n",
    "\n",
    "class Dog: Animal() {\n",
    "    // override fun makeSound() = println(\"멍멍 woof woof\") \n",
    "}\n",
    "\n",
    "class Cat: Animal() {\n",
    "    // override fun makeSound() = println(\"야옹 meow\") \n",
    "}"
   ]
  },
  {
   "cell_type": "code",
   "execution_count": 5,
   "id": "f43fc9d6-ef4f-4e52-9a04-daba45b035ee",
   "metadata": {},
   "outputs": [
    {
     "name": "stdout",
     "output_type": "stream",
     "text": [
      "??? override me plz ???\n",
      "??? override me plz ???\n"
     ]
    }
   ],
   "source": [
    "val dog = Dog()\n",
    "val cat = Cat()\n",
    "\n",
    "dog.makeSound()\n",
    "cat.makeSound()"
   ]
  },
  {
   "cell_type": "code",
   "execution_count": 6,
   "id": "7963871b-732e-4646-abb4-61fd6efbbb73",
   "metadata": {},
   "outputs": [],
   "source": [
    "// 책의 Shape 클래스와 Rectangle 클래스 예제로도 스스로 실습해 보라"
   ]
  },
  {
   "cell_type": "markdown",
   "id": "28af0c0d-9bbe-44e3-bb52-a74e44525659",
   "metadata": {},
   "source": [
    "## Interfaces\n",
    "\n",
    "OOP에 대해 이야기할 때 클래스 상속보다도 인터페이스가 근본이라고 볼 수 있다.\n",
    "\n",
    "그러니까 인터페이스를 OOP를 이해하는 기본으로 사고 클래스 상속이는 특수하고 예외적인 경우가 있다고 설명하는 게 나을지도?\n",
    "\n",
    "인터페이스는 클래스의 특징을 요약\n",
    "- 제공하는 행동/동작의 종류가 어떤 것들이 있는지 (즉, 제공해야 할 함수/연산의 목록)\n",
    "- 하지만 각각의 행동/동작의 구체적 내용은 상관하지 않음 (즉, 함수/연산의 구현은 인터페이스에 포함되지 않음)\n",
    "\n",
    "인터페이스는 구현을 포함하지 않으므로 모든 속성/함수가 `abstract`인 `abstract class`와 비슷한 점이 있다"
   ]
  },
  {
   "cell_type": "code",
   "execution_count": 7,
   "id": "605b5154-a30d-4b33-8220-020c8436389c",
   "metadata": {
    "tags": []
   },
   "outputs": [],
   "source": [
    "interface Monoid {\n",
    "    val identity: Int             // 항등원 (편의상 왼항등원과 오른항등원이 같은 경우만을 생각하자)\n",
    "    fun op(lhs:Int, rhs:Int): Int // 결합법칙이 성립하는 2항 연산자\n",
    "}\n",
    "\n",
    "interface Group: Monoid {\n",
    "    fun inverse(x: Int): Int     // 2항 연산자 op에 대한 x의 역원 (역시 편의상 왼/오른 역원이 같은 경우만 생각하자)\n",
    "}"
   ]
  },
  {
   "cell_type": "code",
   "execution_count": 8,
   "id": "5025bbd1-a106-45c6-8f1b-6c29924bb7fe",
   "metadata": {
    "tags": []
   },
   "outputs": [],
   "source": [
    "class Times: Monoid {\n",
    "    override val identity: Int = 1\n",
    "    override fun op(lhs: Int, rhs: Int) = lhs * rhs\n",
    "}"
   ]
  },
  {
   "cell_type": "code",
   "execution_count": 9,
   "id": "03e8135b-118a-430b-a29d-3b417dc63a68",
   "metadata": {
    "tags": []
   },
   "outputs": [],
   "source": [
    "class Plus: Group {\n",
    "    override val identity: Int = 0\n",
    "    override fun op(lhs: Int, rhs: Int) = lhs * rhs\n",
    "    override fun inverse(x: Int) = -x\n",
    "}"
   ]
  },
  {
   "cell_type": "markdown",
   "id": "1838dc54-c2f5-43a3-85ac-70651fddd8d8",
   "metadata": {},
   "source": [
    "## Types of inheritance\n",
    "책을 읽어보며 스스로 학습"
   ]
  },
  {
   "cell_type": "markdown",
   "id": "8cca7659-ad4a-491a-9af3-52c40920d173",
   "metadata": {
    "tags": []
   },
   "source": [
    "## Polymorphism\n",
    "\n",
    "보통 \"다형성\"으로 옮기는 polymorphism은 하나의 개념이 아니며 프로그래밍언어에 나타나는 다양성의 종류도 다양.\n",
    "\n",
    "위키피디아만 뒤져봐도\n",
    "- parametric polymorphism (매개변수 다형성): 코틀린을 기준으로 이야기하자면 제네릭(generic)에 해당\n",
    "- 그 외의 다형성\n",
    "  - ad-hoc polymorphism (임시변통 다형성): 함수 혹은 연산자 오버로딩\n",
    "  - subtype (or, inclusion) polymorphism (하위타입 다형성): 각각의 하위 타입(즉, 하위 클래스 혹은 인터페이스의 구현)의 특성에 따라 조금씩 특화된 다른 동작을, 상위 타입의 관점에서 같은 동작으로 취급하여 처리할 수 있음. 반대로 이야기해 보자면, 상위 타입의 관점에서 일괄적으로 처리하더라도 각각의 하위 타입의 특성에 따라 알아서 적절히 조금씩 알아서 다르게 동작함.\n",
    "  \n",
    "전통적으로 OOP에서 강조하는 다형성은 subtype polymorphism이지만 요즘 정적 타입 언어들은 위에서 언급한 다른 종류의 다형성들도 다같이 지원하니까 기본적으로 다 알아야\n",
    "\n",
    "코틀린과 같은 OOPL에서는 subtype polymorphism을 지원하기 위해 overriding된 함수를 late binding 혹은 dynamic dispatch 한다고 전문용어로는 그렇게 말한다"
   ]
  },
  {
   "cell_type": "code",
   "execution_count": 10,
   "id": "c9650ac4-8f38-4638-831d-4f9496fc858e",
   "metadata": {},
   "outputs": [],
   "source": [
    "abstract class Animal {\n",
    "    abstract fun makeSound()\n",
    "}\n",
    "\n",
    "open class Bird: Animal() {\n",
    "    override fun makeSound() = println(\"tweet\")\n",
    "}\n",
    "\n",
    "class Duck: Bird() {\n",
    "    override fun makeSound() = println(\"quack\")\n",
    "}\n",
    "\n",
    "open class Bear: Animal() {\n",
    "    override fun makeSound() = println(\"grawl\")\n",
    "}\n",
    "\n",
    "class MemeBear: Bear() {\n",
    "    override fun makeSound() = println(\"쮸쀼쮸쀼\")\n",
    "}"
   ]
  },
  {
   "cell_type": "code",
   "execution_count": 11,
   "id": "446d3bef-2a93-4f8a-a1df-11d34dbd5186",
   "metadata": {
    "tags": []
   },
   "outputs": [],
   "source": [
    "val bird: Bird = Bird()\n",
    "val duck: Duck = Duck()\n",
    "val bear: Bear = Bear()\n",
    "val mmbr: MemeBear = MemeBear()\n",
    "\n",
    "val a0: Animal = bird // 하위 타입 Bird를 상위 타입 Animal으로 자연스럽게 변환\n",
    "val a1: Animal = duck // 하위 타입 Duck을 상위 타입 Animal으로 자연스럽게 변환\n",
    "val a2: Animal = bear // 하위 타입 Bear를 상위 타입 Animal으로 자연스럽게 변환\n",
    "val a3: Animal = mmbr // 하위 타입 MemeBear를 상위 타입 Animal으로 자연스럽게 변환\n",
    "\n",
    "val animals = listOf( a0, a1, a2, a3 )"
   ]
  },
  {
   "cell_type": "code",
   "execution_count": 12,
   "id": "0f7bae52-821f-46e3-96f6-c9c97f2a8d55",
   "metadata": {
    "tags": []
   },
   "outputs": [
    {
     "name": "stdout",
     "output_type": "stream",
     "text": [
      "tweet\n",
      "quack\n",
      "grawl\n",
      "쮸쀼쮸쀼\n"
     ]
    }
   ],
   "source": [
    "for (a in animals) { a.makeSound() }"
   ]
  },
  {
   "cell_type": "code",
   "execution_count": 13,
   "id": "c9cb651a-313c-40db-a689-f3a6ea3f2f4e",
   "metadata": {
    "tags": []
   },
   "outputs": [
    {
     "name": "stdout",
     "output_type": "stream",
     "text": [
      "tweet\n",
      "quack\n",
      "grawl\n",
      "쮸쀼쮸쀼\n"
     ]
    }
   ],
   "source": [
    "val animals: List<Animal> = listOf( Bird(), Duck(), Bear(), MemeBear() )\n",
    "\n",
    "for (a in animals) { a.makeSound() }"
   ]
  },
  {
   "cell_type": "code",
   "execution_count": null,
   "id": "fc701150-afd0-4a04-9f48-c32a6efdd459",
   "metadata": {},
   "outputs": [],
   "source": []
  }
 ],
 "metadata": {
  "kernelspec": {
   "display_name": "Kotlin",
   "language": "kotlin",
   "name": "kotlin"
  },
  "language_info": {
   "codemirror_mode": "text/x-kotlin",
   "file_extension": ".kt",
   "mimetype": "text/x-kotlin",
   "name": "kotlin",
   "nbconvert_exporter": "",
   "pygments_lexer": "kotlin",
   "version": "1.8.20-Beta"
  }
 },
 "nbformat": 4,
 "nbformat_minor": 5
}
