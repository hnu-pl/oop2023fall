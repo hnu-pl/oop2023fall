{
 "cells": [
  {
   "cell_type": "markdown",
   "id": "cabf41b1-d71a-4249-8042-85f388e9e4bf",
   "metadata": {
    "tags": []
   },
   "source": [
    "# 05. Data Collection, Iterators, and Filters (Part A)"
   ]
  },
  {
   "cell_type": "markdown",
   "id": "2b7b5688-c07f-4b73-8ebd-d6b7d9ba1844",
   "metadata": {
    "tags": []
   },
   "source": [
    "## Lambda expressions\n",
    "책에서는 코틀린의 람다식 문법에 대해 당연히 알고 있다고 가정하고 아무 설명 없이 책의 내용이 전개되고 있어서, 혹시 모르는 학생들이 당황할 수 있기 때문에 한번 짚고 넘어가자\n",
    "\n",
    "정수값도 변수를 선언해 이름을 붙이지 않더러도 `2*3 + 4/2`와 같이 식으로 표현 가능\n",
    "\n",
    "함수값에도 이러한 표현 방식을 제공하는 것이 람다식\n",
    "\n",
    "즉 `fun` 키워드를 활용한 함수 선언하는 방식이 아니라, 함수값를 식(expression)으로도 표현 가능\n"
   ]
  },
  {
   "cell_type": "code",
   "execution_count": 1,
   "id": "1ac72264-a2f3-4a0b-9a0e-31822bd16567",
   "metadata": {
    "tags": []
   },
   "outputs": [
    {
     "data": {
      "text/plain": [
       "7"
      ]
     },
     "execution_count": 1,
     "metadata": {},
     "output_type": "execute_result"
    }
   ],
   "source": [
    "fun f1(x: Int, y: Int) = x + y // fun 키워드로 함수 선언\n",
    "\n",
    "f1(3, 4)"
   ]
  },
  {
   "cell_type": "code",
   "execution_count": 2,
   "id": "adc3a152-b67b-4a5b-ae22-926b12b5f6b8",
   "metadata": {
    "tags": []
   },
   "outputs": [
    {
     "data": {
      "text/plain": [
       "(kotlin.Int, kotlin.Int) -> kotlin.Int"
      ]
     },
     "execution_count": 2,
     "metadata": {},
     "output_type": "execute_result"
    }
   ],
   "source": [
    "{ x: Int, y: Int -> x + y } // 이름을 붙이지 않은 함수값을 나타내는 람다식"
   ]
  },
  {
   "cell_type": "code",
   "execution_count": 3,
   "id": "bcb253d3-f4f3-4af3-946e-48b25c32779b",
   "metadata": {
    "tags": []
   },
   "outputs": [
    {
     "data": {
      "text/plain": [
       "7"
      ]
     },
     "execution_count": 3,
     "metadata": {},
     "output_type": "execute_result"
    }
   ],
   "source": [
    "{ x:Int, y: Int -> x + y }(3, 4) // 람다식에 직접 인수를 넘겨 함수 호출 "
   ]
  },
  {
   "cell_type": "code",
   "execution_count": 4,
   "id": "8ac5eedf-0334-4ae5-b2fa-2a99fe991571",
   "metadata": {
    "tags": []
   },
   "outputs": [
    {
     "data": {
      "text/plain": [
       "7"
      ]
     },
     "execution_count": 4,
     "metadata": {},
     "output_type": "execute_result"
    }
   ],
   "source": [
    "// 람다식을 변수에 지정하는 것도 당연히 가능\n",
    "val f2: (Int, Int) -> Int = { x: Int, y: Int -> x + y }\n",
    "\n",
    "f2(3, 4)"
   ]
  },
  {
   "cell_type": "code",
   "execution_count": 5,
   "id": "981e46e8-81af-4820-8e74-a0aeb7234427",
   "metadata": {
    "tags": []
   },
   "outputs": [
    {
     "data": {
      "text/plain": [
       "7"
      ]
     },
     "execution_count": 5,
     "metadata": {},
     "output_type": "execute_result"
    }
   ],
   "source": [
    "// 이미 충분한 타입 정보가 람다식에 제공되므로 변수 f3의 타입 유추 가능\n",
    "val f3 = { x: Int, y: Int -> x + y }\n",
    "\n",
    "f3(3, 4)"
   ]
  },
  {
   "cell_type": "code",
   "execution_count": 6,
   "id": "f19d06d4-f69f-4835-8bd0-5a4540828df9",
   "metadata": {
    "tags": []
   },
   "outputs": [
    {
     "name": "stderr",
     "output_type": "stream",
     "text": [
      "Line_5.jupyter.kts (1:9 - 9) Type expected"
     ]
    }
   ],
   "source": [
    "{ x, y -> x + y } // 일반적으로 함수 파라메터에 타입 표기 필요"
   ]
  },
  {
   "cell_type": "code",
   "execution_count": 7,
   "id": "74b79895-d20e-45c0-9f9b-d0deebe2a786",
   "metadata": {
    "tags": []
   },
   "outputs": [
    {
     "data": {
      "text/plain": [
       "7"
      ]
     },
     "execution_count": 7,
     "metadata": {},
     "output_type": "execute_result"
    }
   ],
   "source": [
    "// f4의 타입 표기에서 충분한 정보가 제공되므로 람다식 파라메터의 타입 표기 생략 가능 \n",
    "val f4: (Int, Int) -> Int = { x, y -> x + y }\n",
    "\n",
    "f4(3, 4)"
   ]
  },
  {
   "cell_type": "code",
   "execution_count": 8,
   "id": "b223ebcc-15ed-43ef-9953-a8aafc65980b",
   "metadata": {
    "tags": []
   },
   "outputs": [
    {
     "data": {
      "text/plain": [
       "7"
      ]
     },
     "execution_count": 8,
     "metadata": {},
     "output_type": "execute_result"
    }
   ],
   "source": [
    "// 이미 fun으로 선언된 함수를 식처럼 활용하며 참조하려면 함수 이름 앞에 ::를 붙여주면 된다\n",
    "\n",
    "val g1 = ::f1 // 참고로 ::를 붙이지 않으면 오류가 난다\n",
    "\n",
    "g1(3, 4)"
   ]
  },
  {
   "cell_type": "markdown",
   "id": "f0d30246-83f2-4da5-bf80-6b3269884bf9",
   "metadata": {},
   "source": [
    "### The `it` keyworkd\n",
    "\n",
    "파라메터가 딱 1개인 람다식의 경우 파라메터 이름을 짓는 고민을 덜어주는 키워드다.\n",
    "\n",
    "하지만 일반적인 람다식과 달리 함수 파라메터의 타입을 표시해 줄 방법이 없기 때문에,\n",
    "타입 정보가 충분히 제공된 문맥에서만 사용 가능하다."
   ]
  },
  {
   "cell_type": "code",
   "execution_count": 9,
   "id": "23d545a0-df7d-48d7-ae11-f47a1df1024d",
   "metadata": {
    "tags": []
   },
   "outputs": [
    {
     "data": {
      "text/plain": [
       "(kotlin.Int) -> kotlin.Int"
      ]
     },
     "execution_count": 9,
     "metadata": {},
     "output_type": "execute_result"
    }
   ],
   "source": [
    "{ x: Int -> x + 1 }"
   ]
  },
  {
   "cell_type": "code",
   "execution_count": 10,
   "id": "97881fc2-0419-4746-9165-49472e6d62e4",
   "metadata": {
    "tags": []
   },
   "outputs": [
    {
     "name": "stderr",
     "output_type": "stream",
     "text": [
      "Line_9.jupyter.kts (1:3 - 5) Unresolved reference: it"
     ]
    }
   ],
   "source": [
    "{ it + 1 } // 이렇게 맥락 없이 it의 타입 정보가 제공되지 않는 상황에서는 못 씀"
   ]
  },
  {
   "cell_type": "code",
   "execution_count": 11,
   "id": "f2d5a15f-9e86-4a4e-bc8d-f68c2ea87194",
   "metadata": {
    "tags": []
   },
   "outputs": [
    {
     "data": {
      "text/plain": [
       "101"
      ]
     },
     "execution_count": 11,
     "metadata": {},
     "output_type": "execute_result"
    }
   ],
   "source": [
    "val f5: (Int) -> Int = { it + 1 } // { x -> x + 1 } 혹은 { y -> y + 1 } 등과 같은 함수\n",
    "\n",
    "f5(100)"
   ]
  },
  {
   "cell_type": "markdown",
   "id": "ba237935-0eae-4dd7-8e19-2268ea3dbe5b",
   "metadata": {},
   "source": [
    "### Trailing lambdas\n",
    "- https://kotlinlang.org/docs/kotlin-tour-functions.html#trailing-lambdas\n",
    "\n",
    "이것도 설명이 필요한데 책에서 빠져 있는 부분"
   ]
  },
  {
   "cell_type": "markdown",
   "id": "26da17d7-3c26-4ddc-840e-4e0714c556d5",
   "metadata": {
    "tags": []
   },
   "source": [
    "## Range"
   ]
  },
  {
   "cell_type": "code",
   "execution_count": 12,
   "id": "26bbaaee-f501-43a7-8eb1-bfdfa8a4fd47",
   "metadata": {
    "tags": []
   },
   "outputs": [],
   "source": [
    "val range = 1..10"
   ]
  },
  {
   "cell_type": "code",
   "execution_count": 13,
   "id": "f6099a5e-3f46-4177-97ec-996e1b6a65e6",
   "metadata": {
    "tags": []
   },
   "outputs": [
    {
     "data": {
      "text/plain": [
       "class kotlin.ranges.IntRange"
      ]
     },
     "execution_count": 13,
     "metadata": {},
     "output_type": "execute_result"
    }
   ],
   "source": [
    "range::class"
   ]
  },
  {
   "cell_type": "code",
   "execution_count": 14,
   "id": "d2167adc-d350-4027-bf7f-f1d0c0ab499d",
   "metadata": {
    "tags": []
   },
   "outputs": [
    {
     "name": "stdout",
     "output_type": "stream",
     "text": [
      "1 2 3 4 5 6 7 8 9 10 "
     ]
    }
   ],
   "source": [
    "for (v in range) print(\"$v \")"
   ]
  },
  {
   "cell_type": "code",
   "execution_count": 15,
   "id": "da3c2579-7e3c-4ecc-b3f1-bd4a3576fe63",
   "metadata": {
    "tags": []
   },
   "outputs": [
    {
     "data": {
      "text/plain": [
       "true"
      ]
     },
     "execution_count": 15,
     "metadata": {},
     "output_type": "execute_result"
    }
   ],
   "source": [
    "4 in range"
   ]
  },
  {
   "cell_type": "code",
   "execution_count": 16,
   "id": "10639b6d-39a0-4660-b076-f78fdbd5f625",
   "metadata": {
    "tags": []
   },
   "outputs": [
    {
     "data": {
      "text/plain": [
       "true"
      ]
     },
     "execution_count": 16,
     "metadata": {},
     "output_type": "execute_result"
    }
   ],
   "source": [
    "14 !in range"
   ]
  },
  {
   "cell_type": "code",
   "execution_count": 17,
   "id": "c5b7fef0-286d-4aa5-bb10-51c67af6aaa4",
   "metadata": {
    "tags": []
   },
   "outputs": [
    {
     "name": "stdout",
     "output_type": "stream",
     "text": [
      "a b c d e f g h i j k l m n o p q r s t u v w x y z "
     ]
    }
   ],
   "source": [
    "val charRange = 'a'..'z' // 문자 범위\n",
    "\n",
    "for (c in charRange) print(\"$c \")"
   ]
  },
  {
   "cell_type": "code",
   "execution_count": 18,
   "id": "9b8aa969-4569-45db-9452-622abef669ee",
   "metadata": {
    "tags": []
   },
   "outputs": [
    {
     "data": {
      "text/plain": [
       "true"
      ]
     },
     "execution_count": 18,
     "metadata": {},
     "output_type": "execute_result"
    }
   ],
   "source": [
    "val myRange1 = 1..10\n",
    "val myRange2 = 1.rangeTo(10)\n",
    "\n",
    "myRange1 == myRange2"
   ]
  },
  {
   "cell_type": "code",
   "execution_count": 19,
   "id": "2419aec2-b962-4324-8f20-bfa01fb9cfe6",
   "metadata": {
    "tags": []
   },
   "outputs": [
    {
     "data": {
      "text/plain": [
       "0..9"
      ]
     },
     "execution_count": 19,
     "metadata": {},
     "output_type": "execute_result"
    }
   ],
   "source": [
    "0.until(10)"
   ]
  },
  {
   "cell_type": "code",
   "execution_count": 20,
   "id": "82f0320e-be1e-4d54-8b10-463c7dacd207",
   "metadata": {
    "tags": []
   },
   "outputs": [
    {
     "data": {
      "text/plain": [
       "0..9"
      ]
     },
     "execution_count": 20,
     "metadata": {},
     "output_type": "execute_result"
    }
   ],
   "source": [
    "0 until 10"
   ]
  },
  {
   "cell_type": "code",
   "execution_count": 21,
   "id": "5e65a098-e2ef-42da-bb08-11ddc1873259",
   "metadata": {
    "tags": []
   },
   "outputs": [
    {
     "data": {
      "text/plain": [
       "true"
      ]
     },
     "execution_count": 21,
     "metadata": {},
     "output_type": "execute_result"
    }
   ],
   "source": [
    "val range1 = 10.downTo(1)\n",
    "val range2 = 10 downTo 1\n",
    "\n",
    "range1 == range2"
   ]
  },
  {
   "cell_type": "code",
   "execution_count": 22,
   "id": "ff678d58-1fe0-47a9-966c-6d9ab725c621",
   "metadata": {
    "tags": []
   },
   "outputs": [
    {
     "name": "stdout",
     "output_type": "stream",
     "text": [
      "10 9 8 7 6 5 4 3 2 1 "
     ]
    }
   ],
   "source": [
    "for (v in range1) print(\"$v \")"
   ]
  },
  {
   "cell_type": "code",
   "execution_count": 23,
   "id": "27ebd492-1053-4eb0-8d5f-b2a5d7f640c0",
   "metadata": {
    "tags": []
   },
   "outputs": [
    {
     "data": {
      "text/plain": [
       "10 downTo 1 step 1"
      ]
     },
     "execution_count": 23,
     "metadata": {},
     "output_type": "execute_result"
    }
   ],
   "source": [
    "range1"
   ]
  },
  {
   "cell_type": "code",
   "execution_count": 24,
   "id": "509bac5e-4f0f-4692-bafb-f57d0ae57a69",
   "metadata": {
    "tags": []
   },
   "outputs": [
    {
     "data": {
      "text/plain": [
       "10 downTo 2 step 2"
      ]
     },
     "execution_count": 24,
     "metadata": {},
     "output_type": "execute_result"
    }
   ],
   "source": [
    "range1.step(2)"
   ]
  },
  {
   "cell_type": "code",
   "execution_count": 25,
   "id": "fc6cfa83-782b-47e2-9558-dbd527d46bd3",
   "metadata": {
    "tags": []
   },
   "outputs": [
    {
     "name": "stderr",
     "output_type": "stream",
     "text": [
      "Line_24.jupyter.kts (3:11 - 20) Unresolved reference: newRange1"
     ]
    }
   ],
   "source": [
    "val evenRange1 = range1.step(2)\n",
    "\n",
    "for (v in newRange1) print(\"$v \")"
   ]
  },
  {
   "cell_type": "code",
   "execution_count": 26,
   "id": "6e5156cc-b98f-4326-b51b-6e12543c5c22",
   "metadata": {
    "tags": []
   },
   "outputs": [],
   "source": [
    "// Array 전까지 나머지 내용은 스스로 학습"
   ]
  },
  {
   "cell_type": "markdown",
   "id": "7b12f9d7-2c65-4786-bc52-7ac00b7cd306",
   "metadata": {
    "tags": []
   },
   "source": [
    "## Array\n",
    "- 크기 고정\n",
    "- 0부터 시작하는 인덱스로 접근"
   ]
  },
  {
   "cell_type": "code",
   "execution_count": 27,
   "id": "10744d65-e14d-4e3a-9fbe-313b1cb41fab",
   "metadata": {
    "tags": []
   },
   "outputs": [
    {
     "name": "stdout",
     "output_type": "stream",
     "text": [
      "5\n",
      "4\n",
      "3\n"
     ]
    }
   ],
   "source": [
    "// 초기값을 하나하나 나열하며 배열을 만들기에 편리한 arrayOf 함수\n",
    "val intArr: Array<Int> = arrayOf(10,20,30,40,50)\n",
    "val strArr: Array<String> = arrayOf(\"one\", \"two\", \"three\", \"four\")\n",
    "val anyArr: Array<Any> = arrayOf(1, 2, \"three\")\n",
    "\n",
    "println( intArr.size )\n",
    "println( strArr.size )\n",
    "println( anyArr.size )"
   ]
  },
  {
   "cell_type": "code",
   "execution_count": 28,
   "id": "e4559e09-a0b1-4e2b-a34c-8c22364596d7",
   "metadata": {
    "tags": []
   },
   "outputs": [
    {
     "name": "stderr",
     "output_type": "stream",
     "text": [
      "Line_27.jupyter.kts (1:28 - 50) Type mismatch: inferred type is String but Int was expected"
     ]
    }
   ],
   "source": [
    "val wrongArr: Array<Int> = arrayOf(1, 2, \"three\")"
   ]
  },
  {
   "cell_type": "code",
   "execution_count": 29,
   "id": "b0a09839-cc21-457d-9456-81955707f189",
   "metadata": {
    "tags": []
   },
   "outputs": [
    {
     "data": {
      "text/plain": [
       "class kotlin.Array"
      ]
     },
     "execution_count": 29,
     "metadata": {},
     "output_type": "execute_result"
    }
   ],
   "source": [
    "intArr::class"
   ]
  },
  {
   "cell_type": "code",
   "execution_count": 30,
   "id": "eeccbf5e-e389-43f5-8c72-46477518afad",
   "metadata": {
    "tags": []
   },
   "outputs": [
    {
     "data": {
      "text/plain": [
       "[10, 20, 30, 40, 50]"
      ]
     },
     "execution_count": 30,
     "metadata": {},
     "output_type": "execute_result"
    }
   ],
   "source": [
    "// Jupyter Kotlin kernel에서는 Array라는 값을 특별히 신경써서 처리해 보여줌\n",
    "intArr"
   ]
  },
  {
   "cell_type": "code",
   "execution_count": 31,
   "id": "ba09f66d-c676-4929-915b-4c34ad1de2fa",
   "metadata": {
    "tags": []
   },
   "outputs": [
    {
     "name": "stdout",
     "output_type": "stream",
     "text": [
      "[Ljava.lang.Integer;@5fdeb340\n",
      "[Ljava.lang.Integer;@5fdeb340\n"
     ]
    }
   ],
   "source": [
    "// Java와 호환성 때문에 toString()이 제대로 override되어 있지 않음\n",
    "println( intArr )\n",
    "println( intArr.toString() )"
   ]
  },
  {
   "cell_type": "code",
   "execution_count": 32,
   "id": "fd418f91-b821-4932-b092-eb1a9abb39a2",
   "metadata": {
    "tags": []
   },
   "outputs": [
    {
     "data": {
      "text/plain": [
       "[10, 20, 30, 40, 50]"
      ]
     },
     "execution_count": 32,
     "metadata": {},
     "output_type": "execute_result"
    }
   ],
   "source": [
    "intArr.toList() // Jupyter에서는 리스트로 변환해서 보여주고 있는 것이다"
   ]
  },
  {
   "cell_type": "code",
   "execution_count": 33,
   "id": "9afbd864-1f8f-428b-8e28-103213205dc7",
   "metadata": {
    "tags": []
   },
   "outputs": [
    {
     "name": "stdout",
     "output_type": "stream",
     "text": [
      "30\n",
      "30\n"
     ]
    }
   ],
   "source": [
    "println( intArr[2] )     // 인덱스 참조는 사실\n",
    "println( intArr.get(2) ) //  get 함수를 호출"
   ]
  },
  {
   "cell_type": "code",
   "execution_count": 34,
   "id": "4d402c93-c3d4-491d-8dea-4808a8dfb9b7",
   "metadata": {
    "tags": []
   },
   "outputs": [
    {
     "name": "stdout",
     "output_type": "stream",
     "text": [
      "[10, 20, 33, 40, 50]\n",
      "[10, 20, 333, 40, 50]\n"
     ]
    }
   ],
   "source": [
    "intArr[2] = 33 // 인덱스를 통한 지정은 사실\n",
    "println( intArr.toList() )\n",
    "intArr.set(2, 333) // set 함수를 호출\n",
    "println( intArr.toList() )"
   ]
  },
  {
   "cell_type": "code",
   "execution_count": 35,
   "id": "7f0f84ec-d713-4469-b3c9-e49218eb4523",
   "metadata": {
    "tags": []
   },
   "outputs": [
    {
     "name": "stdout",
     "output_type": "stream",
     "text": [
      "one two three four "
     ]
    }
   ],
   "source": [
    "for (s in strArr) print(\"$s \")"
   ]
  },
  {
   "cell_type": "markdown",
   "id": "c5166f74-5704-48c9-8067-bcc52a3bd371",
   "metadata": {},
   "source": [
    "### Arrays of a specific type\n",
    "\n",
    "책에는 그냥 간단히 언급하고 넘어가서 설명이 조금 부족한 부분이 있음 (boxed니 unboxed니 하는 것들 ...)\n",
    "\n",
    "`IntArray`가 `Array<Int>`와 어떻게 다른지 코틀린 공식 문서를 찾아보는 것을 시작으로 스스로 학습하고, 어떤 경우에 `IntArray`를 쓰는 게 좋을지 생각해 보라"
   ]
  },
  {
   "cell_type": "markdown",
   "id": "668b0171-3328-4dd8-831d-bee4831ef85c",
   "metadata": {
    "tags": []
   },
   "source": [
    "### Mutable arrays with immutable elements\n",
    "이건 아무리 봐도 이 소절 제목이 조금 문제가 있다.\n",
    "\n",
    "    mutable arrays with immutable variables\n",
    "    (가변 배열에 대한 불변 변수)\n",
    "\n",
    "이런 정도로 해야 내용과 맞아떨어지는 소절 제목이 된다.\n",
    "\n",
    "실제로 여기서 설명하는 내용은 배열을 `val`로 선언한 불변 변수인 경우에도\n",
    "배열의 각 원소에 대해 인덱스로 접근해 변경 가능하다는 것이다.\n",
    "즉, 배열이라는 객체(object)의 원소들에 대한 참조는 항상 가변(즉, mutable elements)이고\n",
    "배열 변수를 가변/불변으로 선언하는 데서 오는 차이는 변수에 새로운 배열 객체를 변수에 재지정할 수 있는지 없는지에 있다."
   ]
  },
  {
   "cell_type": "code",
   "execution_count": 36,
   "id": "8619ded5-da4a-4c51-b5ae-aabd817f4ed3",
   "metadata": {
    "tags": []
   },
   "outputs": [],
   "source": [
    "val arrVal = arrayOf(10,20,30)\n",
    "var arrVar = arrayOf(11,22,33)"
   ]
  },
  {
   "cell_type": "code",
   "execution_count": 37,
   "id": "94ff4e05-5e22-4f98-8a9e-1bd97e5739bd",
   "metadata": {
    "tags": []
   },
   "outputs": [
    {
     "name": "stdout",
     "output_type": "stream",
     "text": [
      "[10, 20, 30]\n",
      "[10, 2, 30]\n"
     ]
    }
   ],
   "source": [
    "println( arrVal.toList() )\n",
    "arrVal[1] = 2 // val로 선언한 배열의 원소도 가변(mutable)\n",
    "println( arrVal.toList() )"
   ]
  },
  {
   "cell_type": "code",
   "execution_count": 38,
   "id": "b03c4663-e6de-48db-aa88-71f5f200d7bd",
   "metadata": {
    "tags": []
   },
   "outputs": [
    {
     "name": "stderr",
     "output_type": "stream",
     "text": [
      "Line_37.jupyter.kts (1:1 - 7) Val cannot be reassigned"
     ]
    }
   ],
   "source": [
    "arrVal = arrayOf(1,2,3,4,5) // 새로운 메모리 공간을 차지하는 배열로 재지정은 불가\n",
    "\n",
    "arrVal"
   ]
  },
  {
   "cell_type": "code",
   "execution_count": 39,
   "id": "4fbe9582-ff28-4fd9-a7d9-cf401967604e",
   "metadata": {
    "tags": []
   },
   "outputs": [
    {
     "name": "stdout",
     "output_type": "stream",
     "text": [
      "[11, 22, 33]\n",
      "[11, -2, 33]\n"
     ]
    }
   ],
   "source": [
    "println( arrVar.toList() )\n",
    "arrVar[1] = -2 // var로 선언한 배열의 원소도 가변(mutable)\n",
    "println( arrVar.toList() )"
   ]
  },
  {
   "cell_type": "code",
   "execution_count": 40,
   "id": "f6a2910f-5b99-4e75-ba8e-04888433ae30",
   "metadata": {
    "tags": []
   },
   "outputs": [
    {
     "data": {
      "text/plain": [
       "[1, 2, 3, 4, 5]"
      ]
     },
     "execution_count": 40,
     "metadata": {},
     "output_type": "execute_result"
    }
   ],
   "source": [
    "arrVar = arrayOf(1,2,3,4,5) // 새로운 메모리 공간을 차지하는 배열로 재지정도 가능\n",
    "\n",
    "arrVar"
   ]
  },
  {
   "cell_type": "markdown",
   "id": "095238f7-60ea-4aec-8f34-0766a733bba5",
   "metadata": {},
   "source": [
    "### Arrays with lambda expressions\n",
    "`Array`의 생성자에 대해 알아보자."
   ]
  },
  {
   "cell_type": "code",
   "execution_count": 41,
   "id": "f56f9e20-095d-42e2-943b-c2ec251ef2ff",
   "metadata": {
    "tags": []
   },
   "outputs": [
    {
     "data": {
      "text/plain": [
       "[100, 200, 300, 400, 500]"
      ]
     },
     "execution_count": 41,
     "metadata": {},
     "output_type": "execute_result"
    }
   ],
   "source": [
    "var arr = Array(5) { index -> (index + 1) * 100 }\n",
    "\n",
    "arr"
   ]
  },
  {
   "cell_type": "code",
   "execution_count": 42,
   "id": "83ca7c07-4c09-46d8-8642-a5c678265ebc",
   "metadata": {
    "tags": []
   },
   "outputs": [
    {
     "data": {
      "text/plain": [
       "[100, 200, 300, 400, 500]"
      ]
     },
     "execution_count": 42,
     "metadata": {},
     "output_type": "execute_result"
    }
   ],
   "source": [
    "Array(5) { (it + 1) * 100 }"
   ]
  },
  {
   "cell_type": "code",
   "execution_count": 43,
   "id": "d03b5d49-deba-40ac-9cfc-e44dfdc5c4ae",
   "metadata": {
    "tags": []
   },
   "outputs": [
    {
     "data": {
      "text/plain": [
       "[99, 99, 99, 99, 99]"
      ]
     },
     "execution_count": 43,
     "metadata": {},
     "output_type": "execute_result"
    }
   ],
   "source": [
    "Array(5) { 99 } // 모두 같은 값으로 초기화"
   ]
  },
  {
   "cell_type": "markdown",
   "id": "8336aae8-f201-42e7-93ce-c63577b21988",
   "metadata": {},
   "source": [
    "### The `arrayOfNulls` function\n",
    "`null`로 초기화된 배열 (필요에 따라 나중에 non-null 값으로 채워나가는 ...)\n",
    "\n",
    "널값을 포함할 수 있는 배열의 타입은 `Array<T>`가 아닌 `Array<T?>`임에 유의"
   ]
  },
  {
   "cell_type": "code",
   "execution_count": 44,
   "id": "17d8987c-5630-4ca7-81ed-77c79da2ddb5",
   "metadata": {
    "tags": []
   },
   "outputs": [
    {
     "name": "stdout",
     "output_type": "stream",
     "text": [
      "[null, null, null, null, null]\n",
      "[null, HELLO, null, null, null]\n"
     ]
    }
   ],
   "source": [
    "var nullArr1: Array<String?> = arrayOfNulls<String>(5)\n",
    "\n",
    "println( nullArr1.toList() )\n",
    "nullArr1[1] = \"HELLO\"\n",
    "println( nullArr1.toList() )"
   ]
  },
  {
   "cell_type": "code",
   "execution_count": 45,
   "id": "afc78365-4d54-4198-8d2f-c2a67a7582f9",
   "metadata": {
    "tags": []
   },
   "outputs": [],
   "source": [
    "// 왼쪽이나 오른쪽의 타입 정보를 생략해도 Kotlin 컴파일러가 타입을 유추 가능\n",
    "var nullArr2 = arrayOfNulls<String>(5)\n",
    "var nullArr3: Array<String?> = arrayOfNulls(5)"
   ]
  },
  {
   "cell_type": "code",
   "execution_count": 46,
   "id": "b1557eb7-b56b-474a-92e2-64992c80cc95",
   "metadata": {
    "tags": []
   },
   "outputs": [
    {
     "name": "stderr",
     "output_type": "stream",
     "text": [
      "Line_45.jupyter.kts (1:16 - 28) Not enough information to infer type variable T"
     ]
    }
   ],
   "source": [
    "var nullArr4 = arrayOfNulls(5) // 둘 다 생략하면 타입유추가 안되어 오류 발생"
   ]
  },
  {
   "cell_type": "markdown",
   "id": "a75c72ac-40e0-4313-86e0-f502ddcf8109",
   "metadata": {},
   "source": [
    "### Copying arrays"
   ]
  },
  {
   "cell_type": "code",
   "execution_count": 47,
   "id": "7018c63c-d1e5-41b9-b63e-1f715a2d8699",
   "metadata": {
    "tags": []
   },
   "outputs": [],
   "source": [
    "val oldArr = Array(5) { (it+1) * 10 }\n",
    "val newArr = oldArr.copyOf()"
   ]
  },
  {
   "cell_type": "code",
   "execution_count": 48,
   "id": "eecbbae9-ee9e-4e73-bd59-80cc942e2d34",
   "metadata": {
    "tags": []
   },
   "outputs": [
    {
     "data": {
      "text/plain": [
       "[10, 20, 30, 40, 50]"
      ]
     },
     "execution_count": 48,
     "metadata": {},
     "output_type": "execute_result"
    }
   ],
   "source": [
    "oldArr"
   ]
  },
  {
   "cell_type": "code",
   "execution_count": 49,
   "id": "eb409a37-755f-4391-9c1a-8d98a195e599",
   "metadata": {
    "tags": []
   },
   "outputs": [
    {
     "data": {
      "text/plain": [
       "[10, 20, 30, 40, 50]"
      ]
     },
     "execution_count": 49,
     "metadata": {},
     "output_type": "execute_result"
    }
   ],
   "source": [
    "newArr"
   ]
  },
  {
   "cell_type": "code",
   "execution_count": 50,
   "id": "67f33926-caca-4178-8be8-97a4d9287eed",
   "metadata": {
    "tags": []
   },
   "outputs": [
    {
     "data": {
      "text/plain": [
       "false"
      ]
     },
     "execution_count": 50,
     "metadata": {},
     "output_type": "execute_result"
    }
   ],
   "source": [
    "oldArr === newArr // 같은 대상 (즉, 같은 메모리에 있는 배열) 아님"
   ]
  },
  {
   "cell_type": "code",
   "execution_count": 51,
   "id": "498be77e-a323-4483-a961-76bd6d2d8948",
   "metadata": {
    "tags": []
   },
   "outputs": [
    {
     "data": {
      "text/plain": [
       "false"
      ]
     },
     "execution_count": 51,
     "metadata": {},
     "output_type": "execute_result"
    }
   ],
   "source": [
    "oldArr == newArr // 배열의 경우 equals가 재정의되지 않아 === 와 똑같이 동작"
   ]
  },
  {
   "cell_type": "code",
   "execution_count": 52,
   "id": "b04d3432-9fc6-4688-8452-44e88c9901c8",
   "metadata": {
    "tags": []
   },
   "outputs": [
    {
     "data": {
      "text/plain": [
       "true"
      ]
     },
     "execution_count": 52,
     "metadata": {},
     "output_type": "execute_result"
    }
   ],
   "source": [
    "oldArr.toList() == newArr.toList() // 리스트는 equals가 내용을 비교하도록 재정의됨"
   ]
  },
  {
   "cell_type": "code",
   "execution_count": null,
   "id": "734cfcda-d838-4bee-8ef6-4930952d8dc4",
   "metadata": {},
   "outputs": [],
   "source": []
  }
 ],
 "metadata": {
  "kernelspec": {
   "display_name": "Kotlin",
   "language": "kotlin",
   "name": "kotlin"
  },
  "language_info": {
   "codemirror_mode": "text/x-kotlin",
   "file_extension": ".kt",
   "mimetype": "text/x-kotlin",
   "name": "kotlin",
   "nbconvert_exporter": "",
   "pygments_lexer": "kotlin",
   "version": "1.8.20"
  }
 },
 "nbformat": 4,
 "nbformat_minor": 5
}
