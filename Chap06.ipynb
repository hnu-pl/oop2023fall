{
 "cells": [
  {
   "cell_type": "markdown",
   "id": "d7529e44-3ffe-4722-8604-b5fdfb050339",
   "metadata": {},
   "source": [
    "# 06. Object-Oriented Patterns in Kotlin\n",
    "\n",
    "디자인 패턴에 대해 소개하는 그런 장인데 ... 솔직히 이 장은 그렇게 도움이 되지는 않을 듯\n",
    "\n",
    "최대한 간단하게 여러가지 디자인 패턴을 소개하려 해서 모르는 사람은 이게뭔가 싶고 아는 사람은 그냥 너무 당연한 예시 같을거고 뭐 그런 느낌이다\n",
    "\n",
    "그래서 책의 내용 대신 디자인 패턴과 관련된 것을 한두 개 소개하는 게 더 더 도움이 될 거 같다."
   ]
  },
  {
   "cell_type": "markdown",
   "id": "46fd6fd3-fe3c-419d-9236-e441cf437603",
   "metadata": {
    "tags": []
   },
   "source": [
    "## Template method\n",
    "- https://asvid.github.io/kotlin-template-method\n",
    "\n",
    "이 노트북은 위 블로그 글에 나오는 코드를 기본 바탕으로 하여 약간씩 적절히 변형한 것이다.\n",
    "\n",
    "참고로, 피자 예제는 이 블로그 글 말고도 다른 OOP관련 책이나 자료 등에서도 데코레이터 등의 패턴을 설명할 때도 단골로 사용하는 테마의 예제임\n",
    "\n",
    "template method를 이해하면 factory method도 생성자에 대한 template method에 해당하는 개념이고, 또 책에 나오는 strategy도 template method의 특별한 사례로 볼 수도 있으니 ...\n",
    "\n",
    "***주의***: 이런 피자 예제 같은 것들이 설명하는 디자인 패턴을 적용하는 것이 매우 적합한 상황이라고 오해하면 안된다.\n",
    "그냥 그 개념을 설명하기 위해 OOP를 실무에서 본격적으로 많이 해보지 않은 사람도 이해하기 좋은 주제로 예제를 작성하는 것."
   ]
  },
  {
   "cell_type": "markdown",
   "id": "43ddbf3e-9acc-4911-bf66-65384c4c6135",
   "metadata": {},
   "source": [
    "### Pizza"
   ]
  },
  {
   "cell_type": "code",
   "execution_count": 1,
   "id": "06f1ad5c-010c-43f1-b61e-bdc9f1551541",
   "metadata": {
    "tags": []
   },
   "outputs": [],
   "source": [
    "abstract class Pizza { // base class for all pizza types\n",
    "\n",
    "    // 피자 만들기 template method\n",
    "    fun make() { // steps are the same for every pizza\n",
    "        makeDough()      // 피자도우 반죽\n",
    "        applySauce()     // 소스 바르기\n",
    "        addIngredients() // 토핑 재료 추가\n",
    "        bake()           // 굽기\n",
    "    }\n",
    "\n",
    "    // default implementation for each step\n",
    "    // concrete classes needs to override only the distinctive ones\n",
    "    open fun makeDough() = println(\"making 30cm dough\")\n",
    "    open fun addIngredients() = println(\"adding cheese\")\n",
    "    open fun applySauce() = println(\"applying tomato sauce\")\n",
    "    open fun bake() = println(\"baking for 20 minutes\")\n",
    "}"
   ]
  },
  {
   "cell_type": "code",
   "execution_count": 3,
   "id": "48f33440-3aa3-4a33-97ee-8fb9e036df36",
   "metadata": {
    "tags": []
   },
   "outputs": [],
   "source": [
    "open class Pepperoni : Pizza() { // concrete type of pizza\n",
    "    override fun addIngredients() { // overriding ingredients according to recipe\n",
    "        println(\"adding salami\")\n",
    "        println(\"adding onion\")\n",
    "        println(\"adding cheese\")\n",
    "    }\n",
    "}\n",
    "\n",
    "// 우리나라는 보통 R L F 이렇게 가니까 (코스트코같이 그런 미국사이즈 피자 다루는 대형마트 말고는)\n",
    "// dough size variation\n",
    "class PepperoniRegular: Pepperoni() { override fun makeDough() = println(\"making 23cm dough\") }\n",
    "class PepperoniLarge:   Pepperoni() // default size dough\n",
    "class PepperoniFamily:  Pepperoni() { override fun makeDough() = println(\"making 38cm dough\") }\n",
    "\n",
    "// but it's not controlling the process of making a pizza\n",
    "// all other methods are left with default implementation"
   ]
  },
  {
   "cell_type": "code",
   "execution_count": 5,
   "id": "186ee103-51d2-4378-b9c7-64e12f554817",
   "metadata": {
    "tags": []
   },
   "outputs": [
    {
     "name": "stdout",
     "output_type": "stream",
     "text": [
      "making 23cm dough\n",
      "applying tomato sauce\n",
      "adding salami\n",
      "adding onion\n",
      "adding cheese\n",
      "baking for 20 minutes\n"
     ]
    }
   ],
   "source": [
    "PepperoniRegular().make()"
   ]
  },
  {
   "cell_type": "code",
   "execution_count": 6,
   "id": "c31b1e9c-5bd2-4f98-817f-74524fd6cd59",
   "metadata": {
    "tags": []
   },
   "outputs": [
    {
     "name": "stdout",
     "output_type": "stream",
     "text": [
      "making 30cm dough\n",
      "applying tomato sauce\n",
      "adding salami\n",
      "adding onion\n",
      "adding cheese\n",
      "baking for 20 minutes\n"
     ]
    }
   ],
   "source": [
    "PepperoniLarge().make()"
   ]
  },
  {
   "cell_type": "code",
   "execution_count": 7,
   "id": "16b1f2c4-ffa2-4e31-a5e8-8cf8a280fb7b",
   "metadata": {
    "tags": []
   },
   "outputs": [
    {
     "name": "stdout",
     "output_type": "stream",
     "text": [
      "making 38cm dough\n",
      "applying tomato sauce\n",
      "adding salami\n",
      "adding onion\n",
      "adding cheese\n",
      "baking for 20 minutes\n"
     ]
    }
   ],
   "source": [
    "PepperoniFamily().make()"
   ]
  },
  {
   "cell_type": "markdown",
   "id": "6483ad4b-c6e6-41a6-858f-b05114d9fd69",
   "metadata": {},
   "source": [
    "### Pizza lambdas"
   ]
  },
  {
   "cell_type": "code",
   "execution_count": 12,
   "id": "27ba229f-144d-43c2-b8f4-1ddc03127c6a",
   "metadata": {
    "tags": []
   },
   "outputs": [],
   "source": [
    "abstract class Pizza( // base class constructor is taking lambdas but provides default implementation\n",
    "    val makeDough:      () -> Unit = { println(\"making 30cm dough\") },\n",
    "    val applySauce:     () -> Unit = { println(\"applying tomato sauce\") },\n",
    "    val addIngredients: () -> Unit = { println(\"adding cheese\") },\n",
    "    val bake:           () -> Unit = { println(\"baking for 20 minutes\") }\n",
    ") {\n",
    "    fun make() { // unchanged template method\n",
    "        makeDough() // calling lambda parameter from constructor that can be replaced\n",
    "        applySauce()\n",
    "        addIngredients()\n",
    "        bake()\n",
    "    }\n",
    "}"
   ]
  },
  {
   "cell_type": "code",
   "execution_count": 14,
   "id": "4d4c3749-145e-43e9-9878-a36cbd2b020e",
   "metadata": {
    "tags": []
   },
   "outputs": [],
   "source": [
    "val pepperoniAddons: () -> Unit = {\n",
    "    println(\"adding salami\")\n",
    "    println(\"adding onion\")\n",
    "    println(\"adding cheese\")\n",
    "}\n",
    "\n",
    "class PepperoniRegular: Pizza(\n",
    "    addIngredients = pepperoniAddons,\n",
    "    makeDough = { println(\"making 23cm dough\") }\n",
    ")\n",
    "class PepperoniLarge:   Pizza(  // default size dough\n",
    "    addIngredients = pepperoniAddons\n",
    ")\n",
    "class PepperoniFamily:  Pizza(\n",
    "    addIngredients = pepperoniAddons,\n",
    "    makeDough = { println(\"making 38cm dough\") }\n",
    ")"
   ]
  },
  {
   "cell_type": "code",
   "execution_count": 15,
   "id": "ac3634d6-7016-47ac-80a3-c688753f0238",
   "metadata": {
    "tags": []
   },
   "outputs": [
    {
     "name": "stdout",
     "output_type": "stream",
     "text": [
      "making 23cm dough\n",
      "applying tomato sauce\n",
      "adding salami\n",
      "adding onion\n",
      "adding cheese\n",
      "baking for 20 minutes\n"
     ]
    }
   ],
   "source": [
    "PepperoniRegular().make()"
   ]
  },
  {
   "cell_type": "code",
   "execution_count": 16,
   "id": "12d68936-e25b-414b-8275-f28e62405667",
   "metadata": {
    "tags": []
   },
   "outputs": [
    {
     "name": "stdout",
     "output_type": "stream",
     "text": [
      "making 30cm dough\n",
      "applying tomato sauce\n",
      "adding salami\n",
      "adding onion\n",
      "adding cheese\n",
      "baking for 20 minutes\n"
     ]
    }
   ],
   "source": [
    "PepperoniLarge().make()"
   ]
  },
  {
   "cell_type": "code",
   "execution_count": 17,
   "id": "194347f0-d1e4-4ef5-b306-c031e221e746",
   "metadata": {
    "tags": []
   },
   "outputs": [
    {
     "name": "stdout",
     "output_type": "stream",
     "text": [
      "making 38cm dough\n",
      "applying tomato sauce\n",
      "adding salami\n",
      "adding onion\n",
      "adding cheese\n",
      "baking for 20 minutes\n"
     ]
    }
   ],
   "source": [
    "PepperoniFamily().make()"
   ]
  },
  {
   "cell_type": "code",
   "execution_count": null,
   "id": "685003fb-cd29-438d-84d2-f354f1aaf7dc",
   "metadata": {},
   "outputs": [],
   "source": []
  }
 ],
 "metadata": {
  "kernelspec": {
   "display_name": "Kotlin",
   "language": "kotlin",
   "name": "kotlin"
  },
  "language_info": {
   "codemirror_mode": "text/x-kotlin",
   "file_extension": ".kt",
   "mimetype": "text/x-kotlin",
   "name": "kotlin",
   "nbconvert_exporter": "",
   "pygments_lexer": "kotlin",
   "version": "1.8.20-Beta"
  }
 },
 "nbformat": 4,
 "nbformat_minor": 5
}
