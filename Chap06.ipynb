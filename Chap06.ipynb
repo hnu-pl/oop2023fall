{
 "cells":[
  {
   "cell_type":"markdown",
   "source":[
    "# 06. Object-Oriented Patterns in Kotlin\n",
    "\n",
    "디자인 패턴에 대해 소개하는 그런 장인데 ... 솔직히 이 장은 그렇게 도움이 되지는 않을 듯\n",
    "\n",
    "최대한 간단하게 여러가지 디자인 패턴을 소개하려 해서 모르는 사람은 이게뭔가 싶고 아는 사람은 그냥 너무 당연한 예시 같을거고 뭐 그런 느낌이다\n",
    "\n",
    "그래서 책의 내용 대신 디자인 패턴과 관련된 것을 한두 개 소개하는 게 더 더 도움이 될 거 같다."
   ],
   "attachments":{
    
   },
   "metadata":{
    "datalore":{
     "node_id":"FN3ebl70YoAROnDdzb76HS",
     "type":"MD",
     "hide_input_from_viewers":false,
     "hide_output_from_viewers":false,
     "report_properties":{
      "rowId":"AWsoKpgHZz9VtR4xoyuaeZ"
     }
    }
   }
  },
  {
   "cell_type":"markdown",
   "source":[
    "## Template method\n",
    "- https:\/\/asvid.github.io\/kotlin-template-method\n",
    "\n",
    "이 노트북은 위 블로그 글에 나오는 코드를 기본 바탕으로 하여 약간씩 적절히 변형한 것이다.\n",
    "\n",
    "참고로, 피자 예제는 이 블로그 글 말고도 다른 OOP관련 책이나 자료 등에서도 데코레이터 등의 패턴을 설명할 때도 단골로 사용하는 테마의 예제임\n",
    "\n",
    "template method를 이해하면 factory method도 생성자에 대한 template method에 해당하는 개념이고, 또 책에 나오는 strategy도 template method의 특별한 사례로 볼 수도 있으니 ...\n",
    "\n",
    "***주의***: 이런 피자 예제 같은 것들이 설명하는 디자인 패턴을 적용하는 것이 매우 적합한 상황이라고 오해하면 안된다.\n",
    "그냥 그 개념을 설명하기 위해 OOP를 실무에서 본격적으로 많이 해보지 않은 사람도 이해하기 좋은 주제로 예제를 작성하는 것."
   ],
   "attachments":{
    
   },
   "metadata":{
    "datalore":{
     "node_id":"Ew9tscO7Z8EQiv9zIcTs6Z",
     "type":"MD",
     "hide_input_from_viewers":false,
     "hide_output_from_viewers":false,
     "report_properties":{
      "rowId":"cMJWp1d308xG7WGFPUBhf7"
     }
    }
   }
  },
  {
   "cell_type":"markdown",
   "source":[
    "### Pizza"
   ],
   "attachments":{
    
   },
   "metadata":{
    "datalore":{
     "node_id":"ErGkyQarWL4dcKJ7hhglpQ",
     "type":"MD",
     "hide_input_from_viewers":false,
     "hide_output_from_viewers":false,
     "report_properties":{
      "rowId":"KgRjXb9qzG9lZfT9jNjn8Y"
     }
    }
   }
  },
  {
   "cell_type":"code",
   "source":[
    "abstract class Pizza { \/\/ base class for all pizza types\n",
    "\n",
    "    \/\/ 피자 만들기 template method\n",
    "    fun make() { \/\/ steps are the same for every pizza\n",
    "        makeDough()      \/\/ 피자도우 반죽\n",
    "        applySauce()     \/\/ 소스 바르기\n",
    "        addIngredients() \/\/ 토핑 재료 추가\n",
    "        bake()           \/\/ 굽기\n",
    "    }\n",
    "\n",
    "    \/\/ default implementation for each step\n",
    "    \/\/ concrete classes needs to override only the distinctive ones\n",
    "    open fun makeDough() = println(\"making 30cm dough\")\n",
    "    open fun addIngredients() = println(\"adding cheese\")\n",
    "    open fun applySauce() = println(\"applying tomato sauce\")\n",
    "    open fun bake() = println(\"baking for 20 minutes\")\n",
    "}"
   ],
   "execution_count":null,
   "outputs":[
    
   ],
   "metadata":{
    "datalore":{
     "node_id":"6Llv5lWTtwz9MzyUUTNRiF",
     "type":"CODE",
     "hide_input_from_viewers":false,
     "hide_output_from_viewers":false,
     "report_properties":{
      "rowId":"pmeUKkRXaGlyg617NzuZA6"
     }
    }
   }
  },
  {
   "cell_type":"code",
   "source":[
    "open class Pepperoni : Pizza() { \/\/ concrete type of pizza\n",
    "    override fun addIngredients() { \/\/ overriding ingredients according to recipe\n",
    "        println(\"adding salami\")\n",
    "        println(\"adding onion\")\n",
    "        println(\"adding cheese\")\n",
    "    }\n",
    "}\n",
    "\n",
    "\/\/ 우리나라는 보통 R L F 이렇게 가니까 (코스트코같이 그런 미국사이즈 피자 다루는 대형마트 말고는)\n",
    "\/\/ dough size variation\n",
    "class PepperoniRegular: Pepperoni() { override fun makeDough() = println(\"making 23cm dough\") }\n",
    "class PepperoniLarge:   Pepperoni() \/\/ default size dough\n",
    "class PepperoniFamily:  Pepperoni() { override fun makeDough() = println(\"making 38cm dough\") }\n",
    "\n",
    "\/\/ but it's not controlling the process of making a pizza\n",
    "\/\/ all other methods are left with default implementation"
   ],
   "execution_count":null,
   "outputs":[
    
   ],
   "metadata":{
    "datalore":{
     "node_id":"DBpqHDk2GZw4fau8Cl48FQ",
     "type":"CODE",
     "hide_input_from_viewers":false,
     "hide_output_from_viewers":false,
     "report_properties":{
      "rowId":"lYnGHFY5VviJXOfaUQvcx1"
     }
    }
   }
  },
  {
   "cell_type":"code",
   "source":[
    "PepperoniRegular().make()"
   ],
   "execution_count":3,
   "outputs":[
    {
     "name":"stdout",
     "text":[
      "making 23cm dough\n",
      "applying tomato sauce\n",
      "adding salami\n",
      "adding onion\n",
      "adding cheese\n",
      "baking for 20 minutes\n"
     ],
     "output_type":"stream"
    }
   ],
   "metadata":{
    "datalore":{
     "node_id":"Lpbez0txQtnZmig2Yelcs2",
     "type":"CODE",
     "hide_input_from_viewers":false,
     "hide_output_from_viewers":false,
     "report_properties":{
      "rowId":"Xtq1QdMC3HLzTtblyyVwv3"
     }
    }
   }
  },
  {
   "cell_type":"code",
   "source":[
    "PepperoniLarge().make()"
   ],
   "execution_count":4,
   "outputs":[
    {
     "name":"stdout",
     "text":[
      "making 30cm dough\n",
      "applying tomato sauce\n",
      "adding salami\n",
      "adding onion\n",
      "adding cheese\n",
      "baking for 20 minutes\n"
     ],
     "output_type":"stream"
    }
   ],
   "metadata":{
    "datalore":{
     "node_id":"NyHog53onO1MuMkVy9wiaS",
     "type":"CODE",
     "hide_input_from_viewers":false,
     "hide_output_from_viewers":false,
     "report_properties":{
      "rowId":"SSeNI4Z7EO1S4zJQrJTYNr"
     }
    }
   }
  },
  {
   "cell_type":"code",
   "source":[
    "PepperoniFamily().make()"
   ],
   "execution_count":5,
   "outputs":[
    {
     "name":"stdout",
     "text":[
      "making 38cm dough\n",
      "applying tomato sauce\n",
      "adding salami\n",
      "adding onion\n",
      "adding cheese\n",
      "baking for 20 minutes\n"
     ],
     "output_type":"stream"
    }
   ],
   "metadata":{
    "datalore":{
     "node_id":"eXfITpi5Qxur7vCPxYxw2D",
     "type":"CODE",
     "hide_input_from_viewers":false,
     "hide_output_from_viewers":false,
     "report_properties":{
      "rowId":"bl6q7zKXwZ1vjo4wI5p8qd"
     }
    }
   }
  },
  {
   "cell_type":"markdown",
   "source":[
    "### Pizza lambdas"
   ],
   "attachments":{
    
   },
   "metadata":{
    "datalore":{
     "node_id":"cJgP4p3jHsUpoJogqKCwBG",
     "type":"MD",
     "hide_input_from_viewers":false,
     "hide_output_from_viewers":false,
     "report_properties":{
      "rowId":"nSvT0qwKBU3Nc0uHDierk1"
     }
    }
   }
  },
  {
   "cell_type":"code",
   "source":[
    "abstract class Pizza( \/\/ base class constructor is taking lambdas but provides default implementation\n",
    "    val makeDough:      () -> Unit = { println(\"making 30cm dough\") },\n",
    "    val applySauce:     () -> Unit = { println(\"applying tomato sauce\") },\n",
    "    val addIngredients: () -> Unit = { println(\"adding cheese\") },\n",
    "    val bake:           () -> Unit = { println(\"baking for 20 minutes\") }\n",
    ") {\n",
    "    fun make() { \/\/ unchanged template method\n",
    "        makeDough() \/\/ calling lambda parameter from constructor that can be replaced\n",
    "        applySauce()\n",
    "        addIngredients()\n",
    "        bake()\n",
    "    }\n",
    "}"
   ],
   "execution_count":null,
   "outputs":[
    
   ],
   "metadata":{
    "datalore":{
     "node_id":"aIpARvwOwt7hsmPGpvqCde",
     "type":"CODE",
     "hide_input_from_viewers":false,
     "hide_output_from_viewers":false,
     "report_properties":{
      "rowId":"8F1eihV8Syu3wl62EHeNhY"
     }
    }
   }
  },
  {
   "cell_type":"code",
   "source":[
    "val pepperoniAddons: () -> Unit = {\n",
    "    println(\"adding salami\")\n",
    "    println(\"adding onion\")\n",
    "    println(\"adding cheese\")\n",
    "}\n",
    "\n",
    "class PepperoniRegular: Pizza(\n",
    "    addIngredients = pepperoniAddons,\n",
    "    makeDough = { println(\"making 23cm dough\") }\n",
    ")\n",
    "class PepperoniLarge:   Pizza(  \/\/ default size dough\n",
    "    addIngredients = pepperoniAddons\n",
    ")\n",
    "class PepperoniFamily:  Pizza(\n",
    "    addIngredients = pepperoniAddons,\n",
    "    makeDough = { println(\"making 38cm dough\") }\n",
    ")"
   ],
   "execution_count":null,
   "outputs":[
    
   ],
   "metadata":{
    "datalore":{
     "node_id":"Xun6sqnZTriMuquuK7DV24",
     "type":"CODE",
     "hide_input_from_viewers":false,
     "hide_output_from_viewers":false,
     "report_properties":{
      "rowId":"h5WN1pRltjwgDDqV8UMV40"
     }
    }
   }
  },
  {
   "cell_type":"code",
   "source":[
    "PepperoniRegular().make()"
   ],
   "execution_count":8,
   "outputs":[
    {
     "name":"stdout",
     "text":[
      "making 23cm dough\n",
      "applying tomato sauce\n",
      "adding salami\n",
      "adding onion\n",
      "adding cheese\n",
      "baking for 20 minutes\n"
     ],
     "output_type":"stream"
    }
   ],
   "metadata":{
    "datalore":{
     "node_id":"zg8o6QpeGAVcOVdtTnfhGM",
     "type":"CODE",
     "hide_input_from_viewers":false,
     "hide_output_from_viewers":false,
     "report_properties":{
      "rowId":"0231Zq2IwHNaTLh1mqYWoB"
     }
    }
   }
  },
  {
   "cell_type":"code",
   "source":[
    "PepperoniLarge().make()"
   ],
   "execution_count":9,
   "outputs":[
    {
     "name":"stdout",
     "text":[
      "making 30cm dough\n",
      "applying tomato sauce\n",
      "adding salami\n",
      "adding onion\n",
      "adding cheese\n",
      "baking for 20 minutes\n"
     ],
     "output_type":"stream"
    }
   ],
   "metadata":{
    "datalore":{
     "node_id":"1zw0B1IkPINLK4CSpIsQiS",
     "type":"CODE",
     "hide_input_from_viewers":false,
     "hide_output_from_viewers":false,
     "report_properties":{
      "rowId":"AFuVXBkVZRZ5wnlwHOv3yb"
     }
    }
   }
  },
  {
   "cell_type":"code",
   "source":[
    "PepperoniFamily().make()"
   ],
   "execution_count":10,
   "outputs":[
    {
     "name":"stdout",
     "text":[
      "making 38cm dough\n",
      "applying tomato sauce\n",
      "adding salami\n",
      "adding onion\n",
      "adding cheese\n",
      "baking for 20 minutes\n"
     ],
     "output_type":"stream"
    }
   ],
   "metadata":{
    "datalore":{
     "node_id":"y1GLhVaZie3T0eY70pqVvR",
     "type":"CODE",
     "hide_input_from_viewers":false,
     "hide_output_from_viewers":false,
     "report_properties":{
      "rowId":"6JjNYfMBUsm3Wnxi8tlInh"
     }
    }
   }
  },
  {
   "cell_type":"markdown",
   "source":[
    "## 싱글톤 Singleton \n",
    "\n",
    "전체 프로그램에서 딱 하나밖에 없는 객체\n",
    "\n",
    "Kotlin에서는 별도의 코드로 디자인 패턴으로 작성할 필요 없는 아니라 언어에서 직접 제공하는 기능으로 표현 가능\n",
    "\n",
    "Kotlin에서는 `object`라는 키워드를 제공"
   ],
   "attachments":{
    
   },
   "metadata":{
    "datalore":{
     "node_id":"bazdUB83UxEQFsHOEsPsZf",
     "type":"MD",
     "hide_input_from_viewers":false,
     "hide_output_from_viewers":false,
     "report_properties":{
      "rowId":"hGg69iNMWVXjWhA40vy176"
     }
    }
   }
  },
  {
   "cell_type":"code",
   "source":[
    "object Sing \/\/ Sing은 타입 이름임과 동시에 유일무이한 객체의 이름"
   ],
   "execution_count":null,
   "outputs":[
    
   ],
   "metadata":{
    "datalore":{
     "node_id":"Iwx7nIISvOoHcwLwmdMVNg",
     "type":"CODE",
     "hide_input_from_viewers":false,
     "hide_output_from_viewers":false,
     "report_properties":{
      "rowId":"tx93AkjxUG0fN4sfiZ95IS"
     }
    }
   }
  },
  {
   "cell_type":"code",
   "source":[
    "\"Hello\" is String \/\/ \"Hello\"라는 문자열 객체는 String이라는 타입이다"
   ],
   "execution_count":12,
   "outputs":[
    {
     "data":{
      "text\/plain":[
       "true"
      ]
     },
     "metadata":{
      
     },
     "output_type":"display_data"
    }
   ],
   "metadata":{
    "datalore":{
     "node_id":"44ohJUX4S2LCklUNqSfjJv",
     "type":"CODE",
     "hide_input_from_viewers":false,
     "hide_output_from_viewers":false,
     "report_properties":{
      "rowId":"iKttjIVnpxvg8TlgE4heIg"
     }
    }
   }
  },
  {
   "cell_type":"code",
   "source":[
    "Sing is Sing \/\/ Sing이라는 객체는 Sing이라는 타입이다"
   ],
   "execution_count":13,
   "outputs":[
    {
     "data":{
      "text\/plain":[
       "true"
      ]
     },
     "metadata":{
      
     },
     "output_type":"display_data"
    }
   ],
   "metadata":{
    "datalore":{
     "node_id":"qDoYaUdAm0ScA5JAb2vAOc",
     "type":"CODE",
     "hide_input_from_viewers":false,
     "hide_output_from_viewers":false,
     "report_properties":{
      "rowId":"3wcTOaWita0Kciora1TouI"
     }
    }
   }
  },
  {
   "cell_type":"code",
   "source":[
    "val anotherSing = Sing() \/\/ 생성자 호출 불가"
   ],
   "execution_count":14,
   "outputs":[
    {
     "name":"stderr",
     "text":[
      "Line_13.jupyter.kts (1:19 - 23) Expression 'Sing' of type 'Line_10_jupyter.Sing' cannot be invoked as a function. The function 'invoke()' is not found"
     ],
     "output_type":"stream"
    }
   ],
   "metadata":{
    "datalore":{
     "node_id":"BOVPRwrzqsXb5UVg2nK9dX",
     "type":"CODE",
     "hide_input_from_viewers":false,
     "hide_output_from_viewers":false,
     "report_properties":{
      "rowId":"Dvc9OZDH08WtidHKzVBsaE"
     }
    }
   }
  },
  {
   "cell_type":"markdown",
   "source":[
    "# 널 오브젝트 패턴\n",
    "\n",
    "크기가 0인 대상 또는 초기화되지 않은 상태를 null로 표현했을 때 생기는 불편함(코딩 실수 가능성, 귀찮은 예외처리)을 줄이기 위해"
   ],
   "attachments":{
    
   },
   "metadata":{
    "datalore":{
     "node_id":"ryOhfyCMyf5qhpbQtAWeQW",
     "type":"MD",
     "hide_input_from_viewers":false,
     "hide_output_from_viewers":false,
     "report_properties":{
      "rowId":"H1D1jGgblmg0p1KtJsSPSl"
     }
    }
   }
  },
  {
   "cell_type":"code",
   "source":[
    "\/\/ 덜 객체지향스럽게 null을 직접 사용하는 방법\n",
    "data class Node(\n",
    "        val item: Int,\n",
    "        val left: Node?,\n",
    "        val right: Node?) {\n",
    "    fun size(): Int {\n",
    "        val n1 = if (left ==null) 0 else left.size()\n",
    "        val n2 = if (right==null) 0 else right.size()\n",
    "        return 1 + n1 + n2\n",
    "    }\n",
    "}\n",
    "\n",
    "typealias Tree = Node?"
   ],
   "execution_count":null,
   "outputs":[
    
   ],
   "metadata":{
    "datalore":{
     "node_id":"W9CpR0AVpoYSrIUL0jJt7X",
     "type":"CODE",
     "hide_input_from_viewers":false,
     "hide_output_from_viewers":false,
     "report_properties":{
      "rowId":"Rgqzc06sGey2im1uTORCFG"
     }
    }
   }
  },
  {
   "cell_type":"code",
   "source":[
    "val t0: Tree = null\n",
    "val t1: Tree = Node(1, null, null)\n",
    "val t2: Tree = Node(1, Node(2,null,null), null)"
   ],
   "execution_count":null,
   "outputs":[
    
   ],
   "metadata":{
    "datalore":{
     "node_id":"NKQmxzHgYgzIX32Di1aNuC",
     "type":"CODE",
     "hide_input_from_viewers":false,
     "hide_output_from_viewers":false,
     "report_properties":{
      "rowId":"pDSXKvLcuc2kSFK66Z2MrZ"
     }
    }
   }
  },
  {
   "cell_type":"code",
   "source":[
    "println(t0)\n",
    "println(t1)\n",
    "println(t2)"
   ],
   "execution_count":17,
   "outputs":[
    {
     "name":"stdout",
     "text":[
      "null\n",
      "Node(item=1, left=null, right=null)\n",
      "Node(item=1, left=Node(item=2, left=null, right=null), right=null)\n"
     ],
     "output_type":"stream"
    }
   ],
   "metadata":{
    "datalore":{
     "node_id":"Qk3gKA8bdr9OBswFKBA2X9",
     "type":"CODE",
     "hide_input_from_viewers":false,
     "hide_output_from_viewers":false,
     "report_properties":{
      "rowId":"eeb1dYvkijqAhBx0lO6mpV"
     }
    }
   }
  },
  {
   "cell_type":"code",
   "source":[
    "println(t1.size())\n",
    "println(t2.size())"
   ],
   "execution_count":18,
   "outputs":[
    {
     "name":"stdout",
     "text":[
      "1\n",
      "2\n"
     ],
     "output_type":"stream"
    }
   ],
   "metadata":{
    "datalore":{
     "node_id":"2CZRzymoEieoKlxvk5kHFh",
     "type":"CODE",
     "hide_input_from_viewers":false,
     "hide_output_from_viewers":false,
     "report_properties":{
      "rowId":"Afp2dZ9D2vQWA051SdK98B"
     }
    }
   }
  },
  {
   "cell_type":"code",
   "source":[
    "println(t0.size()) \/\/ 이건 t0가 null이라서 안됨"
   ],
   "execution_count":19,
   "outputs":[
    {
     "name":"stderr",
     "text":[
      "Line_20.jupyter.kts (1:11 - 12) Only safe (?.) or non-null asserted (!!.) calls are allowed on a nullable receiver of type Line_14_jupyter.Tree \/* = Line_14_jupyter.Node? *\/"
     ],
     "output_type":"stream"
    }
   ],
   "metadata":{
    "datalore":{
     "node_id":"X1UqVVaLDgrAD3b7Wfod39",
     "type":"CODE",
     "hide_input_from_viewers":false,
     "hide_output_from_viewers":false,
     "report_properties":{
      "rowId":"oafC4fQjPiTpVkF5sAwIG0"
     }
    }
   }
  },
  {
   "cell_type":"code",
   "source":[
    "\/\/ 일반적으로 t0, t1, t2가 null인지 아닌지 확실치 않으면 매번 확인해서 처리해 줘야\n",
    "println( if (t0==null) 0 else t0.size() )\n",
    "println( if (t1==null) 0 else t1.size() )\n",
    "println( if (t2==null) 0 else t2.size() )"
   ],
   "execution_count":20,
   "outputs":[
    {
     "name":"stdout",
     "text":[
      "0\n",
      "1\n",
      "2\n"
     ],
     "output_type":"stream"
    }
   ],
   "metadata":{
    "datalore":{
     "node_id":"hDogt16d0BJ5GzL81NWP8i",
     "type":"CODE",
     "hide_input_from_viewers":false,
     "hide_output_from_viewers":false,
     "report_properties":{
      "rowId":"WhAh5OgPFU8L1fmkWBKoDX"
     }
    }
   }
  },
  {
   "cell_type":"code",
   "source":[
    "\/\/ 널오브젝트 패턴을 활용해 좀더 객체지향적으로\n",
    "sealed interface Tree {\n",
    "    fun size(): Int\n",
    "    \n",
    "    data class Node(\n",
    "            val item: Int,\n",
    "            val left: Tree,\n",
    "            val right: Tree): Tree {\n",
    "        override fun size() = 1 + left.size() + right.size()\n",
    "    }\n",
    "    object Null: Tree {\n",
    "        override fun size() = 0\n",
    "        override fun toString() = \"Null\"\n",
    "    }\n",
    "}"
   ],
   "execution_count":1,
   "outputs":[
    
   ],
   "metadata":{
    "datalore":{
     "node_id":"GjfdLT38juqWPYUXJfx0L3",
     "type":"CODE",
     "hide_input_from_viewers":false,
     "hide_output_from_viewers":false,
     "report_properties":{
      "rowId":"LDK0gdf06F4EA5tFDEqYpC"
     }
    }
   }
  },
  {
   "cell_type":"code",
   "source":[
    "val t0: Tree = Tree.Null\n",
    "val t1: Tree = Tree.Node(1, Tree.Null, Tree.Null)\n",
    "val t2: Tree = Tree.Node(1, Tree.Node(2,Tree.Null,Tree.Null), Tree.Null)"
   ],
   "execution_count":2,
   "outputs":[
    
   ],
   "metadata":{
    "datalore":{
     "node_id":"Ein6Kfu6EHutMkEcaD854T",
     "type":"CODE",
     "hide_input_from_viewers":false,
     "hide_output_from_viewers":false,
     "report_properties":{
      "rowId":"dahmcm7TUbIDDck6vkiUgv"
     }
    }
   }
  },
  {
   "cell_type":"code",
   "source":[
    "println(t0.size())\n",
    "println(t1.size())\n",
    "println(t2.size())"
   ],
   "execution_count":3,
   "outputs":[
    {
     "name":"stdout",
     "text":[
      "0\n",
      "1\n",
      "2\n"
     ],
     "output_type":"stream"
    }
   ],
   "metadata":{
    "datalore":{
     "node_id":"gFNljovGqHjIxj9gsbSYyI",
     "type":"CODE",
     "hide_input_from_viewers":false,
     "hide_output_from_viewers":false,
     "report_properties":{
      "rowId":"Sk21bNGQYq0g1oeySuZ9os"
     }
    }
   }
  },
  {
   "cell_type":"markdown",
   "source":[
    "# 위임 delegation\n",
    "\n",
    "클래스를 설계하다 보면 기존에 정의된 클래스가\n",
    "지금 설계하는 클래스에서 제공해야 되는 기능을 전부(혹은 일부)\n",
    "구현하고 있는 경우가 있다.\n",
    "\n"
   ],
   "attachments":{
    
   },
   "metadata":{
    "datalore":{
     "node_id":"2Hiow6Pt7gw6uTowIPz2oN",
     "type":"MD",
     "hide_input_from_viewers":true,
     "hide_output_from_viewers":true
    }
   }
  },
  {
   "cell_type":"code",
   "source":[
    "\/\/ 쓰기 지우기 둘 다 되는 펜을 이미 만들어 놓았는데\n",
    "open class PenWD() {\n",
    "    open fun write() { println(\"쓰기\") }\n",
    "    open fun delete() { println(\"지우기\") }\n",
    "}"
   ],
   "execution_count":10,
   "outputs":[
    
   ],
   "metadata":{
    "datalore":{
     "node_id":"Hiw977iUvKliEU0n731VnQ",
     "type":"CODE",
     "hide_input_from_viewers":true,
     "hide_output_from_viewers":true
    }
   }
  },
  {
   "cell_type":"code",
   "source":[
    "\/\/ 쓰기만 되는 펜\n",
    "class PenW(): PenWD() {\n",
    "    \/\/ 땜빵식 문제점 해결\n",
    "    override fun delete() {\n",
    "        throw Exception(\"하지마 하지마 지우지마\")\n",
    "    }\n",
    "}"
   ],
   "execution_count":12,
   "outputs":[
    
   ],
   "metadata":{
    "datalore":{
     "node_id":"39S8utB84ESf1vOnEByesH",
     "type":"CODE",
     "hide_input_from_viewers":true,
     "hide_output_from_viewers":true
    }
   }
  },
  {
   "cell_type":"code",
   "source":[
    "val penw1 = PenW()\n",
    "penw1.write()\n",
    "penw1.delete() \/\/ 호출 가능 의도하지 않은 기능까지 제공"
   ],
   "execution_count":13,
   "outputs":[
    {
     "name":"stdout",
     "text":[
      "쓰기\n"
     ],
     "output_type":"stream"
    },
    {
     "name":"stderr",
     "text":[
      "하지마 하지마 지우지마\n",
      "java.lang.Exception: 하지마 하지마 지우지마\n",
      "\tat Line_64_jupyter$PenW.delete(Line_64.jupyter.kts:5)\n",
      "\tat Line_67_jupyter.<init>(Line_67.jupyter.kts:3)\n",
      "\tat java.base\/jdk.internal.reflect.NativeConstructorAccessorImpl.newInstance0(Native Method)\n",
      "\tat java.base\/jdk.internal.reflect.NativeConstructorAccessorImpl.newInstance(NativeConstructorAccessorImpl.java:77)\n",
      "\tat java.base\/jdk.internal.reflect.DelegatingConstructorAccessorImpl.newInstance(DelegatingConstructorAccessorImpl.java:45)\n",
      "\tat java.base\/java.lang.reflect.Constructor.newInstanceWithCaller(Constructor.java:499)\n",
      "\tat java.base\/java.lang.reflect.Constructor.newInstance(Constructor.java:480)\n",
      "\tat kotlin.script.experimental.jvm.BasicJvmScriptEvaluator.evalWithConfigAndOtherScriptsResults(BasicJvmScriptEvaluator.kt:105)\n",
      "\tat kotlin.script.experimental.jvm.BasicJvmScriptEvaluator.invoke$suspendImpl(BasicJvmScriptEvaluator.kt:47)\n",
      "\tat kotlin.script.experimental.jvm.BasicJvmScriptEvaluator.invoke(BasicJvmScriptEvaluator.kt)\n",
      "\tat kotlin.script.experimental.jvm.BasicJvmReplEvaluator.eval(BasicJvmReplEvaluator.kt:49)\n",
      "\tat org.jetbrains.kotlinx.jupyter.repl.impl.InternalEvaluatorImpl$eval$resultWithDiagnostics$1.invokeSuspend(InternalEvaluatorImpl.kt:103)\n",
      "\tat kotlin.coroutines.jvm.internal.BaseContinuationImpl.resumeWith(ContinuationImpl.kt:33)\n",
      "\tat kotlinx.coroutines.DispatchedTask.run(DispatchedTask.kt:106)\n",
      "\tat kotlinx.coroutines.EventLoopImplBase.processNextEvent(EventLoop.common.kt:284)\n",
      "\tat kotlinx.coroutines.BlockingCoroutine.joinBlocking(Builders.kt:85)\n",
      "\tat kotlinx.coroutines.BuildersKt__BuildersKt.runBlocking(Builders.kt:59)\n",
      "\tat kotlinx.coroutines.BuildersKt.runBlocking(Unknown Source)\n",
      "\tat kotlinx.coroutines.BuildersKt__BuildersKt.runBlocking$default(Builders.kt:38)\n",
      "\tat kotlinx.coroutines.BuildersKt.runBlocking$default(Unknown Source)\n",
      "\tat org.jetbrains.kotlinx.jupyter.repl.impl.InternalEvaluatorImpl.eval(InternalEvaluatorImpl.kt:103)\n",
      "\tat org.jetbrains.kotlinx.jupyter.repl.impl.CellExecutorImpl$execute$1$result$1.invoke(CellExecutorImpl.kt:75)\n",
      "\tat org.jetbrains.kotlinx.jupyter.repl.impl.CellExecutorImpl$execute$1$result$1.invoke(CellExecutorImpl.kt:73)\n",
      "\tat org.jetbrains.kotlinx.jupyter.ReplForJupyterImpl.withHost(repl.kt:666)\n",
      "\tat org.jetbrains.kotlinx.jupyter.repl.impl.CellExecutorImpl.execute(CellExecutorImpl.kt:73)\n",
      "\tat org.jetbrains.kotlinx.jupyter.repl.CellExecutor$DefaultImpls.execute$default(CellExecutor.kt:15)\n",
      "\tat org.jetbrains.kotlinx.jupyter.ReplForJupyterImpl$evalEx$1.invoke(repl.kt:479)\n",
      "\tat org.jetbrains.kotlinx.jupyter.ReplForJupyterImpl$evalEx$1.invoke(repl.kt:470)\n",
      "\tat org.jetbrains.kotlinx.jupyter.ReplForJupyterImpl.withEvalContext(repl.kt:433)\n",
      "\tat org.jetbrains.kotlinx.jupyter.ReplForJupyterImpl.evalEx(repl.kt:470)\n",
      "\tat org.jetbrains.kotlinx.jupyter.messaging.ProtocolKt$shellMessagesHandler$2$res$1.invoke(protocol.kt:318)\n",
      "\tat org.jetbrains.kotlinx.jupyter.messaging.ProtocolKt$shellMessagesHandler$2$res$1.invoke(protocol.kt:312)\n",
      "\tat org.jetbrains.kotlinx.jupyter.JupyterExecutorImpl$runExecution$execThread$1.invoke(execution.kt:37)\n",
      "\tat org.jetbrains.kotlinx.jupyter.JupyterExecutorImpl$runExecution$execThread$1.invoke(execution.kt:32)\n",
      "\tat kotlin.concurrent.ThreadsKt$thread$thread$1.run(Thread.kt:30)\n"
     ],
     "output_type":"stream"
    },
    {
     "ename":"org.jetbrains.kotlinx.jupyter.exceptions.ReplEvalRuntimeException",
     "evalue":"org.jetbrains.kotlinx.jupyter.exceptions.ReplEvalRuntimeException: 하지마 하지마 지우지마",
     "traceback":[
      "\u001b[0;31m---------------------------------------------------------------------------",
      "Traceback (most recent call last)",
      "org.jetbrains.kotlinx.jupyter.exceptions.ReplEvalRuntimeException: 하지마 하지마 지우지마"
     ],
     "output_type":"error"
    }
   ],
   "metadata":{
    "datalore":{
     "node_id":"Sjoq5CVux5tJq6hsnDIeQ3",
     "type":"CODE",
     "hide_input_from_viewers":true,
     "hide_output_from_viewers":true
    }
   }
  },
  {
   "cell_type":"code",
   "source":[
    
   ],
   "execution_count":null,
   "outputs":[
    
   ],
   "metadata":{
    "datalore":{
     "node_id":"czfbAYJvess6ApSEAjLVIq",
     "type":"CODE",
     "hide_input_from_viewers":true,
     "hide_output_from_viewers":true
    }
   }
  },
  {
   "cell_type":"code",
   "source":[
    "class PenWD() {\n",
    "    fun write() { println(\"쓰기\") }\n",
    "    fun delete() { println(\"지우기\") }\n",
    "}"
   ],
   "execution_count":14,
   "outputs":[
    
   ],
   "metadata":{
    "datalore":{
     "node_id":"MQsqoIlG6kLlwqQJ7BAmxg",
     "type":"CODE",
     "hide_input_from_viewers":true,
     "hide_output_from_viewers":true
    }
   }
  },
  {
   "cell_type":"code",
   "source":[
    "class PenW() { \/\/ 수동으로 위임하기\n",
    "    private val mypen = PenWD()\n",
    "    fun write() = mypen.write() \/\/ write의 기능을 mypen에 위임\n",
    "}"
   ],
   "execution_count":15,
   "outputs":[
    
   ],
   "metadata":{
    "datalore":{
     "node_id":"ED8NZrG1fifUrm5HQqrjBx",
     "type":"CODE",
     "hide_input_from_viewers":true,
     "hide_output_from_viewers":true
    }
   }
  },
  {
   "cell_type":"markdown",
   "source":[
    "## 코틀린에서 제공하는 위임delegation 기능\n",
    "인터페이스와 by라는 키워드를 활용"
   ],
   "attachments":{
    
   },
   "metadata":{
    "datalore":{
     "node_id":"D0yrX41NSgLPmEjU6KGoH0",
     "type":"MD",
     "hide_input_from_viewers":true,
     "hide_output_from_viewers":true
    }
   }
  },
  {
   "cell_type":"code",
   "source":[
    "\/\/ 인터페이스로 내가 필요한 기능을 명세\n",
    "interface Writer {\n",
    "    fun write()\n",
    "}"
   ],
   "execution_count":17,
   "outputs":[
    
   ],
   "metadata":{
    "datalore":{
     "node_id":"EtpLUnCYMRoioOTK8WTkuQ",
     "type":"CODE",
     "hide_input_from_viewers":true,
     "hide_output_from_viewers":true
    }
   }
  },
  {
   "cell_type":"code",
   "source":[
    "class PenWD(): Writer {\n",
    "    override fun write() { println(\"쓰기\") }\n",
    "    fun delete() { println(\"지우기\") }\n",
    "}"
   ],
   "execution_count":19,
   "outputs":[
    
   ],
   "metadata":{
    "datalore":{
     "node_id":"YAgtVzvFr8cZphjsb7IitN",
     "type":"CODE",
     "hide_input_from_viewers":true,
     "hide_output_from_viewers":true
    }
   }
  },
  {
   "cell_type":"code",
   "source":[
    "class PenW(): Writer by PenWD()"
   ],
   "execution_count":20,
   "outputs":[
    
   ],
   "metadata":{
    "datalore":{
     "node_id":"UB3t3MDzddRuYSk49wXN0O",
     "type":"CODE",
     "hide_input_from_viewers":true,
     "hide_output_from_viewers":true
    }
   }
  },
  {
   "cell_type":"code",
   "source":[
    
   ],
   "execution_count":null,
   "outputs":[
    
   ],
   "metadata":{
    "datalore":{
     "node_id":"R47jpTS3KWHEjXvOfJZpnE",
     "type":"CODE",
     "hide_input_from_viewers":true,
     "hide_output_from_viewers":true
    }
   }
  }
 ],
 "metadata":{
  "kernelspec":{
   "display_name":"Kotlin",
   "language":"kotlin",
   "name":"kotlin"
  },
  "datalore":{
   "computation_mode":"JUPYTER",
   "package_manager":"pip",
   "base_environment":"default",
   "packages":[
    
   ],
   "report_row_ids":[
    "AWsoKpgHZz9VtR4xoyuaeZ",
    "cMJWp1d308xG7WGFPUBhf7",
    "KgRjXb9qzG9lZfT9jNjn8Y",
    "pmeUKkRXaGlyg617NzuZA6",
    "lYnGHFY5VviJXOfaUQvcx1",
    "Xtq1QdMC3HLzTtblyyVwv3",
    "SSeNI4Z7EO1S4zJQrJTYNr",
    "bl6q7zKXwZ1vjo4wI5p8qd",
    "nSvT0qwKBU3Nc0uHDierk1",
    "8F1eihV8Syu3wl62EHeNhY",
    "h5WN1pRltjwgDDqV8UMV40",
    "0231Zq2IwHNaTLh1mqYWoB",
    "AFuVXBkVZRZ5wnlwHOv3yb",
    "6JjNYfMBUsm3Wnxi8tlInh",
    "hGg69iNMWVXjWhA40vy176",
    "tx93AkjxUG0fN4sfiZ95IS",
    "iKttjIVnpxvg8TlgE4heIg",
    "3wcTOaWita0Kciora1TouI",
    "Dvc9OZDH08WtidHKzVBsaE",
    "H1D1jGgblmg0p1KtJsSPSl",
    "Rgqzc06sGey2im1uTORCFG",
    "pDSXKvLcuc2kSFK66Z2MrZ",
    "eeb1dYvkijqAhBx0lO6mpV",
    "Afp2dZ9D2vQWA051SdK98B",
    "oafC4fQjPiTpVkF5sAwIG0",
    "WhAh5OgPFU8L1fmkWBKoDX",
    "LDK0gdf06F4EA5tFDEqYpC",
    "dahmcm7TUbIDDck6vkiUgv",
    "Sk21bNGQYq0g1oeySuZ9os"
   ],
   "version":3
  }
 },
 "nbformat":4,
 "nbformat_minor":4
}