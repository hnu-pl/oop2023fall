{
 "cells": [
  {
   "cell_type": "markdown",
   "id": "d7529e44-3ffe-4722-8604-b5fdfb050339",
   "metadata": {},
   "source": [
    "# 06. Object-Oriented Patterns in Kotlin\n",
    "\n",
    "디자인 패턴에 대해 소개하는 그런 장인데 ... 솔직히 이 장은 그렇게 도움이 되지는 않을 듯\n",
    "\n",
    "최대한 간단하게 여러가지 디자인 패턴을 소개하려 해서 모르는 사람은 이게뭔가 싶고 아는 사람은 그냥 너무 당연한 예시 같을거고 뭐 그런 느낌이다\n",
    "\n",
    "그래서 책의 내용 대신 디자인 패턴과 관련된 것을 한두 개 소개하는 게 더 더 도움이 될 거 같다."
   ]
  },
  {
   "cell_type": "markdown",
   "id": "46fd6fd3-fe3c-419d-9236-e441cf437603",
   "metadata": {
    "tags": []
   },
   "source": [
    "## Template method\n",
    "- https://asvid.github.io/kotlin-template-method\n",
    "\n",
    "이 노트북은 위 블로그 글에 나오는 코드를 기본 바탕으로 하여 약간씩 적절히 변형한 것이다.\n",
    "\n",
    "참고로, 피자 예제는 이 블로그 글 말고도 다른 OOP관련 책이나 자료 등에서도 데코레이터 등의 패턴을 설명할 때도 단골로 사용하는 테마의 예제임\n",
    "\n",
    "template method를 이해하면 factory method도 생성자에 대한 template method에 해당하는 개념이고, 또 책에 나오는 strategy도 template method의 특별한 사례로 볼 수도 있으니 ...\n",
    "\n",
    "***주의***: 이런 피자 예제 같은 것들이 설명하는 디자인 패턴을 적용하는 것이 매우 적합한 상황이라고 오해하면 안된다.\n",
    "그냥 그 개념을 설명하기 위해 OOP를 실무에서 본격적으로 많이 해보지 않은 사람도 이해하기 좋은 주제로 예제를 작성하는 것."
   ]
  },
  {
   "cell_type": "markdown",
   "id": "43ddbf3e-9acc-4911-bf66-65384c4c6135",
   "metadata": {},
   "source": [
    "### Pizza"
   ]
  },
  {
   "cell_type": "code",
   "execution_count": 1,
   "id": "06f1ad5c-010c-43f1-b61e-bdc9f1551541",
   "metadata": {
    "tags": []
   },
   "outputs": [],
   "source": [
    "abstract class Pizza { // base class for all pizza types\n",
    "\n",
    "    // 피자 만들기 template method\n",
    "    fun make() { // steps are the same for every pizza\n",
    "        makeDough()      // 피자도우 반죽\n",
    "        applySauce()     // 소스 바르기\n",
    "        addIngredients() // 토핑 재료 추가\n",
    "        bake()           // 굽기\n",
    "    }\n",
    "\n",
    "    // default implementation for each step\n",
    "    // concrete classes needs to override only the distinctive ones\n",
    "    open fun makeDough() = println(\"making 30cm dough\")\n",
    "    open fun addIngredients() = println(\"adding cheese\")\n",
    "    open fun applySauce() = println(\"applying tomato sauce\")\n",
    "    open fun bake() = println(\"baking for 20 minutes\")\n",
    "}"
   ]
  },
  {
   "cell_type": "code",
   "execution_count": 2,
   "id": "48f33440-3aa3-4a33-97ee-8fb9e036df36",
   "metadata": {
    "tags": []
   },
   "outputs": [],
   "source": [
    "open class Pepperoni : Pizza() { // concrete type of pizza\n",
    "    override fun addIngredients() { // overriding ingredients according to recipe\n",
    "        println(\"adding salami\")\n",
    "        println(\"adding onion\")\n",
    "        println(\"adding cheese\")\n",
    "    }\n",
    "}\n",
    "\n",
    "// 우리나라는 보통 R L F 이렇게 가니까 (코스트코같이 그런 미국사이즈 피자 다루는 대형마트 말고는)\n",
    "// dough size variation\n",
    "class PepperoniRegular: Pepperoni() { override fun makeDough() = println(\"making 23cm dough\") }\n",
    "class PepperoniLarge:   Pepperoni() // default size dough\n",
    "class PepperoniFamily:  Pepperoni() { override fun makeDough() = println(\"making 38cm dough\") }\n",
    "\n",
    "// but it's not controlling the process of making a pizza\n",
    "// all other methods are left with default implementation"
   ]
  },
  {
   "cell_type": "code",
   "execution_count": 3,
   "id": "186ee103-51d2-4378-b9c7-64e12f554817",
   "metadata": {
    "tags": []
   },
   "outputs": [
    {
     "name": "stdout",
     "output_type": "stream",
     "text": [
      "making 23cm dough\n",
      "applying tomato sauce\n",
      "adding salami\n",
      "adding onion\n",
      "adding cheese\n",
      "baking for 20 minutes\n"
     ]
    }
   ],
   "source": [
    "PepperoniRegular().make()"
   ]
  },
  {
   "cell_type": "code",
   "execution_count": 4,
   "id": "c31b1e9c-5bd2-4f98-817f-74524fd6cd59",
   "metadata": {
    "tags": []
   },
   "outputs": [
    {
     "name": "stdout",
     "output_type": "stream",
     "text": [
      "making 30cm dough\n",
      "applying tomato sauce\n",
      "adding salami\n",
      "adding onion\n",
      "adding cheese\n",
      "baking for 20 minutes\n"
     ]
    }
   ],
   "source": [
    "PepperoniLarge().make()"
   ]
  },
  {
   "cell_type": "code",
   "execution_count": 5,
   "id": "16b1f2c4-ffa2-4e31-a5e8-8cf8a280fb7b",
   "metadata": {
    "tags": []
   },
   "outputs": [
    {
     "name": "stdout",
     "output_type": "stream",
     "text": [
      "making 38cm dough\n",
      "applying tomato sauce\n",
      "adding salami\n",
      "adding onion\n",
      "adding cheese\n",
      "baking for 20 minutes\n"
     ]
    }
   ],
   "source": [
    "PepperoniFamily().make()"
   ]
  },
  {
   "cell_type": "markdown",
   "id": "6483ad4b-c6e6-41a6-858f-b05114d9fd69",
   "metadata": {},
   "source": [
    "### Pizza lambdas"
   ]
  },
  {
   "cell_type": "code",
   "execution_count": 6,
   "id": "27ba229f-144d-43c2-b8f4-1ddc03127c6a",
   "metadata": {
    "tags": []
   },
   "outputs": [],
   "source": [
    "abstract class Pizza( // base class constructor is taking lambdas but provides default implementation\n",
    "    val makeDough:      () -> Unit = { println(\"making 30cm dough\") },\n",
    "    val applySauce:     () -> Unit = { println(\"applying tomato sauce\") },\n",
    "    val addIngredients: () -> Unit = { println(\"adding cheese\") },\n",
    "    val bake:           () -> Unit = { println(\"baking for 20 minutes\") }\n",
    ") {\n",
    "    fun make() { // unchanged template method\n",
    "        makeDough() // calling lambda parameter from constructor that can be replaced\n",
    "        applySauce()\n",
    "        addIngredients()\n",
    "        bake()\n",
    "    }\n",
    "}"
   ]
  },
  {
   "cell_type": "code",
   "execution_count": 7,
   "id": "4d4c3749-145e-43e9-9878-a36cbd2b020e",
   "metadata": {
    "tags": []
   },
   "outputs": [],
   "source": [
    "val pepperoniAddons: () -> Unit = {\n",
    "    println(\"adding salami\")\n",
    "    println(\"adding onion\")\n",
    "    println(\"adding cheese\")\n",
    "}\n",
    "\n",
    "class PepperoniRegular: Pizza(\n",
    "    addIngredients = pepperoniAddons,\n",
    "    makeDough = { println(\"making 23cm dough\") }\n",
    ")\n",
    "class PepperoniLarge:   Pizza(  // default size dough\n",
    "    addIngredients = pepperoniAddons\n",
    ")\n",
    "class PepperoniFamily:  Pizza(\n",
    "    addIngredients = pepperoniAddons,\n",
    "    makeDough = { println(\"making 38cm dough\") }\n",
    ")"
   ]
  },
  {
   "cell_type": "code",
   "execution_count": 8,
   "id": "ac3634d6-7016-47ac-80a3-c688753f0238",
   "metadata": {
    "tags": []
   },
   "outputs": [
    {
     "name": "stdout",
     "output_type": "stream",
     "text": [
      "making 23cm dough\n",
      "applying tomato sauce\n",
      "adding salami\n",
      "adding onion\n",
      "adding cheese\n",
      "baking for 20 minutes\n"
     ]
    }
   ],
   "source": [
    "PepperoniRegular().make()"
   ]
  },
  {
   "cell_type": "code",
   "execution_count": 9,
   "id": "12d68936-e25b-414b-8275-f28e62405667",
   "metadata": {
    "tags": []
   },
   "outputs": [
    {
     "name": "stdout",
     "output_type": "stream",
     "text": [
      "making 30cm dough\n",
      "applying tomato sauce\n",
      "adding salami\n",
      "adding onion\n",
      "adding cheese\n",
      "baking for 20 minutes\n"
     ]
    }
   ],
   "source": [
    "PepperoniLarge().make()"
   ]
  },
  {
   "cell_type": "code",
   "execution_count": 10,
   "id": "194347f0-d1e4-4ef5-b306-c031e221e746",
   "metadata": {
    "tags": []
   },
   "outputs": [
    {
     "name": "stdout",
     "output_type": "stream",
     "text": [
      "making 38cm dough\n",
      "applying tomato sauce\n",
      "adding salami\n",
      "adding onion\n",
      "adding cheese\n",
      "baking for 20 minutes\n"
     ]
    }
   ],
   "source": [
    "PepperoniFamily().make()"
   ]
  },
  {
   "cell_type": "markdown",
   "id": "1787c9c2-5f05-4ddd-8c27-a8303d21583e",
   "metadata": {},
   "source": [
    "## 싱글톤 Singleton \n",
    "\n",
    "전체 프로그램에서 딱 하나밖에 없는 객체\n",
    "\n",
    "Kotlin에서는 별도의 코드로 디자인 패턴으로 작성할 필요 없는 아니라 언어에서 직접 제공하는 기능으로 표현 가능\n",
    "\n",
    "Kotlin에서는 `object`라는 키워드를 제공"
   ]
  },
  {
   "cell_type": "code",
   "execution_count": 11,
   "id": "bc9c52b2-ec0e-4c92-9d05-670152019915",
   "metadata": {},
   "outputs": [],
   "source": [
    "object Sing // Sing은 타입 이름임과 동시에 유일무이한 객체의 이름"
   ]
  },
  {
   "cell_type": "code",
   "execution_count": 12,
   "id": "b11f1068-7f19-4999-8112-426958bbef46",
   "metadata": {},
   "outputs": [
    {
     "data": {
      "text/plain": [
       "true"
      ]
     },
     "execution_count": 12,
     "metadata": {},
     "output_type": "execute_result"
    }
   ],
   "source": [
    "\"Hello\" is String // \"Hello\"라는 문자열 객체는 String이라는 타입이다"
   ]
  },
  {
   "cell_type": "code",
   "execution_count": 13,
   "id": "17ff3794-6911-44eb-8da9-84f0d9474ad1",
   "metadata": {},
   "outputs": [
    {
     "data": {
      "text/plain": [
       "true"
      ]
     },
     "execution_count": 13,
     "metadata": {},
     "output_type": "execute_result"
    }
   ],
   "source": [
    "Sing is Sing // Sing이라는 객체는 Sing이라는 타입이다"
   ]
  },
  {
   "cell_type": "code",
   "execution_count": 14,
   "id": "3dce2c36-2695-4de8-9839-46b6f296886b",
   "metadata": {},
   "outputs": [
    {
     "name": "stderr",
     "output_type": "stream",
     "text": [
      "Line_13.jupyter.kts (1:19 - 23) Expression 'Sing' of type 'Line_10_jupyter.Sing' cannot be invoked as a function. The function 'invoke()' is not found"
     ]
    }
   ],
   "source": [
    "val anotherSing = Sing() // 생성자 호출 불가"
   ]
  },
  {
   "cell_type": "markdown",
   "id": "32a66a7d-703f-4ec3-895e-c54df8352a5b",
   "metadata": {},
   "source": [
    "# 널 오브젝트 패턴\n",
    "\n",
    "크기가 0인 대상 또는 초기화되지 않은 상태를 null로 표현했을 때 생기는 불편함(코딩 실수 가능성, 귀찮은 예외처리)을 줄이기 위해"
   ]
  },
  {
   "cell_type": "code",
   "execution_count": 15,
   "id": "741b0480-4afa-4457-adc3-bc6d3eb2da05",
   "metadata": {},
   "outputs": [],
   "source": [
    "// 덜 객체지향스럽게 null을 직접 사용하는 방법\n",
    "data class Node(\n",
    "        val item: Int,\n",
    "        val left: Node?,\n",
    "        val right: Node?) {\n",
    "    fun size(): Int {\n",
    "        val n1 = if (left ==null) 0 else left.size()\n",
    "        val n2 = if (right==null) 0 else right.size()\n",
    "        return 1 + n1 + n2\n",
    "    }\n",
    "}\n",
    "\n",
    "typealias Tree = Node?"
   ]
  },
  {
   "cell_type": "code",
   "execution_count": 16,
   "id": "81bfb7a5-8a41-4737-bd0b-4f4377f63d08",
   "metadata": {},
   "outputs": [],
   "source": [
    "val t0: Tree = null\n",
    "val t1: Tree = Node(1, null, null)\n",
    "val t2: Tree = Node(1, Node(2,null,null), null)"
   ]
  },
  {
   "cell_type": "code",
   "execution_count": 17,
   "id": "eaa7e20d-95ae-419d-80e4-7ed960c040a3",
   "metadata": {},
   "outputs": [
    {
     "name": "stdout",
     "output_type": "stream",
     "text": [
      "null\n",
      "Node(item=1, left=null, right=null)\n",
      "Node(item=1, left=Node(item=2, left=null, right=null), right=null)\n"
     ]
    }
   ],
   "source": [
    "println(t0)\n",
    "println(t1)\n",
    "println(t2)"
   ]
  },
  {
   "cell_type": "code",
   "execution_count": 18,
   "id": "9f22e318-c72e-4f09-a45e-638c333274b9",
   "metadata": {},
   "outputs": [
    {
     "name": "stdout",
     "output_type": "stream",
     "text": [
      "1\n",
      "2\n"
     ]
    }
   ],
   "source": [
    "println(t1.size())\n",
    "println(t2.size())"
   ]
  },
  {
   "cell_type": "code",
   "execution_count": 19,
   "id": "3f8f26b9-1f92-44ee-aa5c-69660f736d1f",
   "metadata": {},
   "outputs": [
    {
     "name": "stderr",
     "output_type": "stream",
     "text": [
      "Line_20.jupyter.kts (1:11 - 12) Only safe (?.) or non-null asserted (!!.) calls are allowed on a nullable receiver of type Line_14_jupyter.Tree /* = Line_14_jupyter.Node? */"
     ]
    }
   ],
   "source": [
    "println(t0.size()) // 이건 t0가 null이라서 안됨"
   ]
  },
  {
   "cell_type": "code",
   "execution_count": 20,
   "id": "9fcd630b-2399-4ef7-9bf9-b6936435b414",
   "metadata": {},
   "outputs": [
    {
     "name": "stdout",
     "output_type": "stream",
     "text": [
      "0\n",
      "1\n",
      "2\n"
     ]
    }
   ],
   "source": [
    "// 일반적으로 t0, t1, t2가 null인지 아닌지 확실치 않으면 매번 확인해서 처리해 줘야\n",
    "println( if (t0==null) 0 else t0.size() )\n",
    "println( if (t1==null) 0 else t1.size() )\n",
    "println( if (t2==null) 0 else t2.size() )"
   ]
  },
  {
   "cell_type": "code",
   "execution_count": 21,
   "id": "84809592-0114-4bd2-838a-de3efbce500a",
   "metadata": {},
   "outputs": [],
   "source": [
    "// 널오브젝트 패턴을 활용해 좀더 객체지향적으로\n",
    "sealed interface Tree {\n",
    "    fun size(): Int\n",
    "    \n",
    "    data class Node(\n",
    "            val item: Int,\n",
    "            val left: Tree,\n",
    "            val right: Tree): Tree {\n",
    "        override fun size() = 1 + left.size() + right.size()\n",
    "    }\n",
    "    object Null: Tree {\n",
    "        override fun size() = 0\n",
    "        override fun toString() = \"Null\"\n",
    "    }\n",
    "}"
   ]
  },
  {
   "cell_type": "code",
   "execution_count": 22,
   "id": "55c2b4b5-408c-411b-a5a5-b6ebc793a7bf",
   "metadata": {},
   "outputs": [],
   "source": [
    "val t0: Tree = Tree.Null\n",
    "val t1: Tree = Tree.Node(1, Tree.Null, Tree.Null)\n",
    "val t2: Tree = Tree.Node(1, Tree.Node(2,Tree.Null,Tree.Null), Tree.Null)"
   ]
  },
  {
   "cell_type": "code",
   "execution_count": 23,
   "id": "4a352101-29d5-4cfe-9a3c-4f01c1adbe90",
   "metadata": {},
   "outputs": [
    {
     "name": "stdout",
     "output_type": "stream",
     "text": [
      "0\n",
      "1\n",
      "2\n"
     ]
    }
   ],
   "source": [
    "println(t0.size())\n",
    "println(t1.size())\n",
    "println(t2.size())"
   ]
  },
  {
   "cell_type": "code",
   "execution_count": null,
   "id": "0e28ce76-cc82-4980-992a-e1adf70848d3",
   "metadata": {},
   "outputs": [],
   "source": []
  }
 ],
 "metadata": {
  "kernelspec": {
   "display_name": "Kotlin",
   "language": "kotlin",
   "name": "kotlin"
  },
  "language_info": {
   "codemirror_mode": "text/x-kotlin",
   "file_extension": ".kt",
   "mimetype": "text/x-kotlin",
   "name": "kotlin",
   "nbconvert_exporter": "",
   "pygments_lexer": "kotlin",
   "version": "1.8.20"
  }
 },
 "nbformat": 4,
 "nbformat_minor": 5
}
